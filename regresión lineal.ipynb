{
  "cells": [
    {
      "cell_type": "markdown",
      "metadata": {
        "id": "jIybeBnC0zKS"
      },
      "source": [
        "<div align=\"center\">\n",
        "  <h1>Regresión Lineal Múltiple</h1>\n",
        "  <p>\n",
        "    Autores:<br />\n",
        "    Sergio Andrés Majé Franco<br />\n",
        "    Marleny Rojas Gómez\n",
        "  </p> \n",
        "  <p>\n",
        "    Docente:<br />\n",
        "    Dr. Jesús Emilio Pinto Lopera \n",
        "  </p>\n",
        "  <p>\n",
        "    Universidad de la Amazonia<br />\n",
        "    Facultad de Ingeniería<br />\n",
        "    Programa Ingeniería de Sistemas<br />\n",
        "    Florencia - Caquetá<br />\n",
        "    2022\n",
        "  </p>\n",
        "</div>"
      ]
    },
    {
      "cell_type": "markdown",
      "metadata": {
        "id": "JM-8Zd0d1BfO"
      },
      "source": [
        "## Tabla de Contenido\n",
        "\n",
        "1. Introducción\n",
        "2. Desarrollo Metodológico\n",
        "    1. Desarrollo Teórico\n",
        "       1. Regresión lineal múltiple\n",
        "    2. Desarrollo Computacional\n",
        "3. Problemas\n",
        "    1. Dataset\n",
        "4. Resultados\n",
        "    1. Caso de uso\n",
        "    2. Optimización del modelo\n",
        "        1. Primer modelo\n",
        "        2. Segundo modelo\n",
        "        3. Tercer modelo\n",
        "5. Conclusiones\n",
        "6. Referencias"
      ]
    },
    {
      "cell_type": "markdown",
      "metadata": {
        "id": "2iL8dGrx1Nc_"
      },
      "source": [
        "## Tabla de Formulas\n",
        "1. Formula 1. Ecuación regresión lineal múltiple"
      ]
    },
    {
      "cell_type": "markdown",
      "metadata": {
        "id": "E6hK7RMU1QMC"
      },
      "source": [
        "## Tabla de Tablas\n",
        "\n",
        "1. Tabla 1. Detalles del dataset\n",
        "2. Tabla 2. Dataset\n",
        "3. Tabla 3. Dataset con cargos mayores a 50.000\n",
        "4. Tabla 4. Dataset con variables de texto convertidas a numéricas\n",
        "5. Tabla 5. Tabla de coeficientes del primer modelo\n",
        "6. Tabla 6. Tabla de coeficientes del segundo modelo\n",
        "7. Tabla 7. Tabla de coeficientes del tercer modelo"
      ]
    },
    {
      "cell_type": "markdown",
      "metadata": {
        "id": "ganw6yd81SeD"
      },
      "source": [
        "## Tabla de Gráficos\n",
        "\n",
        "1. Gráfica 1. Histograma de cargos\n",
        "2. Gráfica 2. Gráfica de dispersión del dataset\n",
        "3. Gráfica 3. Matriz de correlación del dataset\n",
        "4. Gráfica 4. Gráfica del primer modelo\n",
        "5. Gráfica 5. Gráfica del segundo modelo\n",
        "6. Gráfica 6. Gráfica del tercer modelo"
      ]
    },
    {
      "cell_type": "markdown",
      "metadata": {
        "id": "SSkvlVsT1U-7"
      },
      "source": [
        "## 1. Introducción\n",
        "\n",
        "La regresión lineal múltiple nos permite identificar que variables independientes pueden determinar la explicacion de  una variable dependiente, para llegar a un resultado deseado, con el presente tema esperamos llegar a un concepto, enseñanza clara de lo que se puede deducir por medio de un fenómeno y atravez de el, conocer el paso a paso del análisis que podamos interpretar. Es necesario tener en cuenta la regresión lineal, la cual preside el comportamiento de una variable dependiente de una independiente, la cual nos enseña, nos orienta  a que cuando nos enfrentamos con estos problemas, poder aprender a relacionar, normalizar y enfocar las varianzas de determinada solución.\n",
        "\n",
        "la RLM Ayuda a comparar y comprobar diferentes modelos y algo muy importante es que por medio de la predicción de ciertos valores que veremos mas adelante en la practica del ejercicio escogido, a partir de esas características dadas, se adaptan de tal forma que se aproxima a un comportamiento adecuado.\n"
      ]
    },
    {
      "cell_type": "markdown",
      "metadata": {
        "id": "eyEGVujq1a3-"
      },
      "source": [
        "## 2. Desarrollo Metodológico"
      ]
    },
    {
      "cell_type": "markdown",
      "metadata": {
        "id": "WKonGhYZ1dp-"
      },
      "source": [
        "### 2.1. Desarrollo Teoríco"
      ]
    },
    {
      "cell_type": "markdown",
      "metadata": {
        "id": "ZAVhpsXP479a"
      },
      "source": [
        "#### 2.1.1. Regresión lineal múltiple\n",
        "\n",
        "La regresión lineal múltiple da la posibilidad de generar un respectivo modelo lineal donde el valor de la variable dependiente que en este caso es \"Y “se da referente a un conjunto de variables independientes entre ellas: X1, X2, X3 etc… Los modelos que se llevan a cabo sobre el tema de regresión lineal múltiple permiten emplear el valor de la variable dependiente, lograr evaluar el \n",
        "resultado, los cambios que pueden generar sobre ella, y analizarla muy bien para poder obtener la solución deseada.\n",
        "\n",
        "\n",
        "$$ Y_{i\\ =\\ \\left(\\beta_0 +\\ \\beta_1X_{1i}+\\ \\beta_2X_{2i}+\\ ....\\ +\\ \\beta_nX_{ni}\\right)+\\ \\epsilon_i} $$\n",
        "\n",
        "<div align=\"center\">\n",
        "    Formula 1. Ecuacion regresión lineal múltiple\n",
        "</div>\n",
        "\n",
        "\n",
        "$ \\beta_0 $: Nos indica la ordenada en el origen, cuando el valor de la variable dependiente ‘Y’ nos dice que todos los predictores son igual a 0.\n",
        "\n",
        "$\\beta_i $: Corresponde al promedio sobre el incremento en una respectiva unidad de la variable predictora $X_i$ sobre la variable dependiente $Y$, la cual se mantiene constante al resto de ellas. Estas se destacan y se hacen llamar como coeficientes parciales de regresion. \n",
        "\n",
        "$e_i $: Aquí podemos ver el error, donde representa en el modelo, la diferente entre el valor obtenido y el esperado.\n",
        "\n",
        "Cada coeficiente parcial de regresión depende de las unidades que pueda medir la variable predictora a la adecuada, analizando la magnitud que no esta asociada con cada predictor. El gran impacto que genera e el modelo estas variables, permiten obtener coeficientes parciales obtenidos por medio de la estandarización y que logran sustraer la media y dividir la desviación de para cada una de las variables predictoras.  "
      ]
    },
    {
      "cell_type": "markdown",
      "metadata": {
        "id": "ZO1HROcE1hkK"
      },
      "source": [
        "### 2.2. Desarrollo Computacional"
      ]
    },
    {
      "cell_type": "markdown",
      "metadata": {
        "id": "RatoIKHdjpGV"
      },
      "source": [
        "Para el desarrollo computacional relacionado a este informe se uso el lenguaje de programación Python 3.10.7 y las siguientes librerías:\n",
        "\n",
        "* numpy - se especializa en el cálculo, transformación y análisis de datos numéricos.\n",
        "* pandas - permite la manipulación y análisis de datos sobre tablas numéricas y series temporales.\n",
        "* matplotlib - permite graficar los resultados de los procesos.\n",
        "* seaborn - permite visualizar datos de forma especializada, basándose en matplotlib\n",
        "* scikit-learn - brinda una amplia biblioteca libre para la implementación de aprendizaje automático de forma sencilla y eficiente\n",
        "* regressors - brinda utilidades sencillos para la implementación de regresores y estadísticas"
      ]
    },
    {
      "cell_type": "code",
      "execution_count": null,
      "metadata": {
        "id": "cGwEKPR8iML1"
      },
      "outputs": [],
      "source": [
        "import pandas as pd\n",
        "import seaborn as sns\n",
        "import matplotlib.pyplot as plt\n",
        "import numpy as np\n",
        "from sklearn.preprocessing import StandardScaler\n",
        "from sklearn.linear_model import LinearRegression\n",
        "from sklearn.model_selection import train_test_split\n",
        "import sklearn.metrics as metrics\n",
        "from regressors import stats"
      ]
    },
    {
      "cell_type": "markdown",
      "metadata": {
        "id": "fA4zNZqjl0zl"
      },
      "source": [
        "#### 2.2.1. Regresión lineal múltipe"
      ]
    },
    {
      "cell_type": "markdown",
      "metadata": {
        "id": "VLuH7kRWo6t1"
      },
      "source": [
        "El método ```predictive_model``` proveé una solución predictiva y su resultado mediante una **regresión lineal**."
      ]
    },
    {
      "cell_type": "code",
      "execution_count": null,
      "metadata": {
        "id": "AiWDY043l0L6"
      },
      "outputs": [],
      "source": [
        "def predictive_model(df, X_cols: list, y_col: list, data_std: list) -> tuple:\n",
        "  X = df[X_cols].values\n",
        "  y = df[y_col].values\n",
        "\n",
        "  sc_x = StandardScaler()\n",
        "  sc_y = StandardScaler()\n",
        "\n",
        "  X_std = sc_x.fit_transform(X)\n",
        "  y_std = sc_y.fit_transform(y)\n",
        "\n",
        "  model = LinearRegression()\n",
        "  model.fit(X_std, y_std)\n",
        "\n",
        "  num_std = np.array([data_std])\n",
        "\n",
        "  prediction = model.predict(num_std)\n",
        "  transform = sc_y.inverse_transform(prediction)\n",
        "\n",
        "  return (prediction, transform)"
      ]
    },
    {
      "cell_type": "markdown",
      "metadata": {
        "id": "6W2hEQhLqz7d"
      },
      "source": [
        "El método ```model``` proveé una solución predictiva y un modelo de **regresión lineal** entrenado."
      ]
    },
    {
      "cell_type": "code",
      "execution_count": null,
      "metadata": {
        "id": "1QzMqQqUlwWw"
      },
      "outputs": [],
      "source": [
        "def model(df, X_cols: list, y_col: list, *, fit_intercept: bool = True) -> tuple:\n",
        "  X = df[X_cols].values\n",
        "  y = df[y_col].values\n",
        "\n",
        "  X_train, X_test, y_train, y_test = train_test_split(X, y)\n",
        "\n",
        "  sc_x = StandardScaler().fit(X)\n",
        "  sc_y = StandardScaler().fit(y)\n",
        "\n",
        "  X_train = sc_x.transform(X_train)\n",
        "  X_test = sc_x.transform(X_test)\n",
        "  y_train = sc_y.transform(y_train)\n",
        "  y_test = sc_y.transform(y_test)\n",
        "\n",
        "  model = LinearRegression(fit_intercept=fit_intercept)\n",
        "  model.fit(X_train, y_train)\n",
        "\n",
        "  y_pred = model.predict(X_test)\n",
        "\n",
        "  return (model, y_pred, X_test, y_test)"
      ]
    },
    {
      "cell_type": "markdown",
      "metadata": {
        "id": "ilW7Q9SQrjmt"
      },
      "source": [
        "El método ```get_metrics``` proveé las métricas para un modelo de regresión lineal, mediante sus datos de prueba y de predicción."
      ]
    },
    {
      "cell_type": "code",
      "execution_count": null,
      "metadata": {
        "id": "p6jKwM14rCLV"
      },
      "outputs": [],
      "source": [
        "def get_metrics(y_test, y_pred) -> tuple:\n",
        "  mse = metrics.mean_squared_error(y_test, y_pred)\n",
        "  r2 = metrics.r2_score(y_test, y_pred)\n",
        "\n",
        "  return (mse, r2)"
      ]
    },
    {
      "cell_type": "markdown",
      "metadata": {
        "id": "h8mn-HTPixYb"
      },
      "source": [
        "El método ```model_sumary``` detalla todas la información estadística del modelo regresor."
      ]
    },
    {
      "cell_type": "code",
      "execution_count": null,
      "metadata": {
        "id": "thOg4ortsEJG"
      },
      "outputs": [],
      "source": [
        "def model_summary(model, X_test, y_test, x_cols):\n",
        "  stats.summary(model, X_test, y_test, x_cols)"
      ]
    },
    {
      "cell_type": "markdown",
      "metadata": {
        "id": "iVVHFq9qi_dw"
      },
      "source": [
        "El método ```plot``` ilustra gráticamente el modelo regresor y sus datos."
      ]
    },
    {
      "cell_type": "code",
      "execution_count": null,
      "metadata": {
        "id": "htNOjTIpsn1H"
      },
      "outputs": [],
      "source": [
        "def plot(y_test, y_pred):\n",
        "  residuales = np.subtract(y_test, y_pred.reshape(-1))\n",
        "\n",
        "  plt.scatter(y_pred, residuales)\n",
        "  plt.axhline(y=0, color='r', linestyle='-')\n",
        "\n",
        "  plt.show()"
      ]
    },
    {
      "cell_type": "markdown",
      "metadata": {
        "id": "5VOEtBaPR9fz"
      },
      "source": [
        "## 3. Problemas\n",
        "\n",
        "Regresión lineal múltiple para predecir los gastos médicos de pacientes"
      ]
    },
    {
      "cell_type": "markdown",
      "metadata": {
        "id": "ExgvxBXojZfc"
      },
      "source": [
        "### 3.1. Dataset\n",
        "\n",
        "\n",
        "Utilizando como inicio datos del US Census Bureau se recabaron datos de gastos en seguros de datos médicos de varios pacientes\n",
        "\n",
        "\n",
        "\n",
        "| Variable | Tipo | Descripción |\n",
        "| -- | -- | -- |\n",
        "| Edad | Numérica | La edad del asegurado |\n",
        "| Sexo | Dictómica | Género binario del asegurado |\n",
        "| Índice de masa corporal | Numérica | Índice de masa corporal del paciente |\n",
        "| Hijos | Numérica entera | Cantidad de hijos del paciente |\n",
        "| Fumador | Booleana | Si el paciente es fumador o no fumador |\n",
        "| Región | Categórica | Región en la que vive el paciente |\n",
        "| Cargos | Numérica | La cantidad que pago de seguro el paciente |"
      ]
    },
    {
      "cell_type": "markdown",
      "metadata": {},
      "source": [
        "<div align=\"center\">\n",
        "    Tabla 1. Detalles del dataset\n",
        "</div>"
      ]
    },
    {
      "cell_type": "markdown",
      "metadata": {
        "id": "2I_X0fU91lCZ"
      },
      "source": [
        "## 4. Resultados"
      ]
    },
    {
      "cell_type": "code",
      "execution_count": null,
      "metadata": {
        "colab": {
          "base_uri": "https://localhost:8080/",
          "height": 206
        },
        "id": "ZktDJL3ANoP7",
        "outputId": "e73abf5e-811a-46eb-92a5-1faf979a0832"
      },
      "outputs": [
        {
          "data": {
            "text/html": [
              "\n",
              "  <div id=\"df-b9440363-4b4c-402b-bdf8-53e858235831\">\n",
              "    <div class=\"colab-df-container\">\n",
              "      <div>\n",
              "<style scoped>\n",
              "    .dataframe tbody tr th:only-of-type {\n",
              "        vertical-align: middle;\n",
              "    }\n",
              "\n",
              "    .dataframe tbody tr th {\n",
              "        vertical-align: top;\n",
              "    }\n",
              "\n",
              "    .dataframe thead th {\n",
              "        text-align: right;\n",
              "    }\n",
              "</style>\n",
              "<table border=\"1\" class=\"dataframe\">\n",
              "  <thead>\n",
              "    <tr style=\"text-align: right;\">\n",
              "      <th></th>\n",
              "      <th>age</th>\n",
              "      <th>sex</th>\n",
              "      <th>bmi</th>\n",
              "      <th>children</th>\n",
              "      <th>smoker</th>\n",
              "      <th>region</th>\n",
              "      <th>charges</th>\n",
              "    </tr>\n",
              "  </thead>\n",
              "  <tbody>\n",
              "    <tr>\n",
              "      <th>0</th>\n",
              "      <td>19</td>\n",
              "      <td>female</td>\n",
              "      <td>27.900</td>\n",
              "      <td>0</td>\n",
              "      <td>yes</td>\n",
              "      <td>southwest</td>\n",
              "      <td>16884.92400</td>\n",
              "    </tr>\n",
              "    <tr>\n",
              "      <th>1</th>\n",
              "      <td>18</td>\n",
              "      <td>male</td>\n",
              "      <td>33.770</td>\n",
              "      <td>1</td>\n",
              "      <td>no</td>\n",
              "      <td>southeast</td>\n",
              "      <td>1725.55230</td>\n",
              "    </tr>\n",
              "    <tr>\n",
              "      <th>2</th>\n",
              "      <td>28</td>\n",
              "      <td>male</td>\n",
              "      <td>33.000</td>\n",
              "      <td>3</td>\n",
              "      <td>no</td>\n",
              "      <td>southeast</td>\n",
              "      <td>4449.46200</td>\n",
              "    </tr>\n",
              "    <tr>\n",
              "      <th>3</th>\n",
              "      <td>33</td>\n",
              "      <td>male</td>\n",
              "      <td>22.705</td>\n",
              "      <td>0</td>\n",
              "      <td>no</td>\n",
              "      <td>northwest</td>\n",
              "      <td>21984.47061</td>\n",
              "    </tr>\n",
              "    <tr>\n",
              "      <th>4</th>\n",
              "      <td>32</td>\n",
              "      <td>male</td>\n",
              "      <td>28.880</td>\n",
              "      <td>0</td>\n",
              "      <td>no</td>\n",
              "      <td>northwest</td>\n",
              "      <td>3866.85520</td>\n",
              "    </tr>\n",
              "  </tbody>\n",
              "</table>\n",
              "</div>\n",
              "      <button class=\"colab-df-convert\" onclick=\"convertToInteractive('df-b9440363-4b4c-402b-bdf8-53e858235831')\"\n",
              "              title=\"Convert this dataframe to an interactive table.\"\n",
              "              style=\"display:none;\">\n",
              "        \n",
              "  <svg xmlns=\"http://www.w3.org/2000/svg\" height=\"24px\"viewBox=\"0 0 24 24\"\n",
              "       width=\"24px\">\n",
              "    <path d=\"M0 0h24v24H0V0z\" fill=\"none\"/>\n",
              "    <path d=\"M18.56 5.44l.94 2.06.94-2.06 2.06-.94-2.06-.94-.94-2.06-.94 2.06-2.06.94zm-11 1L8.5 8.5l.94-2.06 2.06-.94-2.06-.94L8.5 2.5l-.94 2.06-2.06.94zm10 10l.94 2.06.94-2.06 2.06-.94-2.06-.94-.94-2.06-.94 2.06-2.06.94z\"/><path d=\"M17.41 7.96l-1.37-1.37c-.4-.4-.92-.59-1.43-.59-.52 0-1.04.2-1.43.59L10.3 9.45l-7.72 7.72c-.78.78-.78 2.05 0 2.83L4 21.41c.39.39.9.59 1.41.59.51 0 1.02-.2 1.41-.59l7.78-7.78 2.81-2.81c.8-.78.8-2.07 0-2.86zM5.41 20L4 18.59l7.72-7.72 1.47 1.35L5.41 20z\"/>\n",
              "  </svg>\n",
              "      </button>\n",
              "      \n",
              "  <style>\n",
              "    .colab-df-container {\n",
              "      display:flex;\n",
              "      flex-wrap:wrap;\n",
              "      gap: 12px;\n",
              "    }\n",
              "\n",
              "    .colab-df-convert {\n",
              "      background-color: #E8F0FE;\n",
              "      border: none;\n",
              "      border-radius: 50%;\n",
              "      cursor: pointer;\n",
              "      display: none;\n",
              "      fill: #1967D2;\n",
              "      height: 32px;\n",
              "      padding: 0 0 0 0;\n",
              "      width: 32px;\n",
              "    }\n",
              "\n",
              "    .colab-df-convert:hover {\n",
              "      background-color: #E2EBFA;\n",
              "      box-shadow: 0px 1px 2px rgba(60, 64, 67, 0.3), 0px 1px 3px 1px rgba(60, 64, 67, 0.15);\n",
              "      fill: #174EA6;\n",
              "    }\n",
              "\n",
              "    [theme=dark] .colab-df-convert {\n",
              "      background-color: #3B4455;\n",
              "      fill: #D2E3FC;\n",
              "    }\n",
              "\n",
              "    [theme=dark] .colab-df-convert:hover {\n",
              "      background-color: #434B5C;\n",
              "      box-shadow: 0px 1px 3px 1px rgba(0, 0, 0, 0.15);\n",
              "      filter: drop-shadow(0px 1px 2px rgba(0, 0, 0, 0.3));\n",
              "      fill: #FFFFFF;\n",
              "    }\n",
              "  </style>\n",
              "\n",
              "      <script>\n",
              "        const buttonEl =\n",
              "          document.querySelector('#df-b9440363-4b4c-402b-bdf8-53e858235831 button.colab-df-convert');\n",
              "        buttonEl.style.display =\n",
              "          google.colab.kernel.accessAllowed ? 'block' : 'none';\n",
              "\n",
              "        async function convertToInteractive(key) {\n",
              "          const element = document.querySelector('#df-b9440363-4b4c-402b-bdf8-53e858235831');\n",
              "          const dataTable =\n",
              "            await google.colab.kernel.invokeFunction('convertToInteractive',\n",
              "                                                     [key], {});\n",
              "          if (!dataTable) return;\n",
              "\n",
              "          const docLinkHtml = 'Like what you see? Visit the ' +\n",
              "            '<a target=\"_blank\" href=https://colab.research.google.com/notebooks/data_table.ipynb>data table notebook</a>'\n",
              "            + ' to learn more about interactive tables.';\n",
              "          element.innerHTML = '';\n",
              "          dataTable['output_type'] = 'display_data';\n",
              "          await google.colab.output.renderOutput(dataTable, element);\n",
              "          const docLink = document.createElement('div');\n",
              "          docLink.innerHTML = docLinkHtml;\n",
              "          element.appendChild(docLink);\n",
              "        }\n",
              "      </script>\n",
              "    </div>\n",
              "  </div>\n",
              "  "
            ],
            "text/plain": [
              "   age     sex     bmi  children smoker     region      charges\n",
              "0   19  female  27.900         0    yes  southwest  16884.92400\n",
              "1   18    male  33.770         1     no  southeast   1725.55230\n",
              "2   28    male  33.000         3     no  southeast   4449.46200\n",
              "3   33    male  22.705         0     no  northwest  21984.47061\n",
              "4   32    male  28.880         0     no  northwest   3866.85520"
            ]
          },
          "execution_count": 9,
          "metadata": {},
          "output_type": "execute_result"
        }
      ],
      "source": [
        "df = pd.read_csv('insurance.csv')\n",
        "\n",
        "df.head()"
      ]
    },
    {
      "cell_type": "markdown",
      "metadata": {},
      "source": [
        "<div align=\"center\">\n",
        "    Tabla 2. Dataset\n",
        "</div>"
      ]
    },
    {
      "cell_type": "code",
      "execution_count": null,
      "metadata": {
        "colab": {
          "base_uri": "https://localhost:8080/",
          "height": 282
        },
        "id": "uHyl7okcNrMO",
        "outputId": "2ff0d955-a76a-4ae0-82ed-28c631414cd5"
      },
      "outputs": [
        {
          "data": {
            "text/plain": [
              "<matplotlib.axes._subplots.AxesSubplot at 0x7fb4db627810>"
            ]
          },
          "execution_count": 10,
          "metadata": {},
          "output_type": "execute_result"
        },
        {
          "data": {
            "image/png": "[encoded data removed]",
            "text/plain": [
              "<Figure size 432x288 with 1 Axes>"
            ]
          },
          "metadata": {
            "needs_background": "light"
          },
          "output_type": "display_data"
        }
      ],
      "source": [
        "df.charges.hist(bins=40)  # histograma;"
      ]
    },
    {
      "cell_type": "markdown",
      "metadata": {},
      "source": [
        "<div align=\"center\">\n",
        "    Gráfica 1. Histograma de cargos\n",
        "</div>"
      ]
    },
    {
      "cell_type": "code",
      "execution_count": null,
      "metadata": {
        "colab": {
          "base_uri": "https://localhost:8080/",
          "height": 269
        },
        "id": "S4sp6y8DNvbn",
        "outputId": "9d2b21c3-0f7e-46f0-9259-b8fd88e73b6d"
      },
      "outputs": [
        {
          "data": {
            "text/html": [
              "\n",
              "  <div id=\"df-4696b0b3-1736-4a39-8948-c730bde8c015\">\n",
              "    <div class=\"colab-df-container\">\n",
              "      <div>\n",
              "<style scoped>\n",
              "    .dataframe tbody tr th:only-of-type {\n",
              "        vertical-align: middle;\n",
              "    }\n",
              "\n",
              "    .dataframe tbody tr th {\n",
              "        vertical-align: top;\n",
              "    }\n",
              "\n",
              "    .dataframe thead th {\n",
              "        text-align: right;\n",
              "    }\n",
              "</style>\n",
              "<table border=\"1\" class=\"dataframe\">\n",
              "  <thead>\n",
              "    <tr style=\"text-align: right;\">\n",
              "      <th></th>\n",
              "      <th>age</th>\n",
              "      <th>sex</th>\n",
              "      <th>bmi</th>\n",
              "      <th>children</th>\n",
              "      <th>smoker</th>\n",
              "      <th>region</th>\n",
              "      <th>charges</th>\n",
              "    </tr>\n",
              "  </thead>\n",
              "  <tbody>\n",
              "    <tr>\n",
              "      <th>34</th>\n",
              "      <td>28</td>\n",
              "      <td>male</td>\n",
              "      <td>36.400</td>\n",
              "      <td>1</td>\n",
              "      <td>yes</td>\n",
              "      <td>southwest</td>\n",
              "      <td>51194.55914</td>\n",
              "    </tr>\n",
              "    <tr>\n",
              "      <th>543</th>\n",
              "      <td>54</td>\n",
              "      <td>female</td>\n",
              "      <td>47.410</td>\n",
              "      <td>0</td>\n",
              "      <td>yes</td>\n",
              "      <td>southeast</td>\n",
              "      <td>63770.42801</td>\n",
              "    </tr>\n",
              "    <tr>\n",
              "      <th>577</th>\n",
              "      <td>31</td>\n",
              "      <td>female</td>\n",
              "      <td>38.095</td>\n",
              "      <td>1</td>\n",
              "      <td>yes</td>\n",
              "      <td>northeast</td>\n",
              "      <td>58571.07448</td>\n",
              "    </tr>\n",
              "    <tr>\n",
              "      <th>819</th>\n",
              "      <td>33</td>\n",
              "      <td>female</td>\n",
              "      <td>35.530</td>\n",
              "      <td>0</td>\n",
              "      <td>yes</td>\n",
              "      <td>northwest</td>\n",
              "      <td>55135.40209</td>\n",
              "    </tr>\n",
              "    <tr>\n",
              "      <th>1146</th>\n",
              "      <td>60</td>\n",
              "      <td>male</td>\n",
              "      <td>32.800</td>\n",
              "      <td>0</td>\n",
              "      <td>yes</td>\n",
              "      <td>southwest</td>\n",
              "      <td>52590.82939</td>\n",
              "    </tr>\n",
              "    <tr>\n",
              "      <th>1230</th>\n",
              "      <td>52</td>\n",
              "      <td>male</td>\n",
              "      <td>34.485</td>\n",
              "      <td>3</td>\n",
              "      <td>yes</td>\n",
              "      <td>northwest</td>\n",
              "      <td>60021.39897</td>\n",
              "    </tr>\n",
              "    <tr>\n",
              "      <th>1300</th>\n",
              "      <td>45</td>\n",
              "      <td>male</td>\n",
              "      <td>30.360</td>\n",
              "      <td>0</td>\n",
              "      <td>yes</td>\n",
              "      <td>southeast</td>\n",
              "      <td>62592.87309</td>\n",
              "    </tr>\n",
              "  </tbody>\n",
              "</table>\n",
              "</div>\n",
              "      <button class=\"colab-df-convert\" onclick=\"convertToInteractive('df-4696b0b3-1736-4a39-8948-c730bde8c015')\"\n",
              "              title=\"Convert this dataframe to an interactive table.\"\n",
              "              style=\"display:none;\">\n",
              "        \n",
              "  <svg xmlns=\"http://www.w3.org/2000/svg\" height=\"24px\"viewBox=\"0 0 24 24\"\n",
              "       width=\"24px\">\n",
              "    <path d=\"M0 0h24v24H0V0z\" fill=\"none\"/>\n",
              "    <path d=\"M18.56 5.44l.94 2.06.94-2.06 2.06-.94-2.06-.94-.94-2.06-.94 2.06-2.06.94zm-11 1L8.5 8.5l.94-2.06 2.06-.94-2.06-.94L8.5 2.5l-.94 2.06-2.06.94zm10 10l.94 2.06.94-2.06 2.06-.94-2.06-.94-.94-2.06-.94 2.06-2.06.94z\"/><path d=\"M17.41 7.96l-1.37-1.37c-.4-.4-.92-.59-1.43-.59-.52 0-1.04.2-1.43.59L10.3 9.45l-7.72 7.72c-.78.78-.78 2.05 0 2.83L4 21.41c.39.39.9.59 1.41.59.51 0 1.02-.2 1.41-.59l7.78-7.78 2.81-2.81c.8-.78.8-2.07 0-2.86zM5.41 20L4 18.59l7.72-7.72 1.47 1.35L5.41 20z\"/>\n",
              "  </svg>\n",
              "      </button>\n",
              "      \n",
              "  <style>\n",
              "    .colab-df-container {\n",
              "      display:flex;\n",
              "      flex-wrap:wrap;\n",
              "      gap: 12px;\n",
              "    }\n",
              "\n",
              "    .colab-df-convert {\n",
              "      background-color: #E8F0FE;\n",
              "      border: none;\n",
              "      border-radius: 50%;\n",
              "      cursor: pointer;\n",
              "      display: none;\n",
              "      fill: #1967D2;\n",
              "      height: 32px;\n",
              "      padding: 0 0 0 0;\n",
              "      width: 32px;\n",
              "    }\n",
              "\n",
              "    .colab-df-convert:hover {\n",
              "      background-color: #E2EBFA;\n",
              "      box-shadow: 0px 1px 2px rgba(60, 64, 67, 0.3), 0px 1px 3px 1px rgba(60, 64, 67, 0.15);\n",
              "      fill: #174EA6;\n",
              "    }\n",
              "\n",
              "    [theme=dark] .colab-df-convert {\n",
              "      background-color: #3B4455;\n",
              "      fill: #D2E3FC;\n",
              "    }\n",
              "\n",
              "    [theme=dark] .colab-df-convert:hover {\n",
              "      background-color: #434B5C;\n",
              "      box-shadow: 0px 1px 3px 1px rgba(0, 0, 0, 0.15);\n",
              "      filter: drop-shadow(0px 1px 2px rgba(0, 0, 0, 0.3));\n",
              "      fill: #FFFFFF;\n",
              "    }\n",
              "  </style>\n",
              "\n",
              "      <script>\n",
              "        const buttonEl =\n",
              "          document.querySelector('#df-4696b0b3-1736-4a39-8948-c730bde8c015 button.colab-df-convert');\n",
              "        buttonEl.style.display =\n",
              "          google.colab.kernel.accessAllowed ? 'block' : 'none';\n",
              "\n",
              "        async function convertToInteractive(key) {\n",
              "          const element = document.querySelector('#df-4696b0b3-1736-4a39-8948-c730bde8c015');\n",
              "          const dataTable =\n",
              "            await google.colab.kernel.invokeFunction('convertToInteractive',\n",
              "                                                     [key], {});\n",
              "          if (!dataTable) return;\n",
              "\n",
              "          const docLinkHtml = 'Like what you see? Visit the ' +\n",
              "            '<a target=\"_blank\" href=https://colab.research.google.com/notebooks/data_table.ipynb>data table notebook</a>'\n",
              "            + ' to learn more about interactive tables.';\n",
              "          element.innerHTML = '';\n",
              "          dataTable['output_type'] = 'display_data';\n",
              "          await google.colab.output.renderOutput(dataTable, element);\n",
              "          const docLink = document.createElement('div');\n",
              "          docLink.innerHTML = docLinkHtml;\n",
              "          element.appendChild(docLink);\n",
              "        }\n",
              "      </script>\n",
              "    </div>\n",
              "  </div>\n",
              "  "
            ],
            "text/plain": [
              "      age     sex     bmi  children smoker     region      charges\n",
              "34     28    male  36.400         1    yes  southwest  51194.55914\n",
              "543    54  female  47.410         0    yes  southeast  63770.42801\n",
              "577    31  female  38.095         1    yes  northeast  58571.07448\n",
              "819    33  female  35.530         0    yes  northwest  55135.40209\n",
              "1146   60    male  32.800         0    yes  southwest  52590.82939\n",
              "1230   52    male  34.485         3    yes  northwest  60021.39897\n",
              "1300   45    male  30.360         0    yes  southeast  62592.87309"
            ]
          },
          "execution_count": 11,
          "metadata": {},
          "output_type": "execute_result"
        }
      ],
      "source": [
        "df[df.charges > 50_000]"
      ]
    },
    {
      "cell_type": "markdown",
      "metadata": {},
      "source": [
        "<div align=\"center\">\n",
        "    Tabla 3. Dataset con cargos mayores a 50.000\n",
        "</div>"
      ]
    },
    {
      "cell_type": "markdown",
      "metadata": {},
      "source": [
        "Se remueve del dataset los cargos mayores a 50.000, con el objetivo que no perjudicar el modelo a emplear.\n",
        "\n",
        "Nota. Antes de hacer esto consultarlo con los encargados del dataset. En este ejemplo solo se hizo con fines académicos."
      ]
    },
    {
      "cell_type": "code",
      "execution_count": null,
      "metadata": {
        "colab": {
          "base_uri": "https://localhost:8080/"
        },
        "id": "s47UniZ7N3sl",
        "outputId": "ef0d92fb-2284-4b1c-fb95-40190df3a745"
      },
      "outputs": [
        {
          "data": {
            "text/plain": [
              "(1331, 7)"
            ]
          },
          "execution_count": 12,
          "metadata": {},
          "output_type": "execute_result"
        }
      ],
      "source": [
        "df = df[df.charges < 50_000]\n",
        "\n",
        "df.shape"
      ]
    },
    {
      "cell_type": "code",
      "execution_count": null,
      "metadata": {
        "colab": {
          "base_uri": "https://localhost:8080/",
          "height": 726
        },
        "id": "7W4U75U1N9-f",
        "outputId": "e762e118-5ac4-4e4c-d938-b40851802a5f"
      },
      "outputs": [
        {
          "data": {
            "image/png": "[encoded data removed]",
            "text/plain": [
              "<Figure size 720x720 with 20 Axes>"
            ]
          },
          "metadata": {
            "needs_background": "light"
          },
          "output_type": "display_data"
        }
      ],
      "source": [
        "sns.pairplot(df, height=2.5)\n",
        "plt.show()"
      ]
    },
    {
      "cell_type": "markdown",
      "metadata": {},
      "source": [
        "<div align=\"center\">\n",
        "    Gráfica 2. Gráfica de dispersión del dataset\n",
        "</div>"
      ]
    },
    {
      "cell_type": "code",
      "execution_count": null,
      "metadata": {
        "colab": {
          "base_uri": "https://localhost:8080/",
          "height": 300
        },
        "id": "rMMU6TkDODm2",
        "outputId": "a5dfabbb-4885-4a8e-f579-09cefde8b168"
      },
      "outputs": [
        {
          "data": {
            "text/plain": [
              "<matplotlib.axes._subplots.AxesSubplot at 0x7fb4db50ce90>"
            ]
          },
          "execution_count": 14,
          "metadata": {},
          "output_type": "execute_result"
        },
        {
          "data": {
            "image/png": "[encoded data removed]",
            "text/plain": [
              "<Figure size 432x288 with 2 Axes>"
            ]
          },
          "metadata": {},
          "output_type": "display_data"
        }
      ],
      "source": [
        "numeric_cols = ['age', 'bmi', 'children', 'charges']\n",
        "cm = np.corrcoef(df[numeric_cols].values.T)\n",
        "\n",
        "sns.set(font_scale=1.5)\n",
        "\n",
        "sns.heatmap(cm, annot=True, yticklabels=numeric_cols, xticklabels=numeric_cols)"
      ]
    },
    {
      "cell_type": "markdown",
      "metadata": {},
      "source": [
        "<div align=\"center\">\n",
        "    Gráfica 3. Matriz de correlación del dataset\n",
        "</div>"
      ]
    },
    {
      "cell_type": "code",
      "execution_count": null,
      "metadata": {
        "colab": {
          "base_uri": "https://localhost:8080/",
          "height": 206
        },
        "id": "4TPzkAX3OIU8",
        "outputId": "1dde48b5-6a4a-4f3e-d9ef-2484cebd3790"
      },
      "outputs": [
        {
          "data": {
            "text/html": [
              "\n",
              "  <div id=\"df-2451f5c5-c1df-455c-8c68-adb21ae5b5f3\">\n",
              "    <div class=\"colab-df-container\">\n",
              "      <div>\n",
              "<style scoped>\n",
              "    .dataframe tbody tr th:only-of-type {\n",
              "        vertical-align: middle;\n",
              "    }\n",
              "\n",
              "    .dataframe tbody tr th {\n",
              "        vertical-align: top;\n",
              "    }\n",
              "\n",
              "    .dataframe thead th {\n",
              "        text-align: right;\n",
              "    }\n",
              "</style>\n",
              "<table border=\"1\" class=\"dataframe\">\n",
              "  <thead>\n",
              "    <tr style=\"text-align: right;\">\n",
              "      <th></th>\n",
              "      <th>age</th>\n",
              "      <th>bmi</th>\n",
              "      <th>children</th>\n",
              "      <th>charges</th>\n",
              "      <th>sex_male</th>\n",
              "      <th>smoker_yes</th>\n",
              "      <th>region_northwest</th>\n",
              "      <th>region_southeast</th>\n",
              "      <th>region_southwest</th>\n",
              "    </tr>\n",
              "  </thead>\n",
              "  <tbody>\n",
              "    <tr>\n",
              "      <th>0</th>\n",
              "      <td>19</td>\n",
              "      <td>27.900</td>\n",
              "      <td>0</td>\n",
              "      <td>16884.92400</td>\n",
              "      <td>0</td>\n",
              "      <td>1</td>\n",
              "      <td>0</td>\n",
              "      <td>0</td>\n",
              "      <td>1</td>\n",
              "    </tr>\n",
              "    <tr>\n",
              "      <th>1</th>\n",
              "      <td>18</td>\n",
              "      <td>33.770</td>\n",
              "      <td>1</td>\n",
              "      <td>1725.55230</td>\n",
              "      <td>1</td>\n",
              "      <td>0</td>\n",
              "      <td>0</td>\n",
              "      <td>1</td>\n",
              "      <td>0</td>\n",
              "    </tr>\n",
              "    <tr>\n",
              "      <th>2</th>\n",
              "      <td>28</td>\n",
              "      <td>33.000</td>\n",
              "      <td>3</td>\n",
              "      <td>4449.46200</td>\n",
              "      <td>1</td>\n",
              "      <td>0</td>\n",
              "      <td>0</td>\n",
              "      <td>1</td>\n",
              "      <td>0</td>\n",
              "    </tr>\n",
              "    <tr>\n",
              "      <th>3</th>\n",
              "      <td>33</td>\n",
              "      <td>22.705</td>\n",
              "      <td>0</td>\n",
              "      <td>21984.47061</td>\n",
              "      <td>1</td>\n",
              "      <td>0</td>\n",
              "      <td>1</td>\n",
              "      <td>0</td>\n",
              "      <td>0</td>\n",
              "    </tr>\n",
              "    <tr>\n",
              "      <th>4</th>\n",
              "      <td>32</td>\n",
              "      <td>28.880</td>\n",
              "      <td>0</td>\n",
              "      <td>3866.85520</td>\n",
              "      <td>1</td>\n",
              "      <td>0</td>\n",
              "      <td>1</td>\n",
              "      <td>0</td>\n",
              "      <td>0</td>\n",
              "    </tr>\n",
              "  </tbody>\n",
              "</table>\n",
              "</div>\n",
              "      <button class=\"colab-df-convert\" onclick=\"convertToInteractive('df-2451f5c5-c1df-455c-8c68-adb21ae5b5f3')\"\n",
              "              title=\"Convert this dataframe to an interactive table.\"\n",
              "              style=\"display:none;\">\n",
              "        \n",
              "  <svg xmlns=\"http://www.w3.org/2000/svg\" height=\"24px\"viewBox=\"0 0 24 24\"\n",
              "       width=\"24px\">\n",
              "    <path d=\"M0 0h24v24H0V0z\" fill=\"none\"/>\n",
              "    <path d=\"M18.56 5.44l.94 2.06.94-2.06 2.06-.94-2.06-.94-.94-2.06-.94 2.06-2.06.94zm-11 1L8.5 8.5l.94-2.06 2.06-.94-2.06-.94L8.5 2.5l-.94 2.06-2.06.94zm10 10l.94 2.06.94-2.06 2.06-.94-2.06-.94-.94-2.06-.94 2.06-2.06.94z\"/><path d=\"M17.41 7.96l-1.37-1.37c-.4-.4-.92-.59-1.43-.59-.52 0-1.04.2-1.43.59L10.3 9.45l-7.72 7.72c-.78.78-.78 2.05 0 2.83L4 21.41c.39.39.9.59 1.41.59.51 0 1.02-.2 1.41-.59l7.78-7.78 2.81-2.81c.8-.78.8-2.07 0-2.86zM5.41 20L4 18.59l7.72-7.72 1.47 1.35L5.41 20z\"/>\n",
              "  </svg>\n",
              "      </button>\n",
              "      \n",
              "  <style>\n",
              "    .colab-df-container {\n",
              "      display:flex;\n",
              "      flex-wrap:wrap;\n",
              "      gap: 12px;\n",
              "    }\n",
              "\n",
              "    .colab-df-convert {\n",
              "      background-color: #E8F0FE;\n",
              "      border: none;\n",
              "      border-radius: 50%;\n",
              "      cursor: pointer;\n",
              "      display: none;\n",
              "      fill: #1967D2;\n",
              "      height: 32px;\n",
              "      padding: 0 0 0 0;\n",
              "      width: 32px;\n",
              "    }\n",
              "\n",
              "    .colab-df-convert:hover {\n",
              "      background-color: #E2EBFA;\n",
              "      box-shadow: 0px 1px 2px rgba(60, 64, 67, 0.3), 0px 1px 3px 1px rgba(60, 64, 67, 0.15);\n",
              "      fill: #174EA6;\n",
              "    }\n",
              "\n",
              "    [theme=dark] .colab-df-convert {\n",
              "      background-color: #3B4455;\n",
              "      fill: #D2E3FC;\n",
              "    }\n",
              "\n",
              "    [theme=dark] .colab-df-convert:hover {\n",
              "      background-color: #434B5C;\n",
              "      box-shadow: 0px 1px 3px 1px rgba(0, 0, 0, 0.15);\n",
              "      filter: drop-shadow(0px 1px 2px rgba(0, 0, 0, 0.3));\n",
              "      fill: #FFFFFF;\n",
              "    }\n",
              "  </style>\n",
              "\n",
              "      <script>\n",
              "        const buttonEl =\n",
              "          document.querySelector('#df-2451f5c5-c1df-455c-8c68-adb21ae5b5f3 button.colab-df-convert');\n",
              "        buttonEl.style.display =\n",
              "          google.colab.kernel.accessAllowed ? 'block' : 'none';\n",
              "\n",
              "        async function convertToInteractive(key) {\n",
              "          const element = document.querySelector('#df-2451f5c5-c1df-455c-8c68-adb21ae5b5f3');\n",
              "          const dataTable =\n",
              "            await google.colab.kernel.invokeFunction('convertToInteractive',\n",
              "                                                     [key], {});\n",
              "          if (!dataTable) return;\n",
              "\n",
              "          const docLinkHtml = 'Like what you see? Visit the ' +\n",
              "            '<a target=\"_blank\" href=https://colab.research.google.com/notebooks/data_table.ipynb>data table notebook</a>'\n",
              "            + ' to learn more about interactive tables.';\n",
              "          element.innerHTML = '';\n",
              "          dataTable['output_type'] = 'display_data';\n",
              "          await google.colab.output.renderOutput(dataTable, element);\n",
              "          const docLink = document.createElement('div');\n",
              "          docLink.innerHTML = docLinkHtml;\n",
              "          element.appendChild(docLink);\n",
              "        }\n",
              "      </script>\n",
              "    </div>\n",
              "  </div>\n",
              "  "
            ],
            "text/plain": [
              "   age     bmi  children      charges  sex_male  smoker_yes  region_northwest  \\\n",
              "0   19  27.900         0  16884.92400         0           1                 0   \n",
              "1   18  33.770         1   1725.55230         1           0                 0   \n",
              "2   28  33.000         3   4449.46200         1           0                 0   \n",
              "3   33  22.705         0  21984.47061         1           0                 1   \n",
              "4   32  28.880         0   3866.85520         1           0                 1   \n",
              "\n",
              "   region_southeast  region_southwest  \n",
              "0                 0                 1  \n",
              "1                 1                 0  \n",
              "2                 1                 0  \n",
              "3                 0                 0  \n",
              "4                 0                 0  "
            ]
          },
          "execution_count": 15,
          "metadata": {},
          "output_type": "execute_result"
        }
      ],
      "source": [
        "df = pd.get_dummies(df, columns=['sex', 'smoker', 'region'], drop_first=True)\n",
        "\n",
        "df.head()"
      ]
    },
    {
      "cell_type": "markdown",
      "metadata": {},
      "source": [
        "<div align=\"center\">\n",
        "    Tabla 4. Dataset con variables de texto convertidas a numéricas\n",
        "</div>"
      ]
    },
    {
      "cell_type": "code",
      "execution_count": null,
      "metadata": {
        "id": "s4pummoZRMLS"
      },
      "outputs": [],
      "source": [
        "df_second = df.copy()\n",
        "\n",
        "df_second['age2'] = df_second.age ** 2\n",
        "df_second['sobrepeso'] = (df_second.bmi >= 30).astype(int)\n",
        "df_second['sobrepeso*fumador'] = df_second.sobrepeso * df_second.smoker_yes"
      ]
    },
    {
      "cell_type": "markdown",
      "metadata": {
        "id": "ETnZ1iylBpO6"
      },
      "source": [
        "### 4.1. Caso de uso"
      ]
    },
    {
      "cell_type": "markdown",
      "metadata": {
        "id": "NFdTffBLCM4h"
      },
      "source": [
        "Caso de uso 1. Se necesita conocer el precio de la póliza de salud para un paciente de 40 años, con sobrepeso y habito de fumador, el paciente además incorporará al seguro a un hijo."
      ]
    },
    {
      "cell_type": "code",
      "execution_count": null,
      "metadata": {
        "colab": {
          "base_uri": "https://localhost:8080/"
        },
        "id": "Ia9jm2vPLdPz",
        "outputId": "3e56d624-884b-4acb-9c3c-bd998d12a09b"
      },
      "outputs": [
        {
          "name": "stdout",
          "output_type": "stream",
          "text": [
            "prediction: [[13.93776996]]\n",
            "precio: [[176038.50119613]]\n",
            "El precio de la poliza de salud para el paciente es de US$176,038.5\n"
          ]
        }
      ],
      "source": [
        "num_sobrepeso_fumador = 1\n",
        "num_smoker_yes = 1\n",
        "num_age2 = 40\n",
        "num_children = 1\n",
        "\n",
        "prediction, charge = predictive_model(\n",
        "    df_second,\n",
        "    ['sobrepeso*fumador', 'smoker_yes', 'age2', 'children'],\n",
        "    ['charges'],\n",
        "    [num_sobrepeso_fumador, num_smoker_yes, num_age2, num_children]\n",
        ")\n",
        "\n",
        "print(f'prediction: {prediction}')\n",
        "print(f'precio: {charge}')\n",
        "\n",
        "print(f'El precio de la póliza de salud para el paciente es de US${float(charge):,.8}')"
      ]
    },
    {
      "cell_type": "markdown",
      "metadata": {
        "id": "D9Apz9caSHSm"
      },
      "source": [
        "Caso de uso 2. Se necesita conocer el precio de la póliza de salud para un paciente de 23 años, con  habito de fumador."
      ]
    },
    {
      "cell_type": "code",
      "execution_count": null,
      "metadata": {
        "colab": {
          "base_uri": "https://localhost:8080/"
        },
        "id": "b3aIdBCIR6GZ",
        "outputId": "582f5dea-fd7b-4190-ebff-6fd85bf03887"
      },
      "outputs": [
        {
          "name": "stdout",
          "output_type": "stream",
          "text": [
            "prediction: [[7.88320895]]\n",
            "precio: [[105230.62486921]]\n",
            "El precio de la poliza de salud para el paciente es de US$105,230.62\n"
          ]
        }
      ],
      "source": [
        "num_sobrepeso_fumador = 0\n",
        "num_smoker_yes = 1\n",
        "num_age2 = 23\n",
        "num_children = 0\n",
        "\n",
        "prediction, charge = predictive_model(\n",
        "    df_second,\n",
        "    ['sobrepeso*fumador', 'smoker_yes', 'age2', 'children'],\n",
        "    ['charges'],\n",
        "    [num_sobrepeso_fumador, num_smoker_yes, num_age2, num_children]\n",
        ")\n",
        "\n",
        "print(f'prediction: {prediction}')\n",
        "print(f'precio: {charge}')\n",
        "\n",
        "print(f'El precio de la póliza de salud para el paciente es de US${float(charge):,.8}')"
      ]
    },
    {
      "cell_type": "markdown",
      "metadata": {
        "id": "NhznuMStB0Mx"
      },
      "source": [
        "### 4.2. Optimización del modelo"
      ]
    },
    {
      "cell_type": "markdown",
      "metadata": {
        "id": "4t0VLNAzB-VM"
      },
      "source": [
        "#### 4.2.1. Primer modelo"
      ]
    },
    {
      "cell_type": "code",
      "execution_count": null,
      "metadata": {
        "colab": {
          "base_uri": "https://localhost:8080/"
        },
        "id": "ocEWYPQXTsRu",
        "outputId": "e4d364ea-f049-487d-8f0d-e7d0006f0f80"
      },
      "outputs": [
        {
          "data": {
            "text/plain": [
              "(333, 1)"
            ]
          },
          "execution_count": 29,
          "metadata": {},
          "output_type": "execute_result"
        }
      ],
      "source": [
        "model, y_pred, X_test, y_test = model(\n",
        "    df,\n",
        "    list(set(df.columns) - {'charges'}),\n",
        "    ['charges']\n",
        ")\n",
        "\n",
        "y_pred.shape"
      ]
    },
    {
      "cell_type": "code",
      "execution_count": null,
      "metadata": {
        "colab": {
          "base_uri": "https://localhost:8080/"
        },
        "id": "X-4wp31pef0J",
        "outputId": "d7f2c04b-23a9-4e18-c61e-aaf8f7a12d9a"
      },
      "outputs": [
        {
          "name": "stdout",
          "output_type": "stream",
          "text": [
            "r2: 0.78233\n",
            "mse: 0.23058\n"
          ]
        }
      ],
      "source": [
        "mse, r2 = get_metrics(y_test, y_pred)\n",
        "\n",
        "print(f'r2: {r2:.5}')\n",
        "print(f'mse: {mse:.5}')"
      ]
    },
    {
      "cell_type": "code",
      "execution_count": null,
      "metadata": {
        "colab": {
          "base_uri": "https://localhost:8080/"
        },
        "id": "nX3vrhGXewaV",
        "outputId": "3294cb39-3e98-4779-e5a6-995828932b64"
      },
      "outputs": [
        {
          "name": "stdout",
          "output_type": "stream",
          "text": [
            "Residuals:\n",
            "    Min      1Q  Median    3Q    Max\n",
            "-2.0387 -0.0988  0.0677 0.243 0.8706\n",
            "\n",
            "\n",
            "Coefficients:\n",
            "                  Estimate  Std. Error  t value   p value\n",
            "_intercept       -0.000664    0.026569  -0.0250  0.980088\n",
            "region_southeast -0.046684    0.032496  -1.4366  0.151773\n",
            "region_northwest -0.014429    0.031815  -0.4535  0.650455\n",
            "smoker_yes        0.793079    0.027135  29.2277  0.000000\n",
            "children          0.047777    0.026468   1.8051  0.071972\n",
            "sex_male         -0.006242    0.026606  -0.2346  0.814670\n",
            "bmi               0.169628    0.026435   6.4167  0.000000\n",
            "age               0.294042    0.025581  11.4946  0.000000\n",
            "region_southwest -0.033918    0.031155  -1.0887  0.277077\n",
            "---\n",
            "R-squared:  0.78233,    Adjusted R-squared:  0.77695\n",
            "F-statistic: 145.56 on 8 features\n"
          ]
        }
      ],
      "source": [
        "model.intercept_ = model.intercept_[0]\n",
        "model.coef_ = model.coef_.reshape(-1)\n",
        "\n",
        "y_test = y_test.reshape(-1)\n",
        "\n",
        "model_summary(model, X_test, y_test, list(set(df.columns) - {'charges'}))"
      ]
    },
    {
      "cell_type": "markdown",
      "metadata": {},
      "source": [
        "<div align=\"center\">\n",
        "    Tabla 5. Tabla de coeficientes del primer modelo\n",
        "</div>"
      ]
    },
    {
      "cell_type": "code",
      "execution_count": null,
      "metadata": {
        "colab": {
          "base_uri": "https://localhost:8080/",
          "height": 276
        },
        "id": "xZzHnVXLezqz",
        "outputId": "17b23b99-d8e0-449a-a0c4-c9bfbe1b2b3d"
      },
      "outputs": [
        {
          "data": {
            "image/png": "[encoded data removed]",
            "text/plain": [
              "<Figure size 432x288 with 1 Axes>"
            ]
          },
          "metadata": {},
          "output_type": "display_data"
        }
      ],
      "source": [
        "plot(y_test, y_pred)"
      ]
    },
    {
      "cell_type": "markdown",
      "metadata": {},
      "source": [
        "<div align=\"center\">\n",
        "    Gráfica 4. Gráfica del primer modelo\n",
        "</div>"
      ]
    },
    {
      "cell_type": "markdown",
      "metadata": {
        "id": "7EG3EMAjCBe_"
      },
      "source": [
        "#### 4.2.2. Segundo modelo"
      ]
    },
    {
      "cell_type": "markdown",
      "metadata": {},
      "source": [
        "En esta iteración se agregan datos al dataset mediante la utilidad *one-hot encoding*.\n",
        "\n",
        "* ```age2```. la edad se eleva al cuadrado. ($age^2$)\n",
        "* ```sobrepeso```. todos los indices de masa corporal mayores o iguales a 30. ($bmi >= 30$)\n",
        "* ```sobrepeso*fumador```. verifica si el registro contiene sobrepeso y habito de fumador."
      ]
    },
    {
      "cell_type": "code",
      "execution_count": null,
      "metadata": {
        "colab": {
          "base_uri": "https://localhost:8080/"
        },
        "id": "8KtOkP10fux1",
        "outputId": "786a979e-424c-4bca-fb8f-2eeb53fda477"
      },
      "outputs": [
        {
          "data": {
            "text/plain": [
              "(333, 1)"
            ]
          },
          "execution_count": 43,
          "metadata": {},
          "output_type": "execute_result"
        }
      ],
      "source": [
        "df_second = df.copy()\n",
        "\n",
        "df_second['age2'] = df_second.age ** 2\n",
        "df_second['sobrepeso'] = (df_second.bmi >= 30).astype(int)\n",
        "df_second['sobrepeso*fumador'] = df_second.sobrepeso * df_second.smoker_yes\n",
        "\n",
        "model, y_pred, X_test, y_test = model(\n",
        "    df_second,\n",
        "    list(set(df_second.columns) - {'charges'}),\n",
        "    ['charges']\n",
        ")\n",
        "\n",
        "y_pred.shape"
      ]
    },
    {
      "cell_type": "code",
      "execution_count": null,
      "metadata": {
        "colab": {
          "base_uri": "https://localhost:8080/"
        },
        "id": "kya3hPI0fux2",
        "outputId": "60cc7c15-7ac1-4b1b-eeee-793a447fc72e"
      },
      "outputs": [
        {
          "name": "stdout",
          "output_type": "stream",
          "text": [
            "r2: 0.8737\n",
            "mse: 0.11827\n"
          ]
        }
      ],
      "source": [
        "mse, r2 = get_metrics(y_test, y_pred)\n",
        "\n",
        "print(f'r2: {r2:.5}')\n",
        "print(f'mse: {mse:.5}')"
      ]
    },
    {
      "cell_type": "code",
      "execution_count": null,
      "metadata": {
        "colab": {
          "base_uri": "https://localhost:8080/"
        },
        "id": "IsPn4m8rfux3",
        "outputId": "8b7099b2-55ed-413d-a23d-ce9ccc803f39"
      },
      "outputs": [
        {
          "name": "stdout",
          "output_type": "stream",
          "text": [
            "Residuals:\n",
            "    Min     1Q  Median     3Q    Max\n",
            "-1.9632 0.0674  0.1162 0.1478 1.4396\n",
            "\n",
            "\n",
            "Coefficients:\n",
            "                   Estimate  Std. Error  t value   p value\n",
            "_intercept         0.007279    0.019022   0.3827  0.702211\n",
            "region_southeast  -0.037874    0.022525  -1.6814  0.093625\n",
            "age2               0.329429    0.097990   3.3619  0.000865\n",
            "region_northwest  -0.017595    0.021076  -0.8349  0.404399\n",
            "smoker_yes         0.457807    0.024814  18.4497  0.000000\n",
            "children           0.065600    0.019174   3.4213  0.000701\n",
            "sex_male          -0.016995    0.019074  -0.8910  0.373560\n",
            "sobrepeso         -0.035114    0.029741  -1.1807  0.238578\n",
            "bmi                0.067148    0.030762   2.1828  0.029752\n",
            "sobrepeso*fumador  0.493533    0.027323  18.0632  0.000000\n",
            "age               -0.021743    0.097048  -0.2240  0.822864\n",
            "region_southwest  -0.042408    0.023132  -1.8333  0.067654\n",
            "---\n",
            "R-squared:  0.87370,    Adjusted R-squared:  0.86937\n",
            "F-statistic: 201.87 on 11 features\n"
          ]
        }
      ],
      "source": [
        "model.intercept_ = model.intercept_[0]\n",
        "model.coef_ = model.coef_.reshape(-1)\n",
        "\n",
        "y_test = y_test.reshape(-1)\n",
        "\n",
        "model_summary(model, X_test, y_test, list(set(df_second.columns) - {'charges'}))"
      ]
    },
    {
      "cell_type": "markdown",
      "metadata": {},
      "source": [
        "<div align=\"center\">\n",
        "    Tabla 6. Tabla de coeficientes del segundo modelo\n",
        "</div>"
      ]
    },
    {
      "cell_type": "code",
      "execution_count": null,
      "metadata": {
        "colab": {
          "base_uri": "https://localhost:8080/",
          "height": 276
        },
        "id": "LmLFXuHUfux3",
        "outputId": "440437aa-d8e9-4314-c24a-08acf555db4c"
      },
      "outputs": [
        {
          "data": {
            "image/png": "[encoded data removed]",
            "text/plain": [
              "<Figure size 432x288 with 1 Axes>"
            ]
          },
          "metadata": {},
          "output_type": "display_data"
        }
      ],
      "source": [
        "plot(y_test, y_pred)"
      ]
    },
    {
      "cell_type": "markdown",
      "metadata": {},
      "source": [
        "<div align=\"center\">\n",
        "    Gráfica 5. Gráfica del segundo informe\n",
        "</div>"
      ]
    },
    {
      "cell_type": "markdown",
      "metadata": {
        "id": "egJZlYIhCEfB"
      },
      "source": [
        "#### 4.2.3. Tercer modelo"
      ]
    },
    {
      "cell_type": "markdown",
      "metadata": {},
      "source": [
        "Este modelo solo va a trabajar los siguientes datos en el dataset:\n",
        "\n",
        "* ```sobrepeso*fumador```\n",
        "* ```smoker_yes```\n",
        "* ```age2```\n",
        "* ```children```\n",
        "\n",
        "Estas variables categóricas se eligieron mediante la clasificación según el **principio de Parsimonia** en la tabla de coeficientes del modelo anterior.\n",
        "\n",
        "Este modelo no va a trabajar con la *interceptor*."
      ]
    },
    {
      "cell_type": "code",
      "execution_count": null,
      "metadata": {
        "colab": {
          "base_uri": "https://localhost:8080/"
        },
        "id": "juBfP5kBhl6C",
        "outputId": "ca2295b1-14e3-4c51-817c-1e27e2ff7987"
      },
      "outputs": [
        {
          "data": {
            "text/plain": [
              "(333, 1)"
            ]
          },
          "execution_count": 52,
          "metadata": {},
          "output_type": "execute_result"
        }
      ],
      "source": [
        "model, y_pred, X_test, y_test = model(\n",
        "    df_second,\n",
        "    ['sobrepeso*fumador', 'smoker_yes', 'age2', 'children'],\n",
        "    ['charges'],\n",
        "    fit_intercept=False\n",
        ")\n",
        "\n",
        "y_pred.shape"
      ]
    },
    {
      "cell_type": "code",
      "execution_count": null,
      "metadata": {
        "colab": {
          "base_uri": "https://localhost:8080/"
        },
        "id": "rjw8oaFOh6Mz",
        "outputId": "03dd9a0c-8721-42ca-a056-ddfeec12751f"
      },
      "outputs": [
        {
          "name": "stdout",
          "output_type": "stream",
          "text": [
            "r2: 0.85754\n",
            "mse: 0.14891\n"
          ]
        }
      ],
      "source": [
        "mse, r2 = get_metrics(y_test, y_pred)\n",
        "\n",
        "print(f'r2: {r2:.5}')\n",
        "print(f'mse: {mse:.5}')"
      ]
    },
    {
      "cell_type": "code",
      "execution_count": null,
      "metadata": {
        "colab": {
          "base_uri": "https://localhost:8080/"
        },
        "id": "V1K7RLvjiDSh",
        "outputId": "cbcf2b7b-6d7a-4196-8e92-77d5e9e5d061"
      },
      "outputs": [
        {
          "name": "stdout",
          "output_type": "stream",
          "text": [
            "Residuals:\n",
            "    Min     1Q  Median     3Q    Max\n",
            "-2.0307 0.0724  0.1133 0.1364 0.2801\n",
            "\n",
            "\n",
            "Coefficients:\n",
            "                   Estimate  Std. Error  t value  p value\n",
            "_intercept         0.000000    0.021223   0.0000  1.00000\n",
            "sobrepeso*fumador  0.497016    0.025726  19.3198  0.00000\n",
            "smoker_yes         0.452469    0.024199  18.6976  0.00000\n",
            "age2               0.315954    0.020826  15.1711  0.00000\n",
            "children           0.062012    0.021311   2.9099  0.00386\n",
            "---\n",
            "R-squared:  0.85754,    Adjusted R-squared:  0.85580\n",
            "F-statistic: 493.59 on 4 features\n"
          ]
        }
      ],
      "source": [
        "model.coef_ = model.coef_.reshape(-1)\n",
        "\n",
        "y_test = y_test.reshape(-1)\n",
        "\n",
        "model_summary(model, X_test, y_test, ['sobrepeso*fumador', 'smoker_yes', 'age2', 'children'])"
      ]
    },
    {
      "cell_type": "markdown",
      "metadata": {},
      "source": [
        "<div align=\"center\">\n",
        "    Tabla 7. Tabla de coeficientes del tercer modelo\n",
        "</div>"
      ]
    },
    {
      "cell_type": "code",
      "execution_count": null,
      "metadata": {
        "colab": {
          "base_uri": "https://localhost:8080/",
          "height": 276
        },
        "id": "PF_cvvVIiX7V",
        "outputId": "96baf580-ade4-40ef-fd01-cbeae8ee461e"
      },
      "outputs": [
        {
          "data": {
            "image/png": "[encoded data removed]",
            "text/plain": [
              "<Figure size 432x288 with 1 Axes>"
            ]
          },
          "metadata": {},
          "output_type": "display_data"
        }
      ],
      "source": [
        "plot(y_test, y_pred)"
      ]
    },
    {
      "cell_type": "markdown",
      "metadata": {},
      "source": [
        "<div align=\"center\">\n",
        "    Gráfica 6. Gráfica del tercer modelo\n",
        "</div>"
      ]
    },
    {
      "cell_type": "markdown",
      "metadata": {
        "id": "hCgsxfqN1tAG"
      },
      "source": [
        "## 5. Conclusiones\n",
        "\n",
        "La **regresión lineal múltiple** nos permite clasificar, correlacionar y predecir datos o variables categóricas; logrando resultados confiables y cercanos a las necesidades del fenómenos.\n",
        "\n",
        "Como se pudo evidenciar en los casos de usos, con el dataset empleado, se tuvo un $85%$ de fiabilidad del modelo, dándonos una solución aproximada a las necesitadas en estos.\n",
        "\n",
        "Al correlacionar el modelo,nos permite identificar las variables independientes claves, al momento de tratar de predecir el precio del seguro de salud; sin embargo, esto no es suficiente para la clasificación de las variables realmente requeridas para el modelo, lo que llevo a optimizar el modelo mediante la función de mínimo error cuadrático, el cual aplicamos dos veces al modelo que se entreno inicialmente; para esto, guiándonos por medio de la métrica coeficiente de determinación dada por el modelo en cada iteración, dándonos los siguientes datos: $78.2%$ de fiabilidad en el modelo inicial y, $87,4%$ y $85,8%$ en las siguientes iteraciones.\n",
        "\n",
        "Aplicando el principio de parsimonia y basándose en los detalles estadísticos de cada iteración del modelo, se fueron clasificando las variables categóricas del dataset, además de las agregadas (usando la utilidad *One Hot Encoding* para esto), concluyendo para el modelo las variables ```sobrepeso*fumador```, ```smoker_yes```, ```age2```, ```children```."
      ]
    },
    {
      "cell_type": "markdown",
      "metadata": {
        "id": "d9NlL6X51xBH"
      },
      "source": [
        "## 6. Referencias\n",
        "\n",
        "- [Regresión lineal múltiple](https://www.cienciadedatos.net/documentos/25_regresion_lineal_multiple.html)\n",
        "- [Medical Cost Personal Datasets](https://www.kaggle.com/datasets/mirichoi0218/insurance?resource=download)\n",
        "- [Curso de Regresión Lineal con Python y scikit-learn](https://platzi.com/cursos/regresion-lineal/)"
      ]
    }
  ],
  "metadata": {
    "colab": {
      "provenance": [],
      "toc_visible": true
    },
    "kernelspec": {
      "display_name": "Python 3.10.8 64-bit",
      "language": "python",
      "name": "python3"
    },
    "language_info": {
      "name": "python",
      "version": "3.10.8"
    },
    "vscode": {
      "interpreter": {
        "hash": "7a2c39115aa69f66c688f193a210da39d2ce872a4624490c04ee2791960b9cfb"
      }
    }
  },
  "nbformat": 4,
  "nbformat_minor": 0
}
