{
 "cells": [
  {
   "cell_type": "markdown",
   "metadata": {},
   "source": [
    "# Raíces de funciones. Ceros de Funciones"
   ]
  },
  {
   "cell_type": "markdown",
   "metadata": {},
   "source": []
  },
  {
   "cell_type": "code",
   "execution_count": 1,
   "metadata": {},
   "outputs": [],
   "source": [
    "%matplotlib inline\n",
    "\n",
    "from math import ceil, log\n",
    "import matplotlib.pyplot as plt\n",
    "from beautifultable import BeautifulTable\n",
    "import scipy.optimize as opt\n",
    "import numpy as np\n",
    "import pandas as pd"
   ]
  },
  {
   "cell_type": "markdown",
   "metadata": {},
   "source": [
    "## Método de Bisección"
   ]
  },
  {
   "cell_type": "code",
   "execution_count": 2,
   "metadata": {},
   "outputs": [],
   "source": [
    "def bisection(func, x_a, x_b, error, table):\n",
    "    if func(x_a) * func(x_b) >= 0:\n",
    "        raise ValueError(\"The bisection method cannot be applied\")\n",
    "\n",
    "    # The bisection method\n",
    "    while x_b - x_a > error:\n",
    "        # calculate middle point\n",
    "        x_m = (x_a + x_b) / 2\n",
    "\n",
    "        table.append([x_a, x_b, x_m, func(x_a), func(x_b), func(x_m), x_b - x_a])\n",
    "\n",
    "        if func(x_m) == 0:\n",
    "            return x_m\n",
    "\n",
    "        if func(x_a) * func(x_m) < 0:\n",
    "            x_b = x_m\n",
    "        else:\n",
    "            x_a = x_m\n",
    "\n",
    "    table.append([x_a, x_b, (x_a + x_b) / 2, func(x_a), func(x_b), func(x_m), x_b - x_a])\n",
    "\n",
    "    return (x_a + x_b) / 2"
   ]
  },
  {
   "cell_type": "markdown",
   "metadata": {},
   "source": [
    "$$f(x) = x^3 + 4 x^2 - 10$$"
   ]
  },
  {
   "cell_type": "code",
   "execution_count": 4,
   "metadata": {},
   "outputs": [],
   "source": [
    "func = lambda x: x ** 3 + 4 * x ** 2 - 10"
   ]
  },
  {
   "cell_type": "markdown",
   "metadata": {},
   "source": [
    "### Tiempos"
   ]
  },
  {
   "cell_type": "markdown",
   "metadata": {},
   "source": []
  },
  {
   "cell_type": "code",
   "execution_count": 6,
   "metadata": {},
   "outputs": [
    {
     "data": {
      "text/plain": [
       "1.36474609375"
      ]
     },
     "execution_count": 6,
     "metadata": {},
     "output_type": "execute_result"
    }
   ],
   "source": [
    "bisection(func, 1, 2, 0.001)  # own function"
   ]
  },
  {
   "cell_type": "code",
   "execution_count": 7,
   "metadata": {},
   "outputs": [
    {
     "data": {
      "text/plain": [
       "1.3642578125"
      ]
     },
     "execution_count": 7,
     "metadata": {},
     "output_type": "execute_result"
    }
   ],
   "source": [
    "opt.bisect(func, 1, 2, xtol=0.001)  # scipy function"
   ]
  },
  {
   "cell_type": "code",
   "execution_count": 9,
   "metadata": {},
   "outputs": [
    {
     "data": {
      "text/plain": [
       "'Raíz: 1.36474609375'"
      ]
     },
     "execution_count": 9,
     "metadata": {},
     "output_type": "execute_result"
    }
   ],
   "source": [
    "f'Raíz: {bisection(func, 1, 2, 0.001, table:=[])}'"
   ]
  },
  {
   "cell_type": "code",
   "execution_count": 6,
   "metadata": {},
   "outputs": [],
   "source": [
    "table = np.array(table)"
   ]
  },
  {
   "cell_type": "code",
   "execution_count": 7,
   "metadata": {},
   "outputs": [
    {
     "data": {
      "text/html": [
       "<div>\n",
       "<style scoped>\n",
       "    .dataframe tbody tr th:only-of-type {\n",
       "        vertical-align: middle;\n",
       "    }\n",
       "\n",
       "    .dataframe tbody tr th {\n",
       "        vertical-align: top;\n",
       "    }\n",
       "\n",
       "    .dataframe thead th {\n",
       "        text-align: right;\n",
       "    }\n",
       "</style>\n",
       "<table border=\"1\" class=\"dataframe\">\n",
       "  <thead>\n",
       "    <tr style=\"text-align: right;\">\n",
       "      <th></th>\n",
       "      <th>x_a</th>\n",
       "      <th>x_b</th>\n",
       "      <th>x_m</th>\n",
       "      <th>f(x_a)</th>\n",
       "      <th>f(x_b)</th>\n",
       "      <th>f(x_m)</th>\n",
       "      <th>tramo</th>\n",
       "    </tr>\n",
       "  </thead>\n",
       "  <tbody>\n",
       "    <tr>\n",
       "      <th>0</th>\n",
       "      <td>1.000000</td>\n",
       "      <td>2.000000</td>\n",
       "      <td>1.500000</td>\n",
       "      <td>-5.000000</td>\n",
       "      <td>14.000000</td>\n",
       "      <td>2.375000</td>\n",
       "      <td>1.000000</td>\n",
       "    </tr>\n",
       "    <tr>\n",
       "      <th>1</th>\n",
       "      <td>1.000000</td>\n",
       "      <td>1.500000</td>\n",
       "      <td>1.250000</td>\n",
       "      <td>-5.000000</td>\n",
       "      <td>2.375000</td>\n",
       "      <td>-1.796875</td>\n",
       "      <td>0.500000</td>\n",
       "    </tr>\n",
       "    <tr>\n",
       "      <th>2</th>\n",
       "      <td>1.250000</td>\n",
       "      <td>1.500000</td>\n",
       "      <td>1.375000</td>\n",
       "      <td>-1.796875</td>\n",
       "      <td>2.375000</td>\n",
       "      <td>0.162109</td>\n",
       "      <td>0.250000</td>\n",
       "    </tr>\n",
       "    <tr>\n",
       "      <th>3</th>\n",
       "      <td>1.250000</td>\n",
       "      <td>1.375000</td>\n",
       "      <td>1.312500</td>\n",
       "      <td>-1.796875</td>\n",
       "      <td>0.162109</td>\n",
       "      <td>-0.848389</td>\n",
       "      <td>0.125000</td>\n",
       "    </tr>\n",
       "    <tr>\n",
       "      <th>4</th>\n",
       "      <td>1.312500</td>\n",
       "      <td>1.375000</td>\n",
       "      <td>1.343750</td>\n",
       "      <td>-0.848389</td>\n",
       "      <td>0.162109</td>\n",
       "      <td>-0.350983</td>\n",
       "      <td>0.062500</td>\n",
       "    </tr>\n",
       "    <tr>\n",
       "      <th>5</th>\n",
       "      <td>1.343750</td>\n",
       "      <td>1.375000</td>\n",
       "      <td>1.359375</td>\n",
       "      <td>-0.350983</td>\n",
       "      <td>0.162109</td>\n",
       "      <td>-0.096409</td>\n",
       "      <td>0.031250</td>\n",
       "    </tr>\n",
       "    <tr>\n",
       "      <th>6</th>\n",
       "      <td>1.359375</td>\n",
       "      <td>1.375000</td>\n",
       "      <td>1.367188</td>\n",
       "      <td>-0.096409</td>\n",
       "      <td>0.162109</td>\n",
       "      <td>0.032356</td>\n",
       "      <td>0.015625</td>\n",
       "    </tr>\n",
       "    <tr>\n",
       "      <th>7</th>\n",
       "      <td>1.359375</td>\n",
       "      <td>1.367188</td>\n",
       "      <td>1.363281</td>\n",
       "      <td>-0.096409</td>\n",
       "      <td>0.032356</td>\n",
       "      <td>-0.032150</td>\n",
       "      <td>0.007812</td>\n",
       "    </tr>\n",
       "    <tr>\n",
       "      <th>8</th>\n",
       "      <td>1.363281</td>\n",
       "      <td>1.367188</td>\n",
       "      <td>1.365234</td>\n",
       "      <td>-0.032150</td>\n",
       "      <td>0.032356</td>\n",
       "      <td>0.000072</td>\n",
       "      <td>0.003906</td>\n",
       "    </tr>\n",
       "    <tr>\n",
       "      <th>9</th>\n",
       "      <td>1.363281</td>\n",
       "      <td>1.365234</td>\n",
       "      <td>1.364258</td>\n",
       "      <td>-0.032150</td>\n",
       "      <td>0.000072</td>\n",
       "      <td>-0.016047</td>\n",
       "      <td>0.001953</td>\n",
       "    </tr>\n",
       "    <tr>\n",
       "      <th>10</th>\n",
       "      <td>1.364258</td>\n",
       "      <td>1.365234</td>\n",
       "      <td>1.364746</td>\n",
       "      <td>-0.016047</td>\n",
       "      <td>0.000072</td>\n",
       "      <td>-0.016047</td>\n",
       "      <td>0.000977</td>\n",
       "    </tr>\n",
       "  </tbody>\n",
       "</table>\n",
       "</div>"
      ],
      "text/plain": [
       "         x_a       x_b       x_m    f(x_a)     f(x_b)    f(x_m)     tramo\n",
       "0   1.000000  2.000000  1.500000 -5.000000  14.000000  2.375000  1.000000\n",
       "1   1.000000  1.500000  1.250000 -5.000000   2.375000 -1.796875  0.500000\n",
       "2   1.250000  1.500000  1.375000 -1.796875   2.375000  0.162109  0.250000\n",
       "3   1.250000  1.375000  1.312500 -1.796875   0.162109 -0.848389  0.125000\n",
       "4   1.312500  1.375000  1.343750 -0.848389   0.162109 -0.350983  0.062500\n",
       "5   1.343750  1.375000  1.359375 -0.350983   0.162109 -0.096409  0.031250\n",
       "6   1.359375  1.375000  1.367188 -0.096409   0.162109  0.032356  0.015625\n",
       "7   1.359375  1.367188  1.363281 -0.096409   0.032356 -0.032150  0.007812\n",
       "8   1.363281  1.367188  1.365234 -0.032150   0.032356  0.000072  0.003906\n",
       "9   1.363281  1.365234  1.364258 -0.032150   0.000072 -0.016047  0.001953\n",
       "10  1.364258  1.365234  1.364746 -0.016047   0.000072 -0.016047  0.000977"
      ]
     },
     "execution_count": 7,
     "metadata": {},
     "output_type": "execute_result"
    }
   ],
   "source": [
    "pd.DataFrame(table, columns=['x_a', 'x_b', 'x_m', 'f(x_a)', 'f(x_b)', 'f(x_m)', 'tramo'])"
   ]
  },
  {
   "cell_type": "code",
   "execution_count": 8,
   "metadata": {},
   "outputs": [
    {
     "data": {
      "image/png": "[encoded data removed]",
      "text/plain": [
       "<Figure size 640x480 with 1 Axes>"
      ]
     },
     "metadata": {},
     "output_type": "display_data"
    }
   ],
   "source": [
    "xi = table[:, 2]\n",
    "yi = table[:, 5]\n",
    "\n",
    "orden = np.argsort(xi)\n",
    "xi = xi[orden]\n",
    "yi = yi[orden]\n",
    "\n",
    "\n",
    "plt.plot(xi, yi)\n",
    "plt.plot(xi,yi,'o')\n",
    "plt.axhline(0, color=\"black\")\n",
    "\n",
    "plt.xlabel('x')\n",
    "plt.ylabel('y')\n",
    "plt.title('Bisección en f(x)')\n",
    "plt.grid()\n",
    "plt.show()"
   ]
  }
 ],
 "metadata": {
  "kernelspec": {
   "display_name": "Python 3.10.7 ('venv': venv)",
   "language": "python",
   "name": "python3"
  },
  "language_info": {
   "codemirror_mode": {
    "name": "ipython",
    "version": 3
   },
   "file_extension": ".py",
   "mimetype": "text/x-python",
   "name": "python",
   "nbconvert_exporter": "python",
   "pygments_lexer": "ipython3",
   "version": "3.10.7"
  },
  "orig_nbformat": 4,
  "vscode": {
   "interpreter": {
    "hash": "1dc376ffec5caecdc0a86d966f5e97e45537af940d2aef553cd87bae54f46a19"
   }
  }
 },
 "nbformat": 4,
 "nbformat_minor": 2
}
