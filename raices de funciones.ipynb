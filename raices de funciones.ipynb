{
 "cells": [
  {
   "cell_type": "markdown",
   "metadata": {},
   "source": [
    "# Raíces de funciones. Ceros de Funciones"
   ]
  },
  {
   "cell_type": "markdown",
   "metadata": {},
   "source": []
  },
  {
   "cell_type": "code",
   "execution_count": 3,
   "metadata": {},
   "outputs": [],
   "source": [
    "from math import ceil, log"
   ]
  },
  {
   "cell_type": "markdown",
   "metadata": {},
   "source": [
    "## Método de Bisección"
   ]
  },
  {
   "cell_type": "code",
   "execution_count": 8,
   "metadata": {},
   "outputs": [],
   "source": [
    "def bisection(func, x_a, x_b, error):\n",
    "    if func(x_a) * func(x_b) >= 0:\n",
    "        raise ValueError(\"The bisection method cannot be applied\")\n",
    "\n",
    "    # The bisection method\n",
    "    while x_b - x_a > error:\n",
    "        # calculate middle point\n",
    "        x_m = (x_a + x_b) / 2\n",
    "\n",
    "        if func(x_m) == 0:\n",
    "            return x_m\n",
    "\n",
    "        if func(x_a) * func(x_m) < 0:\n",
    "            x_b = x_m\n",
    "        else:\n",
    "            x_a = x_m\n",
    "\n",
    "    return (x_a + x_b) / 2"
   ]
  },
  {
   "cell_type": "markdown",
   "metadata": {},
   "source": [
    "$$f(x) = x^3 + 4 x^2 - 10$$"
   ]
  },
  {
   "cell_type": "code",
   "execution_count": 7,
   "metadata": {},
   "outputs": [],
   "source": [
    "func = lambda x: x ** 3 + 4 * x ** 2 - 10"
   ]
  },
  {
   "cell_type": "markdown",
   "metadata": {},
   "source": []
  }
 ],
 "metadata": {
  "kernelspec": {
   "display_name": "Python 3.10.7 64-bit",
   "language": "python",
   "name": "python3"
  },
  "language_info": {
   "codemirror_mode": {
    "name": "ipython",
    "version": 3
   },
   "file_extension": ".py",
   "mimetype": "text/x-python",
   "name": "python",
   "nbconvert_exporter": "python",
   "pygments_lexer": "ipython3",
   "version": "3.10.7"
  },
  "orig_nbformat": 4,
  "vscode": {
   "interpreter": {
    "hash": "7a2c39115aa69f66c688f193a210da39d2ce872a4624490c04ee2791960b9cfb"
   }
  }
 },
 "nbformat": 4,
 "nbformat_minor": 2
}
