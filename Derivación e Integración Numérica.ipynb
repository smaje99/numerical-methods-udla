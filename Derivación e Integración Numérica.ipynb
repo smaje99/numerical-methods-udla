{
  "nbformat": 4,
  "nbformat_minor": 0,
  "metadata": {
    "colab": {
      "provenance": [],
      "collapsed_sections": []
    },
    "kernelspec": {
      "name": "python3",
      "display_name": "Python 3"
    },
    "language_info": {
      "name": "python"
    }
  },
  "cells": [
    {
      "cell_type": "markdown",
      "source": [
        "<div align=\"center\">\n",
        "  <h1>Derivación e Integración Numérica</h1>\n",
        "  <p>\n",
        "    Autores:<br />\n",
        "    Sergio Andrés Majé Franco<br />\n",
        "    Marleny Rojas Gómez\n",
        "  </p> \n",
        "  <p>\n",
        "    Docente:<br />\n",
        "    Dr. Jesús Emilio Pinto Lopera \n",
        "  </p>\n",
        "  <p>\n",
        "    Universidad de la Amazonia<br />\n",
        "    Facultad de Ingeniería<br />\n",
        "    Programa Ingeniería de Sistemas<br />\n",
        "    Florencia - Caquetá<br />\n",
        "    2022\n",
        "  </p>\n",
        "</div>"
      ],
      "metadata": {
        "id": "QFPS621Zhpzl"
      }
    },
    {
      "cell_type": "markdown",
      "source": [
        "## Tabla de Contenido\n",
        "\n",
        "1. Introducción\n",
        "2. Desarrollo Metodológico\n",
        "    1. Desarrollo Teórico\n",
        "    2. Desarrollo Computacional\n",
        "3. Resultados\n",
        "4. Conclusiones\n",
        "5. Referencias"
      ],
      "metadata": {
        "id": "-0NVvTzoh2pd"
      }
    },
    {
      "cell_type": "markdown",
      "source": [
        "## Tabla de Formulas"
      ],
      "metadata": {
        "id": "x2rerzFlh8uM"
      }
    },
    {
      "cell_type": "markdown",
      "source": [
        "## Tabla de Tablas"
      ],
      "metadata": {
        "id": "--etRs6oiCaY"
      }
    },
    {
      "cell_type": "markdown",
      "source": [
        "## Tabla de Gráficos"
      ],
      "metadata": {
        "id": "bDEvs_dmiHN9"
      }
    },
    {
      "cell_type": "markdown",
      "source": [
        "## 1. Introducción"
      ],
      "metadata": {
        "id": "2NMAcwWiiL2V"
      }
    },
    {
      "cell_type": "markdown",
      "source": [
        "## 2. Desarrollo Metodológico"
      ],
      "metadata": {
        "id": "xVTYcQ0iiTha"
      }
    },
    {
      "cell_type": "markdown",
      "source": [
        "### 2.1. Desarrollo Teoríco"
      ],
      "metadata": {
        "id": "Q8t-wMo_iYeZ"
      }
    },
    {
      "cell_type": "markdown",
      "source": [
        "#### 2.1.1. Derivación"
      ],
      "metadata": {
        "id": "OGn2VfLUi8O-"
      }
    },
    {
      "cell_type": "markdown",
      "source": [
        "#### 2.1.2. Integración"
      ],
      "metadata": {
        "id": "nduUU11Sjyvo"
      }
    },
    {
      "cell_type": "markdown",
      "source": [
        "### 2.2. Desarrollo Computacional"
      ],
      "metadata": {
        "id": "aGnpKKrWikL0"
      }
    },
    {
      "cell_type": "markdown",
      "source": [
        "#### 2.2.1. Derivación"
      ],
      "metadata": {
        "id": "G15b4dInkJrM"
      }
    },
    {
      "cell_type": "markdown",
      "source": [
        "#### 2.2.2 Integración"
      ],
      "metadata": {
        "id": "itzdgSOAkSPU"
      }
    },
    {
      "cell_type": "markdown",
      "source": [
        "## 3. Resultados"
      ],
      "metadata": {
        "id": "3e55JXrLinZf"
      }
    },
    {
      "cell_type": "markdown",
      "source": [
        "## 4. Conclusiones"
      ],
      "metadata": {
        "id": "lNYZn407irEc"
      }
    },
    {
      "cell_type": "markdown",
      "source": [
        "## 5. Referencias"
      ],
      "metadata": {
        "id": "Ggip3qvriwBl"
      }
    }
  ]
}