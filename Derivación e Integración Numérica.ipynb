{
  "cells": [
    {
      "cell_type": "markdown",
      "metadata": {
        "id": "QFPS621Zhpzl"
      },
      "source": [
        "<div align=\"center\">\n",
        "  <h1>Derivación e Integración Numérica</h1>\n",
        "  <p>\n",
        "    Autores:<br />\n",
        "    Sergio Andrés Majé Franco<br />\n",
        "    Marleny Rojas Gómez\n",
        "  </p> \n",
        "  <p>\n",
        "    Docente:<br />\n",
        "    Dr. Jesús Emilio Pinto Lopera \n",
        "  </p>\n",
        "  <p>\n",
        "    Universidad de la Amazonia<br />\n",
        "    Facultad de Ingeniería<br />\n",
        "    Programa Ingeniería de Sistemas<br />\n",
        "    Florencia - Caquetá<br />\n",
        "    2022\n",
        "  </p>\n",
        "</div>"
      ]
    },
    {
      "cell_type": "markdown",
      "metadata": {
        "id": "-0NVvTzoh2pd"
      },
      "source": [
        "## Tabla de Contenido\n",
        "\n",
        "1. Introducción\n",
        "2. Desarrollo Metodológico\n",
        "    1. Desarrollo Teórico\n",
        "      1. Derivación Numérica\n",
        "      2. Integración con el método de Simpson 3/8\n",
        "    2. Desarrollo Computacional\n",
        "      1. Derivación\n",
        "      2. Integración\n",
        "3. Problemas\n",
        "  1. Problema para la derivación\n",
        "  2. Problema para la integral\n",
        "4. Resultados\n",
        "  1. Derivación\n",
        "  2. Integración\n",
        "5. Conclusiones\n",
        "6. Referencias"
      ]
    },
    {
      "cell_type": "markdown",
      "metadata": {
        "id": "x2rerzFlh8uM"
      },
      "source": [
        "## Tabla de Formulas\n",
        "\n",
        "1. Formula 1. Pendiente\n",
        "2. Formula 2. Derivación numérica\n",
        "3. Formula 3. Derivación numérica hacia adelante\n",
        "4. Formula 4. Derivación numérica hacia atras \n",
        "5. Formula 5. Derivación numérica central\n",
        "6. Formula 6. Regla de Simpson 3/8\n",
        "7. Formula 7. Reemplazar por h\n",
        "8. Formula 8. Integración - Hallar área bajo la curva"
      ]
    },
    {
      "cell_type": "markdown",
      "metadata": {
        "id": "--etRs6oiCaY"
      },
      "source": [
        "## Tabla de Tablas\n",
        "\n",
        "1. Tabla 1. Derivación - Comparación\n",
        "2. Tabla 2. Integración - Resultados primera integral \n",
        "3. Tabla 3. Integración - Resultados segunda integral "
      ]
    },
    {
      "cell_type": "markdown",
      "metadata": {
        "id": "bDEvs_dmiHN9"
      },
      "source": [
        "## Tabla de Gráficos\n",
        "1. Figura 1. 3 formas de posibles arreglos\n",
        "2. Figura 2. Caso general\n",
        "3. Grafica 1. Derivación - Comparación funciones derivadas\n",
        "4. Grafica 2. Derivación - Funcion original\n",
        "5. Grafica 3. Derivación - Dos puntos\n",
        "6. Grafica 4. Integración - Área bajo la curva\n",
        "7. Grafica 5. Integración - Integral 1 - Área: Simpson 3/8\n",
        "8. Grafica 6. Integración Resultados primera integral\n",
        "9. Grafica 7. Integración - Integral 2 - Área: Simpson 3/8\n",
        "10. Grafica 8. Integración Resultados segunda integral\n"
      ]
    },
    {
      "cell_type": "markdown",
      "metadata": {
        "id": "2NMAcwWiiL2V"
      },
      "source": [
        "## 1. Introducción\n",
        "\n",
        "La derivación e integración numérica nos permite obtener variedad de herramientas fundamentales del cálculo, ayudándonos a modelar cualquier problema del mundo real y así obtener enfoques importantes al momento de encontrar una respectiva solución. Permite destacar diferentes alternativas, ventajas y preguntarnos por qué son tan importantes en nuestro día a día.\n",
        "\n",
        "El proceso que se va llevar a cabo para conocer a cerca de estas herramientas, lo vamos abarcar a través de unos métodos que compone cada una de ellas, para la derivada se va trabajar con el método de la pendiente y para la integral con el método de simpson 3/8. Permitiendo encontrar y comparar el procedimiento al momento de plasmarlo en una gráfica, dejándonos una enseñanza de acuerdo a su resultado.\n",
        "\n",
        "Con los conceptos, ejemplos, ejercicios y demás enfoques nos llevan a concluir una idea de lo profundo que puede llegar la derivada y la integral al representarla en todos los aspectos de la naturaleza, en las ciencias físicas relacionándolas con los métodos numéricos.\n"
      ]
    },
    {
      "cell_type": "markdown",
      "metadata": {
        "id": "xVTYcQ0iiTha"
      },
      "source": [
        "## 2. Desarrollo Metodológico"
      ]
    },
    {
      "cell_type": "markdown",
      "metadata": {
        "id": "Q8t-wMo_iYeZ"
      },
      "source": [
        "### 2.1. Desarrollo Teoríco"
      ]
    },
    {
      "cell_type": "markdown",
      "metadata": {
        "id": "OGn2VfLUi8O-"
      },
      "source": [
        "#### 2.1.1. Derivación Numérica"
      ]
    },
    {
      "cell_type": "markdown",
      "metadata": {
        "id": "0AQ-MvTzG2Eu"
      },
      "source": []
    },
    {
      "cell_type": "markdown",
      "metadata": {
        "id": "ALtCZDT80yzz"
      },
      "source": [
        "La derivada de una función, se interpreta como la pendiente de la curva de una respectiva función matemática f(x) la cual es trazada en función de x.\n",
        "\n",
        "Se debe tener en cuenta que la implicación de representar este modelo, conlleva mayo profundidad y ahí surge el por que es tan importante la derivada; muchas entidades físicas como la velocidad, aceleración, fuerza etc. Nos permiten tener un concepto claro sobre la tasa de cambio de otra cantidad. Con la derivada podemos dar un valor preciso para la tasa de cambio de tal manera que nos facilita modelar la cantidad esperada.\n",
        "\n",
        "$$ y = x \\cdot m + b $$\n",
        "\n",
        "<div align=\"center\">\n",
        "    Formula 1. Pendiente\n",
        "</div>\n",
        "\n",
        "$$ \\frac{\\delta y}{\\delta x} = \\frac{y_2 - y_1}{x_2 - x_1} = m $$\n",
        "\n",
        "\n",
        "\n",
        "$$ \\frac{\\delta y}{\\delta x} = \\frac{f(x_2) - f(x_1)}{\\delta x} $$\n",
        "\n",
        "\n",
        "\n",
        "$$ \\frac{\\delta y}{\\delta x} = \\frac{f(x_1 + \\delta x) - f(x_2)}{\\delta x} $$\n",
        "\n",
        "<div align=\"center\">\n",
        "    Formula 2. Derivación Numérica\n",
        "</div>\n",
        "\n",
        "\n",
        "\n",
        "Su resultado nos indica el comportamiento de la recta, si sale un valor de una pendiente positiva, la recta tiene esta inclinación “/”, si el valor es negativo se inclina hacia abajo, si es un valor = 0 es horizontal --- y si es infinito se representa de manera vertical.\n",
        "\n",
        "Supongamos que una función f(x) tiene su respectiva gráfica y al momento de llevarla al proceso de derivación saldrán muchas pendientes. Donde cada recta la toque un punto, para eso hay que darle un punto en específico y saber la pendiente que deseamos observar. De acuerdo a su referencia sabemos cuál sería su posición y su valor, con ayuda de las pendientes podemos ir sustituyendo valores de puntos en la ecuación de la derivada, saber si está subiendo o bajando.\n",
        "Lo importante que se puede destacar de las pendientes en una recta, es el analizar el comportamiento de las curvas.\n",
        "\n",
        "$$ \\frac{d}{dx}\\ f(x_{\\left[i\\right]})=  \\frac{\\ f(x_{\\left[i+1\\right]})-  f(x_{\\left[i\\right]})}{∆x} $$\n",
        "\n",
        "\n",
        "<div align=\"center\">\n",
        "    Formula 3. Derivación numérica hacia adelante\n",
        "</div>\n",
        "\n",
        "\n",
        "\n",
        "$$ \\frac{d}{dx}\\ f(x_{\\left[i\\right]})=  \\frac{\\ f(x_{\\left[i\\right]})-  f(x_{\\left[i-1\\right]})}{∆x} $$\n",
        "\n",
        "\n",
        "<div align=\"center\">\n",
        "    Formula 4. Derivación numérica hacia atrás\n",
        "</div>\n",
        "\n",
        "$$ \\frac{d}{dx}\\ f\\ \\left(x_{\\left[i\\right]}\\right) = \\frac{\\ f(x_{\\left[i+1\\right]})-  f(x_{\\left[i-1\\right]})}{2∆x} $$\n",
        "\n",
        "<div align=\"center\">\n",
        "    Formula 5. Derivación numérica central\n",
        "</div>\n",
        "\n"
      ]
    },
    {
      "cell_type": "markdown",
      "metadata": {
        "id": "nduUU11Sjyvo"
      },
      "source": [
        "#### 2.1.2. Integración con el método de Simpson 3/8"
      ]
    },
    {
      "cell_type": "markdown",
      "metadata": {
        "id": "m7XgQnkTsjTQ"
      },
      "source": [
        "\n",
        "La integral de una función, la podemos comprender geográficamente como el área bajo la curva de una función f(x) trazada como una función de x.\n",
        "\n",
        "Por lo tanto, la integral nos facilita de diferentes formas de representar un numero infinito y así conseguir una expresión analítica del área bajo la curva, muchas de las definiciones de entidades físicas convierten su forma de manera matemática, desglosándola de un área bajo una curva. Un ejemplo claro es el encontrar la masa de un cuerpo, interviene diferentes elementos de masa y que al realizar la operación de multiplicación por la distancia a un eje de rotación, nos deduce un proceso para encontrar el valor preciso y ahí es donde se necesita de la integral, es donde damos respuesta del por que es necesaria, la integral es una herramientas sumamente primordial para dar soluciones a sumas infinitas.\n",
        "\n",
        "\n",
        "Uso del metodo simpson 3/8 en la integral\n",
        "\n",
        "Se usa para tener valores más aproximados y precisos de integrales definidos, representa un método numérico para cálculos deduciéndolo por medio de la regla de Simpson la cual es:\n",
        "F(x) : Integrand\n",
        "A : Límite inferior de integración \n",
        "B : Límite superior de integración\n",
        "Existen dos tipo de reglas Simpson, 1/3 y 3/8 para este caso vamos implementar la de 3/8, el interpolante es un polinomio cubico, utiliza un valor de función mas y se aproxima dos veces de manera mas precisa.\n",
        "\n",
        "\n",
        "$$ \\int_{a}^{b}f(x)\\ dx\\ \\approx\\ \\frac{b-a}{8}\\ \\left\\{f(a)\\ +\\ 3f\\ (\\frac{2a\\ +\\ b}{3}\\ +\\ 3f\\ (\\frac{a\\ +\\ 2b}{3}\\ )+\\ f(b)\\left.\\right\\}\\right. $$\n",
        "\n",
        "\n",
        "<div align=\"center\">\n",
        "    Formula 6. Regla de Simpson 3/8\n",
        "</div>\n",
        "\n",
        "\n",
        "Procedemos a tomar el valor correspondiente a (b-a)/3 de la formula anterior y la reemplazamos como h, y quedaría de la siguiente manera:\n",
        "\n",
        "\n",
        "$$\\int_{a}^{b}f(x)\\ dx\\approx\\frac{3h}{8}\\ \\left\\{f(a)\\ +\\ 3f\\ (\\frac{2a\\ +\\ b}{3})\\ +\\ 3f\\ (\\frac{a\\ +\\ 2b}{3})\\ +\\ f(b)\\left.\\right\\}\\right.\\ $$\n",
        "\n",
        "<div align=\"center\">\n",
        "    Formula 7. Reemplazar por h\n",
        "</div>\n",
        "\n",
        "La presente regla de 3/8 para n intervalos, lo que nos quiere decir es que n debería ser un múltiplo de 3 quedando así:\n",
        "\n",
        "$$\\int_{a}^{b}{f(x)\\ dx\\ \\approx\\ \\frac{3h}{8}\\ \\sum_{j=1}^{n/3}\\left\\{f\\ (x_{3j-3})\\ +\\ 3f\\ (x_{3j-2})\\ +\\ 3f\\ (x_{3j-1})\\ +\\ f(x_{3j})\\left.\\right\\}\\right.}$$\n",
        "\n"
      ]
    },
    {
      "cell_type": "markdown",
      "metadata": {
        "id": "aGnpKKrWikL0"
      },
      "source": [
        "### 2.2. Desarrollo Computacional"
      ]
    },
    {
      "cell_type": "markdown",
      "metadata": {
        "id": "Z0tHDpl4uKcd"
      },
      "source": [
        "Para el desarrollo de computacional relacionado a este informe se uso el lenguaje de programación Python 3.10.7 y las siguientes librerías:\n",
        "\n",
        "* timeit - librería especializada en el manejo del tiempo con mayor precisión.\n",
        "* matplotlib - permite graficar los resultados de los procesos.\n",
        "* numpy - se especializa en el cálculo, transformación y análisis de datos numéricos.\n",
        "* pandas - permite la manipulación y análisis de datos sobre tablas numéricas y series temporales."
      ]
    },
    {
      "cell_type": "code",
      "execution_count": 1,
      "metadata": {
        "id": "Yve5vLXc7R22"
      },
      "outputs": [],
      "source": [
        "from timeit import default_timer as timer\n",
        "from typing import Callable\n",
        "\n",
        "%matplotlib inline\n",
        "\n",
        "import matplotlib.pyplot as plt\n",
        "import numpy as np\n",
        "import pandas as pd"
      ]
    },
    {
      "cell_type": "markdown",
      "metadata": {
        "id": "jaXWPyK4uixd"
      },
      "source": [
        "Para medir el tiempo transcurrido de los algoritmos y funciones que se implementan en este informe se empleo la función decorador ```count_elapsed_time()```."
      ]
    },
    {
      "cell_type": "code",
      "execution_count": 2,
      "metadata": {
        "id": "CPQ-TOEz__cH"
      },
      "outputs": [],
      "source": [
        "def count_elapsed_time(func):\n",
        "    '''\n",
        "    Decorador.\n",
        "    Ejecuta la función y calcula el tiempo transcurrido.\n",
        "    Retorna el resultado de la función y el tiempo transcurrido.\n",
        "    '''\n",
        "    def wrapper(*args, **kwargs):\n",
        "        start_time = timer()\n",
        "        ret = func(*args, **kwargs)\n",
        "        elapsed_time = timer() - start_time\n",
        "        return (elapsed_time, *ret)\n",
        "\n",
        "    return wrapper"
      ]
    },
    {
      "cell_type": "markdown",
      "metadata": {
        "id": "G15b4dInkJrM"
      },
      "source": [
        "#### 2.2.1. Derivación"
      ]
    },
    {
      "cell_type": "markdown",
      "metadata": {
        "id": "0IIZ8q06uoQN"
      },
      "source": [
        "El método ```derivate``` proveé una solución aproximada mediante diferenciación numérica"
      ]
    },
    {
      "cell_type": "code",
      "execution_count": 3,
      "metadata": {
        "id": "qcIVLb_eRZIu"
      },
      "outputs": [],
      "source": [
        "@count_elapsed_time\n",
        "def derivative(\n",
        "  f: Callable[[float], float],\n",
        "  x0: int,\n",
        "  dx: float = 1e-15\n",
        ") -> float:\n",
        "  '''Da una solución aproximada a un punto de la derivada\n",
        "\n",
        "  Args:\n",
        "    f: función a derivar\n",
        "    x0: punto a dar una solución aproximada en la función derivada\n",
        "    dx: delta de x\n",
        "  '''\n",
        "  return ((f(x0 + dx) - f(x0)) / dx, 0)"
      ]
    },
    {
      "cell_type": "markdown",
      "metadata": {
        "id": "EyprsAnwvwTT"
      },
      "source": [
        "El método ```derivative_points``` devuelve todo los puntos de inflexión que se hayan entre dos puntos en específicos de la función derivada."
      ]
    },
    {
      "cell_type": "code",
      "execution_count": 4,
      "metadata": {
        "id": "dtRtR3AXSDMQ"
      },
      "outputs": [],
      "source": [
        "@count_elapsed_time\n",
        "def derivative_points(\n",
        "    f: Callable[[float], float],\n",
        "    x0: int,\n",
        "    xn: int,\n",
        "    n: int\n",
        "):\n",
        "  '''Puntos de inflexión entre dos puntos en específico de la función\n",
        "  dada a derivar.\n",
        "\n",
        "  Args:\n",
        "    f: función a derivar\n",
        "    x0: punto inicial de corte\n",
        "    xn: punto final de corte\n",
        "    n: cantidad de datos (puntos) de aproximación \n",
        "  '''\n",
        "  x = np.linspace(x0, xn, n)\n",
        "  dx = (xn - x0) / (n - 1)\n",
        "\n",
        "  y = f(x)\n",
        "  yp = np.zeros_like(x)\n",
        "\n",
        "  for i in range(n):\n",
        "      if i == 0:\n",
        "          yp[i] = (y[i + 1] - y[i]) / dx\n",
        "      elif i == n - 1:\n",
        "          yp[i] = (y[i] - y[i - 1]) / dx\n",
        "      else:\n",
        "          yp[i] = (y[i + 1] - y[i - 1]) / (2 * dx)\n",
        "\n",
        "  return yp"
      ]
    },
    {
      "cell_type": "markdown",
      "metadata": {
        "id": "itzdgSOAkSPU"
      },
      "source": [
        "#### 2.2.2 Integración"
      ]
    },
    {
      "cell_type": "markdown",
      "metadata": {
        "id": "wWF1lpA7wyCr"
      },
      "source": [
        "El método ```integration``` proveé una solución aproximada para una función a integrar, usando el método **Simpson $\\frac{3}{8}$**."
      ]
    },
    {
      "cell_type": "code",
      "execution_count": 5,
      "metadata": {
        "id": "dpd3200s69Xe"
      },
      "outputs": [],
      "source": [
        "@count_elapsed_time\n",
        "def integration(\n",
        "  f: Callable[[float], float],\n",
        "  x0: int,\n",
        "  xn: int,\n",
        "  error: float = 0.002,\n",
        "  table: list = None\n",
        ") -> float:\n",
        "  '''Da un resultado aproximado para una integral definida.\n",
        "\n",
        "  Args:\n",
        "    f: función a integrar\n",
        "    x0: Definición a de la integral\n",
        "    xn: Definición b de la integral\n",
        "    error: Error tolerado en la aproximación\n",
        "    table: tabla para datos\n",
        "\n",
        "  Returns:\n",
        "    result: Resultado aproximado de la integral definida\n",
        "    table: Tabla con los datos de operación del método\n",
        "  '''\n",
        "  n = 0\n",
        "  e = 1\n",
        "  result = None\n",
        "  table = []\n",
        "\n",
        "  while e > error:\n",
        "    n += 3\n",
        "    h = (xn - x0) / n\n",
        "    x = np.linspace(0, n, n + 1) * h + x0\n",
        "    fv = np.vectorize(f)\n",
        "    result = (\n",
        "        3 * h / 8 * (\n",
        "            f(x[0]) +\n",
        "            3 * fv(x[np.mod(np.arange(len(x)), 3) != 0]).sum() +  # Salta todos los 3° indices\n",
        "            2 * fv(x[::3]).sum() +  # Obtiene todos los 3° indices\n",
        "            f(x[-1])\n",
        "        )\n",
        "    )\n",
        "    e = np.abs(((-3 * h ** 5) / 80) * result ** 4 * np.mean([xn, x0]))\n",
        "\n",
        "    table.append([n, h, result, e])\n",
        "\n",
        "  return result, table"
      ]
    },
    {
      "cell_type": "markdown",
      "metadata": {
        "id": "X5Xvxw0usyOf"
      },
      "source": [
        "## 3. Problemas"
      ]
    },
    {
      "cell_type": "markdown",
      "metadata": {
        "id": "o1npia2qs6WN"
      },
      "source": [
        "### 3.1. Problema para la derivación\n",
        "\n",
        "Un agricultor tiene 2400 pies de material y quiere construir una barda para\n",
        "cercar un campo rectangular que bordea un río recto, de modo que no necesita barda a\n",
        "lo largo del río. ¿Cuáles son las dimensiones que debe tener el campo para encerrar el\n",
        "área más grande? \n",
        "\n",
        "![image.png](data:image/png;base64,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)\n",
        "\n",
        "<div align=\"center\">\n",
        "    Figura 1. 3 formas de posibles arreglos\n",
        "</div>\n",
        "\n",
        "Vemos que cuando intentamos campos muy anchos y poco largos, o campos angostos\n",
        "y muy largos, obtenemos áreas relativamente pequeñas. Parece verosímil que exista\n",
        "alguna configuración intermedia que produzca el área más grande.\n",
        "\n",
        "![image.png](data:image/png;base64,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)\n",
        "\n",
        "\n",
        "<div align=\"center\">\n",
        "    Figura 2. Caso General\n",
        "</div>\n",
        "\n",
        "Queremos maximizar el área A del rectángulo. Sea\n",
        "x y y el largo y el ancho, respectivamente, del rectángulo (en pies). Entonces, queremos\n",
        "expresar A en términos de x y y:\n",
        "\n",
        "$$  A = xy $$\n",
        "\n",
        "Queremos expresar A en función de una sola variable, por lo que eliminamos y\n",
        "expresándola en términos de x. Para ello utilizamos la información dada de que la\n",
        "longitud total de la barda es 2 400 pies. \n",
        "Quedando así: \n",
        "\n",
        "$$ 2x + y = 2400 $$\n",
        "\n",
        "De esta ecuación tenemos y = 2400 + 2x, por lo tanto:\n",
        "\n",
        "$$ A = x(2400-2x) = 2400x - 2x^2$$\n",
        "\n",
        "\n",
        "Tener claro que, $x\\geq0$ y  $x\\le1200$ (de lo contrario $A < 0$), así que la función que deseamos maximizar es:\n",
        "\n",
        "$$A(x) = 2400 - 2x^2 \\hspace{1cm}  0 \\le x \\le 1200$$\n",
        "\n",
        "\n"
      ]
    },
    {
      "cell_type": "markdown",
      "metadata": {
        "id": "RKZtRS-otLS_"
      },
      "source": [
        "### 3.2. Problema para la Integral\n",
        "\n",
        "El problema que vamos abordar para la integral es el siguiente: \n",
        "Determinar la longitud de arco de una curva. \n",
        "\n",
        "Según la funcion:  $ y = x^3 - 6x^2 + 8x$ y el eje $x$"
      ]
    },
    {
      "cell_type": "markdown",
      "metadata": {
        "id": "3e55JXrLinZf"
      },
      "source": [
        "## 4. Resultados"
      ]
    },
    {
      "cell_type": "markdown",
      "metadata": {
        "id": "wxXykml5RHG1"
      },
      "source": [
        "### 4.1. Derivación"
      ]
    },
    {
      "cell_type": "markdown",
      "metadata": {
        "id": "J52uY0Q-ytX7"
      },
      "source": [
        "La derivada es $A´(x) = 2 400 - 4x$, así que para encontrar los números críticos\n",
        "resolvemos\n",
        "\n",
        "$$ 2 400 - 4x = 0$$\n",
        "\n",
        "que da $x = 600$. El valor máximo de A debe producirse en este número crítico o en un\n",
        "extremo del intervalo. Ya que $A(0) = 0$, $A(600) = 720 000$ y $A(1200) = 0$, el método del intervalo cerrado da el valor máximo cuando $A(600) = 720 000$."
      ]
    },
    {
      "cell_type": "code",
      "execution_count": 6,
      "metadata": {
        "id": "iDWqqDUpWcYy"
      },
      "outputs": [],
      "source": [
        "f: Callable[[float], float] = lambda x: 2400 * x - 2 * x ** 2  # Función a derivar\n",
        "fp: Callable[[float], float] = lambda x: 2400 - 4 * x  # Función derivada"
      ]
    },
    {
      "cell_type": "code",
      "execution_count": 7,
      "metadata": {
        "id": "2EXs3ImlWMSO"
      },
      "outputs": [],
      "source": [
        "time, result, _ = derivative(f, 600)\n",
        "time_points, *points = derivative_points(f, 0, 1200, 30)"
      ]
    },
    {
      "cell_type": "code",
      "execution_count": 8,
      "metadata": {
        "colab": {
          "base_uri": "https://localhost:8080/"
        },
        "id": "jrPCiGtkXdF-",
        "outputId": "c5078f63-046a-4b3c-c0b8-832cc3c409e0"
      },
      "outputs": [
        {
          "name": "stdout",
          "output_type": "stream",
          "text": [
            "El resultado de la derivada es 0.0, en un tiempo de 1.091699959943071e-05 segundos\n",
            "El resultado de la derivada analítica es 0\n",
            "El error de la aproximación de la derivación numérica es de 0.0\n",
            "Los puntos de corte en el eje x y y tuvo un tiempo de 0.00045464199865818955 segundos\n"
          ]
        }
      ],
      "source": [
        "print(f'El resultado de la derivada es {result}, en un tiempo de {time} segundos')\n",
        "print(f'El resultado de la derivada analítica es {fp(600)}')\n",
        "print(f'El error de la aproximación de la derivación numérica es de {np.abs(fp(600) - result)}')\n",
        "print(f'Los puntos de corte en el eje x y y tuvo un tiempo de {time_points} segundos')"
      ]
    },
    {
      "cell_type": "code",
      "execution_count": 9,
      "metadata": {
        "colab": {
          "base_uri": "https://localhost:8080/",
          "height": 990
        },
        "id": "4gLfYY3lYVVc",
        "outputId": "c0baf480-b7c2-4944-b8b6-2f3641b7c50c"
      },
      "outputs": [
        {
          "data": {
            "text/html": [
              "\n",
              "  <div id=\"df-b5302053-3153-488f-8bcf-9276780132bc\">\n",
              "    <div class=\"colab-df-container\">\n",
              "      <div>\n",
              "<style scoped>\n",
              "    .dataframe tbody tr th:only-of-type {\n",
              "        vertical-align: middle;\n",
              "    }\n",
              "\n",
              "    .dataframe tbody tr th {\n",
              "        vertical-align: top;\n",
              "    }\n",
              "\n",
              "    .dataframe thead th {\n",
              "        text-align: right;\n",
              "    }\n",
              "</style>\n",
              "<table border=\"1\" class=\"dataframe\">\n",
              "  <thead>\n",
              "    <tr style=\"text-align: right;\">\n",
              "      <th></th>\n",
              "      <th>Points</th>\n",
              "      <th>f´(x)</th>\n",
              "      <th>Error</th>\n",
              "    </tr>\n",
              "  </thead>\n",
              "  <tbody>\n",
              "    <tr>\n",
              "      <th>0</th>\n",
              "      <td>2317.241379</td>\n",
              "      <td>2400.000000</td>\n",
              "      <td>8.275862e+01</td>\n",
              "    </tr>\n",
              "    <tr>\n",
              "      <th>1</th>\n",
              "      <td>2234.482759</td>\n",
              "      <td>2234.482759</td>\n",
              "      <td>4.547474e-13</td>\n",
              "    </tr>\n",
              "    <tr>\n",
              "      <th>2</th>\n",
              "      <td>2068.965517</td>\n",
              "      <td>2068.965517</td>\n",
              "      <td>4.547474e-13</td>\n",
              "    </tr>\n",
              "    <tr>\n",
              "      <th>3</th>\n",
              "      <td>1903.448276</td>\n",
              "      <td>1903.448276</td>\n",
              "      <td>2.273737e-13</td>\n",
              "    </tr>\n",
              "    <tr>\n",
              "      <th>4</th>\n",
              "      <td>1737.931034</td>\n",
              "      <td>1737.931034</td>\n",
              "      <td>9.094947e-13</td>\n",
              "    </tr>\n",
              "    <tr>\n",
              "      <th>5</th>\n",
              "      <td>1572.413793</td>\n",
              "      <td>1572.413793</td>\n",
              "      <td>2.273737e-13</td>\n",
              "    </tr>\n",
              "    <tr>\n",
              "      <th>6</th>\n",
              "      <td>1406.896552</td>\n",
              "      <td>1406.896552</td>\n",
              "      <td>4.547474e-13</td>\n",
              "    </tr>\n",
              "    <tr>\n",
              "      <th>7</th>\n",
              "      <td>1241.379310</td>\n",
              "      <td>1241.379310</td>\n",
              "      <td>2.273737e-13</td>\n",
              "    </tr>\n",
              "    <tr>\n",
              "      <th>8</th>\n",
              "      <td>1075.862069</td>\n",
              "      <td>1075.862069</td>\n",
              "      <td>6.821210e-13</td>\n",
              "    </tr>\n",
              "    <tr>\n",
              "      <th>9</th>\n",
              "      <td>910.344828</td>\n",
              "      <td>910.344828</td>\n",
              "      <td>1.136868e-13</td>\n",
              "    </tr>\n",
              "    <tr>\n",
              "      <th>10</th>\n",
              "      <td>744.827586</td>\n",
              "      <td>744.827586</td>\n",
              "      <td>6.821210e-13</td>\n",
              "    </tr>\n",
              "    <tr>\n",
              "      <th>11</th>\n",
              "      <td>579.310345</td>\n",
              "      <td>579.310345</td>\n",
              "      <td>0.000000e+00</td>\n",
              "    </tr>\n",
              "    <tr>\n",
              "      <th>12</th>\n",
              "      <td>413.793103</td>\n",
              "      <td>413.793103</td>\n",
              "      <td>5.684342e-13</td>\n",
              "    </tr>\n",
              "    <tr>\n",
              "      <th>13</th>\n",
              "      <td>248.275862</td>\n",
              "      <td>248.275862</td>\n",
              "      <td>3.126388e-13</td>\n",
              "    </tr>\n",
              "    <tr>\n",
              "      <th>14</th>\n",
              "      <td>82.758621</td>\n",
              "      <td>82.758621</td>\n",
              "      <td>7.389644e-13</td>\n",
              "    </tr>\n",
              "    <tr>\n",
              "      <th>15</th>\n",
              "      <td>-82.758621</td>\n",
              "      <td>-82.758621</td>\n",
              "      <td>2.131628e-13</td>\n",
              "    </tr>\n",
              "    <tr>\n",
              "      <th>16</th>\n",
              "      <td>-248.275862</td>\n",
              "      <td>-248.275862</td>\n",
              "      <td>1.733724e-12</td>\n",
              "    </tr>\n",
              "    <tr>\n",
              "      <th>17</th>\n",
              "      <td>-413.793103</td>\n",
              "      <td>-413.793103</td>\n",
              "      <td>2.273737e-12</td>\n",
              "    </tr>\n",
              "    <tr>\n",
              "      <th>18</th>\n",
              "      <td>-579.310345</td>\n",
              "      <td>-579.310345</td>\n",
              "      <td>1.477929e-12</td>\n",
              "    </tr>\n",
              "    <tr>\n",
              "      <th>19</th>\n",
              "      <td>-744.827586</td>\n",
              "      <td>-744.827586</td>\n",
              "      <td>4.547474e-13</td>\n",
              "    </tr>\n",
              "    <tr>\n",
              "      <th>20</th>\n",
              "      <td>-910.344828</td>\n",
              "      <td>-910.344828</td>\n",
              "      <td>1.477929e-12</td>\n",
              "    </tr>\n",
              "    <tr>\n",
              "      <th>21</th>\n",
              "      <td>-1075.862069</td>\n",
              "      <td>-1075.862069</td>\n",
              "      <td>2.273737e-12</td>\n",
              "    </tr>\n",
              "    <tr>\n",
              "      <th>22</th>\n",
              "      <td>-1241.379310</td>\n",
              "      <td>-1241.379310</td>\n",
              "      <td>2.273737e-13</td>\n",
              "    </tr>\n",
              "    <tr>\n",
              "      <th>23</th>\n",
              "      <td>-1406.896552</td>\n",
              "      <td>-1406.896552</td>\n",
              "      <td>6.821210e-13</td>\n",
              "    </tr>\n",
              "    <tr>\n",
              "      <th>24</th>\n",
              "      <td>-1572.413793</td>\n",
              "      <td>-1572.413793</td>\n",
              "      <td>1.364242e-12</td>\n",
              "    </tr>\n",
              "    <tr>\n",
              "      <th>25</th>\n",
              "      <td>-1737.931034</td>\n",
              "      <td>-1737.931034</td>\n",
              "      <td>3.637979e-12</td>\n",
              "    </tr>\n",
              "    <tr>\n",
              "      <th>26</th>\n",
              "      <td>-1903.448276</td>\n",
              "      <td>-1903.448276</td>\n",
              "      <td>4.547474e-13</td>\n",
              "    </tr>\n",
              "    <tr>\n",
              "      <th>27</th>\n",
              "      <td>-2068.965517</td>\n",
              "      <td>-2068.965517</td>\n",
              "      <td>6.366463e-12</td>\n",
              "    </tr>\n",
              "    <tr>\n",
              "      <th>28</th>\n",
              "      <td>-2234.482759</td>\n",
              "      <td>-2234.482759</td>\n",
              "      <td>1.364242e-12</td>\n",
              "    </tr>\n",
              "    <tr>\n",
              "      <th>29</th>\n",
              "      <td>-2317.241379</td>\n",
              "      <td>-2400.000000</td>\n",
              "      <td>8.275862e+01</td>\n",
              "    </tr>\n",
              "  </tbody>\n",
              "</table>\n",
              "</div>\n",
              "      <button class=\"colab-df-convert\" onclick=\"convertToInteractive('df-b5302053-3153-488f-8bcf-9276780132bc')\"\n",
              "              title=\"Convert this dataframe to an interactive table.\"\n",
              "              style=\"display:none;\">\n",
              "        \n",
              "  <svg xmlns=\"http://www.w3.org/2000/svg\" height=\"24px\"viewBox=\"0 0 24 24\"\n",
              "       width=\"24px\">\n",
              "    <path d=\"M0 0h24v24H0V0z\" fill=\"none\"/>\n",
              "    <path d=\"M18.56 5.44l.94 2.06.94-2.06 2.06-.94-2.06-.94-.94-2.06-.94 2.06-2.06.94zm-11 1L8.5 8.5l.94-2.06 2.06-.94-2.06-.94L8.5 2.5l-.94 2.06-2.06.94zm10 10l.94 2.06.94-2.06 2.06-.94-2.06-.94-.94-2.06-.94 2.06-2.06.94z\"/><path d=\"M17.41 7.96l-1.37-1.37c-.4-.4-.92-.59-1.43-.59-.52 0-1.04.2-1.43.59L10.3 9.45l-7.72 7.72c-.78.78-.78 2.05 0 2.83L4 21.41c.39.39.9.59 1.41.59.51 0 1.02-.2 1.41-.59l7.78-7.78 2.81-2.81c.8-.78.8-2.07 0-2.86zM5.41 20L4 18.59l7.72-7.72 1.47 1.35L5.41 20z\"/>\n",
              "  </svg>\n",
              "      </button>\n",
              "      \n",
              "  <style>\n",
              "    .colab-df-container {\n",
              "      display:flex;\n",
              "      flex-wrap:wrap;\n",
              "      gap: 12px;\n",
              "    }\n",
              "\n",
              "    .colab-df-convert {\n",
              "      background-color: #E8F0FE;\n",
              "      border: none;\n",
              "      border-radius: 50%;\n",
              "      cursor: pointer;\n",
              "      display: none;\n",
              "      fill: #1967D2;\n",
              "      height: 32px;\n",
              "      padding: 0 0 0 0;\n",
              "      width: 32px;\n",
              "    }\n",
              "\n",
              "    .colab-df-convert:hover {\n",
              "      background-color: #E2EBFA;\n",
              "      box-shadow: 0px 1px 2px rgba(60, 64, 67, 0.3), 0px 1px 3px 1px rgba(60, 64, 67, 0.15);\n",
              "      fill: #174EA6;\n",
              "    }\n",
              "\n",
              "    [theme=dark] .colab-df-convert {\n",
              "      background-color: #3B4455;\n",
              "      fill: #D2E3FC;\n",
              "    }\n",
              "\n",
              "    [theme=dark] .colab-df-convert:hover {\n",
              "      background-color: #434B5C;\n",
              "      box-shadow: 0px 1px 3px 1px rgba(0, 0, 0, 0.15);\n",
              "      filter: drop-shadow(0px 1px 2px rgba(0, 0, 0, 0.3));\n",
              "      fill: #FFFFFF;\n",
              "    }\n",
              "  </style>\n",
              "\n",
              "      <script>\n",
              "        const buttonEl =\n",
              "          document.querySelector('#df-b5302053-3153-488f-8bcf-9276780132bc button.colab-df-convert');\n",
              "        buttonEl.style.display =\n",
              "          google.colab.kernel.accessAllowed ? 'block' : 'none';\n",
              "\n",
              "        async function convertToInteractive(key) {\n",
              "          const element = document.querySelector('#df-b5302053-3153-488f-8bcf-9276780132bc');\n",
              "          const dataTable =\n",
              "            await google.colab.kernel.invokeFunction('convertToInteractive',\n",
              "                                                     [key], {});\n",
              "          if (!dataTable) return;\n",
              "\n",
              "          const docLinkHtml = 'Like what you see? Visit the ' +\n",
              "            '<a target=\"_blank\" href=https://colab.research.google.com/notebooks/data_table.ipynb>data table notebook</a>'\n",
              "            + ' to learn more about interactive tables.';\n",
              "          element.innerHTML = '';\n",
              "          dataTable['output_type'] = 'display_data';\n",
              "          await google.colab.output.renderOutput(dataTable, element);\n",
              "          const docLink = document.createElement('div');\n",
              "          docLink.innerHTML = docLinkHtml;\n",
              "          element.appendChild(docLink);\n",
              "        }\n",
              "      </script>\n",
              "    </div>\n",
              "  </div>\n",
              "  "
            ],
            "text/plain": [
              "         Points        f´(x)         Error\n",
              "0   2317.241379  2400.000000  8.275862e+01\n",
              "1   2234.482759  2234.482759  4.547474e-13\n",
              "2   2068.965517  2068.965517  4.547474e-13\n",
              "3   1903.448276  1903.448276  2.273737e-13\n",
              "4   1737.931034  1737.931034  9.094947e-13\n",
              "5   1572.413793  1572.413793  2.273737e-13\n",
              "6   1406.896552  1406.896552  4.547474e-13\n",
              "7   1241.379310  1241.379310  2.273737e-13\n",
              "8   1075.862069  1075.862069  6.821210e-13\n",
              "9    910.344828   910.344828  1.136868e-13\n",
              "10   744.827586   744.827586  6.821210e-13\n",
              "11   579.310345   579.310345  0.000000e+00\n",
              "12   413.793103   413.793103  5.684342e-13\n",
              "13   248.275862   248.275862  3.126388e-13\n",
              "14    82.758621    82.758621  7.389644e-13\n",
              "15   -82.758621   -82.758621  2.131628e-13\n",
              "16  -248.275862  -248.275862  1.733724e-12\n",
              "17  -413.793103  -413.793103  2.273737e-12\n",
              "18  -579.310345  -579.310345  1.477929e-12\n",
              "19  -744.827586  -744.827586  4.547474e-13\n",
              "20  -910.344828  -910.344828  1.477929e-12\n",
              "21 -1075.862069 -1075.862069  2.273737e-12\n",
              "22 -1241.379310 -1241.379310  2.273737e-13\n",
              "23 -1406.896552 -1406.896552  6.821210e-13\n",
              "24 -1572.413793 -1572.413793  1.364242e-12\n",
              "25 -1737.931034 -1737.931034  3.637979e-12\n",
              "26 -1903.448276 -1903.448276  4.547474e-13\n",
              "27 -2068.965517 -2068.965517  6.366463e-12\n",
              "28 -2234.482759 -2234.482759  1.364242e-12\n",
              "29 -2317.241379 -2400.000000  8.275862e+01"
            ]
          },
          "execution_count": 9,
          "metadata": {},
          "output_type": "execute_result"
        }
      ],
      "source": [
        "x = np.linspace(0, 1200, 30)\n",
        "fx = f(x)\n",
        "fpx = fp(x)\n",
        "\n",
        "pd.DataFrame(\n",
        "  list(map(lambda point: [point[0], point[1], np.abs(point[1] - point[0])], zip(points, fpx))),\n",
        "  columns=['Points', 'f´(x)', 'Error']\n",
        ")"
      ]
    },
    {
      "cell_type": "markdown",
      "metadata": {
        "id": "BrTgUC4TzeMd"
      },
      "source": [
        "<div align=\"center\">\n",
        "    Tabla 1. Derivación - Comparación\n",
        "</div>"
      ]
    },
    {
      "cell_type": "code",
      "execution_count": 10,
      "metadata": {
        "colab": {
          "base_uri": "https://localhost:8080/",
          "height": 567
        },
        "id": "NoHpbAUfcL85",
        "outputId": "d6e54a83-cdeb-4349-f9a9-9428f22d2a64"
      },
      "outputs": [
        {
          "data": {
            "image/png": "[encoded data removed]",
            "text/plain": [
              "<Figure size 1008x648 with 1 Axes>"
            ]
          },
          "metadata": {
            "needs_background": "light"
          },
          "output_type": "display_data"
        }
      ],
      "source": [
        "plt.figure(figsize=(14, 9))\n",
        "\n",
        "plt.plot(x, fpx, label='f´(x)')\n",
        "plt.plot(x, points, label='y´')\n",
        "\n",
        "plt.axvline(600, color='r')\n",
        "\n",
        "plt.xlabel('x')\n",
        "plt.ylabel('y')\n",
        "plt.title('Derivación numérica')\n",
        "plt.legend()\n",
        "plt.grid()\n",
        "plt.show()"
      ]
    },
    {
      "cell_type": "markdown",
      "metadata": {
        "id": "AJOQVWM6zr2C"
      },
      "source": [
        "<div align=\"center\">\n",
        "    Gráfica 1. Derivación - Comparación funciones derivadas\n",
        "</div>"
      ]
    },
    {
      "cell_type": "code",
      "execution_count": 11,
      "metadata": {
        "colab": {
          "base_uri": "https://localhost:8080/",
          "height": 567
        },
        "id": "hPauM1bIq3PS",
        "outputId": "0674dff0-8d2e-443b-9e15-5d89755401ee"
      },
      "outputs": [
        {
          "data": {
            "image/png": "[encoded data removed]",
            "text/plain": [
              "<Figure size 1008x648 with 1 Axes>"
            ]
          },
          "metadata": {
            "needs_background": "light"
          },
          "output_type": "display_data"
        }
      ],
      "source": [
        "plt.figure(figsize=(14, 9))\n",
        "\n",
        "plt.plot(x, fx, label='f(x)')\n",
        "\n",
        "plt.axvline(600, color='r')\n",
        "\n",
        "plt.xlabel('x')\n",
        "plt.ylabel('y')\n",
        "plt.title('Derivación numérica')\n",
        "plt.legend()\n",
        "plt.grid()\n",
        "plt.show()"
      ]
    },
    {
      "cell_type": "markdown",
      "metadata": {
        "id": "-UFpsdsgz0PL"
      },
      "source": [
        "<div align=\"center\">\n",
        "    Gráfica 2. Derivadas - Función original\n",
        "</div>"
      ]
    },
    {
      "cell_type": "code",
      "execution_count": 12,
      "metadata": {
        "colab": {
          "base_uri": "https://localhost:8080/",
          "height": 330
        },
        "id": "JnQB1R3Tj-Xr",
        "outputId": "9e4ebe2f-ebc6-4e4e-c166-b092117a8936"
      },
      "outputs": [
        {
          "name": "stdout",
          "output_type": "stream",
          "text": [
            "x0: 100\n",
            "xn: 2000\n"
          ]
        },
        {
          "data": {
            "image/png": "[encoded data removed]",
            "text/plain": [
              "<Figure size 432x288 with 1 Axes>"
            ]
          },
          "metadata": {
            "needs_background": "light"
          },
          "output_type": "display_data"
        }
      ],
      "source": [
        "x0 = next(map(int, input('x0: ').split()))\n",
        "xn = next(map(int, input('xn: ').split()))\n",
        "\n",
        "if x0 > xn:\n",
        "  raise 'xn no puede ser mayor a x0'\n",
        "\n",
        "_, *two_points = derivative_points(f, x0, xn, 30)\n",
        "xi = np.linspace(x0, xn, 30)\n",
        "\n",
        "plt.plot(xi, two_points, label='y´')\n",
        "plt.plot(xi, two_points, 'o')\n",
        "\n",
        "plt.xlabel('x')\n",
        "plt.ylabel('y')\n",
        "plt.title('Derivación numérica - dos puntos')\n",
        "plt.legend()\n",
        "plt.grid()\n",
        "plt.show()"
      ]
    },
    {
      "cell_type": "markdown",
      "metadata": {
        "id": "hYcw9CkZz_ka"
      },
      "source": [
        "<div align=\"center\">\n",
        "    Gráfica 3. Derivación - dos puntos\n",
        "</div>"
      ]
    },
    {
      "cell_type": "markdown",
      "metadata": {
        "id": "gTOmDWIcBW34"
      },
      "source": [
        "### 4.2 Integración"
      ]
    },
    {
      "cell_type": "code",
      "execution_count": 13,
      "metadata": {
        "id": "_vP4kh0ZBWN0"
      },
      "outputs": [],
      "source": [
        "f: Callable[[float], float] = lambda x: x ** 3 - 6 * x ** 2 + 8 * x  # función a integrar"
      ]
    },
    {
      "cell_type": "code",
      "execution_count": 14,
      "metadata": {
        "colab": {
          "base_uri": "https://localhost:8080/",
          "height": 295
        },
        "id": "o-wSjvjmBs3l",
        "outputId": "fe4bb18e-c4d4-45fd-a268-e5f8ecf5266a"
      },
      "outputs": [
        {
          "data": {
            "image/png": "[encoded data removed]",
            "text/plain": [
              "<Figure size 432x288 with 1 Axes>"
            ]
          },
          "metadata": {
            "needs_background": "light"
          },
          "output_type": "display_data"
        }
      ],
      "source": [
        "x = list(range(10))\n",
        "\n",
        "plt.plot(x, [f(i) for i in x], linewidth=2)\n",
        "plt.plot(x, [f(i) for i in x], 'o', linewidth=2)\n",
        "\n",
        "plt.fill_between(x, [f(i) for i in x], color='yellow')\n",
        "\n",
        "plt.axhline(0, color=\"black\")\n",
        "plt.axvline(0, color=\"black\")\n",
        "\n",
        "plt.xlim(0, 10)\n",
        "plt.ylim(-5, 5)\n",
        "\n",
        "plt.title('Curva')\n",
        "plt.xlabel('x')\n",
        "plt.ylabel('f(x)')\n",
        "plt.grid()\n",
        "\n",
        "plt.show()"
      ]
    },
    {
      "cell_type": "markdown",
      "metadata": {
        "id": "1Eeofa0T0Mt3"
      },
      "source": [
        "<div align=\"center\">\n",
        "    Gráfica 4. Integración - Área bajo la curva\n",
        "</div>"
      ]
    },
    {
      "cell_type": "markdown",
      "metadata": {
        "id": "ePepclkPHJs_"
      },
      "source": [
        "Entendiendo los espacios amarillos de la gráfica como el área de la curva y teniendo en cuenta que la curva corta al eje $x$ en $0$, $2$ y $4$, nos disponemos a hallar el valor del área mediante el uso de integrales.\n",
        "\n",
        "$$A = \\int_0^2 (x^3 - 6x^2 + 8) \\,dx - \\int_2^4 (x^3 - 6x^2 + 8) \\,dx $$"
      ]
    },
    {
      "cell_type": "markdown",
      "metadata": {
        "id": "x6QBwVI40TaA"
      },
      "source": [
        "<div align=\"center\">\n",
        "\n",
        "    Formula 8. Integración - Hallar área bajo la curva\n",
        "</div>"
      ]
    },
    {
      "cell_type": "code",
      "execution_count": 15,
      "metadata": {
        "colab": {
          "base_uri": "https://localhost:8080/"
        },
        "id": "I-QDAJJMJCAn",
        "outputId": "198faed8-4768-4f50-db56-48a0a50761e7"
      },
      "outputs": [
        {
          "data": {
            "text/plain": [
              "8.0"
            ]
          },
          "execution_count": 15,
          "metadata": {},
          "output_type": "execute_result"
        }
      ],
      "source": [
        "time1, a1, table1 = integration(f, 0, 2)\n",
        "time2, a2, table2 = integration(f, 2, 4)\n",
        "\n",
        "A = a1 - a2\n",
        "A"
      ]
    },
    {
      "cell_type": "code",
      "execution_count": 16,
      "metadata": {
        "colab": {
          "base_uri": "https://localhost:8080/"
        },
        "id": "9FRdh8jWLwlM",
        "outputId": "67d75b65-0337-4cbd-b25b-758141a86cfe"
      },
      "outputs": [
        {
          "name": "stdout",
          "output_type": "stream",
          "text": [
            "La primera integral obtuvo un resultado de 4.0, en un tiempo de 0.0017219000001205131 segundos\n",
            "La segunda integral obtuvo un resultado de -4.0, en un tiempo de 0.001368102999549592 segundos\n",
            "El área total de bajo la curva dada es de 8.0u^2\n"
          ]
        }
      ],
      "source": [
        "print(f'La primera integral obtuvo un resultado de {a1}, en un tiempo de {time1} segundos')\n",
        "print(f'La segunda integral obtuvo un resultado de {a2}, en un tiempo de {time2} segundos')\n",
        "print(f'El área total de bajo la curva dada es de {A}u^2')"
      ]
    },
    {
      "cell_type": "markdown",
      "metadata": {
        "id": "VtZfQkG01CCX"
      },
      "source": [
        "Primer integrada"
      ]
    },
    {
      "cell_type": "code",
      "execution_count": 17,
      "metadata": {
        "colab": {
          "base_uri": "https://localhost:8080/",
          "height": 175
        },
        "id": "H0_skdAnMzUP",
        "outputId": "9f43a735-0e4a-4ea0-c2d4-d5e4ae0b7f28"
      },
      "outputs": [
        {
          "data": {
            "text/html": [
              "\n",
              "  <div id=\"df-277355b2-3175-445d-8abd-3dbd98fb01ce\">\n",
              "    <div class=\"colab-df-container\">\n",
              "      <div>\n",
              "<style scoped>\n",
              "    .dataframe tbody tr th:only-of-type {\n",
              "        vertical-align: middle;\n",
              "    }\n",
              "\n",
              "    .dataframe tbody tr th {\n",
              "        vertical-align: top;\n",
              "    }\n",
              "\n",
              "    .dataframe thead th {\n",
              "        text-align: right;\n",
              "    }\n",
              "</style>\n",
              "<table border=\"1\" class=\"dataframe\">\n",
              "  <thead>\n",
              "    <tr style=\"text-align: right;\">\n",
              "      <th></th>\n",
              "      <th>n</th>\n",
              "      <th>Intervalo</th>\n",
              "      <th>Resultado</th>\n",
              "      <th>Error</th>\n",
              "    </tr>\n",
              "  </thead>\n",
              "  <tbody>\n",
              "    <tr>\n",
              "      <th>0</th>\n",
              "      <td>3.0</td>\n",
              "      <td>0.666667</td>\n",
              "      <td>4.0</td>\n",
              "      <td>1.264198</td>\n",
              "    </tr>\n",
              "    <tr>\n",
              "      <th>1</th>\n",
              "      <td>6.0</td>\n",
              "      <td>0.333333</td>\n",
              "      <td>4.0</td>\n",
              "      <td>0.039506</td>\n",
              "    </tr>\n",
              "    <tr>\n",
              "      <th>2</th>\n",
              "      <td>9.0</td>\n",
              "      <td>0.222222</td>\n",
              "      <td>4.0</td>\n",
              "      <td>0.005202</td>\n",
              "    </tr>\n",
              "    <tr>\n",
              "      <th>3</th>\n",
              "      <td>12.0</td>\n",
              "      <td>0.166667</td>\n",
              "      <td>4.0</td>\n",
              "      <td>0.001235</td>\n",
              "    </tr>\n",
              "  </tbody>\n",
              "</table>\n",
              "</div>\n",
              "      <button class=\"colab-df-convert\" onclick=\"convertToInteractive('df-277355b2-3175-445d-8abd-3dbd98fb01ce')\"\n",
              "              title=\"Convert this dataframe to an interactive table.\"\n",
              "              style=\"display:none;\">\n",
              "        \n",
              "  <svg xmlns=\"http://www.w3.org/2000/svg\" height=\"24px\"viewBox=\"0 0 24 24\"\n",
              "       width=\"24px\">\n",
              "    <path d=\"M0 0h24v24H0V0z\" fill=\"none\"/>\n",
              "    <path d=\"M18.56 5.44l.94 2.06.94-2.06 2.06-.94-2.06-.94-.94-2.06-.94 2.06-2.06.94zm-11 1L8.5 8.5l.94-2.06 2.06-.94-2.06-.94L8.5 2.5l-.94 2.06-2.06.94zm10 10l.94 2.06.94-2.06 2.06-.94-2.06-.94-.94-2.06-.94 2.06-2.06.94z\"/><path d=\"M17.41 7.96l-1.37-1.37c-.4-.4-.92-.59-1.43-.59-.52 0-1.04.2-1.43.59L10.3 9.45l-7.72 7.72c-.78.78-.78 2.05 0 2.83L4 21.41c.39.39.9.59 1.41.59.51 0 1.02-.2 1.41-.59l7.78-7.78 2.81-2.81c.8-.78.8-2.07 0-2.86zM5.41 20L4 18.59l7.72-7.72 1.47 1.35L5.41 20z\"/>\n",
              "  </svg>\n",
              "      </button>\n",
              "      \n",
              "  <style>\n",
              "    .colab-df-container {\n",
              "      display:flex;\n",
              "      flex-wrap:wrap;\n",
              "      gap: 12px;\n",
              "    }\n",
              "\n",
              "    .colab-df-convert {\n",
              "      background-color: #E8F0FE;\n",
              "      border: none;\n",
              "      border-radius: 50%;\n",
              "      cursor: pointer;\n",
              "      display: none;\n",
              "      fill: #1967D2;\n",
              "      height: 32px;\n",
              "      padding: 0 0 0 0;\n",
              "      width: 32px;\n",
              "    }\n",
              "\n",
              "    .colab-df-convert:hover {\n",
              "      background-color: #E2EBFA;\n",
              "      box-shadow: 0px 1px 2px rgba(60, 64, 67, 0.3), 0px 1px 3px 1px rgba(60, 64, 67, 0.15);\n",
              "      fill: #174EA6;\n",
              "    }\n",
              "\n",
              "    [theme=dark] .colab-df-convert {\n",
              "      background-color: #3B4455;\n",
              "      fill: #D2E3FC;\n",
              "    }\n",
              "\n",
              "    [theme=dark] .colab-df-convert:hover {\n",
              "      background-color: #434B5C;\n",
              "      box-shadow: 0px 1px 3px 1px rgba(0, 0, 0, 0.15);\n",
              "      filter: drop-shadow(0px 1px 2px rgba(0, 0, 0, 0.3));\n",
              "      fill: #FFFFFF;\n",
              "    }\n",
              "  </style>\n",
              "\n",
              "      <script>\n",
              "        const buttonEl =\n",
              "          document.querySelector('#df-277355b2-3175-445d-8abd-3dbd98fb01ce button.colab-df-convert');\n",
              "        buttonEl.style.display =\n",
              "          google.colab.kernel.accessAllowed ? 'block' : 'none';\n",
              "\n",
              "        async function convertToInteractive(key) {\n",
              "          const element = document.querySelector('#df-277355b2-3175-445d-8abd-3dbd98fb01ce');\n",
              "          const dataTable =\n",
              "            await google.colab.kernel.invokeFunction('convertToInteractive',\n",
              "                                                     [key], {});\n",
              "          if (!dataTable) return;\n",
              "\n",
              "          const docLinkHtml = 'Like what you see? Visit the ' +\n",
              "            '<a target=\"_blank\" href=https://colab.research.google.com/notebooks/data_table.ipynb>data table notebook</a>'\n",
              "            + ' to learn more about interactive tables.';\n",
              "          element.innerHTML = '';\n",
              "          dataTable['output_type'] = 'display_data';\n",
              "          await google.colab.output.renderOutput(dataTable, element);\n",
              "          const docLink = document.createElement('div');\n",
              "          docLink.innerHTML = docLinkHtml;\n",
              "          element.appendChild(docLink);\n",
              "        }\n",
              "      </script>\n",
              "    </div>\n",
              "  </div>\n",
              "  "
            ],
            "text/plain": [
              "      n  Intervalo  Resultado     Error\n",
              "0   3.0   0.666667        4.0  1.264198\n",
              "1   6.0   0.333333        4.0  0.039506\n",
              "2   9.0   0.222222        4.0  0.005202\n",
              "3  12.0   0.166667        4.0  0.001235"
            ]
          },
          "execution_count": 17,
          "metadata": {},
          "output_type": "execute_result"
        }
      ],
      "source": [
        "pd.DataFrame(np.array(table1), columns=['n', 'Intervalo', 'Resultado', 'Error'])"
      ]
    },
    {
      "cell_type": "markdown",
      "metadata": {
        "id": "1DgwRTnY0dYf"
      },
      "source": [
        "<div align=\"center\">\n",
        "    Tabla 2. Integración - Resultados primer integral\n",
        "</div>"
      ]
    },
    {
      "cell_type": "code",
      "execution_count": 18,
      "metadata": {
        "colab": {
          "base_uri": "https://localhost:8080/",
          "height": 314
        },
        "id": "w8zxunaigdKO",
        "outputId": "ff29828c-df95-4de8-d39d-80213d8c2e9a"
      },
      "outputs": [
        {
          "name": "stderr",
          "output_type": "stream",
          "text": [
            "WARNING:matplotlib.legend:No handles with labels found to put in legend.\n"
          ]
        },
        {
          "data": {
            "image/png": "[encoded data removed]",
            "text/plain": [
              "<Figure size 432x288 with 1 Axes>"
            ]
          },
          "metadata": {
            "needs_background": "light"
          },
          "output_type": "display_data"
        }
      ],
      "source": [
        "plt.plot(np.linspace(0, 12, 12 + 1) * 0.166667 + 0, f(np.linspace(0, 12, 12 + 1) * 0.166667 + 0))\n",
        "plt.plot(np.linspace(0, 12, 12 + 1) * 0.166667 + 0, f(np.linspace(0, 12, 12 + 1) * 0.166667 + 0), 'o')\n",
        "\n",
        "plt.fill_between(np.linspace(0, 12, 12 + 1) * 0.166667 + 0, f(np.linspace(0, 12, 12 + 1) * 0.166667 + 0), color='yellow')\n",
        "\n",
        "plt.xlabel('x')\n",
        "plt.ylabel('f(x)')\n",
        "plt.title('Integral 1 - Área: Simpson 3/8')\n",
        "plt.legend()\n",
        "plt.grid()\n",
        "plt.show()"
      ]
    },
    {
      "cell_type": "markdown",
      "metadata": {
        "id": "nakSxVwJ0s5r"
      },
      "source": [
        "<div align=\"center\">\n",
        "    Gráfica 5. Integración - Integral 1 - Área: Simpson 3/8\n",
        "</div>"
      ]
    },
    {
      "cell_type": "code",
      "execution_count": 19,
      "metadata": {
        "colab": {
          "base_uri": "https://localhost:8080/",
          "height": 295
        },
        "id": "cGZnD7kxPu2W",
        "outputId": "02b6421e-4a4e-4289-8d83-8378c2bbf075"
      },
      "outputs": [
        {
          "data": {
            "image/png": "[encoded data removed]",
            "text/plain": [
              "<Figure size 432x288 with 1 Axes>"
            ]
          },
          "metadata": {
            "needs_background": "light"
          },
          "output_type": "display_data"
        }
      ],
      "source": [
        "plt.plot(list(map(lambda x: x[0], np.array(table1, dtype=np.int8))), list(map(lambda x: x[1], np.array(table1, dtype=np.float64))), label='Intervalo')\n",
        "plt.plot(list(map(lambda x: x[0], np.array(table1, dtype=np.int8))), list(map(lambda x: x[2], np.array(table1, dtype=np.float64))), label='Resultado')\n",
        "plt.plot(list(map(lambda x: x[0], np.array(table1, dtype=np.int8))), list(map(lambda x: x[3], np.array(table1, dtype=np.float64))), label='Error')\n",
        "plt.plot(list(map(lambda x: x[0], np.array(table1, dtype=np.int8))), list(map(lambda x: x[1], np.array(table1, dtype=np.float64))), 'o')\n",
        "plt.plot(list(map(lambda x: x[0], np.array(table1, dtype=np.int8))), list(map(lambda x: x[2], np.array(table1, dtype=np.float64))), 'o')\n",
        "plt.plot(list(map(lambda x: x[0], np.array(table1, dtype=np.int8))), list(map(lambda x: x[3], np.array(table1, dtype=np.float64))), 'o')\n",
        "\n",
        "plt.xlabel('n')\n",
        "plt.title('Integral 1: Simpson 3/8')\n",
        "plt.legend()\n",
        "plt.grid()\n",
        "plt.show()"
      ]
    },
    {
      "cell_type": "markdown",
      "metadata": {
        "id": "mmP-Hh_o05jT"
      },
      "source": [
        "<div align=\"center\">\n",
        "    Gráfica 6. Integración - Resultados primer integral\n",
        "</div>"
      ]
    },
    {
      "cell_type": "markdown",
      "metadata": {
        "id": "wmF2AHuq1GEt"
      },
      "source": [
        "Segunda integral"
      ]
    },
    {
      "cell_type": "code",
      "execution_count": 20,
      "metadata": {
        "colab": {
          "base_uri": "https://localhost:8080/",
          "height": 206
        },
        "id": "3_Uv6uHFOrzH",
        "outputId": "53347902-58ba-4574-90e7-2a052ff45317"
      },
      "outputs": [
        {
          "data": {
            "text/html": [
              "\n",
              "  <div id=\"df-2748deb1-aa0e-4063-9a3a-b05e6987f28c\">\n",
              "    <div class=\"colab-df-container\">\n",
              "      <div>\n",
              "<style scoped>\n",
              "    .dataframe tbody tr th:only-of-type {\n",
              "        vertical-align: middle;\n",
              "    }\n",
              "\n",
              "    .dataframe tbody tr th {\n",
              "        vertical-align: top;\n",
              "    }\n",
              "\n",
              "    .dataframe thead th {\n",
              "        text-align: right;\n",
              "    }\n",
              "</style>\n",
              "<table border=\"1\" class=\"dataframe\">\n",
              "  <thead>\n",
              "    <tr style=\"text-align: right;\">\n",
              "      <th></th>\n",
              "      <th>n</th>\n",
              "      <th>Intervalo</th>\n",
              "      <th>Resultado</th>\n",
              "      <th>Error</th>\n",
              "    </tr>\n",
              "  </thead>\n",
              "  <tbody>\n",
              "    <tr>\n",
              "      <th>0</th>\n",
              "      <td>3.0</td>\n",
              "      <td>0.666667</td>\n",
              "      <td>-4.0</td>\n",
              "      <td>3.792593</td>\n",
              "    </tr>\n",
              "    <tr>\n",
              "      <th>1</th>\n",
              "      <td>6.0</td>\n",
              "      <td>0.333333</td>\n",
              "      <td>-4.0</td>\n",
              "      <td>0.118519</td>\n",
              "    </tr>\n",
              "    <tr>\n",
              "      <th>2</th>\n",
              "      <td>9.0</td>\n",
              "      <td>0.222222</td>\n",
              "      <td>-4.0</td>\n",
              "      <td>0.015607</td>\n",
              "    </tr>\n",
              "    <tr>\n",
              "      <th>3</th>\n",
              "      <td>12.0</td>\n",
              "      <td>0.166667</td>\n",
              "      <td>-4.0</td>\n",
              "      <td>0.003704</td>\n",
              "    </tr>\n",
              "    <tr>\n",
              "      <th>4</th>\n",
              "      <td>15.0</td>\n",
              "      <td>0.133333</td>\n",
              "      <td>-4.0</td>\n",
              "      <td>0.001214</td>\n",
              "    </tr>\n",
              "  </tbody>\n",
              "</table>\n",
              "</div>\n",
              "      <button class=\"colab-df-convert\" onclick=\"convertToInteractive('df-2748deb1-aa0e-4063-9a3a-b05e6987f28c')\"\n",
              "              title=\"Convert this dataframe to an interactive table.\"\n",
              "              style=\"display:none;\">\n",
              "        \n",
              "  <svg xmlns=\"http://www.w3.org/2000/svg\" height=\"24px\"viewBox=\"0 0 24 24\"\n",
              "       width=\"24px\">\n",
              "    <path d=\"M0 0h24v24H0V0z\" fill=\"none\"/>\n",
              "    <path d=\"M18.56 5.44l.94 2.06.94-2.06 2.06-.94-2.06-.94-.94-2.06-.94 2.06-2.06.94zm-11 1L8.5 8.5l.94-2.06 2.06-.94-2.06-.94L8.5 2.5l-.94 2.06-2.06.94zm10 10l.94 2.06.94-2.06 2.06-.94-2.06-.94-.94-2.06-.94 2.06-2.06.94z\"/><path d=\"M17.41 7.96l-1.37-1.37c-.4-.4-.92-.59-1.43-.59-.52 0-1.04.2-1.43.59L10.3 9.45l-7.72 7.72c-.78.78-.78 2.05 0 2.83L4 21.41c.39.39.9.59 1.41.59.51 0 1.02-.2 1.41-.59l7.78-7.78 2.81-2.81c.8-.78.8-2.07 0-2.86zM5.41 20L4 18.59l7.72-7.72 1.47 1.35L5.41 20z\"/>\n",
              "  </svg>\n",
              "      </button>\n",
              "      \n",
              "  <style>\n",
              "    .colab-df-container {\n",
              "      display:flex;\n",
              "      flex-wrap:wrap;\n",
              "      gap: 12px;\n",
              "    }\n",
              "\n",
              "    .colab-df-convert {\n",
              "      background-color: #E8F0FE;\n",
              "      border: none;\n",
              "      border-radius: 50%;\n",
              "      cursor: pointer;\n",
              "      display: none;\n",
              "      fill: #1967D2;\n",
              "      height: 32px;\n",
              "      padding: 0 0 0 0;\n",
              "      width: 32px;\n",
              "    }\n",
              "\n",
              "    .colab-df-convert:hover {\n",
              "      background-color: #E2EBFA;\n",
              "      box-shadow: 0px 1px 2px rgba(60, 64, 67, 0.3), 0px 1px 3px 1px rgba(60, 64, 67, 0.15);\n",
              "      fill: #174EA6;\n",
              "    }\n",
              "\n",
              "    [theme=dark] .colab-df-convert {\n",
              "      background-color: #3B4455;\n",
              "      fill: #D2E3FC;\n",
              "    }\n",
              "\n",
              "    [theme=dark] .colab-df-convert:hover {\n",
              "      background-color: #434B5C;\n",
              "      box-shadow: 0px 1px 3px 1px rgba(0, 0, 0, 0.15);\n",
              "      filter: drop-shadow(0px 1px 2px rgba(0, 0, 0, 0.3));\n",
              "      fill: #FFFFFF;\n",
              "    }\n",
              "  </style>\n",
              "\n",
              "      <script>\n",
              "        const buttonEl =\n",
              "          document.querySelector('#df-2748deb1-aa0e-4063-9a3a-b05e6987f28c button.colab-df-convert');\n",
              "        buttonEl.style.display =\n",
              "          google.colab.kernel.accessAllowed ? 'block' : 'none';\n",
              "\n",
              "        async function convertToInteractive(key) {\n",
              "          const element = document.querySelector('#df-2748deb1-aa0e-4063-9a3a-b05e6987f28c');\n",
              "          const dataTable =\n",
              "            await google.colab.kernel.invokeFunction('convertToInteractive',\n",
              "                                                     [key], {});\n",
              "          if (!dataTable) return;\n",
              "\n",
              "          const docLinkHtml = 'Like what you see? Visit the ' +\n",
              "            '<a target=\"_blank\" href=https://colab.research.google.com/notebooks/data_table.ipynb>data table notebook</a>'\n",
              "            + ' to learn more about interactive tables.';\n",
              "          element.innerHTML = '';\n",
              "          dataTable['output_type'] = 'display_data';\n",
              "          await google.colab.output.renderOutput(dataTable, element);\n",
              "          const docLink = document.createElement('div');\n",
              "          docLink.innerHTML = docLinkHtml;\n",
              "          element.appendChild(docLink);\n",
              "        }\n",
              "      </script>\n",
              "    </div>\n",
              "  </div>\n",
              "  "
            ],
            "text/plain": [
              "      n  Intervalo  Resultado     Error\n",
              "0   3.0   0.666667       -4.0  3.792593\n",
              "1   6.0   0.333333       -4.0  0.118519\n",
              "2   9.0   0.222222       -4.0  0.015607\n",
              "3  12.0   0.166667       -4.0  0.003704\n",
              "4  15.0   0.133333       -4.0  0.001214"
            ]
          },
          "execution_count": 20,
          "metadata": {},
          "output_type": "execute_result"
        }
      ],
      "source": [
        "pd.DataFrame(np.array(table2), columns=['n', 'Intervalo', 'Resultado', 'Error'])"
      ]
    },
    {
      "cell_type": "markdown",
      "metadata": {
        "id": "RE_X48sl1Ja-"
      },
      "source": [
        "<div align=\"center\">\n",
        "    Tabla 3. Integración - Resultados segunda integral\n",
        "</div>"
      ]
    },
    {
      "cell_type": "code",
      "execution_count": 21,
      "metadata": {
        "colab": {
          "base_uri": "https://localhost:8080/",
          "height": 314
        },
        "id": "KmiwylPddBwo",
        "outputId": "72f05863-5143-41d2-8314-bf88a8b2034e"
      },
      "outputs": [
        {
          "name": "stderr",
          "output_type": "stream",
          "text": [
            "WARNING:matplotlib.legend:No handles with labels found to put in legend.\n"
          ]
        },
        {
          "data": {
            "image/png": "[encoded data removed]",
            "text/plain": [
              "<Figure size 432x288 with 1 Axes>"
            ]
          },
          "metadata": {
            "needs_background": "light"
          },
          "output_type": "display_data"
        }
      ],
      "source": [
        "plt.plot(np.linspace(0, 15, 15 + 1) * 0.133333 + 2, f(np.linspace(0, 15, 15 + 1) * 0.133333 + 2))\n",
        "plt.plot(np.linspace(0, 15, 15 + 1) * 0.133333 + 2, f(np.linspace(0, 15, 15 + 1) * 0.133333 + 2), 'o')\n",
        "\n",
        "plt.fill_between(np.linspace(0, 15, 15 + 1) * 0.133333 + 2, f(np.linspace(0, 15, 15 + 1) * 0.133333 + 2), color='yellow')\n",
        "\n",
        "plt.xlabel('x')\n",
        "plt.ylabel('f(x)')\n",
        "plt.title('Integral 2 - Área: Simpson 3/8')\n",
        "plt.legend()\n",
        "plt.grid()\n",
        "plt.show()"
      ]
    },
    {
      "cell_type": "markdown",
      "metadata": {
        "id": "CkX3q0TS1Q-p"
      },
      "source": [
        "<div align=\"center\">\n",
        "    Gráfica 7. Integración - Integral 2 - Área: Simpson 3/8\n",
        "</div>"
      ]
    },
    {
      "cell_type": "code",
      "execution_count": 22,
      "metadata": {
        "colab": {
          "base_uri": "https://localhost:8080/",
          "height": 295
        },
        "id": "Xd1_MN0ZS5qR",
        "outputId": "5364d1fe-2571-4626-a7aa-83add56a44af"
      },
      "outputs": [
        {
          "data": {
            "image/png": "[encoded data removed]",
            "text/plain": [
              "<Figure size 432x288 with 1 Axes>"
            ]
          },
          "metadata": {
            "needs_background": "light"
          },
          "output_type": "display_data"
        }
      ],
      "source": [
        "plt.plot(list(map(lambda x: x[0], np.array(table2, dtype=np.int8))), list(map(lambda x: x[1], np.array(table2, dtype=np.float64))), label='Intervalo')\n",
        "plt.plot(list(map(lambda x: x[0], np.array(table2, dtype=np.int8))), list(map(lambda x: x[2], np.array(table2, dtype=np.float64))), label='Resultado')\n",
        "plt.plot(list(map(lambda x: x[0], np.array(table2, dtype=np.int8))), list(map(lambda x: x[3], np.array(table2, dtype=np.float64))), label='Error')\n",
        "plt.plot(list(map(lambda x: x[0], np.array(table2, dtype=np.int8))), list(map(lambda x: x[1], np.array(table2, dtype=np.float64))), 'o')\n",
        "plt.plot(list(map(lambda x: x[0], np.array(table2, dtype=np.int8))), list(map(lambda x: x[2], np.array(table2, dtype=np.float64))), 'o')\n",
        "plt.plot(list(map(lambda x: x[0], np.array(table2, dtype=np.int8))), list(map(lambda x: x[3], np.array(table2, dtype=np.float64))), 'o')\n",
        "\n",
        "plt.xlabel('n')\n",
        "plt.title('Integral 2: Simpson 3/8')\n",
        "plt.legend()\n",
        "plt.grid()\n",
        "plt.show()"
      ]
    },
    {
      "cell_type": "markdown",
      "metadata": {
        "id": "siDsAs7n1cIe"
      },
      "source": [
        "<div align=\"center\">\n",
        "    Gráfica 8. Integración - Resultados segunda integral\n",
        "</div>"
      ]
    },
    {
      "cell_type": "markdown",
      "metadata": {
        "id": "lNYZn407irEc"
      },
      "source": [
        "## 5. Conclusiones\n",
        "La **derivación numérica** nos permite dar una aproximación cercana a lo esperado, respecto a una función dada, además de este método poder resolver derivadas que de otra forma no se podrían resolver, llegando así a dar resultados necesearios del fenómemo al cual se vaya implementar; este método nos refleja una aproximación precisa, a exepción de los extremos de dos puntos, a los cuales si se desea tener un mejor resultado se debe de ampliar los datos o puntos de aproximación a emplear en el fenómeno\n",
        "\n",
        " \n",
        "En la integración nos permite abarcar resultados mas aproximados gracias al método de **Simpson $\\frac{3}{8}$**, permitiendo resolver integrales definidas de forma numérica, aprovechando este método para los fenómemos que se puedan implementar a nivel computacional, gracias a su rápida convergencia, sin perjudicar la tasa de error.\n",
        "\n",
        "\n",
        "La derivación e integracion numpérica nos concluye las dos diferentes formas de plasmar la aproximación del resultado de una función dada que nos permite resolver un problema numéricamente, además de facilitarnos la graficacion de esta, olos detalles y acciomas que se puedan presentar en el fenómeno dado."
      ]
    },
    {
      "cell_type": "markdown",
      "metadata": {
        "id": "Ggip3qvriwBl"
      },
      "source": [
        "## 6. Referencias"
      ]
    },
    {
      "cell_type": "markdown",
      "metadata": {
        "id": "ZrhJPErCTYzN"
      },
      "source": [
        "- [Matemáticas Básicas. Aplicaciones de la Integral](http://132.248.164.227/publicaciones/docs/apuntes_matematicas/31.%20Aplicaciones%20de%20la%20Integral.pdf#)\n",
        "- [La regla de Simpson: la fórmula y cómo funciona](https://www.freecodecamp.org/espanol/news/la-regla-de-simpson-la-formula-y-como-funciona/)\n",
        "- [Regla de Simpson](https://es.wikipedia.org/wiki/Regla_de_Simpson)\n",
        "- [Métodos Numéricos con Python - Parte 1 Cálculo Numérico](https://joanby.github.io/curso-numerico-1/)\n",
        "- [Derivación numérica Python](https://www.youtube.com/watch?v=ZhiuH9l_tB0)\n",
        "-[Derivacion e Integracion numerica](\n",
        "http://hyperphysics.phy-astr.gsu.edu/hbasees/Math/derint.html#:~:text=La%20derivada%20nos%20puede%20dar,como%20una%20funci%C3%B3n%20de%20x.\n",
        ")"
      ]
    }
  ],
  "metadata": {
    "colab": {
      "collapsed_sections": [
        "x2rerzFlh8uM",
        "--etRs6oiCaY",
        "bDEvs_dmiHN9",
        "2NMAcwWiiL2V",
        "lNYZn407irEc"
      ],
      "provenance": [],
      "toc_visible": true
    },
    "kernelspec": {
      "display_name": "Python 3.10.8 ('venv': venv)",
      "language": "python",
      "name": "python3"
    },
    "language_info": {
      "name": "python",
      "version": "3.10.8"
    },
    "vscode": {
      "interpreter": {
        "hash": "1dc376ffec5caecdc0a86d966f5e97e45537af940d2aef553cd87bae54f46a19"
      }
    }
  },
  "nbformat": 4,
  "nbformat_minor": 0
}
