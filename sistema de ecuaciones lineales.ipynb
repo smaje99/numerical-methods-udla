{
 "cells": [
  {
   "cell_type": "markdown",
   "metadata": {},
   "source": [
    "<div align=\"center\">\n",
    "    <h1>Sistema de Ecuaciones Lineales</h1>\n",
    "    <p>\n",
    "        Autores:</br>\n",
    "        Sergio Andrés Majé Franco</br>\n",
    "        Marleny Rojas Gómez</br>\n",
    "    </p>\n",
    "    <p>\n",
    "        Docente:</br>\n",
    "        Dr. Jesús Emilio Pinto Lopera</br>\n",
    "    </p>\n",
    "    <p>\n",
    "        Universidad de la Amazonia</br>\n",
    "        Facultad de Ingeniería</br>\n",
    "        Programa Ingeniería de Sistemas</br>\n",
    "        Florencia - Caquetá</br>\n",
    "        2022</br>\n",
    "    </p>\n",
    "</div>"
   ]
  },
  {
   "cell_type": "markdown",
   "metadata": {},
   "source": [
    "## Tabla de Contenido"
   ]
  },
  {
   "cell_type": "markdown",
   "metadata": {},
   "source": [
    "1. Introducción\n",
    "2. Desarrollo Metodológico\n",
    "    1. Desarrollo Teórico\n",
    "        1. Método de Eliminación Gauss\n",
    "            1. Eliminación Gaussiana con pivote\n",
    "        2. Método de de Gauss-Jordan\n",
    "            1. Eliminación Gauss-Jordan con pivoteo\n",
    "        3. Descomposición LU\n",
    "        4. Inversión de Matrices\n",
    "        5. Método de Gauss-Seidel\n",
    "    2. Desarrollo Computacional\n",
    "        1. Método de Eliminación Gauss\n",
    "        2. Método de de Gauss-Jordan\n",
    "        3. Descomposición LU\n",
    "        4. Inversión de Matrices\n",
    "        5. Método de Gauss-Seidel\n",
    "3. Resultados\n",
    "4. Conclusiones\n",
    "5. Referencias"
   ]
  },
  {
   "cell_type": "markdown",
   "metadata": {},
   "source": [
    "## Tabla de Formulas"
   ]
  },
  {
   "cell_type": "markdown",
   "metadata": {},
   "source": [
    "1. Formula 1. Eliminación Gaussiana con pivote - Eliminación hacia adelante\n",
    "2. Formula 2. Eliminación Gaussiana con pivote - Sustitución hacia atrás\n",
    "3. Formula 3. Método Gauss-Jordan - Transformación de la fila pivote - Matriz A\n",
    "4. Formula 4. Método Gauss-Jordan - Transformación de la fila pivote - Matriz b\n",
    "5. Formula 5. Método Gauss-Jordan - Transformación de la filas no pivote - Matriz A\n",
    "6. Formula 6. Método Gauss-Jordan - Transformación de la filas no pivote - Matriz b\n",
    "7. Formula 7. Descomposición LU - Descomposición de la Matriz A\n",
    "8. Formula 8. Descomposición LU - Matriz LU de la matriz A\n",
    "9. Formula 9. Descomposición LU - Igualdad de LU con y\n",
    "10. Formula 10. Inversion de Matrices - Matriz identidad\n",
    "11. Formula 11. Inversion de Matrices - Despejar x\n",
    "12. Formula 12. Método Gauss-Seidel\n",
    "13. Formula 13. Método Gauss-Seidel - Criterio\n",
    "14. Formula 14. Método Gauss-Seidel - Convergencia\n",
    "15. Formula 15. Método Gauss-Seidel - Generalización"
   ]
  },
  {
   "cell_type": "markdown",
   "metadata": {},
   "source": [
    "## Tabla de Gráficos"
   ]
  },
  {
   "cell_type": "markdown",
   "metadata": {},
   "source": [
    "## Tabla de Tablas"
   ]
  },
  {
   "cell_type": "markdown",
   "metadata": {},
   "source": [
    "## 1. Introducción"
   ]
  },
  {
   "cell_type": "markdown",
   "metadata": {},
   "source": [
    "## 2. Desarrollo Metodológico"
   ]
  },
  {
   "cell_type": "markdown",
   "metadata": {},
   "source": [
    "### 2.1 Desarrollo Teórico"
   ]
  },
  {
   "cell_type": "markdown",
   "metadata": {},
   "source": [
    "#### 2.1.1 Método de Eliminación Gauss"
   ]
  },
  {
   "cell_type": "markdown",
   "metadata": {},
   "source": [
    "La eliminación gaussiana también se conoce como el método de reducción de filas. Es un algoritmo comúnmente utilizado para resolver problemas lineales. El algoritmo implica una serie de operaciones de fila en una matriz de coeficientes extraídos de las ecuaciones lineales hasta que la matriz se reduce a la forma escalonada.\n",
    "\n",
    "Las siguientes tres operaciones se realizan cuando se transforma una matriz en una forma escalonada. Éstos incluyen:\n",
    "\n",
    "* Multiplicar una fila por un escalar y sumarlo o restarlo de otra fila.\n",
    "* Intercambio de filas.\n",
    "* Multiplicar filas con un escalar.\n",
    "\n",
    "Una matriz está en forma escalonada de filas si el primer elemento de cada fila, también conocido como la entrada inicial, es un cero; la entrada inicial de cada fila está una columna a la derecha de la entrada inicial de la fila anterior. Además, las filas con elementos cero deben estar debajo de los elementos que tienen filas distintas de cero.\n",
    "\n",
    "Las operaciones de fila se clasifican en gran medida en dos. La eliminación directa implica reducir una matriz a forma escalonada para determinar si existe una solución viable y si es finita o infinita. Por otro lado, la sustitución hacia atrás reduce aún más la matriz a la forma escalonada reducida por filas."
   ]
  },
  {
   "cell_type": "markdown",
   "metadata": {},
   "source": [
    "##### 2.1.1.1 Eliminación Gaussiana con pivote"
   ]
  },
  {
   "cell_type": "markdown",
   "metadata": {},
   "source": [
    "$$ A_k = A_k - A_i \\cdot \\frac{a_{k, i}}{a_{i, i}} $$\n",
    "\n",
    "<div align=\"center\">\n",
    "    Formula 1. Eliminación Gaussiana con pivote - Eliminación hacia adelante\n",
    "</div>"
   ]
  },
  {
   "cell_type": "markdown",
   "metadata": {},
   "source": [
    "$$ x_i = \\frac{b^{(i - 1)}_{i} - \\sum^{n}_{j = i + 1} A^{(i - 1)}_{i, j} \\cdot x_j}{A^{(i - 1)}_{i, i}} $$\n",
    "\n",
    "<div align=\"center\">\n",
    "    Formula 2. Eliminación Gaussiana con pivote - Sustitución hacia atrás\n",
    "</div>"
   ]
  },
  {
   "cell_type": "markdown",
   "metadata": {},
   "source": [
    "Pivotar es el intercambio de filas y columnas para obtener el elemento de pivote adecuado. Un elemento de pivote adecuado debe ser distinto de cero y significativamente grande pero más pequeño en comparación con las otras entradas de la fila.\n",
    "\n",
    "El pivote se clasifica en pivote parcial y pivote completo. Bajo el algoritmo de pivote parcial, el elemento más grande se considera el elemento pivote para minimizar los errores de redondeo.\n",
    "\n",
    "Por otro lado, el pivoteo completo incluye el intercambio de filas y columnas para obtener el mejor elemento de pivote, aumentando así la precisión.\n",
    "\n",
    "Un conjunto de ecuaciones se considera lineal si ninguna variable tiene un exponente de más de uno. La eliminación gaussiana implica una serie de pasos; el primer paso consiste en crear una matriz de coeficientes.\n",
    "\n",
    "Una matriz de coeficientes es simplemente una matriz de coeficientes extraídos de un conjunto de ecuaciones lineales. El siguiente paso consiste en crear una matriz aumentada que luego se somete a una serie de operaciones que la reducen a una forma escalonada.\n",
    "\n",
    "Sin embargo, en los casos en que el elemento pivote sea cero o de muy pequeña magnitud, tenemos que intercambiar la fila pivote con una fila inferior.\n",
    "\n",
    "Luego podemos leer el contenido de la matriz aumentada, aplicar el método de eliminación, sustitución hacia atrás y finalmente mostrar la respuesta."
   ]
  },
  {
   "cell_type": "markdown",
   "metadata": {},
   "source": [
    "#### 2.1.2 Método Gauss-Jordan"
   ]
  },
  {
   "cell_type": "markdown",
   "metadata": {},
   "source": [
    "El método de Gauss-Jordan se basa en transformar una matriz, utilizando operaciones para resolver sistemas de ecuaciones de n número de variables. El uso de este método consiste en saber aplicarlo en cada operación que se vaya a realizar, implementándose en toda la fila o a toda la columna según el ejercicio.\n",
    "\n",
    "Tiene como objetivo principal, tratar de convertir lo que conlleva en la matriz, los coeficientes de las variables en una matriz de identidad o matriz de escalón reducida, y todo se logra a partir de las distintas operaciones como la eliminación, escalamiento e intercambio de filas y columnas.\n"
   ]
  },
  {
   "cell_type": "markdown",
   "metadata": {},
   "source": [
    "##### 2.1.2.1. Eliminación Gauss-Jordan con pivoteo"
   ]
  },
  {
   "cell_type": "markdown",
   "metadata": {},
   "source": [
    "$$\n",
    "a^{*}_{k, j} = \\frac{a_{k, j}}{a_{k, k}}\n",
    "\\left\\lbrace\n",
    "\\begin{array}{ll}\n",
    "\\textup{} k = 1, ..., n\\\\\n",
    "\\textup{} j = k, ..., n\n",
    "\\end{array}\n",
    "\\right.\n",
    "$$\n",
    "\n",
    "<div align=\"center\">\n",
    "    Formula 3. Método Gauss-Jordan - Transformación de la fila pivote - Matriz A\n",
    "</div>\n",
    "\n",
    "$$\n",
    "b^{*}_{k} = \\frac{b_{k}}{a_{k, k}}\n",
    "\\left\\lbrace\n",
    "\\begin{array}{ll}\n",
    "\\textup{} k = 1, ..., n\n",
    "\\end{array}\n",
    "\\right.\n",
    "$$\n",
    "\n",
    "<div align=\"center\">\n",
    "    Formula 4. Método Gauss-Jordan - Transformación de la fila pivote - Matriz b\n",
    "</div>"
   ]
  },
  {
   "cell_type": "markdown",
   "metadata": {},
   "source": [
    "$$\n",
    "a^{*}_{i, j} = a_{i, j} - a_{i, j} \\cdot a^{*}_{k, j}\n",
    "\\left\\lbrace\n",
    "\\begin{array}{ll}\n",
    "\\textup{} k = 1, ..., n\\\\\n",
    "\\textup{} i = 1, ..., n, i \\neq k\\\\\n",
    "\\textup{} j = k, ..., n\n",
    "\\end{array}\n",
    "\\right.\n",
    "$$\n",
    "\n",
    "<div align=\"center\">\n",
    "    Formula 5. Método Gauss-Jordan - Transformación de la filas no pivote - Matriz A\n",
    "</div>\n",
    "\n",
    "$$\n",
    "b^{*}_{i} = b_{i} - a_{i, k} \\cdot b^{*}_{k}\n",
    "\\left\\lbrace\n",
    "\\begin{array}{ll}\n",
    "\\textup{} k = 1, ..., n\\\\\n",
    "\\textup{} i = 1, ..., n, i \\neq k\n",
    "\\end{array}\n",
    "\\right.\n",
    "$$\n",
    "\n",
    "<div align=\"center\">\n",
    "    Formula 6. Método Gauss-Jordan - Transformación de la filas no pivote - Matriz b\n",
    "</div>"
   ]
  },
  {
   "cell_type": "markdown",
   "metadata": {},
   "source": [
    "Al igual que el proceso de pivote para la eliminación Gaussiana, en la eliminación Gauss-Jordan es muy simular en la serie de pasos a aplicar.\n",
    "\n",
    "El primer paso consiste en crear una matriz de coeficientes y de constantes.\n",
    "\n",
    "El siguiente paso consiste en crear una matriz aumentada que luego se somete a una serie de operaciones iterativas que la reducen a una forma escalonada.\n",
    "\n",
    "Sin embargo, en los casos en que el elemento pivote sea cero o de muy pequeña magnitud, tenemos que intercambiar la fila pivote con una fila inferior.\n",
    "\n",
    "Luego podemos leer el contenido de la matriz aumentada, aplicar la división del pivote descrito en la formulas 3 y 4, el método de eliminación descrito en la formulas 5 y 6, y finalmente mostrar la respuesta."
   ]
  },
  {
   "cell_type": "markdown",
   "metadata": {},
   "source": [
    "#### 2.1.3 Descomposición LU"
   ]
  },
  {
   "cell_type": "markdown",
   "metadata": {},
   "source": [
    "Este método sirve para resolver sistemas de ecuaciones lineales debido a que consiste, como lo su nombre lo indica, en la descomposición de la matriz de coeficientes ($ A $) en dos matrices diferentes ($ L $ y $ U $).\n",
    "\n",
    "$$ A = L \\cdot U $$\n",
    "\n",
    "<div align=\"center\">\n",
    "    Formula 7. Descomposición LU - Descomposición de la Matriz A\n",
    "</div>\n",
    "\n",
    "La matriz $ L $ va a ser una matriz triangular inferior de $ A $.\n",
    "\n",
    "La matriz $ U $ va a ser una matriz triangular superior de $ A $ con la diagonal igual a $ 1 $.\n",
    "\n",
    "$$ L \\cdot U \\cdot x = b $$\n",
    "\n",
    "<div align=\"center\">\n",
    "    Formula 8. Descomposición LU - Matriz LU de la matriz A\n",
    "</div>\n",
    "\n",
    "Para el desarrollo de este método se igualan las matrices $ LU $ con una variable para facilitar su implementación.\n",
    "\n",
    "$$\n",
    "U \\cdot x = y\n",
    "\\hspace{1cm}\n",
    "L \\cdot y = b\n",
    "$$\n",
    "\n",
    "<div align=\"center\">\n",
    "    Formula 9. Descomposición LU - Igualdad de LU con y\n",
    "</div>\n",
    "\n",
    "Una vez igualadas las matrices $ LU $ a una variable se debe ampliar la matriz $ L $ con el sistema de nuevas variables e igualarlas a las constantes de la matriz $ A $, luego se convierte a un sistema de ecuaciones lineales y se resuelven las incógnitas.\n",
    "\n",
    "Obtenidas las incógnitas del nuevo sistema de variables se halla $ U \\cdot x = y $ ampliando la matriz con el sistema de variables de la matriz $ A $ y reemplazando las constantes de $ A $ por las incógnitas halladas en el sistema de variables nuevo. luego, al igual que en el paso anterior se debe convertir a un sistema de ecuaciones lineales y resolver las incógnitas.\n",
    "\n",
    "El resultado de las incógnitas del paso anterior serán el resultado del sistema de ecuaciones lineales original ($ A \\cdot x = b $).\n",
    "\n",
    "Se debe tener presente que, al momento de resolver la matriz, y es $ 2 x 2 $ se hace con $ 1 $ iteración, $ 3 x 3 $ con $ 2 $ y así sucesivamente con el resto."
   ]
  },
  {
   "cell_type": "markdown",
   "metadata": {},
   "source": [
    "#### 2.1.4 Inversión de Matrices"
   ]
  },
  {
   "cell_type": "markdown",
   "metadata": {},
   "source": [
    "Partimos de lo siguiente: si una matriz $ n * n $ es una matriz cuadrada de dimensión $n$, pero si el número de filas y columnas no son lo mismo es una matriz rectangular. Por lo tanto, A una matriz cuadrada de dimensión $n$, entonces $B$ es una matriz inversa de $A$ si se cumplen.\n",
    "\n",
    "$$ A \\cdot B = I_n = B \\cdot A $$\n",
    "\n",
    "<div align=\"center\">\n",
    "    Formula 10. Inversion de Matrices - Matriz identidad\n",
    "</div>\n",
    "\n",
    "Donde, $I_n$ es la matriz de identidad con dimensión $n$.\n",
    "\n",
    "Se considera que la dimensión $B$ también debe ser nxn para llevar el calculo del contenido matricial por ambos. En el transcurso de las definiciones conoceremos que en realidad solo existe una matriz inversa donde si se cumple una de las dos igualdades se cumplirá la otra, para eso es necesario llevar detalladamente le procedimiento y los pasos a seguir para cada matriz, por lo tanto, dicha matriz es única, se denota como $A - 1$ y esto se lee la inversa de $A$.\n",
    "\n",
    "• Para conocer un poco se debe tener presente que no todas las matrices cuadradas tienen inversa\n",
    "• Por ejemplo, si la matriz $A$ tiene inversa, de deduce que es regular o invisible sino entonces es singular\n",
    "• Para multiplicar por uno y otro, se debe tener en cuenta que las dimensiones deben ser las apropiadas.\n",
    "\n",
    "La inversa de una matriz es única: sea A una matriz de dimensión n, por lo tanto solo tiene una matriz inversa y se le puede asignar un nombre propio.\n",
    "\n",
    "Para la obtención de una matriz inversa nos presenta que existen diversos métodos para los cuales se puede llevar a cabo el calculo de la matriz y entre los más utilizados están matriz inversa por Gauss y a partir de la matriz adjunta.\n",
    "\n",
    "La grata conclusión que se puede obtener una vez vista los parámetros, como y para que sirve la inversa de una matriz, podemos deducir que representa una herramienta importante para toda solución de sistemas de ecuaciones lineales, que es el tema principal abordado en este documento y que cada matriz conlleva un procedimiento de acuerdo con su método.\n",
    "\n",
    "$$\n",
    "A \\cdot x = b\\\\\n",
    "x = A^{-1} \\cdot b\n",
    "$$\n",
    "\n",
    "<div align=\"center\">\n",
    "    Formula 11. Inversion de Matrices - Despejar x\n",
    "</div>"
   ]
  },
  {
   "cell_type": "markdown",
   "metadata": {},
   "source": [
    "#### 2.1.5 Método Gauss-Seidel"
   ]
  },
  {
   "cell_type": "markdown",
   "metadata": {},
   "source": [
    "El método de Gauss-Seidel surgió de una mejoría al método Jacobs, acelerando su convergencia, por medio de iteraciones a partir de un vector inicial encuentras los respectivos valores de las incógnitas hasta poder encontrar la tolerancia estimada.\n",
    "\n",
    "En punto es que cada vez que se estima encontrar un nuevo valor de una $ x_i $, usando los valores anteriores de las $ x $ también se puede utilizar los que actualmente se encuentran para con las $ x $, desde $ x_0 $ hasta $ x_i - 1 $.\n",
    "\n",
    "Para ello se presenta la siguiente ecuación:\n",
    "\n",
    "$$ x^{k}_{i} = \\frac{b_i - \\sum^{i - 1}_{j = 1}) a_{i, j} \\cdot x^{k}{j} - \\sum^{n}_{j = i + 1} a_{i, j} \\cdot x^{k - 1}}{a_{i, j}}$$\n",
    "\n",
    "<div align=\"center\">\n",
    "    Formula 12. Método Gauss-Seidel\n",
    "</div>\n",
    "\n",
    "Este método permite esencialmente recortar cierto número de iteraciones para lograr obtener el resultado esperado, los criterios que maneja son similares al método Jacobs.\n",
    "\n",
    "El siguiente criterio es aplicado en varias dimensiones, ecuaciones lineales que al resolverlas se espera un óptimo resultado, que no solo se resuelven con el método de Gauss-Seidel, también con el Punto Fijo y Jacobs. Al aplicarlo y evaluarlo se arroja la siguiente expresión:\n",
    "\n",
    "$$\n",
    "\\lvert \\frac{a_{2, 1}}{a_{2, 2}} \\rvert < 1\n",
    "\\hspace{1cm}\n",
    "\\lvert \\frac{a_{1, 2}}{a_{1, 1}} \\rvert < 1\n",
    "$$\n",
    "\n",
    "<div align=\"center\">\n",
    "    Formula 13. Método Gauss-Seidel - Criterio\n",
    "</div>\n",
    "\n",
    "Para asegurar la convergencia, en la ecuación el valor absoluto de las pendientes debe ser menos que la unidad.\n",
    "\n",
    "$$\n",
    "\\lvert a_{2, 2} \\rvert > \\lvert a_{2, 1} \\rvert\n",
    "\\hspace{1cm}\n",
    "\\lvert a_{1, 1} \\rvert > \\lvert a_{1, 2} \\rvert\n",
    "$$\n",
    "\n",
    "<div align=\"center\">\n",
    "    Formula 14. Método Gauss-Seidel - Convergencia\n",
    "</div>\n",
    "\n",
    "El elemento diagonal debe ser mayor al que está afuera de la diagonal, para ello la generalización seria:\n",
    "\n",
    "$$\n",
    "\\lvert a_{i, i} \\rvert > \\sum^{n}_{j = i} \\lvert a_{i, j} \\rvert\n",
    "\\left\\lbrace\n",
    "\\begin{array}{ll}\n",
    "j \\neq i\n",
    "\\end{array}\n",
    "\\right.\n",
    "$$\n",
    "\n",
    "<div align=\"center\">\n",
    "    Formula 15. Método Gauss-Seidel - Generalización\n",
    "</div>\n",
    "\n",
    "En el transcurso del trabajo implementado sobre este método, se puede deducir que el método de Gauss-Seidel utiliza la misma transformación que el método de jacobi, dando una mejoría y ambos aportando gran equivalencia para la solución de los sistemas de ecuaciones lineales llevándolo a la aproximación sucesiva en la solución de estas ecuaciones."
   ]
  },
  {
   "cell_type": "markdown",
   "metadata": {},
   "source": [
    "### 2.2 Desarrollo Computacional"
   ]
  },
  {
   "cell_type": "markdown",
   "metadata": {},
   "source": [
    "Para el desarrollo de computacional relacionado a este informe se uso el lenguaje de programación Python 3.10.7 y las siguientes librerías:\n",
    "\n",
    "* timeit - librería especializada en el manejo del tiempo con mayor precisión.\n",
    "* numpy - se especializa en el cálculo, transformación y análisis de datos numéricos.\n",
    "* pandas - permite la manipulación y análisis de datos sobre tablas numéricas y series temporales."
   ]
  },
  {
   "cell_type": "code",
   "execution_count": 1,
   "metadata": {},
   "outputs": [],
   "source": [
    "from timeit import default_timer as timer\n",
    "\n",
    "import numpy as np\n",
    "import pandas as pd"
   ]
  },
  {
   "cell_type": "markdown",
   "metadata": {},
   "source": [
    "Para medir el tiempo transcurrido de los algoritmos y funciones que se implementan en este informe se empleo la función decorador ```count_elapsed_time()```."
   ]
  },
  {
   "cell_type": "code",
   "execution_count": 2,
   "metadata": {},
   "outputs": [],
   "source": [
    "def count_elapsed_time(func):\n",
    "    '''\n",
    "    Decorador.\n",
    "    Ejecuta la función y calcula el tiempo transcurrido.\n",
    "    Retorna el resultado de la función y el tiempo transcurrido.\n",
    "    '''\n",
    "    def wrapper(*args, **kwargs):\n",
    "        start_time = timer()\n",
    "        ret = func(*args, **kwargs)\n",
    "        elapsed_time = timer() - start_time\n",
    "        return (ret, elapsed_time)\n",
    "\n",
    "    return wrapper"
   ]
  },
  {
   "cell_type": "markdown",
   "metadata": {},
   "source": [
    "El método ```solve``` dará solución al sistema de ecuaciones $ A \\cdot x = b $ mediante el método de desarrollo especificado."
   ]
  },
  {
   "cell_type": "code",
   "execution_count": 3,
   "metadata": {},
   "outputs": [],
   "source": [
    "@count_elapsed_time\n",
    "def solve(A: np.array, b: np.array, method, table: list, *args, **kwargs) -> np.array:\n",
    "    '''Resuelve un sistema de ecuaciones Ax = b, por medio del método dado.\n",
    "\n",
    "    Args:\n",
    "        A (np.array): Matriz A.\n",
    "        b (np.array): Matriz b.\n",
    "        method (function): Método para resolve el sistema de ecuaciones.\n",
    "        table (list): Recolección de datos del procedimiento.\n",
    "\n",
    "    Raises:\n",
    "        ValueError: Las filas y columnas de la matriz A deben ser iguales.\n",
    "        ValueError: El tamaño de la matriz b debe coincidir con el de la matriz A.\n",
    "\n",
    "    Returns:\n",
    "        np.array: Matriz x. Solución del sistema de ecuaciones.\n",
    "    '''\n",
    "    m, n = A.shape[-2:]\n",
    "    if m != n:\n",
    "        raise ValueError('Las filas y columnas de la matriz A deben ser iguales.')\n",
    "\n",
    "    if len(A) != len(b):\n",
    "        raise ValueError(f'El tamaño matriz b debe ser de {len(A)}')\n",
    "\n",
    "    return method(A, b, table=table, *args, **kwargs)"
   ]
  },
  {
   "cell_type": "markdown",
   "metadata": {},
   "source": [
    "#### 2.2.1 Método de Eliminación de Gauss"
   ]
  },
  {
   "cell_type": "code",
   "execution_count": 4,
   "metadata": {},
   "outputs": [],
   "source": [
    "def gauss(A: np.array, b: np.array, table: list) -> np.array:\n",
    "    '''Implementación del método de eliminación de Gauss con pivote\n",
    "    para la resolución de sistemas de ecuaciones lineales Ax=b.\n",
    "\n",
    "    Args:\n",
    "        A (np.array): Matriz A.\n",
    "        b (np.array): Matriz b.\n",
    "        table (list): Recolección de datos del procedimiento.\n",
    "\n",
    "    Returns:\n",
    "        np.array: Matriz x. Solución del sistema de ecuaciones.\n",
    "    '''\n",
    "    n = len(b)\n",
    "    x = np.zeros(n, np.float64)\n",
    "    A_aux = np.copy(A)\n",
    "    b_aux = np.copy(b)\n",
    "\n",
    "    for k in range(n - 1):\n",
    "        # Intercambio de filas\n",
    "        if np.fabs(A_aux[k, k]) < 1.0e-12:\n",
    "            for i in range(k + 1, n):\n",
    "                if np.fabs(A_aux[i, k]) > np.fabs(A_aux[k, k]):\n",
    "                    A_aux[[k, i]] = A_aux[[i, k]]\n",
    "                    b_aux[[k, i]] = b_aux[[i, k]]\n",
    "\n",
    "                    table.append([k, 'Intercambio', i, None, None])\n",
    "\n",
    "                    break\n",
    "\n",
    "        # Eliminación hacia adelante\n",
    "        for i in range(k + 1, n):\n",
    "            if A_aux[i, k] == 0:\n",
    "                continue\n",
    "\n",
    "            factor = A_aux[k, k] / A_aux[i, k]\n",
    "\n",
    "            A_aux[i, k:] = A_aux[k, k:] - A_aux[i, k:] * factor\n",
    "            b_aux[i] = b_aux[k] - b_aux[i] * factor\n",
    "\n",
    "            table.append([k, 'Eliminación', i, factor, None])\n",
    "\n",
    "    # Sustitución hacia atrás\n",
    "    x[n - 1] = b_aux[n - 1] / A_aux[n - 1, n - 1]\n",
    "\n",
    "    table.append([None, 'Sustitución', n - 1, None, None])\n",
    "\n",
    "    for i in range(n - 2, -1, -1):\n",
    "        sum_ax = sum(A_aux[i, j] * x[j] for j in range(i + 1, n))\n",
    "        x[i] = (b_aux[i] - sum_ax) / A_aux[i, i]\n",
    "\n",
    "        table.append([None, 'Sustitución', i, None, sum_ax])\n",
    "\n",
    "    return x"
   ]
  },
  {
   "cell_type": "markdown",
   "metadata": {},
   "source": [
    "#### 2.2.2 Método de Gauss-Jordan"
   ]
  },
  {
   "cell_type": "code",
   "execution_count": 5,
   "metadata": {},
   "outputs": [],
   "source": [
    "def gauss_jordan(A: np.array, b: np.array, table: list) -> np.array:\n",
    "    '''Implementación del método de eliminación de Gauss-Jordan con pivote.\n",
    "\n",
    "    Args:\n",
    "        A (np.array): Matriz A.\n",
    "        b (np.array): Matriz b.\n",
    "        table (list): Recolección de datos del procedimiento.\n",
    "\n",
    "    Returns:\n",
    "        np.array: Matriz x. Solución del sistema de ecuaciones.\n",
    "    '''\n",
    "    n = len(b)\n",
    "    A_aux = np.copy(A)\n",
    "    b_aux = np.copy(b)\n",
    "\n",
    "    for k in range(n):\n",
    "        # Intercambio de filas\n",
    "        if np.fabs(A_aux[k, k]) < 1.0e-12:\n",
    "            for i in range(k + 1, n):\n",
    "                if np.fabs(A_aux[i, k]) > np.fabs(A_aux[k, k]):\n",
    "                    A_aux[[k, i]] = A_aux[[i, k]]\n",
    "                    b_aux[[k, i]] = b_aux[[i, k]]\n",
    "                    table.append([k, 'Intercambio', i, None, None])\n",
    "                    break\n",
    "\n",
    "        # División del pivote\n",
    "        pivot = A_aux[k, k]\n",
    "        A_aux[k, k:] /= pivot\n",
    "        b_aux[k] /= pivot\n",
    "\n",
    "        # Eliminación\n",
    "        for i in range(n):\n",
    "            if i == k or A_aux[i, k] == 0:\n",
    "                continue\n",
    "\n",
    "            factor = A_aux[i, k]\n",
    "            A_aux[i, k:] -= A_aux[k, k:] * factor\n",
    "            b_aux[i] -= b_aux[k] * factor\n",
    "\n",
    "            table.append([k, 'Eliminación', i, pivot, factor])\n",
    "\n",
    "    return b_aux"
   ]
  },
  {
   "cell_type": "markdown",
   "metadata": {},
   "source": [
    "#### 2.2.3 Descomposición LU"
   ]
  },
  {
   "cell_type": "code",
   "execution_count": 6,
   "metadata": {},
   "outputs": [],
   "source": [
    "def lu_factor(A: np.ndarray) -> tuple[np.ndarray]:\n",
    "    '''Factorización LU con pivote parcial.\n",
    "\n",
    "    Args:\n",
    "        A (np.ndarray): Matriz A.\n",
    "\n",
    "    Returns:\n",
    "        tuple[np.ndarray]: Matriz LU y pivote.\n",
    "    '''\n",
    "    n = A.shape[0]\n",
    "    A = np.copy(A)\n",
    "    piv = np.arange(0, n)\n",
    "    for k in range(n - 1):\n",
    "        # pivote\n",
    "        max_row_index = np.argmax(abs(A[k:n, k])) + k\n",
    "        piv[[k, max_row_index]] = piv[[max_row_index, k]]\n",
    "        A[[k, max_row_index]] = A[[max_row_index, k]]\n",
    "\n",
    "        # LU\n",
    "        for i in range(k+1, n):\n",
    "            A[i, k] = A[i, k] / A[k, k]\n",
    "            for j in range(k + 1, n):\n",
    "                A[i, j] -= A[i, k] * A[k, j]\n",
    "\n",
    "    return A, piv\n",
    "\n",
    "\n",
    "def forward_substitution(L: np.ndarray, b: np.ndarray) -> np.ndarray:\n",
    "    '''Sustitución hacia adelante para resolver Ly = b.\n",
    "\n",
    "    Args:\n",
    "        L (np.ndarray): Matriz L.\n",
    "        b (np.ndarray): Matriz b.\n",
    "\n",
    "    Returns:\n",
    "        np.ndarray: Matriz y.\n",
    "    '''\n",
    "    b = np.copy(b)\n",
    "\n",
    "    for i in range(L.shape[0]):\n",
    "        for j in range(i):\n",
    "            b[i] -= L[i,j] * b[j]\n",
    "\n",
    "    return b\n",
    "\n",
    "\n",
    "def backward_substitution(U: np.ndarray, y: np.ndarray) -> np.ndarray:\n",
    "    '''Sustitución hacia atrás para resolver Ux = y.\n",
    "\n",
    "    Args:\n",
    "        U (np.ndarray): Matriz U.\n",
    "        y (np.ndarray): Matriz y.\n",
    "\n",
    "    Returns:\n",
    "        np.ndarray: Matriz x.\n",
    "    '''\n",
    "    y = np.copy(y)\n",
    "\n",
    "    for i in range(U.shape[0] - 1, -1, -1):\n",
    "        for j in range(i + 1, U.shape[1]):\n",
    "            y[i] -= U[i, j] * y[j]\n",
    "        y[i] = y[i] / U[i, i]\n",
    "\n",
    "    return y\n",
    "\n",
    "\n",
    "def LU_decompose(A: np.ndarray, b: np.ndarray, *, table: list) -> np.ndarray:\n",
    "    '''Implementación de la descomposición LU.\n",
    "\n",
    "    Args:\n",
    "        A (np.ndarray): Matriz A.\n",
    "        b (np.ndarray): Matriz B.\n",
    "        table (list): Recolección de datos del procedimiento.\n",
    "\n",
    "    Returns:\n",
    "        np.ndarray: Matriz x. Solución del sistema de ecuaciones.\n",
    "    '''\n",
    "    LU, piv = lu_factor(A)\n",
    "    b = b[piv]  # intercambio de filas\n",
    "    y = forward_substitution(LU, b)\n",
    "    return backward_substitution(LU, y)"
   ]
  },
  {
   "cell_type": "markdown",
   "metadata": {},
   "source": [
    "#### 2.2.4 Inversión de Matrices"
   ]
  },
  {
   "cell_type": "code",
   "execution_count": 7,
   "metadata": {},
   "outputs": [],
   "source": [
    "def inversion(A: np.ndarray, b: np.ndarray, *, table: list) -> np.ndarray:\n",
    "    '''Implementación del método de inversión de matrices.\n",
    "\n",
    "    Args:\n",
    "        A (np.ndarray): Matriz A.\n",
    "        b (np.ndarray): Matriz b.\n",
    "        table (list): Recolección de datos del procedimiento.\n",
    "\n",
    "    Raises:\n",
    "        ValueError: determinante de A es igual a cero.\n",
    "\n",
    "    Returns:\n",
    "        np.ndarray: Matriz x.\n",
    "    '''\n",
    "    if np.linalg.det == 0:\n",
    "        raise ValueError('La sistema de ecuaciones no tiene solución por medio de este método')\n",
    "\n",
    "    A_inv = np.linalg.inv(A)\n",
    "\n",
    "    return A_inv.dot(b)"
   ]
  },
  {
   "cell_type": "markdown",
   "metadata": {},
   "source": [
    "#### 2.2.5 Método de Gauss-Seidel"
   ]
  },
  {
   "cell_type": "code",
   "execution_count": 8,
   "metadata": {},
   "outputs": [],
   "source": [
    "def gauss_seidel(\n",
    "    A: np.array,\n",
    "    b: np.array,\n",
    "    *,\n",
    "    error_total: float = 1.0e-4,\n",
    "    table: list\n",
    ") -> np.array:\n",
    "    '''\n",
    "    Implementación del método de Gauss-Seidel.\n",
    "\n",
    "    Args:\n",
    "        A (np.array): Matriz A.\n",
    "        b (np.array): Matriz b.\n",
    "        error_total (float): Error permitido.\n",
    "        table (list): Recolección de datos del procedimiento.\n",
    "\n",
    "    Returns:\n",
    "        np.array: Matriz x. Solución del sistema de ecuaciones.\n",
    "    '''\n",
    "    error = np.ones(len(b))\n",
    "    x = np.zeros(len(b))\n",
    "    aux = np.zeros(len(b))\n",
    "    L = np.tril(A)\n",
    "    U = A - L\n",
    "    i = 0\n",
    "\n",
    "    while any(error > error_total):\n",
    "        x = np.dot(\n",
    "            np.linalg.inv(L),\n",
    "            b - U.dot(x)\n",
    "        )\n",
    "\n",
    "        error = x - aux\n",
    "        aux = x\n",
    "\n",
    "        table.append([i:=i + 1, x, error])\n",
    "\n",
    "    return x"
   ]
  },
  {
   "cell_type": "markdown",
   "metadata": {},
   "source": [
    "## 3. Resultados"
   ]
  },
  {
   "cell_type": "markdown",
   "metadata": {},
   "source": [
    "## 4. Conclusiones"
   ]
  },
  {
   "cell_type": "markdown",
   "metadata": {},
   "source": [
    "## 5. Referencias"
   ]
  },
  {
   "cell_type": "markdown",
   "metadata": {},
   "source": [
    "* [Gaussian Elimination Using Pivoting in Python](https://www.delftstack.com/howto/python/gaussian-elimination-using-pivoting/)\n",
    "* [Gauss Jordan Method Python Program (With Output)](https://www.codesansar.com/numerical-methods/gauss-jordan-method-python-program-output.htm)\n",
    "* [Gauss-Jordan Method Tutorial - Step-By-Step Theory & Coding | Numerical Computing with Python](https://youtu.be/xOLJMKGNivU)\n",
    "* [Python Programming - Gauss Seidel Method | Linear Algebra](https://youtu.be/c6Ng-_Kf2KM)\n",
    "* [Python : Décomposition LU](https://youtu.be/lhPh5Gp2RNg)\n",
    "* [How to implement LU decomposition with partial pivoting in Python?](https://stackoverflow.com/questions/28441509/how-to-implement-lu-decomposition-with-partial-pivoting-in-python)\n",
    "* [Resolución de sistemas de tres ecuaciones por matriz inversa](https://youtu.be/DnLfqXGgEtw)"
   ]
  }
 ],
 "metadata": {
  "kernelspec": {
   "display_name": "Python 3.10.7 ('venv': venv)",
   "language": "python",
   "name": "python3"
  },
  "language_info": {
   "codemirror_mode": {
    "name": "ipython",
    "version": 3
   },
   "file_extension": ".py",
   "mimetype": "text/x-python",
   "name": "python",
   "nbconvert_exporter": "python",
   "pygments_lexer": "ipython3",
   "version": "3.10.8"
  },
  "orig_nbformat": 4,
  "vscode": {
   "interpreter": {
    "hash": "1dc376ffec5caecdc0a86d966f5e97e45537af940d2aef553cd87bae54f46a19"
   }
  }
 },
 "nbformat": 4,
 "nbformat_minor": 2
}
