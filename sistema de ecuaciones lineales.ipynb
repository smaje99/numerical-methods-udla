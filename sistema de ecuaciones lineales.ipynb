{
 "cells": [
  {
   "cell_type": "markdown",
   "metadata": {},
   "source": [
    "<div align=\"center\">\n",
    "    <h1>Sistema de Ecuaciones Lineales</h1>\n",
    "    <p>\n",
    "        Autores:</br>\n",
    "        Sergio Andrés Majé Franco</br>\n",
    "        Marleny Rojas Gómez</br>\n",
    "    </p>\n",
    "    <p>\n",
    "        Docente:</br>\n",
    "        Dr. Jesús Emilio Pinto Lopera</br>\n",
    "    </p>\n",
    "    <p>\n",
    "        Universidad de la Amazonia</br>\n",
    "        Facultad de Ingeniería</br>\n",
    "        Programa Ingeniería de Sistemas</br>\n",
    "        Florencia - Caquetá</br>\n",
    "        2022</br>\n",
    "    </p>\n",
    "</div>"
   ]
  },
  {
   "cell_type": "markdown",
   "metadata": {},
   "source": [
    "## Tabla de Contenido"
   ]
  },
  {
   "cell_type": "markdown",
   "metadata": {},
   "source": [
    "1. Introducción\n",
    "2. Desarrollo Metodológico\n",
    "    1. Desarrollo Teórico\n",
    "        1. Método de Eliminación Gauss\n",
    "            1. Eliminación Gaussiana con pivote\n",
    "        2. Método de de Gauss-Jordan\n",
    "            1. Eliminación Gauss-Jordan con pivoteo\n",
    "        3. Descomposición LU\n",
    "        4. Inversión de Matrices\n",
    "        5. Método de Gauss-Seidel\n",
    "        6. Método de Jacobs\n",
    "    2. Desarrollo Computacional\n",
    "        1. Método de Eliminación Gauss\n",
    "        2. Método de de Gauss-Jordan\n",
    "        3. Descomposición LU\n",
    "        4. Inversión de Matrices\n",
    "        5. Método de Gauss-Seidel\n",
    "        6. Método de Jacobs\n",
    "3. Resultados\n",
    "4. Conclusiones\n",
    "5. Referencias"
   ]
  },
  {
   "cell_type": "markdown",
   "metadata": {},
   "source": [
    "## Tabla de Formulas"
   ]
  },
  {
   "cell_type": "markdown",
   "metadata": {},
   "source": [
    "1. Formula 1. Eliminación Gaussiana con pivote - Eliminación hacia adelante\n",
    "2. Formula 2. Eliminación Gaussiana con pivote - Sustitución hacia atrás\n",
    "3. Formula 3. Método Gauss-Jordan - Transformación de la fila pivote - Matriz A\n",
    "4. Formula 4. Método Gauss-Jordan - Transformación de la fila pivote - Matriz b\n",
    "5. Formula 5. Método Gauss-Jordan - Transformación de la filas no pivote - Matriz A\n",
    "6. Formula 6. Método Gauss-Jordan - Transformación de la filas no pivote - Matriz b\n",
    "7. Formula 7. Método Gauss-Seidel\n",
    "8. Formula 8. Método Gauss-Seidel - Criterio\n",
    "9. Formula 9. Método Gauss-Seidel - Convergencia\n",
    "10. Formula 10. Método Gauss-Seidel - Generalización"
   ]
  },
  {
   "cell_type": "markdown",
   "metadata": {},
   "source": [
    "## Tabla de Gráficos"
   ]
  },
  {
   "cell_type": "markdown",
   "metadata": {},
   "source": [
    "## Tabla de Tablas"
   ]
  },
  {
   "cell_type": "markdown",
   "metadata": {},
   "source": [
    "## 1. Introducción"
   ]
  },
  {
   "cell_type": "markdown",
   "metadata": {},
   "source": [
    "## 2. Desarrollo Metodológico"
   ]
  },
  {
   "cell_type": "markdown",
   "metadata": {},
   "source": [
    "### 2.1 Desarrollo Teórico"
   ]
  },
  {
   "cell_type": "markdown",
   "metadata": {},
   "source": [
    "#### 2.1.1 Método de Eliminación Gauss"
   ]
  },
  {
   "cell_type": "markdown",
   "metadata": {},
   "source": [
    "La eliminación gaussiana también se conoce como el método de reducción de filas. Es un algoritmo comúnmente utilizado para resolver problemas lineales. El algoritmo implica una serie de operaciones de fila en una matriz de coeficientes extraídos de las ecuaciones lineales hasta que la matriz se reduce a la forma escalonada.\n",
    "\n",
    "Las siguientes tres operaciones se realizan cuando se transforma una matriz en una forma escalonada. Éstos incluyen:\n",
    "\n",
    "* Multiplicar una fila por un escalar y sumarlo o restarlo de otra fila.\n",
    "* Intercambio de filas.\n",
    "* Multiplicar filas con un escalar.\n",
    "\n",
    "Una matriz está en forma escalonada de filas si el primer elemento de cada fila, también conocido como la entrada inicial, es un cero; la entrada inicial de cada fila está una columna a la derecha de la entrada inicial de la fila anterior. Además, las filas con elementos cero deben estar debajo de los elementos que tienen filas distintas de cero.\n",
    "\n",
    "Las operaciones de fila se clasifican en gran medida en dos. La eliminación directa implica reducir una matriz a forma escalonada para determinar si existe una solución viable y si es finita o infinita. Por otro lado, la sustitución hacia atrás reduce aún más la matriz a la forma escalonada reducida por filas."
   ]
  },
  {
   "cell_type": "markdown",
   "metadata": {},
   "source": [
    "##### 2.1.1.1 Eliminación Gaussiana con pivote"
   ]
  },
  {
   "cell_type": "markdown",
   "metadata": {},
   "source": [
    "$$ A_k = A_k - A_i \\cdot \\frac{a_{k, i}}{a_{i, i}} $$\n",
    "\n",
    "<div align=\"center\">\n",
    "    Formula 1. Eliminación Gaussiana con pivote - Eliminación hacia adelante\n",
    "</div>"
   ]
  },
  {
   "cell_type": "markdown",
   "metadata": {},
   "source": [
    "$$ x_i = \\frac{b^{(i - 1)}_{i} - \\sum^{n}_{j = i + 1} A^{(i - 1)}_{i, j} \\cdot x_j}{A^{(i - 1)}_{i, i}} $$\n",
    "\n",
    "<div align=\"center\">\n",
    "    Formula 2. Eliminación Gaussiana con pivote - Sustitución hacia atrás\n",
    "</div>"
   ]
  },
  {
   "cell_type": "markdown",
   "metadata": {},
   "source": [
    "Pivotar es el intercambio de filas y columnas para obtener el elemento de pivote adecuado. Un elemento de pivote adecuado debe ser distinto de cero y significativamente grande pero más pequeño en comparación con las otras entradas de la fila.\n",
    "\n",
    "El pivote se clasifica en pivote parcial y pivote completo. Bajo el algoritmo de pivote parcial, el elemento más grande se considera el elemento pivote para minimizar los errores de redondeo.\n",
    "\n",
    "Por otro lado, el pivoteo completo incluye el intercambio de filas y columnas para obtener el mejor elemento de pivote, aumentando así la precisión.\n",
    "\n",
    "Un conjunto de ecuaciones se considera lineal si ninguna variable tiene un exponente de más de uno. La eliminación gaussiana implica una serie de pasos; el primer paso consiste en crear una matriz de coeficientes.\n",
    "\n",
    "Una matriz de coeficientes es simplemente una matriz de coeficientes extraídos de un conjunto de ecuaciones lineales. El siguiente paso consiste en crear una matriz aumentada que luego se somete a una serie de operaciones que la reducen a una forma escalonada.\n",
    "\n",
    "Sin embargo, en los casos en que el elemento pivote sea cero o de muy pequeña magnitud, tenemos que intercambiar la fila pivote con una fila inferior.\n",
    "\n",
    "Luego podemos leer el contenido de la matriz aumentada, aplicar el método de eliminación, sustitución hacia atrás y finalmente mostrar la respuesta."
   ]
  },
  {
   "cell_type": "markdown",
   "metadata": {},
   "source": [
    "#### 2.1.2 Método Gauss-Jordan"
   ]
  },
  {
   "cell_type": "markdown",
   "metadata": {},
   "source": [
    "El método de Gauss-Jordan se basa en transformar una matriz, utilizando operaciones para resolver sistemas de ecuaciones de n número de variables. El uso de este método consiste en saber aplicarlo en cada operación que se vaya a realizar, implementándose en toda la fila o a toda la columna según el ejercicio.\n",
    "\n",
    "Tiene como objetivo principal, tratar de convertir lo que conlleva en la matriz, los coeficientes de las variables en una matriz de identidad o matriz de escalón reducida, y todo se logra a partir de las distintas operaciones como la eliminación, escalamiento e intercambio de filas y columnas.\n"
   ]
  },
  {
   "cell_type": "markdown",
   "metadata": {},
   "source": [
    "##### 2.1.2.1. Eliminación Gauss-Jordan con pivoteo"
   ]
  },
  {
   "cell_type": "markdown",
   "metadata": {},
   "source": [
    "$$\n",
    "a^{*}_{k, j} = \\frac{a_{k, j}}{a_{k, k}}\n",
    "\\left\\lbrace\n",
    "\\begin{array}{ll}\n",
    "\\textup{} k = 1, ..., n\\\\\n",
    "\\textup{} j = k, ..., n\n",
    "\\end{array}\n",
    "\\right.\n",
    "$$\n",
    "\n",
    "<div align=\"center\">\n",
    "    Formula 3. Método Gauss-Jordan - Transformación de la fila pivote - Matriz A\n",
    "</div>\n",
    "\n",
    "$$\n",
    "b^{*}_{k} = \\frac{b_{k}}{a_{k, k}}\n",
    "\\left\\lbrace\n",
    "\\begin{array}{ll}\n",
    "\\textup{} k = 1, ..., n\n",
    "\\end{array}\n",
    "\\right.\n",
    "$$\n",
    "\n",
    "<div align=\"center\">\n",
    "    Formula 4. Método Gauss-Jordan - Transformación de la fila pivote - Matriz b\n",
    "</div>"
   ]
  },
  {
   "cell_type": "markdown",
   "metadata": {},
   "source": [
    "$$\n",
    "a^{*}_{i, j} = a_{i, j} - a_{i, j} \\cdot a^{*}_{k, j}\n",
    "\\left\\lbrace\n",
    "\\begin{array}{ll}\n",
    "\\textup{} k = 1, ..., n\\\\\n",
    "\\textup{} i = 1, ..., n, i \\neq k\\\\\n",
    "\\textup{} j = k, ..., n\n",
    "\\end{array}\n",
    "\\right.\n",
    "$$\n",
    "\n",
    "<div align=\"center\">\n",
    "    Formula 5. Método Gauss-Jordan - Transformación de la filas no pivote - Matriz A\n",
    "</div>\n",
    "\n",
    "$$\n",
    "b^{*}_{i} = b_{i} - a_{i, k} \\cdot b^{*}_{k}\n",
    "\\left\\lbrace\n",
    "\\begin{array}{ll}\n",
    "\\textup{} k = 1, ..., n\\\\\n",
    "\\textup{} i = 1, ..., n, i \\neq k\n",
    "\\end{array}\n",
    "\\right.\n",
    "$$\n",
    "\n",
    "<div align=\"center\">\n",
    "    Formula 6. Método Gauss-Jordan - Transformación de la filas no pivote - Matriz b\n",
    "</div>"
   ]
  },
  {
   "cell_type": "markdown",
   "metadata": {},
   "source": [
    "Al igual que el proceso de pivote para la eliminación Gaussiana, en la eliminación Gauss-Jordan es muy simular en la serie de pasos a aplicar.\n",
    "\n",
    "El primer paso consiste en crear una matriz de coeficientes y de constantes.\n",
    "\n",
    "El siguiente paso consiste en crear una matriz aumentada que luego se somete a una serie de operaciones iterativas que la reducen a una forma escalonada.\n",
    "\n",
    "Sin embargo, en los casos en que el elemento pivote sea cero o de muy pequeña magnitud, tenemos que intercambiar la fila pivote con una fila inferior.\n",
    "\n",
    "Luego podemos leer el contenido de la matriz aumentada, aplicar la división del pivote descrito en la formulas 3 y 4, el método de eliminación descrito en la formulas 5 y 6, y finalmente mostrar la respuesta."
   ]
  },
  {
   "cell_type": "markdown",
   "metadata": {},
   "source": [
    "#### 2.1.3 Descomposición LU"
   ]
  },
  {
   "cell_type": "markdown",
   "metadata": {},
   "source": [
    "#### 2.1.4 Inversión de Matrices"
   ]
  },
  {
   "cell_type": "markdown",
   "metadata": {},
   "source": [
    "#### 2.1.5 Método Gauss-Seidel"
   ]
  },
  {
   "cell_type": "markdown",
   "metadata": {},
   "source": [
    "El método de Gauss-Seidel surgió de una mejoría al método Jacobs, acelerando su convergencia, por medio de iteraciones a partir de un vector inicial encuentras los respectivos valores de las incógnitas hasta poder encontrar la tolerancia estimada.\n",
    "\n",
    "En punto es que cada vez que se estima encontrar un nuevo valor de una $ x_i $, usando los valores anteriores de las $ x $ también se puede utilizar los que actualmente se encuentran para con las $ x $, desde $ x_0 $ hasta $ x_i - 1 $.\n",
    "\n",
    "Para ello se presenta la siguiente ecuación:\n",
    "\n",
    "$$ x^{k}_{i} = \\frac{b_i - \\sum^{i - 1}_{j = 1}) a_{i, j} \\cdot x^{k}{j} - \\sum^{n}_{j = i + 1} a_{i, j} \\cdot x^{k - 1}}{a_{i, j}}$$\n",
    "\n",
    "<div align=\"center\">\n",
    "    Formula 7. Método Gauss-Seidel\n",
    "</div>\n",
    "\n",
    "Este método permite esencialmente recortar cierto número de iteraciones para lograr obtener el resultado esperado, los criterios que maneja son similares al método Jacobs.\n",
    "\n",
    "El siguiente criterio es aplicado en varias dimensiones, ecuaciones lineales que al resolverlas se espera un óptimo resultado, que no solo se resuelven con el método de Gauss-Seidel, también con el Punto Fijo y Jacobs. Al aplicarlo y evaluarlo se arroja la siguiente expresión:\n",
    "\n",
    "$$\n",
    "\\lvert \\frac{a_{2, 1}}{a_{2, 2}} \\rvert < 1\n",
    "\\hspace{1cm}\n",
    "\\lvert \\frac{a_{1, 2}}{a_{1, 1}} \\rvert < 1\n",
    "$$\n",
    "\n",
    "<div align=\"center\">\n",
    "    Formula 8. Método Gauss-Seidel - Criterio\n",
    "</div>\n",
    "\n",
    "Para asegurar la convergencia, en la ecuación el valor absoluto de las pendientes debe ser menos que la unidad.\n",
    "\n",
    "$$\n",
    "\\lvert a_{2, 2} \\rvert > \\lvert a_{2, 1} \\rvert\n",
    "\\hspace{1cm}\n",
    "\\lvert a_{1, 1} \\rvert > \\lvert a_{1, 2} \\rvert\n",
    "$$\n",
    "\n",
    "<div align=\"center\">\n",
    "    Formula 9. Método Gauss-Seidel - Convergencia\n",
    "</div>\n",
    "\n",
    "El elemento diagonal debe ser mayor al que está afuera de la diagonal, para ello la generalización seria:\n",
    "\n",
    "$$\n",
    "\\lvert a_{i, i} \\rvert > \\sum^{n}_{j = i} \\lvert a_{i, j} \\rvert\n",
    "\\left\\lbrace\n",
    "\\begin{array}{ll}\n",
    "j \\neq i\n",
    "\\end{array}\n",
    "\\right.\n",
    "$$\n",
    "\n",
    "<div align=\"center\">\n",
    "    Formula 10. Método Gauss-Seidel - Generalización\n",
    "</div>\n",
    "\n",
    "En el transcurso del trabajo implementado sobre este método, se puede deducir que el método de Gauss-Seidel utiliza la misma transformación que el método de jacobi, dando una mejoría y ambos aportando gran equivalencia para la solución de los sistemas de ecuaciones lineales llevándolo a la aproximación sucesiva en la solución de estas ecuaciones."
   ]
  },
  {
   "cell_type": "markdown",
   "metadata": {},
   "source": [
    "#### 2.1.6 Método de Jacobs"
   ]
  },
  {
   "cell_type": "markdown",
   "metadata": {},
   "source": [
    "### 2.2 Desarrollo Computacional"
   ]
  },
  {
   "cell_type": "markdown",
   "metadata": {},
   "source": [
    "Para el desarrollo de computacional relacionado a este informe se uso el lenguaje de programación Python 3.10.7 y las siguientes librerías:\n",
    "\n",
    "* timeit\n",
    "* numpy\n",
    "* pandas"
   ]
  },
  {
   "cell_type": "code",
   "execution_count": 1,
   "metadata": {},
   "outputs": [],
   "source": [
    "from timeit import default_timer as timer\n",
    "\n",
    "import numpy as np\n",
    "import pandas as pd"
   ]
  },
  {
   "cell_type": "markdown",
   "metadata": {},
   "source": [
    "Para medir el tiempo transcurrido de los algoritmos y funciones que se implementan en este informe se empleo la función decorador ```count_elapsed_time()```."
   ]
  },
  {
   "cell_type": "code",
   "execution_count": 2,
   "metadata": {},
   "outputs": [],
   "source": [
    "def count_elapsed_time(func):\n",
    "    '''\n",
    "    Decorador.\n",
    "    Ejecuta la función y calcula el tiempo transcurrido.\n",
    "    Retorna el resultado de la función y el tiempo transcurrido.\n",
    "    '''\n",
    "    def wrapper(*args, **kwargs):\n",
    "        start_time = timer()\n",
    "        ret = func(*args, **kwargs)\n",
    "        elapsed_time = timer() - start_time\n",
    "        return (ret, elapsed_time)\n",
    "\n",
    "    return wrapper"
   ]
  },
  {
   "cell_type": "markdown",
   "metadata": {},
   "source": [
    "El método ```solve``` dará solución al sistema de ecuaciones $ A \\cdot x = b $ mediante el método de desarrollo especificado."
   ]
  },
  {
   "cell_type": "code",
   "execution_count": 3,
   "metadata": {},
   "outputs": [],
   "source": [
    "@count_elapsed_time\n",
    "def solve(A: np.array, b: np.array, method, table: list, *args, **kwargs) -> np.array:\n",
    "    '''Resuelve un sistema de ecuaciones Ax = b, por medio del método dado.\n",
    "\n",
    "    Args:\n",
    "        A (np.array): Matriz A.\n",
    "        b (np.array): Matriz b.\n",
    "        method (function): Método para resolve el sistema de ecuaciones.\n",
    "        table (list): Recolección de datos del procedimiento.\n",
    "\n",
    "    Raises:\n",
    "        ValueError: Las filas y columnas de la matriz A deben ser iguales.\n",
    "        ValueError: El tamaño de la matriz b debe coincidir con el de la matriz A.\n",
    "\n",
    "    Returns:\n",
    "        np.array: Matriz x. Solución del sistema de ecuaciones.\n",
    "    '''\n",
    "    m, n = A.shape[-2:]\n",
    "    if m != n:\n",
    "        raise ValueError('Las filas y columnas de la matriz A deben ser iguales.')\n",
    "\n",
    "    if len(A) != len(b):\n",
    "        raise ValueError(f'El tamaño matriz b debe ser de {len(A)}')\n",
    "\n",
    "    return method(A, b, table=table, *args, **kwargs)"
   ]
  },
  {
   "cell_type": "markdown",
   "metadata": {},
   "source": [
    "#### 2.2.1 Método de Eliminación de Gauss"
   ]
  },
  {
   "cell_type": "code",
   "execution_count": 4,
   "metadata": {},
   "outputs": [],
   "source": [
    "def gauss(A: np.array, b: np.array, table: list) -> np.array:\n",
    "    '''Implementación del método de eliminación de Gauss con pivote\n",
    "    para la resolución de sistemas de ecuaciones lineales Ax=b.\n",
    "\n",
    "    Args:\n",
    "        A (np.array): Matriz A.\n",
    "        b (np.array): Matriz b.\n",
    "        table (list): Recolección de datos del procedimiento.\n",
    "\n",
    "    Returns:\n",
    "        np.array: Matriz x. Solución del sistema de ecuaciones.\n",
    "    '''\n",
    "    n = len(b)\n",
    "    x = np.zeros(n, np.float64)\n",
    "    A_aux = np.copy(A)\n",
    "    b_aux = np.copy(b)\n",
    "\n",
    "    for k in range(n - 1):\n",
    "        # Intercambio de filas\n",
    "        if np.fabs(A_aux[k, k]) < 1.0e-12:\n",
    "            for i in range(k + 1, n):\n",
    "                if np.fabs(A_aux[i, k]) > np.fabs(A_aux[k, k]):\n",
    "                    A_aux[[k, i]] = A_aux[[i, k]]\n",
    "                    b_aux[[k, i]] = b_aux[[i, k]]\n",
    "\n",
    "                    table.append([k, 'Intercambio', i, None, None])\n",
    "\n",
    "                    break\n",
    "\n",
    "        # Eliminación hacia adelante\n",
    "        for i in range(k + 1, n):\n",
    "            if A_aux[i, k] == 0:\n",
    "                continue\n",
    "\n",
    "            factor = A_aux[k, k] / A_aux[i, k]\n",
    "\n",
    "            A_aux[i, k:] = A_aux[k, k:] - A_aux[i, k:] * factor\n",
    "            b_aux[i] = b_aux[k] - b_aux[i] * factor\n",
    "\n",
    "            table.append([k, 'Eliminación', i, factor, None])\n",
    "\n",
    "    # Sustitución hacia atrás\n",
    "    x[n - 1] = b_aux[n - 1] / A_aux[n - 1, n - 1]\n",
    "\n",
    "    table.append([None, 'Sustitución', n - 1, None, None])\n",
    "\n",
    "    for i in range(n - 2, -1, -1):\n",
    "        sum_ax = sum(A_aux[i, j] * x[j] for j in range(i + 1, n))\n",
    "        x[i] = (b_aux[i] - sum_ax) / A_aux[i, i]\n",
    "\n",
    "        table.append([None, 'Sustitución', i, None, sum_ax])\n",
    "\n",
    "    return x"
   ]
  },
  {
   "cell_type": "markdown",
   "metadata": {},
   "source": [
    "#### 2.2.2 Método de Gauss-Jordan"
   ]
  },
  {
   "cell_type": "code",
   "execution_count": 5,
   "metadata": {},
   "outputs": [],
   "source": [
    "def gauss_jordan(A: np.array, b: np.array, table: list) -> np.array:\n",
    "    '''Implementación del método de eliminación de Gauss-Jordan con pivote.\n",
    "\n",
    "    Args:\n",
    "        A (np.array): Matriz A.\n",
    "        b (np.array): Matriz b.\n",
    "        table (list): Recolección de datos del procedimiento.\n",
    "\n",
    "    Returns:\n",
    "        np.array: Matriz x. Solución del sistema de ecuaciones.\n",
    "    '''\n",
    "    n = len(b)\n",
    "    A_aux = np.copy(A)\n",
    "    b_aux = np.copy(b)\n",
    "\n",
    "    for k in range(n):\n",
    "        # Intercambio de filas\n",
    "        if np.fabs(A_aux[k, k]) < 1.0e-12:\n",
    "            for i in range(k + 1, n):\n",
    "                if np.fabs(A_aux[i, k]) > np.fabs(A_aux[k, k]):\n",
    "                    A_aux[[k, i]] = A_aux[[i, k]]\n",
    "                    b_aux[[k, i]] = b_aux[[i, k]]\n",
    "                    table.append([k, 'Intercambio', i, None, None])\n",
    "                    break\n",
    "\n",
    "        # División del pivote\n",
    "        pivot = A_aux[k, k]\n",
    "        A_aux[k, k:] /= pivot\n",
    "        b_aux[k] /= pivot\n",
    "\n",
    "        # Eliminación\n",
    "        for i in range(n):\n",
    "            if i == k or A_aux[i, k] == 0:\n",
    "                continue\n",
    "\n",
    "            factor = A_aux[i, k]\n",
    "            A_aux[i, k:] -= A_aux[k, k:] * factor\n",
    "            b_aux[i] -= b_aux[k] * factor\n",
    "\n",
    "            table.append([k, 'Eliminación', i, pivot, factor])\n",
    "\n",
    "    return b_aux"
   ]
  },
  {
   "cell_type": "markdown",
   "metadata": {},
   "source": [
    "#### 2.2.3 Descomposición LU"
   ]
  },
  {
   "cell_type": "markdown",
   "metadata": {},
   "source": [
    "#### 2.2.4 Inversión de Matrices"
   ]
  },
  {
   "cell_type": "markdown",
   "metadata": {},
   "source": [
    "#### 2.2.5 Método de Gauss-Seidel"
   ]
  },
  {
   "cell_type": "code",
   "execution_count": 6,
   "metadata": {},
   "outputs": [],
   "source": [
    "def gauss_seidel(\n",
    "    A: np.array,\n",
    "    b: np.array,\n",
    "    *,\n",
    "    error_total: float = 1.0e-4,\n",
    "    table: list\n",
    ") -> np.array:\n",
    "    '''\n",
    "    Implementación del método de Gauss-Seidel.\n",
    "\n",
    "    Args:\n",
    "        A (np.array): Matriz A.\n",
    "        b (np.array): Matriz b.\n",
    "        error_total (float): Error permitido.\n",
    "        table (list): Recolección de datos del procedimiento.\n",
    "\n",
    "    Returns:\n",
    "        np.array: Matriz x. Solución del sistema de ecuaciones.\n",
    "    '''\n",
    "    error = np.ones(len(b))\n",
    "    x = np.zeros(len(b))\n",
    "    aux = np.zeros(len(b))\n",
    "    L = np.tril(A)\n",
    "    U = A - L\n",
    "    i = 0\n",
    "\n",
    "    while any(error > error_total):\n",
    "        x = np.dot(\n",
    "            np.linalg.inv(L),\n",
    "            b - U.dot(x)\n",
    "        )\n",
    "\n",
    "        error = x - aux\n",
    "        aux = x\n",
    "\n",
    "        table.append([i:=i + 1, x, error])\n",
    "\n",
    "    return x"
   ]
  },
  {
   "cell_type": "markdown",
   "metadata": {},
   "source": [
    "#### 2.2.6 Método de Jacobs"
   ]
  },
  {
   "cell_type": "markdown",
   "metadata": {},
   "source": [
    "## 3. Resultados"
   ]
  },
  {
   "cell_type": "markdown",
   "metadata": {},
   "source": [
    "## 4. Conclusiones"
   ]
  },
  {
   "cell_type": "markdown",
   "metadata": {},
   "source": [
    "## 5. Referencias"
   ]
  },
  {
   "cell_type": "markdown",
   "metadata": {},
   "source": [
    "* [Gaussian Elimination Using Pivoting in Python](https://www.delftstack.com/howto/python/gaussian-elimination-using-pivoting/)\n",
    "* [Gauss Jordan Method Python Program (With Output)](https://www.codesansar.com/numerical-methods/gauss-jordan-method-python-program-output.htm)\n",
    "* [Gauss-Jordan Method Tutorial - Step-By-Step Theory & Coding | Numerical Computing with Python](https://youtu.be/xOLJMKGNivU)\n",
    "* [Python Programming - Gauss Seidel Method | Linear Algebra](https://youtu.be/c6Ng-_Kf2KM)"
   ]
  }
 ],
 "metadata": {
  "kernelspec": {
   "display_name": "Python 3.10.7 ('venv': venv)",
   "language": "python",
   "name": "python3"
  },
  "language_info": {
   "codemirror_mode": {
    "name": "ipython",
    "version": 3
   },
   "file_extension": ".py",
   "mimetype": "text/x-python",
   "name": "python",
   "nbconvert_exporter": "python",
   "pygments_lexer": "ipython3",
   "version": "3.10.8"
  },
  "orig_nbformat": 4,
  "vscode": {
   "interpreter": {
    "hash": "1dc376ffec5caecdc0a86d966f5e97e45537af940d2aef553cd87bae54f46a19"
   }
  }
 },
 "nbformat": 4,
 "nbformat_minor": 2
}
