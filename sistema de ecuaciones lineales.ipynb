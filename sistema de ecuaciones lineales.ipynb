{
  "cells": [
    {
      "cell_type": "markdown",
      "metadata": {
        "id": "Ybcuc7lEBNpw"
      },
      "source": [
        "<div align=\"center\">\n",
        "    <h1>Sistema de Ecuaciones Lineales</h1>\n",
        "    <p>\n",
        "        Autores:</br>\n",
        "        Sergio Andrés Majé Franco</br>\n",
        "        Marleny Rojas Gómez</br>\n",
        "    </p>\n",
        "    <p>\n",
        "        Docente:</br>\n",
        "        Dr. Jesús Emilio Pinto Lopera</br>\n",
        "    </p>\n",
        "    <p>\n",
        "        Universidad de la Amazonia</br>\n",
        "        Facultad de Ingeniería</br>\n",
        "        Programa Ingeniería de Sistemas</br>\n",
        "        Florencia - Caquetá</br>\n",
        "        2022</br>\n",
        "    </p>\n",
        "</div>"
      ]
    },
    {
      "cell_type": "markdown",
      "metadata": {
        "id": "kpvvwgsbB0GN"
      },
      "source": [
        "## Tabla de Contenido\n",
        "\n",
        "1. Introducción\n",
        "2. Desarrollo Metodológico\n",
        "    1. Desarrollo Teórico\n",
        "        1. Método de Eliminación Gauss\n",
        "            1. Eliminación Gaussiana con pivote\n",
        "        2. Método de de Gauss-Jordan\n",
        "            1. Eliminación Gauss-Jordan con pivoteo\n",
        "        3. Descomposición LU\n",
        "        4. Inversión de Matrices\n",
        "        5. Método de Gauss-Seidel\n",
        "    2. Desarrollo Computacional\n",
        "        1. Método de Eliminación Gauss\n",
        "        2. Método de de Gauss-Jordan\n",
        "        3. Descomposición LU\n",
        "        4. Inversión de Matrices\n",
        "        5. Método de Gauss-Seidel\n",
        "3. Resultados\n",
        "    1. Ejercicios con los métodos\n",
        "        1. Eliminación Gaussiana\n",
        "        2. Eliminación Gauss-Jordan\n",
        "        3. Descomposición LU\n",
        "        4. Inversión de Matrices\n",
        "        5. Método de Gauss-Seidel\n",
        "    2. Benchmarking\n",
        "4. Conclusiones\n",
        "5. Referencias"
      ]
    },
    {
      "cell_type": "markdown",
      "metadata": {
        "id": "fE_tDApHCE99"
      },
      "source": [
        "## Tabla de Fórmulas"
      ]
    },
    {
      "cell_type": "markdown",
      "metadata": {
        "id": "MIgVvG1WWY3v"
      },
      "source": [
        "1. Fórmula 1. Eliminación Gaussiana con pivote - Eliminación hacia adelante\n",
        "2. Fórmula 2. Eliminación Gaussiana con pivote - Sustitución hacia atrás\n",
        "3. Fórmula 3. Método Gauss-Jordan - Transformación de la fila pivote - Matriz A\n",
        "4. Fórmula 4. Método Gauss-Jordan - Transformación de la fila pivote - Matriz b\n",
        "5. Fórmula 5. Método Gauss-Jordan - Transformación de la filas no pivote - Matriz A\n",
        "6. Fórmula 6. Método Gauss-Jordan - Transformación de la filas no pivote - Matriz b\n",
        "7. Fórmula 7. Descomposición LU - Descomposición de la Matriz A\n",
        "8. Fórmula 8. Descomposición LU - Matriz LU de la matriz A\n",
        "9. Fórmula 9. Descomposición LU - Igualdad de LU con y\n",
        "10. Fórmula 10. Inversion de Matrices - Matriz identidad\n",
        "11. Fórmula 11. Inversion de Matrices - Despejar x\n",
        "12. Fórmula 12. Método Gauss-Seidel\n",
        "13. Fórmula 13. Método Gauss-Seidel - Criterio\n",
        "14. Fórmula 14. Método Gauss-Seidel - Convergencia\n",
        "15. Fórmula 15. Método Gauss-Seidel - Generalización"
      ]
    },
    {
      "cell_type": "markdown",
      "metadata": {
        "id": "nLNllt9FCRFc"
      },
      "source": [
        "## Tabla de Tablas"
      ]
    },
    {
      "cell_type": "markdown",
      "metadata": {
        "id": "uzznFlHkzRXG"
      },
      "source": [
        "1. Tabla 1. Gauss - Matriz 2x2\n",
        "2. Tabla 2. Gauss - Matriz 3x3\n",
        "3. Tabla 3. Gauss - Matriz 4x4\n",
        "4. Tabla 4. Gauss - Matriz 5x5\n",
        "5. Tabla 5. Gauss-Jordan - Matriz 2x2\n",
        "6. Tabla 6. Gauss-Jordan - Matriz 3x3\n",
        "7. Tabla 7. Gauss-Jordan - Matriz 4x4\n",
        "8. Tabla 8. Gauss-Jordan - Matriz 5x5\n",
        "9. Tabla 9. Gauss-Seidel - Matriz 2x2\n",
        "10. Tabla 10. Gauss-Seidel - Matriz 3x3\n",
        "11. Tabla 11. Gauss-Seidel - Matriz 4x4\n",
        "12. Tabla 12. Gauss-Seidel - Matriz 5x5\n"
      ]
    },
    {
      "cell_type": "markdown",
      "metadata": {
        "id": "KtwblzvpCbh8"
      },
      "source": [
        "## Tabla de Gráficos"
      ]
    },
    {
      "cell_type": "markdown",
      "metadata": {
        "id": "AqI2ghoKzTZk"
      },
      "source": [
        "1. Gráfica 1. Gauss – tiempos\n",
        "2. Gráfica 2. Gauss-Jordan – tiempos\n",
        "3. Gráfica 3. Descomposición LU – tiempos\n",
        "4. Gráfica 4. Inversión de Matrices\n",
        "5. Gráfica 5. Gauss-Seidel - tiempos\n",
        "5. Gráfica 6. Benchmarking - tiempos\n"
      ]
    },
    {
      "cell_type": "markdown",
      "metadata": {
        "id": "_sVT6ah2Ce_U"
      },
      "source": [
        "## 1. Introducción\n",
        "\n",
        "Un sistema de ecuación lineal es todo aquel que representa un conjunto de ecuaciones lineales, que, por medio de una estructura, al encontrar los valores deseados de las respectivas variables, generan un óptimo resultado para las ecuaciones implementadas, es un sistema con n incógnitas, m ecuaciones y el cual puede ser interpretado con la notación matricial desarrollada. Tiene distintas ventajas las cuales nos permiten destacarlo en algún fenómeno de la vida real, poder probarlo, implementarlo, ejecutarlo, logrando resolver variedad de problemas y así el interés de encontrar la solución esperada.\n",
        "\n",
        "Durante el proceso que se implemento para cada uno de los métodos, se desea obtener un aprendizaje de gran escala, por lo tanto, saber el paso a paso en cada uno de ellos, donde por medio de los ejercicios anexados podemos encontrar múltiples respuestas y procedimientos según el método. El método de Gauss, Gauss-Jordan, Descomposición LU, inversión de matrices y el método de Gauss-Seidel, nos permitieron realizar un recorrido para conocer su estructura y que compone cada uno de ellos.\n",
        "\n",
        "Lo que se pretende para con el presente documento, es realizar un análisis de los tiempos que se manejan en las diferentes dimensiones de cada método, cual es el cambio que se presenta de acuerdo con el tiempo, variables y estimaciones como resultado."
      ]
    },
    {
      "cell_type": "markdown",
      "metadata": {
        "id": "0uEWpLifCkvb"
      },
      "source": [
        "## 2. Desarrollo Metodológico"
      ]
    },
    {
      "cell_type": "markdown",
      "metadata": {
        "id": "zeInco2SGqHg"
      },
      "source": [
        "### 2.1. Desarrollo Teórico"
      ]
    },
    {
      "cell_type": "markdown",
      "metadata": {
        "id": "8yyWoKfkHERd"
      },
      "source": [
        "#### 2.1.1. Método de Eliminación Gauss"
      ]
    },
    {
      "cell_type": "markdown",
      "metadata": {
        "id": "_R0oETczHnI2"
      },
      "source": [
        "La eliminación gaussiana también se conoce como el método de reducción de filas. Es un algoritmo comúnmente utilizado para resolver problemas lineales. El algoritmo implica una serie de operaciones de fila en una matriz de coeficientes extraídos de las ecuaciones lineales hasta que la matriz se reduce a la forma escalonada.\n",
        "\n",
        "Las siguientes tres operaciones se realizan cuando se transforma una matriz en una forma escalonada. Éstos incluyen:\n",
        "\n",
        "* Multiplicar una fila por un escalar y sumarlo o restarlo de otra fila.\n",
        "* Intercambio de filas.\n",
        "* Multiplicar filas con un escalar.\n",
        "\n",
        "Una matriz está en forma escalonada de filas si el primer elemento de cada fila, también conocido como la entrada inicial, es un cero; la entrada inicial de cada fila está una columna a la derecha de la entrada inicial de la fila anterior. Además, las filas con elementos cero deben estar debajo de los elementos que tienen filas distintas de cero.\n",
        "\n",
        "Las operaciones de fila se clasifican en gran medida en dos. La eliminación directa implica reducir una matriz a forma escalonada para determinar si existe una solución viable y si es finita o infinita. Por otro lado, la sustitución hacia atrás reduce aún más la matriz a la forma escalonada reducida por filas."
      ]
    },
    {
      "cell_type": "markdown",
      "metadata": {
        "id": "aCaO__eCHpsc"
      },
      "source": [
        "##### 2.1.1.1 Eliminación Gaussiana con pivote"
      ]
    },
    {
      "cell_type": "markdown",
      "metadata": {
        "id": "Rr8K33I-H2kZ"
      },
      "source": [
        "$$ A_k = A_k - A_i \\cdot \\frac{a_{k, i}}{a_{i, i}} $$\n",
        "\n",
        "<div align=\"center\">\n",
        "    Formula 1. Eliminación Gaussiana con pivote - Eliminación hacia adelante\n",
        "</div>"
      ]
    },
    {
      "cell_type": "markdown",
      "metadata": {
        "id": "bEBwHPhRH5bE"
      },
      "source": [
        "$$ x_i = \\frac{b^{(i - 1)}_{i} - \\sum^{n}_{j = i + 1} A^{(i - 1)}_{i, j} \\cdot x_j}{A^{(i - 1)}_{i, i}} $$\n",
        "\n",
        "<div align=\"center\">\n",
        "    Formula 2. Eliminación Gaussiana con pivote - Sustitución hacia atrás\n",
        "</div>"
      ]
    },
    {
      "cell_type": "markdown",
      "metadata": {
        "id": "0VZ5E5AVIB3V"
      },
      "source": [
        "Pivotar es el intercambio de filas y columnas para obtener el elemento de pivote adecuado. Un elemento de pivote adecuado debe ser distinto de cero y significativamente grande pero más pequeño en comparación con las otras entradas de la fila.\n",
        "\n",
        "El pivote se clasifica en pivote parcial y pivote completo. Bajo el algoritmo de pivote parcial, el elemento más grande se considera el elemento pivote para minimizar los errores de redondeo.\n",
        "\n",
        "Por otro lado, el pivoteo completo incluye el intercambio de filas y columnas para obtener el mejor elemento de pivote, aumentando así la precisión.\n",
        "\n",
        "Un conjunto de ecuaciones se considera lineal si ninguna variable tiene un exponente de más de uno. La eliminación gaussiana implica una serie de pasos; el primer paso consiste en crear una matriz de coeficientes.\n",
        "\n",
        "Una matriz de coeficientes es simplemente una matriz de coeficientes extraídos de un conjunto de ecuaciones lineales. El siguiente paso consiste en crear una matriz aumentada que luego se somete a una serie de operaciones que la reducen a una forma escalonada.\n",
        "\n",
        "Sin embargo, en los casos en que el elemento pivote sea cero o de muy pequeña magnitud, tenemos que intercambiar la fila pivote con una fila inferior.\n",
        "\n",
        "Luego podemos leer el contenido de la matriz aumentada, aplicar el método de eliminación, sustitución hacia atrás y finalmente mostrar la respuesta."
      ]
    },
    {
      "cell_type": "markdown",
      "metadata": {
        "id": "AJTSvFi6F3uv"
      },
      "source": [
        "#### 2.1.2. Método de Gauss-Jordan"
      ]
    },
    {
      "cell_type": "markdown",
      "metadata": {
        "id": "54g9EEBmGL9N"
      },
      "source": [
        "El método de Gauss-Jordan se basa en transformar una matriz, utilizando operaciones para resolver sistemas de ecuaciones de n número de variables. El uso de este método consiste en saber aplicarlo en cada operación que se vaya a realizar, implementándose en toda la fila o a toda la columna según el ejercicio.\n",
        "\n",
        "Tiene como objetivo principal, tratar de convertir lo que conlleva en la matriz, los coeficientes de las variables en una matriz de identidad o matriz de escalón reducida, y todo se logra a partir de las distintas operaciones como la eliminación, escalamiento e intercambio de filas y columnas."
      ]
    },
    {
      "cell_type": "markdown",
      "metadata": {
        "id": "RgoBQXoKW_xj"
      },
      "source": [
        "##### 2.1.2.1. Eliminación Gauss-Jordan con pivoteo"
      ]
    },
    {
      "cell_type": "markdown",
      "metadata": {
        "id": "bLYsW-veXJq3"
      },
      "source": [
        "$$\n",
        "a^{*}_{k, j} = \\frac{a_{k, j}}{a_{k, k}}\n",
        "\\left\\lbrace\n",
        "\\begin{array}{ll}\n",
        "k = 1, ..., n\\\\\n",
        "j = k, ..., n\n",
        "\\end{array}\n",
        "\\right.\n",
        "$$\n",
        "\n",
        "<div align=\"center\">\n",
        "    Formula 3. Método Gauss-Jordan - Transformación de la fila pivote - Matriz A\n",
        "</div>\n",
        "\n",
        "$$\n",
        "b^{*}_{k} = \\frac{b_{k}}{a_{k, k}}\n",
        "\\left\\lbrace\n",
        "\\begin{array}{ll}\n",
        "k = 1, ..., n\n",
        "\\end{array}\n",
        "\\right.\n",
        "$$\n",
        "\n",
        "<div align=\"center\">\n",
        "    Formula 4. Método Gauss-Jordan - Transformación de la fila pivote - Matriz b\n",
        "</div>"
      ]
    },
    {
      "cell_type": "markdown",
      "metadata": {
        "id": "q3eJ4Tp_XWcq"
      },
      "source": [
        "$$\n",
        "a^{*}_{i, j} = a_{i, j} - a_{i, j} \\cdot a^{*}_{k, j}\n",
        "\\left\\lbrace\n",
        "\\begin{array}{ll}\n",
        "k = 1, ..., n\\\\\n",
        "i = 1, ..., n, i \\neq k\\\\\n",
        "j = k, ..., n\n",
        "\\end{array}\n",
        "\\right.\n",
        "$$\n",
        "\n",
        "<div align=\"center\">\n",
        "    Formula 5. Método Gauss-Jordan - Transformación de la filas no pivote - Matriz A\n",
        "</div>\n",
        "\n",
        "$$\n",
        "b^{*}_{i} = b_{i} - a_{i, k} \\cdot b^{*}_{k}\n",
        "\\left\\lbrace\n",
        "\\begin{array}{ll}\n",
        "k = 1, ..., n\\\\\n",
        "i = 1, ..., n, i \\neq k\n",
        "\\end{array}\n",
        "\\right.\n",
        "$$\n",
        "\n",
        "<div align=\"center\">\n",
        "    Formula 6. Método Gauss-Jordan - Transformación de la filas no pivote - Matriz b\n",
        "</div>"
      ]
    },
    {
      "cell_type": "markdown",
      "metadata": {
        "id": "q3M-3VSnXbwK"
      },
      "source": [
        "Al igual que el proceso de pivote para la eliminación Gaussiana, en la eliminación Gauss-Jordan es muy simular en la serie de pasos a aplicar.\n",
        "\n",
        "El primer paso consiste en crear una matriz de coeficientes y de constantes.\n",
        "\n",
        "El siguiente paso consiste en crear una matriz aumentada que luego se somete a una serie de operaciones iterativas que la reducen a una forma escalonada.\n",
        "\n",
        "Sin embargo, en los casos en que el elemento pivote sea cero o de muy pequeña magnitud, tenemos que intercambiar la fila pivote con una fila inferior.\n",
        "\n",
        "Luego podemos leer el contenido de la matriz aumentada, aplicar la división del pivote descrito en la formulas 3 y 4, el método de eliminación descrito en la formulas 5 y 6, y finalmente mostrar la respuesta."
      ]
    },
    {
      "cell_type": "markdown",
      "metadata": {
        "id": "my46JnzZYk-p"
      },
      "source": [
        "#### 2.1.3. Descomposición LU"
      ]
    },
    {
      "cell_type": "markdown",
      "metadata": {
        "id": "aCep-myTsBsV"
      },
      "source": [
        "Este método sirve para resolver sistemas de ecuaciones lineales debido a que consiste, como lo su nombre lo indica, en la descomposición de la matriz de coeficientes ($ A $) en dos matrices diferentes ($ L $ y $ U $).\n",
        "\n",
        "$$ A = L \\cdot U $$\n",
        "\n",
        "<div align=\"center\">\n",
        "    Formula 7. Descomposición LU - Descomposición de la Matriz A\n",
        "</div>\n",
        "\n",
        "La matriz $ L $ va a ser una matriz triangular inferior de $ A $.\n",
        "\n",
        "La matriz $ U $ va a ser una matriz triangular superior de $ A $ con la diagonal igual a $ 1 $.\n",
        "\n",
        "$$ L \\cdot U \\cdot x = b $$\n",
        "\n",
        "<div align=\"center\">\n",
        "    Formula 8. Descomposición LU - Matriz LU de la matriz A\n",
        "</div>\n",
        "\n",
        "Para el desarrollo de este método se igualan las matrices $ LU $ con una variable para facilitar su implementación.\n",
        "\n",
        "$$\n",
        "U \\cdot x = y\n",
        "\\hspace{1cm}\n",
        "L \\cdot y = b\n",
        "$$\n",
        "\n",
        "<div align=\"center\">\n",
        "    Formula 9. Descomposición LU - Igualdad de LU con y\n",
        "</div>\n",
        "\n",
        "Una vez igualadas las matrices $ LU $ a una variable se debe ampliar la matriz $ L $ con el sistema de nuevas variables e igualarlas a las constantes de la matriz $ A $, luego se convierte a un sistema de ecuaciones lineales y se resuelven las incógnitas.\n",
        "\n",
        "Obtenidas las incógnitas del nuevo sistema de variables se halla $ U \\cdot x = y $ ampliando la matriz con el sistema de variables de la matriz $ A $ y reemplazando las constantes de $ A $ por las incógnitas halladas en el sistema de variables nuevo. luego, al igual que en el paso anterior se debe convertir a un sistema de ecuaciones lineales y resolver las incógnitas.\n",
        "\n",
        "El resultado de las incógnitas del paso anterior serán el resultado del sistema de ecuaciones lineales original ($ A \\cdot x = b $).\n",
        "\n",
        "Se debe tener presente que, al momento de resolver la matriz, y es $ 2 x 2 $ se hace con $ 1 $ iteración, $ 3 x 3 $ con $ 2 $ y así sucesivamente con el resto."
      ]
    },
    {
      "cell_type": "markdown",
      "metadata": {
        "id": "8nfoI5FSrWHp"
      },
      "source": [
        "#### 2.1.4. Inversión de Matrices"
      ]
    },
    {
      "cell_type": "markdown",
      "metadata": {
        "id": "X-XzHurVrcyu"
      },
      "source": [
        "Partimos de lo siguiente: si una matriz $ n * n $ es una matriz cuadrada de dimensión $n$, pero si el número de filas y columnas no son lo mismo es una matriz rectangular. Por lo tanto, A una matriz cuadrada de dimensión $n$, entonces $B$ es una matriz inversa de $A$ si se cumplen.\n",
        "\n",
        "$$ A \\cdot B = I_n = B \\cdot A $$\n",
        "\n",
        "<div align=\"center\">\n",
        "    Formula 10. Inversion de Matrices - Matriz identidad\n",
        "</div>\n",
        "\n",
        "Donde, $I_n$ es la matriz de identidad con dimensión $n$.\n",
        "\n",
        "Se considera que la dimensión $B$ también debe ser nxn para llevar el calculo del contenido matricial por ambos. En el transcurso de las definiciones conoceremos que en realidad solo existe una matriz inversa donde si se cumple una de las dos igualdades se cumplirá la otra, para eso es necesario llevar detalladamente le procedimiento y los pasos a seguir para cada matriz, por lo tanto, dicha matriz es única, se denota como $A - 1$ y esto se lee la inversa de $A$.\n",
        "\n",
        "• Para conocer un poco se debe tener presente que no todas las matrices cuadradas tienen inversa\n",
        "• Por ejemplo, si la matriz $A$ tiene inversa, de deduce que es regular o invisible sino entonces es singular\n",
        "• Para multiplicar por uno y otro, se debe tener en cuenta que las dimensiones deben ser las apropiadas.\n",
        "\n",
        "La inversa de una matriz es única: sea A una matriz de dimensión n, por lo tanto solo tiene una matriz inversa y se le puede asignar un nombre propio.\n",
        "\n",
        "Para la obtención de una matriz inversa nos presenta que existen diversos métodos para los cuales se puede llevar a cabo el calculo de la matriz y entre los más utilizados están matriz inversa por Gauss y a partir de la matriz adjunta.\n",
        "\n",
        "La grata conclusión que se puede obtener una vez vista los parámetros, como y para que sirve la inversa de una matriz, podemos deducir que representa una herramienta importante para toda solución de sistemas de ecuaciones lineales, que es el tema principal abordado en este documento y que cada matriz conlleva un procedimiento de acuerdo con su método.\n",
        "\n",
        "$$\n",
        "A \\cdot x = b\\\\\n",
        "x = A^{-1} \\cdot b\n",
        "$$\n",
        "\n",
        "<div align=\"center\">\n",
        "    Formula 11. Inversion de Matrices - Despejar x\n",
        "</div>"
      ]
    },
    {
      "cell_type": "markdown",
      "metadata": {
        "id": "uOEZl0l7OnR0"
      },
      "source": [
        "#### 2.2.5. Método de Gauss-Seidel"
      ]
    },
    {
      "cell_type": "markdown",
      "metadata": {
        "id": "qS2UjAlyXEgm"
      },
      "source": [
        "El método de Gauss-Seidel surgió de una mejoría al método Jacobs, acelerando su convergencia, por medio de iteraciones a partir de un vector inicial encuentras los respectivos valores de las incógnitas hasta poder encontrar la tolerancia estimada.\n",
        "\n",
        "En punto es que cada vez que se estima encontrar un nuevo valor de una $ x_i $, usando los valores anteriores de las $ x $ también se puede utilizar los que actualmente se encuentran para con las $ x $, desde $ x_0 $ hasta $ x_i - 1 $.\n",
        "\n",
        "Para ello se presenta la siguiente ecuación:\n",
        "\n",
        "$$ x^{k}_{i} = \\frac{b_i - \\sum^{i - 1}_{j = 1}) a_{i, j} \\cdot x^{k}{j} - \\sum^{n}_{j = i + 1} a_{i, j} \\cdot x^{k - 1}}{a_{i, j}}$$\n",
        "\n",
        "<div align=\"center\">\n",
        "    Formula 12. Método Gauss-Seidel\n",
        "</div>\n",
        "\n",
        "Este método permite esencialmente recortar cierto número de iteraciones para lograr obtener el resultado esperado, los criterios que maneja son similares al método Jacobs.\n",
        "\n",
        "El siguiente criterio es aplicado en varias dimensiones, ecuaciones lineales que al resolverlas se espera un óptimo resultado, que no solo se resuelven con el método de Gauss-Seidel, también con el Punto Fijo y Jacobs. Al aplicarlo y evaluarlo se arroja la siguiente expresión:\n",
        "\n",
        "$$\n",
        "\\lvert \\frac{a_{2, 1}}{a_{2, 2}} \\rvert < 1\n",
        "\\hspace{1cm}\n",
        "\\lvert \\frac{a_{1, 2}}{a_{1, 1}} \\rvert < 1\n",
        "$$\n",
        "\n",
        "<div align=\"center\">\n",
        "    Formula 13. Método Gauss-Seidel - Criterio\n",
        "</div>\n",
        "\n",
        "Para asegurar la convergencia, en la ecuación el valor absoluto de las pendientes debe ser menos que la unidad.\n",
        "\n",
        "$$\n",
        "\\lvert a_{2, 2} \\rvert > \\lvert a_{2, 1} \\rvert\n",
        "\\hspace{1cm}\n",
        "\\lvert a_{1, 1} \\rvert > \\lvert a_{1, 2} \\rvert\n",
        "$$\n",
        "\n",
        "<div align=\"center\">\n",
        "    Formula 14. Método Gauss-Seidel - Convergencia\n",
        "</div>\n",
        "\n",
        "El elemento diagonal debe ser mayor al que está afuera de la diagonal, para ello la generalización seria:\n",
        "\n",
        "$$\n",
        "\\lvert a_{i, i} \\rvert > \\sum^{n}_{j = i} \\lvert a_{i, j} \\rvert\n",
        "\\left\\lbrace\n",
        "\\begin{array}{ll}\n",
        "j \\neq i\n",
        "\\end{array}\n",
        "\\right.\n",
        "$$\n",
        "\n",
        "<div align=\"center\">\n",
        "    Formula 15. Método Gauss-Seidel - Generalización\n",
        "</div>\n",
        "\n",
        "En el transcurso del trabajo implementado sobre este método, se puede deducir que el método de Gauss-Seidel utiliza la misma transformación que el método de jacobi, dando una mejoría y ambos aportando gran equivalencia para la solución de los sistemas de ecuaciones lineales llevándolo a la aproximación sucesiva en la solución de estas ecuaciones."
      ]
    },
    {
      "cell_type": "markdown",
      "metadata": {
        "id": "hDsWGY-ZG4FJ"
      },
      "source": [
        "### 2.2. Desarrollo Computacional"
      ]
    },
    {
      "cell_type": "markdown",
      "metadata": {
        "id": "O_OF93tAIXgE"
      },
      "source": [
        "Para el desarrollo de computacional relacionado a este informe se uso el lenguaje de programación Python 3.10.7 y las siguientes librerías:\n",
        "\n",
        "* timeit - librería especializada en el manejo del tiempo con mayor precisión.\n",
        "* matplotlib - permite graficar los resultados de los procesos.\n",
        "* numpy - se especializa en el cálculo, transformación y análisis de datos numéricos.\n",
        "* pandas - permite la manipulación y análisis de datos sobre tablas numéricas y series temporales."
      ]
    },
    {
      "cell_type": "code",
      "execution_count": null,
      "metadata": {
        "id": "B11KEtOyITad"
      },
      "outputs": [],
      "source": [
        "from timeit import default_timer as timer\n",
        "\n",
        "%matplotlib inline\n",
        "\n",
        "import matplotlib.pyplot as plt\n",
        "import numpy as np\n",
        "import pandas as pd"
      ]
    },
    {
      "cell_type": "markdown",
      "metadata": {
        "id": "PFY2zPeQIeGb"
      },
      "source": [
        "Para medir el tiempo transcurrido de los algoritmos y funciones que se implementan en este informe se empleo la función decorador ```count_elapsed_time()```."
      ]
    },
    {
      "cell_type": "code",
      "execution_count": null,
      "metadata": {
        "id": "y4MPttHxIi8N"
      },
      "outputs": [],
      "source": [
        "def count_elapsed_time(func):\n",
        "    '''\n",
        "    Decorador.\n",
        "    Ejecuta la función y calcula el tiempo transcurrido.\n",
        "    Retorna el resultado de la función y el tiempo transcurrido.\n",
        "    '''\n",
        "    def wrapper(*args, **kwargs):\n",
        "        start_time = timer()\n",
        "        ret = func(*args, **kwargs)\n",
        "        elapsed_time = timer() - start_time\n",
        "        return (ret, elapsed_time)\n",
        "\n",
        "    return wrapper"
      ]
    },
    {
      "cell_type": "markdown",
      "metadata": {
        "id": "aAhfnKrUIqV0"
      },
      "source": [
        "El método ```solve``` dará solución al sistema de ecuaciones $ A \\cdot x = b $ mediante el método de desarrollo especificado."
      ]
    },
    {
      "cell_type": "code",
      "execution_count": null,
      "metadata": {
        "id": "XqD3vEaPIvFG"
      },
      "outputs": [],
      "source": [
        "@count_elapsed_time\n",
        "def solve(A: np.array, b: np.array, method, table: list, *args, **kwargs) -> np.array:\n",
        "    '''Resuelve un sistema de ecuaciones Ax = b, por medio del método dado.\n",
        "\n",
        "    Args:\n",
        "        A (np.array): Matriz A.\n",
        "        b (np.array): Matriz b.\n",
        "        method (function): Método para resolve el sistema de ecuaciones.\n",
        "        table (list): Recolección de datos del procedimiento.\n",
        "\n",
        "    Raises:\n",
        "        ValueError: Las filas y columnas de la matriz A deben ser iguales.\n",
        "        ValueError: El tamaño de la matriz b debe coincidir con el de la matriz A.\n",
        "\n",
        "    Returns:\n",
        "        np.array: Matriz x. Solución del sistema de ecuaciones.\n",
        "    '''\n",
        "    m, n = A.shape[-2:]\n",
        "    if m != n:\n",
        "        raise ValueError('Las filas y columnas de la matriz A deben ser iguales.')\n",
        "\n",
        "    if len(A) != len(b):\n",
        "        raise ValueError(f'El tamaño matriz b debe ser de {len(A)}')\n",
        "\n",
        "    return method(A, b, table=table, *args, **kwargs)"
      ]
    },
    {
      "cell_type": "markdown",
      "metadata": {
        "id": "GunOnimGI03M"
      },
      "source": [
        "#### 2.2.1 Método de Eliminación Gauss"
      ]
    },
    {
      "cell_type": "markdown",
      "metadata": {
        "id": "pvPAXxI4P-_e"
      },
      "source": [
        "El método ```gauss``` provee una implementación de la eliminación Gaussian con pivote para resolver sistema de ecuaciones lineales $ A \\cdot x = b$"
      ]
    },
    {
      "cell_type": "code",
      "execution_count": null,
      "metadata": {
        "id": "kHJRa2ByJMYc"
      },
      "outputs": [],
      "source": [
        "def gauss(A: np.array, b: np.array, table: list) -> np.array:\n",
        "    '''Implementación del método de eliminación de Gauss con pivote\n",
        "    para la resolución de sistemas de ecuaciones lineales Ax=b.\n",
        "\n",
        "    Args:\n",
        "        A (np.array): Matriz A.\n",
        "        b (np.array): Matriz b.\n",
        "        table (list): Recolección de datos del procedimiento.\n",
        "\n",
        "    Returns:\n",
        "        np.array: Matriz x. Solución del sistema de ecuaciones.\n",
        "    '''\n",
        "    n = len(b)\n",
        "    x = np.zeros(n, np.float64)\n",
        "    A_aux = np.copy(A)\n",
        "    b_aux = np.copy(b)\n",
        "\n",
        "    for k in range(n - 1):\n",
        "        # Intercambio de filas\n",
        "        if np.fabs(A_aux[k, k]) < 1.0e-12:\n",
        "            for i in range(k + 1, n):\n",
        "                if np.fabs(A_aux[i, k]) > np.fabs(A_aux[k, k]):\n",
        "                    A_aux[[k, i]] = A_aux[[i, k]]\n",
        "                    b_aux[[k, i]] = b_aux[[i, k]]\n",
        "\n",
        "                    table.append([k, 'Intercambio', i, None, None])\n",
        "\n",
        "                    break\n",
        "\n",
        "        # Eliminación hacia adelante\n",
        "        for i in range(k + 1, n):\n",
        "            if A_aux[i, k] == 0:\n",
        "                continue\n",
        "\n",
        "            factor = A_aux[k, k] / A_aux[i, k]\n",
        "\n",
        "            A_aux[i, k:] = A_aux[k, k:] - A_aux[i, k:] * factor\n",
        "            b_aux[i] = b_aux[k] - b_aux[i] * factor\n",
        "\n",
        "            table.append([k, 'Eliminación', i, factor, None])\n",
        "\n",
        "    # Sustitución hacia atrás\n",
        "    x[n - 1] = b_aux[n - 1] / A_aux[n - 1, n - 1]\n",
        "\n",
        "    table.append([None, 'Sustitución', n - 1, None, None])\n",
        "\n",
        "    for i in range(n - 2, -1, -1):\n",
        "        sum_ax = sum(A_aux[i, j] * x[j] for j in range(i + 1, n))\n",
        "        x[i] = (b_aux[i] - sum_ax) / A_aux[i, i]\n",
        "\n",
        "        table.append([None, 'Sustitución', i, None, sum_ax])\n",
        "\n",
        "    return x"
      ]
    },
    {
      "cell_type": "markdown",
      "metadata": {
        "id": "r03d6maGxRvk"
      },
      "source": [
        "#### 2.2.2. Método de Gauss-Jordan"
      ]
    },
    {
      "cell_type": "markdown",
      "metadata": {
        "id": "CZ92M36FFo1O"
      },
      "source": [
        "El método ```gauss_jordan``` provee una implementación de la eliminación Gauss-Jordan con pivote para resolver sistema de ecuaciones lineales $ A \\cdot x = b$"
      ]
    },
    {
      "cell_type": "code",
      "execution_count": null,
      "metadata": {
        "id": "VO7gOp2cBObC"
      },
      "outputs": [],
      "source": [
        "def gauss_jordan(A: np.array, b: np.array, table: list) -> np.array:\n",
        "    '''Implementación del método de eliminación de Gauss-Jordan con pivote.\n",
        "\n",
        "    Args:\n",
        "        A (np.array): Matriz A.\n",
        "        b (np.array): Matriz b.\n",
        "        table (list): Recolección de datos del procedimiento.\n",
        "\n",
        "    Returns:\n",
        "        np.array: Matriz x. Solución del sistema de ecuaciones.\n",
        "    '''\n",
        "    n = len(b)\n",
        "    A_aux = np.copy(A)\n",
        "    b_aux = np.copy(b)\n",
        "\n",
        "    for k in range(n):\n",
        "        # Intercambio de filas\n",
        "        if np.fabs(A_aux[k, k]) < 1.0e-12:\n",
        "            for i in range(k + 1, n):\n",
        "                if np.fabs(A_aux[i, k]) > np.fabs(A_aux[k, k]):\n",
        "                    A_aux[[k, i]] = A_aux[[i, k]]\n",
        "                    b_aux[[k, i]] = b_aux[[i, k]]\n",
        "                    table.append([k, 'Intercambio', i, None, None])\n",
        "                    break\n",
        "\n",
        "        # División del pivote\n",
        "        pivot = A_aux[k, k]\n",
        "        A_aux[k, k:] /= pivot\n",
        "        b_aux[k] /= pivot\n",
        "\n",
        "        # Eliminación\n",
        "        for i in range(n):\n",
        "            if i == k or A_aux[i, k] == 0:\n",
        "                continue\n",
        "\n",
        "            factor = A_aux[i, k]\n",
        "            A_aux[i, k:] -= A_aux[k, k:] * factor\n",
        "            b_aux[i] -= b_aux[k] * factor\n",
        "\n",
        "            table.append([k, 'Eliminación', i, pivot, factor])\n",
        "\n",
        "    return b_aux"
      ]
    },
    {
      "cell_type": "markdown",
      "metadata": {
        "id": "qe1V6ySoYsJJ"
      },
      "source": [
        "#### 2.2.3. Descomposición LU"
      ]
    },
    {
      "cell_type": "markdown",
      "metadata": {
        "id": "8W_oQ5GOkaWC"
      },
      "source": [
        "El método ```LU_decompose``` provee una implementación con pivote del método numérico descomposición LU para resolver sistema de ecuaciones lineales $ A \\cdot x = b$"
      ]
    },
    {
      "cell_type": "code",
      "execution_count": null,
      "metadata": {
        "id": "GlyK-LymkbLL"
      },
      "outputs": [],
      "source": [
        "def lu_factor(A: np.ndarray):\n",
        "    '''Factorización LU con pivote parcial.\n",
        "\n",
        "    Args:\n",
        "        A (np.ndarray): Matriz A.\n",
        "\n",
        "    Returns:\n",
        "        np.ndarray, np.ndarray: Matriz LU y pivote.\n",
        "    '''\n",
        "    n = A.shape[0]\n",
        "    A = np.copy(A)\n",
        "    piv = np.arange(0, n)\n",
        "    for k in range(n - 1):\n",
        "        # pivote\n",
        "        max_row_index = np.argmax(abs(A[k:n, k])) + k\n",
        "        piv[[k, max_row_index]] = piv[[max_row_index, k]]\n",
        "        A[[k, max_row_index]] = A[[max_row_index, k]]\n",
        "\n",
        "        # LU\n",
        "        for i in range(k+1, n):\n",
        "            A[i, k] = A[i, k] / A[k, k]\n",
        "            for j in range(k + 1, n):\n",
        "                A[i, j] -= A[i, k] * A[k, j]\n",
        "\n",
        "    return A, piv\n",
        "\n",
        "\n",
        "def forward_substitution(L: np.ndarray, b: np.ndarray) -> np.ndarray:\n",
        "    '''Sustitución hacia adelante para resolver Ly = b.\n",
        "\n",
        "    Args:\n",
        "        L (np.ndarray): Matriz L.\n",
        "        b (np.ndarray): Matriz b.\n",
        "\n",
        "    Returns:\n",
        "        np.ndarray: Matriz y.\n",
        "    '''\n",
        "    b = np.copy(b)\n",
        "\n",
        "    for i in range(L.shape[0]):\n",
        "        for j in range(i):\n",
        "            b[i] -= L[i,j] * b[j]\n",
        "\n",
        "    return b\n",
        "\n",
        "\n",
        "def backward_substitution(U: np.ndarray, y: np.ndarray) -> np.ndarray:\n",
        "    '''Sustitución hacia atrás para resolver Ux = y.\n",
        "\n",
        "    Args:\n",
        "        U (np.ndarray): Matriz U.\n",
        "        y (np.ndarray): Matriz y.\n",
        "\n",
        "    Returns:\n",
        "        np.ndarray: Matriz x.\n",
        "    '''\n",
        "    y = np.copy(y)\n",
        "\n",
        "    for i in range(U.shape[0] - 1, -1, -1):\n",
        "        for j in range(i + 1, U.shape[1]):\n",
        "            y[i] -= U[i, j] * y[j]\n",
        "        y[i] = y[i] / U[i, i]\n",
        "\n",
        "    return y\n",
        "\n",
        "\n",
        "def LU_decompose(A: np.ndarray, b: np.ndarray, *, table: list) -> np.ndarray:\n",
        "    '''Implementación de la descomposición LU.\n",
        "\n",
        "    Args:\n",
        "        A (np.ndarray): Matriz A.\n",
        "        b (np.ndarray): Matriz B.\n",
        "        table (list): Recolección de datos del procedimiento.\n",
        "\n",
        "    Returns:\n",
        "        np.ndarray: Matriz x. Solución del sistema de ecuaciones.\n",
        "    '''\n",
        "    LU, piv = lu_factor(A)\n",
        "    b = b[piv]  # intercambio de filas\n",
        "    y = forward_substitution(LU, b)\n",
        "    return backward_substitution(LU, y)"
      ]
    },
    {
      "cell_type": "markdown",
      "metadata": {
        "id": "qq0TmI7Ysb9g"
      },
      "source": [
        "#### 2.2.4. Inversión de Matrices"
      ]
    },
    {
      "cell_type": "markdown",
      "metadata": {
        "id": "iqH35j0gsl55"
      },
      "source": [
        "El método ```inversion``` provee una implementación de del método numérico inversion de matrices para resolver sistema de ecuaciones lineales $ A \\cdot x = b$"
      ]
    },
    {
      "cell_type": "code",
      "execution_count": null,
      "metadata": {
        "id": "m2OMCeMHtBOy"
      },
      "outputs": [],
      "source": [
        "def inversion(A: np.ndarray, b: np.ndarray, *, table: list) -> np.ndarray:\n",
        "    '''Implementación del método de inversión de matrices.\n",
        "\n",
        "    Args:\n",
        "        A (np.ndarray): Matriz A.\n",
        "        b (np.ndarray): Matriz b.\n",
        "        table (list): Recolección de datos del procedimiento.\n",
        "\n",
        "    Raises:\n",
        "        ValueError: determinante de A es igual a cero.\n",
        "\n",
        "    Returns:\n",
        "        np.ndarray: Matriz x.\n",
        "    '''\n",
        "    if np.linalg.det(A) == 0:\n",
        "        raise ValueError('La sistema de ecuaciones no tiene solución por medio de este método')\n",
        "\n",
        "    A_inv = np.linalg.inv(A)\n",
        "\n",
        "    return A_inv.dot(b)"
      ]
    },
    {
      "cell_type": "markdown",
      "metadata": {
        "id": "_w206X5UOc9J"
      },
      "source": [
        "#### 2.2.5. Método de Gauss-Seidel"
      ]
    },
    {
      "cell_type": "markdown",
      "metadata": {
        "id": "h2rWMo6FOp4-"
      },
      "source": [
        "El método ```gauss_seidel``` provee una implementación de iterativa del método numérico Gauss-Seidel para resolver sistema de ecuaciones lineales $ A \\cdot x = b$"
      ]
    },
    {
      "cell_type": "code",
      "execution_count": null,
      "metadata": {
        "id": "hj_47K_GOqac"
      },
      "outputs": [],
      "source": [
        "def gauss_seidel(\n",
        "    A: np.array,\n",
        "    b: np.array,\n",
        "    *,\n",
        "    max = 50,\n",
        "    error_total: float = 1.0e-4,\n",
        "    table: list\n",
        ") -> np.array:\n",
        "    '''\n",
        "    Implementación del método de Gauss-Seidel.\n",
        "\n",
        "    Args:\n",
        "        A (np.array): Matriz A.\n",
        "        b (np.array): Matriz b.\n",
        "        error_total (float): Error permitido.\n",
        "        table (list): Recolección de datos del procedimiento.\n",
        "\n",
        "    Returns:\n",
        "        np.array: Matriz x. Solución del sistema de ecuaciones.\n",
        "    '''\n",
        "    error = np.ones(len(b))\n",
        "    x = np.zeros(len(b))\n",
        "    aux = np.zeros(len(b))  # x_i-1\n",
        "    L = np.tril(A)\n",
        "    U = A - L\n",
        "    i = 0\n",
        "\n",
        "    while any(error > error_total) and max > i:\n",
        "        x = np.dot(\n",
        "            np.linalg.inv(L),\n",
        "            b - U.dot(x)\n",
        "        )\n",
        "\n",
        "        error = x - aux\n",
        "        aux = x\n",
        "\n",
        "        i += 1\n",
        "        table.append([i, x, error])\n",
        "\n",
        "    return x"
      ]
    },
    {
      "cell_type": "markdown",
      "metadata": {
        "id": "rdEeatLUJcht"
      },
      "source": [
        "## 3. Resultados"
      ]
    },
    {
      "cell_type": "markdown",
      "metadata": {
        "id": "yft1QBqPBGqa"
      },
      "source": [
        "Las siguientes matrices $2x2$, $3x3$, $4x4$, $5x5$; serán empleadas en la elaboración de los ejercicios del presente informe."
      ]
    },
    {
      "cell_type": "code",
      "execution_count": null,
      "metadata": {
        "id": "HXNVScotBd6h"
      },
      "outputs": [],
      "source": [
        "matrices = {\n",
        "    2: {\n",
        "        'A': np.array([[3, 5],\n",
        "                       [2, 1]], np.float64),\n",
        "        'b': np.array([3, 1], np.float64)\n",
        "    },\n",
        "    3: {\n",
        "        'A': np.array([[1, -1, 2],\n",
        "                       [2, 1, 0],\n",
        "                       [3, 1, 4]], np.float64),\n",
        "        'b': np.array([6, 7, 18], np.float64)\n",
        "    },\n",
        "    4: {\n",
        "        'A': np.array([[1, 2, -1, 1],\n",
        "                       [2, -1, 2, 3],\n",
        "                       [-1, 3, 3, -2],\n",
        "                       [3, -2, 1, 1]], np.float64),\n",
        "        'b': np.array([0, 7, 17, -2], np.float64)\n",
        "    },\n",
        "    5: {\n",
        "        'A': np.array([[2, -1, 4, 1, -1],\n",
        "                       [-1, 3, -2, -1, 2],\n",
        "                       [5, 1, 3, -4, 1],\n",
        "                       [3, -2, -2, -2, 3],\n",
        "                       [-4, -1, -5, 3, -4]], np.float64),\n",
        "        'b': np.array([7, 1, 33, 24, -49], np.float64)\n",
        "    }\n",
        "}\n",
        "\n",
        "\n",
        "times = []\n",
        "benchmarking = []"
      ]
    },
    {
      "cell_type": "markdown",
      "metadata": {
        "id": "yhMLjRFIaKmo"
      },
      "source": [
        "### 3.1. Ejercicios con los métodos"
      ]
    },
    {
      "cell_type": "markdown",
      "metadata": {
        "id": "waCAFhqZaRzK"
      },
      "source": [
        "#### 3.1.1. Eliminación Gaussiana"
      ]
    },
    {
      "cell_type": "markdown",
      "metadata": {
        "id": "UtuMVcC_afdD"
      },
      "source": [
        "Ejercicio con la matriz $2x2$."
      ]
    },
    {
      "cell_type": "code",
      "execution_count": null,
      "metadata": {
        "colab": {
          "base_uri": "https://localhost:8080/",
          "height": 35
        },
        "id": "ChBMJCu4araJ",
        "outputId": "a87a1c39-f0a2-4f68-f757-d5bbb32d175f"
      },
      "outputs": [
        {
          "data": {
            "application/vnd.google.colaboratory.intrinsic+json": {
              "type": "string"
            },
            "text/plain": [
              "'Time: 0.000217s'"
            ]
          },
          "execution_count": 10,
          "metadata": {},
          "output_type": "execute_result"
        }
      ],
      "source": [
        "table = []\n",
        "\n",
        "x, t = solve(\n",
        "    matrices[2]['A'],\n",
        "    matrices[2]['b'],\n",
        "    gauss,\n",
        "    table\n",
        ")\n",
        "\n",
        "times.append(t)\n",
        "\n",
        "f'Time: {t:.6f}s'"
      ]
    },
    {
      "cell_type": "code",
      "execution_count": null,
      "metadata": {
        "colab": {
          "base_uri": "https://localhost:8080/",
          "height": 35
        },
        "id": "1WlDz9Y9emsw",
        "outputId": "fcae2d61-aac0-48ed-fbf2-79b351d28c41"
      },
      "outputs": [
        {
          "data": {
            "application/vnd.google.colaboratory.intrinsic+json": {
              "type": "string"
            },
            "text/plain": [
              "'El resultado de la operación es: x: 0.28571428571428575, y: 0.42857142857142855'"
            ]
          },
          "execution_count": 11,
          "metadata": {},
          "output_type": "execute_result"
        }
      ],
      "source": [
        "f'El resultado de la operación es: x: {x[0]}, y: {x[1]}'"
      ]
    },
    {
      "cell_type": "code",
      "execution_count": null,
      "metadata": {
        "colab": {
          "base_uri": "https://localhost:8080/",
          "height": 143
        },
        "id": "HxnoHWdBeCCX",
        "outputId": "80a9d885-9acd-4460-fb83-0ad32cbef198"
      },
      "outputs": [
        {
          "data": {
            "text/html": [
              "\n",
              "  <div id=\"df-6ce80fe0-d2ee-4625-a6cb-5eb9266bc771\">\n",
              "    <div class=\"colab-df-container\">\n",
              "      <div>\n",
              "<style scoped>\n",
              "    .dataframe tbody tr th:only-of-type {\n",
              "        vertical-align: middle;\n",
              "    }\n",
              "\n",
              "    .dataframe tbody tr th {\n",
              "        vertical-align: top;\n",
              "    }\n",
              "\n",
              "    .dataframe thead th {\n",
              "        text-align: right;\n",
              "    }\n",
              "</style>\n",
              "<table border=\"1\" class=\"dataframe\">\n",
              "  <thead>\n",
              "    <tr style=\"text-align: right;\">\n",
              "      <th></th>\n",
              "      <th>Iteración</th>\n",
              "      <th>Operación</th>\n",
              "      <th>Índice</th>\n",
              "      <th>factor</th>\n",
              "      <th>sum(Ax)</th>\n",
              "    </tr>\n",
              "  </thead>\n",
              "  <tbody>\n",
              "    <tr>\n",
              "      <th>0</th>\n",
              "      <td>0</td>\n",
              "      <td>Eliminación</td>\n",
              "      <td>1</td>\n",
              "      <td>1.5</td>\n",
              "      <td>None</td>\n",
              "    </tr>\n",
              "    <tr>\n",
              "      <th>1</th>\n",
              "      <td>None</td>\n",
              "      <td>Sustitución</td>\n",
              "      <td>1</td>\n",
              "      <td>None</td>\n",
              "      <td>None</td>\n",
              "    </tr>\n",
              "    <tr>\n",
              "      <th>2</th>\n",
              "      <td>None</td>\n",
              "      <td>Sustitución</td>\n",
              "      <td>0</td>\n",
              "      <td>None</td>\n",
              "      <td>2.142857</td>\n",
              "    </tr>\n",
              "  </tbody>\n",
              "</table>\n",
              "</div>\n",
              "      <button class=\"colab-df-convert\" onclick=\"convertToInteractive('df-6ce80fe0-d2ee-4625-a6cb-5eb9266bc771')\"\n",
              "              title=\"Convert this dataframe to an interactive table.\"\n",
              "              style=\"display:none;\">\n",
              "        \n",
              "  <svg xmlns=\"http://www.w3.org/2000/svg\" height=\"24px\"viewBox=\"0 0 24 24\"\n",
              "       width=\"24px\">\n",
              "    <path d=\"M0 0h24v24H0V0z\" fill=\"none\"/>\n",
              "    <path d=\"M18.56 5.44l.94 2.06.94-2.06 2.06-.94-2.06-.94-.94-2.06-.94 2.06-2.06.94zm-11 1L8.5 8.5l.94-2.06 2.06-.94-2.06-.94L8.5 2.5l-.94 2.06-2.06.94zm10 10l.94 2.06.94-2.06 2.06-.94-2.06-.94-.94-2.06-.94 2.06-2.06.94z\"/><path d=\"M17.41 7.96l-1.37-1.37c-.4-.4-.92-.59-1.43-.59-.52 0-1.04.2-1.43.59L10.3 9.45l-7.72 7.72c-.78.78-.78 2.05 0 2.83L4 21.41c.39.39.9.59 1.41.59.51 0 1.02-.2 1.41-.59l7.78-7.78 2.81-2.81c.8-.78.8-2.07 0-2.86zM5.41 20L4 18.59l7.72-7.72 1.47 1.35L5.41 20z\"/>\n",
              "  </svg>\n",
              "      </button>\n",
              "      \n",
              "  <style>\n",
              "    .colab-df-container {\n",
              "      display:flex;\n",
              "      flex-wrap:wrap;\n",
              "      gap: 12px;\n",
              "    }\n",
              "\n",
              "    .colab-df-convert {\n",
              "      background-color: #E8F0FE;\n",
              "      border: none;\n",
              "      border-radius: 50%;\n",
              "      cursor: pointer;\n",
              "      display: none;\n",
              "      fill: #1967D2;\n",
              "      height: 32px;\n",
              "      padding: 0 0 0 0;\n",
              "      width: 32px;\n",
              "    }\n",
              "\n",
              "    .colab-df-convert:hover {\n",
              "      background-color: #E2EBFA;\n",
              "      box-shadow: 0px 1px 2px rgba(60, 64, 67, 0.3), 0px 1px 3px 1px rgba(60, 64, 67, 0.15);\n",
              "      fill: #174EA6;\n",
              "    }\n",
              "\n",
              "    [theme=dark] .colab-df-convert {\n",
              "      background-color: #3B4455;\n",
              "      fill: #D2E3FC;\n",
              "    }\n",
              "\n",
              "    [theme=dark] .colab-df-convert:hover {\n",
              "      background-color: #434B5C;\n",
              "      box-shadow: 0px 1px 3px 1px rgba(0, 0, 0, 0.15);\n",
              "      filter: drop-shadow(0px 1px 2px rgba(0, 0, 0, 0.3));\n",
              "      fill: #FFFFFF;\n",
              "    }\n",
              "  </style>\n",
              "\n",
              "      <script>\n",
              "        const buttonEl =\n",
              "          document.querySelector('#df-6ce80fe0-d2ee-4625-a6cb-5eb9266bc771 button.colab-df-convert');\n",
              "        buttonEl.style.display =\n",
              "          google.colab.kernel.accessAllowed ? 'block' : 'none';\n",
              "\n",
              "        async function convertToInteractive(key) {\n",
              "          const element = document.querySelector('#df-6ce80fe0-d2ee-4625-a6cb-5eb9266bc771');\n",
              "          const dataTable =\n",
              "            await google.colab.kernel.invokeFunction('convertToInteractive',\n",
              "                                                     [key], {});\n",
              "          if (!dataTable) return;\n",
              "\n",
              "          const docLinkHtml = 'Like what you see? Visit the ' +\n",
              "            '<a target=\"_blank\" href=https://colab.research.google.com/notebooks/data_table.ipynb>data table notebook</a>'\n",
              "            + ' to learn more about interactive tables.';\n",
              "          element.innerHTML = '';\n",
              "          dataTable['output_type'] = 'display_data';\n",
              "          await google.colab.output.renderOutput(dataTable, element);\n",
              "          const docLink = document.createElement('div');\n",
              "          docLink.innerHTML = docLinkHtml;\n",
              "          element.appendChild(docLink);\n",
              "        }\n",
              "      </script>\n",
              "    </div>\n",
              "  </div>\n",
              "  "
            ],
            "text/plain": [
              "  Iteración    Operación Índice factor   sum(Ax)\n",
              "0         0  Eliminación      1    1.5      None\n",
              "1      None  Sustitución      1   None      None\n",
              "2      None  Sustitución      0   None  2.142857"
            ]
          },
          "execution_count": 12,
          "metadata": {},
          "output_type": "execute_result"
        }
      ],
      "source": [
        "pd.DataFrame(np.array(table), columns=['Iteración', 'Operación', 'Índice', 'factor', 'sum(Ax)'])"
      ]
    },
    {
      "cell_type": "markdown",
      "metadata": {
        "id": "hF0M5a63hefv"
      },
      "source": [
        "<div align=\"center\">\n",
        "    Tabla 1. Gauss - matriz 2x2\n",
        "</div>"
      ]
    },
    {
      "cell_type": "markdown",
      "metadata": {
        "id": "a7b6Hum3fqQQ"
      },
      "source": [
        "Ejercicio con la matriz $3x3$."
      ]
    },
    {
      "cell_type": "code",
      "execution_count": null,
      "metadata": {
        "colab": {
          "base_uri": "https://localhost:8080/",
          "height": 35
        },
        "id": "RlgsgewmfqQR",
        "outputId": "c4abff52-8b4c-4fc4-b09a-7de7eb16411d"
      },
      "outputs": [
        {
          "data": {
            "application/vnd.google.colaboratory.intrinsic+json": {
              "type": "string"
            },
            "text/plain": [
              "'Time: 0.002253s'"
            ]
          },
          "execution_count": 13,
          "metadata": {},
          "output_type": "execute_result"
        }
      ],
      "source": [
        "table = []\n",
        "\n",
        "x, t = solve(\n",
        "    matrices[3]['A'],\n",
        "    matrices[3]['b'],\n",
        "    gauss,\n",
        "    table\n",
        ")\n",
        "\n",
        "times.append(t)\n",
        "\n",
        "f'Time: {t:.6f}s'"
      ]
    },
    {
      "cell_type": "code",
      "execution_count": null,
      "metadata": {
        "colab": {
          "base_uri": "https://localhost:8080/",
          "height": 35
        },
        "id": "EmVabmJwfqQR",
        "outputId": "eae6c1f7-a359-4920-a202-31b32abc7dc9"
      },
      "outputs": [
        {
          "data": {
            "application/vnd.google.colaboratory.intrinsic+json": {
              "type": "string"
            },
            "text/plain": [
              "'El resultado de la operación es: x: 3.0, y: 1.0, z: 2.0'"
            ]
          },
          "execution_count": 14,
          "metadata": {},
          "output_type": "execute_result"
        }
      ],
      "source": [
        "f'El resultado de la operación es: x: {x[0]}, y: {x[1]}, z: {x[2]}'"
      ]
    },
    {
      "cell_type": "code",
      "execution_count": null,
      "metadata": {
        "colab": {
          "base_uri": "https://localhost:8080/",
          "height": 238
        },
        "id": "rXWDLgfCfqQS",
        "outputId": "15722abe-424d-4496-8236-8b4dd3e5fb03"
      },
      "outputs": [
        {
          "data": {
            "text/html": [
              "\n",
              "  <div id=\"df-6f75bf64-10a8-4fc7-be4c-9fe0018a1709\">\n",
              "    <div class=\"colab-df-container\">\n",
              "      <div>\n",
              "<style scoped>\n",
              "    .dataframe tbody tr th:only-of-type {\n",
              "        vertical-align: middle;\n",
              "    }\n",
              "\n",
              "    .dataframe tbody tr th {\n",
              "        vertical-align: top;\n",
              "    }\n",
              "\n",
              "    .dataframe thead th {\n",
              "        text-align: right;\n",
              "    }\n",
              "</style>\n",
              "<table border=\"1\" class=\"dataframe\">\n",
              "  <thead>\n",
              "    <tr style=\"text-align: right;\">\n",
              "      <th></th>\n",
              "      <th>Iteración</th>\n",
              "      <th>Operación</th>\n",
              "      <th>Índice</th>\n",
              "      <th>factor</th>\n",
              "      <th>sum(Ax)</th>\n",
              "    </tr>\n",
              "  </thead>\n",
              "  <tbody>\n",
              "    <tr>\n",
              "      <th>0</th>\n",
              "      <td>0</td>\n",
              "      <td>Eliminación</td>\n",
              "      <td>1</td>\n",
              "      <td>0.5</td>\n",
              "      <td>None</td>\n",
              "    </tr>\n",
              "    <tr>\n",
              "      <th>1</th>\n",
              "      <td>0</td>\n",
              "      <td>Eliminación</td>\n",
              "      <td>2</td>\n",
              "      <td>0.333333</td>\n",
              "      <td>None</td>\n",
              "    </tr>\n",
              "    <tr>\n",
              "      <th>2</th>\n",
              "      <td>1</td>\n",
              "      <td>Eliminación</td>\n",
              "      <td>2</td>\n",
              "      <td>1.125</td>\n",
              "      <td>None</td>\n",
              "    </tr>\n",
              "    <tr>\n",
              "      <th>3</th>\n",
              "      <td>None</td>\n",
              "      <td>Sustitución</td>\n",
              "      <td>2</td>\n",
              "      <td>None</td>\n",
              "      <td>None</td>\n",
              "    </tr>\n",
              "    <tr>\n",
              "      <th>4</th>\n",
              "      <td>None</td>\n",
              "      <td>Sustitución</td>\n",
              "      <td>1</td>\n",
              "      <td>None</td>\n",
              "      <td>4.0</td>\n",
              "    </tr>\n",
              "    <tr>\n",
              "      <th>5</th>\n",
              "      <td>None</td>\n",
              "      <td>Sustitución</td>\n",
              "      <td>0</td>\n",
              "      <td>None</td>\n",
              "      <td>3.0</td>\n",
              "    </tr>\n",
              "  </tbody>\n",
              "</table>\n",
              "</div>\n",
              "      <button class=\"colab-df-convert\" onclick=\"convertToInteractive('df-6f75bf64-10a8-4fc7-be4c-9fe0018a1709')\"\n",
              "              title=\"Convert this dataframe to an interactive table.\"\n",
              "              style=\"display:none;\">\n",
              "        \n",
              "  <svg xmlns=\"http://www.w3.org/2000/svg\" height=\"24px\"viewBox=\"0 0 24 24\"\n",
              "       width=\"24px\">\n",
              "    <path d=\"M0 0h24v24H0V0z\" fill=\"none\"/>\n",
              "    <path d=\"M18.56 5.44l.94 2.06.94-2.06 2.06-.94-2.06-.94-.94-2.06-.94 2.06-2.06.94zm-11 1L8.5 8.5l.94-2.06 2.06-.94-2.06-.94L8.5 2.5l-.94 2.06-2.06.94zm10 10l.94 2.06.94-2.06 2.06-.94-2.06-.94-.94-2.06-.94 2.06-2.06.94z\"/><path d=\"M17.41 7.96l-1.37-1.37c-.4-.4-.92-.59-1.43-.59-.52 0-1.04.2-1.43.59L10.3 9.45l-7.72 7.72c-.78.78-.78 2.05 0 2.83L4 21.41c.39.39.9.59 1.41.59.51 0 1.02-.2 1.41-.59l7.78-7.78 2.81-2.81c.8-.78.8-2.07 0-2.86zM5.41 20L4 18.59l7.72-7.72 1.47 1.35L5.41 20z\"/>\n",
              "  </svg>\n",
              "      </button>\n",
              "      \n",
              "  <style>\n",
              "    .colab-df-container {\n",
              "      display:flex;\n",
              "      flex-wrap:wrap;\n",
              "      gap: 12px;\n",
              "    }\n",
              "\n",
              "    .colab-df-convert {\n",
              "      background-color: #E8F0FE;\n",
              "      border: none;\n",
              "      border-radius: 50%;\n",
              "      cursor: pointer;\n",
              "      display: none;\n",
              "      fill: #1967D2;\n",
              "      height: 32px;\n",
              "      padding: 0 0 0 0;\n",
              "      width: 32px;\n",
              "    }\n",
              "\n",
              "    .colab-df-convert:hover {\n",
              "      background-color: #E2EBFA;\n",
              "      box-shadow: 0px 1px 2px rgba(60, 64, 67, 0.3), 0px 1px 3px 1px rgba(60, 64, 67, 0.15);\n",
              "      fill: #174EA6;\n",
              "    }\n",
              "\n",
              "    [theme=dark] .colab-df-convert {\n",
              "      background-color: #3B4455;\n",
              "      fill: #D2E3FC;\n",
              "    }\n",
              "\n",
              "    [theme=dark] .colab-df-convert:hover {\n",
              "      background-color: #434B5C;\n",
              "      box-shadow: 0px 1px 3px 1px rgba(0, 0, 0, 0.15);\n",
              "      filter: drop-shadow(0px 1px 2px rgba(0, 0, 0, 0.3));\n",
              "      fill: #FFFFFF;\n",
              "    }\n",
              "  </style>\n",
              "\n",
              "      <script>\n",
              "        const buttonEl =\n",
              "          document.querySelector('#df-6f75bf64-10a8-4fc7-be4c-9fe0018a1709 button.colab-df-convert');\n",
              "        buttonEl.style.display =\n",
              "          google.colab.kernel.accessAllowed ? 'block' : 'none';\n",
              "\n",
              "        async function convertToInteractive(key) {\n",
              "          const element = document.querySelector('#df-6f75bf64-10a8-4fc7-be4c-9fe0018a1709');\n",
              "          const dataTable =\n",
              "            await google.colab.kernel.invokeFunction('convertToInteractive',\n",
              "                                                     [key], {});\n",
              "          if (!dataTable) return;\n",
              "\n",
              "          const docLinkHtml = 'Like what you see? Visit the ' +\n",
              "            '<a target=\"_blank\" href=https://colab.research.google.com/notebooks/data_table.ipynb>data table notebook</a>'\n",
              "            + ' to learn more about interactive tables.';\n",
              "          element.innerHTML = '';\n",
              "          dataTable['output_type'] = 'display_data';\n",
              "          await google.colab.output.renderOutput(dataTable, element);\n",
              "          const docLink = document.createElement('div');\n",
              "          docLink.innerHTML = docLinkHtml;\n",
              "          element.appendChild(docLink);\n",
              "        }\n",
              "      </script>\n",
              "    </div>\n",
              "  </div>\n",
              "  "
            ],
            "text/plain": [
              "  Iteración    Operación Índice    factor sum(Ax)\n",
              "0         0  Eliminación      1       0.5    None\n",
              "1         0  Eliminación      2  0.333333    None\n",
              "2         1  Eliminación      2     1.125    None\n",
              "3      None  Sustitución      2      None    None\n",
              "4      None  Sustitución      1      None     4.0\n",
              "5      None  Sustitución      0      None     3.0"
            ]
          },
          "execution_count": 15,
          "metadata": {},
          "output_type": "execute_result"
        }
      ],
      "source": [
        "pd.DataFrame(np.array(table), columns=['Iteración', 'Operación', 'Índice', 'factor', 'sum(Ax)'])"
      ]
    },
    {
      "cell_type": "markdown",
      "metadata": {
        "id": "FamObHPRh3dM"
      },
      "source": [
        "<div align=\"center\">\n",
        "    Tabla 2. Gauss - matriz 3x3\n",
        "</div>"
      ]
    },
    {
      "cell_type": "markdown",
      "metadata": {
        "id": "nEP8Swf2gGer"
      },
      "source": [
        "Ejercicio con la matriz $4x4$."
      ]
    },
    {
      "cell_type": "code",
      "execution_count": null,
      "metadata": {
        "colab": {
          "base_uri": "https://localhost:8080/",
          "height": 35
        },
        "id": "K1jZ4i-SgGer",
        "outputId": "42ba6fc3-000a-4fa0-e991-eba870a264b9"
      },
      "outputs": [
        {
          "data": {
            "application/vnd.google.colaboratory.intrinsic+json": {
              "type": "string"
            },
            "text/plain": [
              "'Time: 0.000297s'"
            ]
          },
          "execution_count": 16,
          "metadata": {},
          "output_type": "execute_result"
        }
      ],
      "source": [
        "table = []\n",
        "\n",
        "x, t = solve(\n",
        "    matrices[4]['A'],\n",
        "    matrices[4]['b'],\n",
        "    gauss,\n",
        "    table\n",
        ")\n",
        "\n",
        "times.append(t)\n",
        "\n",
        "f'Time: {t:.6f}s'"
      ]
    },
    {
      "cell_type": "code",
      "execution_count": null,
      "metadata": {
        "colab": {
          "base_uri": "https://localhost:8080/",
          "height": 35
        },
        "id": "3vhmrFqSgGes",
        "outputId": "0850a16a-dd12-4b97-a9dc-011f1e3e2056"
      },
      "outputs": [
        {
          "data": {
            "application/vnd.google.colaboratory.intrinsic+json": {
              "type": "string"
            },
            "text/plain": [
              "'El resultado de la operación es: w: -1.0, x: 2.0, y: 4.0, z: 1.0'"
            ]
          },
          "execution_count": 17,
          "metadata": {},
          "output_type": "execute_result"
        }
      ],
      "source": [
        "f'El resultado de la operación es: w: {x[0]}, x: {x[1]}, y: {x[2]}, z: {x[3]}'"
      ]
    },
    {
      "cell_type": "code",
      "execution_count": null,
      "metadata": {
        "colab": {
          "base_uri": "https://localhost:8080/",
          "height": 363
        },
        "id": "ykCtel0jgGes",
        "outputId": "626ba9c9-8f26-47ac-cd0b-98650a3bd8ce"
      },
      "outputs": [
        {
          "data": {
            "text/html": [
              "\n",
              "  <div id=\"df-4cc9b088-5979-4a38-8612-b22d596386f8\">\n",
              "    <div class=\"colab-df-container\">\n",
              "      <div>\n",
              "<style scoped>\n",
              "    .dataframe tbody tr th:only-of-type {\n",
              "        vertical-align: middle;\n",
              "    }\n",
              "\n",
              "    .dataframe tbody tr th {\n",
              "        vertical-align: top;\n",
              "    }\n",
              "\n",
              "    .dataframe thead th {\n",
              "        text-align: right;\n",
              "    }\n",
              "</style>\n",
              "<table border=\"1\" class=\"dataframe\">\n",
              "  <thead>\n",
              "    <tr style=\"text-align: right;\">\n",
              "      <th></th>\n",
              "      <th>Iteración</th>\n",
              "      <th>Operación</th>\n",
              "      <th>Índice</th>\n",
              "      <th>factor</th>\n",
              "      <th>sum(Ax)</th>\n",
              "    </tr>\n",
              "  </thead>\n",
              "  <tbody>\n",
              "    <tr>\n",
              "      <th>0</th>\n",
              "      <td>0</td>\n",
              "      <td>Eliminación</td>\n",
              "      <td>1</td>\n",
              "      <td>0.5</td>\n",
              "      <td>None</td>\n",
              "    </tr>\n",
              "    <tr>\n",
              "      <th>1</th>\n",
              "      <td>0</td>\n",
              "      <td>Eliminación</td>\n",
              "      <td>2</td>\n",
              "      <td>-1.0</td>\n",
              "      <td>None</td>\n",
              "    </tr>\n",
              "    <tr>\n",
              "      <th>2</th>\n",
              "      <td>0</td>\n",
              "      <td>Eliminación</td>\n",
              "      <td>3</td>\n",
              "      <td>0.333333</td>\n",
              "      <td>None</td>\n",
              "    </tr>\n",
              "    <tr>\n",
              "      <th>3</th>\n",
              "      <td>1</td>\n",
              "      <td>Eliminación</td>\n",
              "      <td>2</td>\n",
              "      <td>0.5</td>\n",
              "      <td>None</td>\n",
              "    </tr>\n",
              "    <tr>\n",
              "      <th>4</th>\n",
              "      <td>1</td>\n",
              "      <td>Eliminación</td>\n",
              "      <td>3</td>\n",
              "      <td>0.9375</td>\n",
              "      <td>None</td>\n",
              "    </tr>\n",
              "    <tr>\n",
              "      <th>5</th>\n",
              "      <td>2</td>\n",
              "      <td>Eliminación</td>\n",
              "      <td>3</td>\n",
              "      <td>4.0</td>\n",
              "      <td>None</td>\n",
              "    </tr>\n",
              "    <tr>\n",
              "      <th>6</th>\n",
              "      <td>None</td>\n",
              "      <td>Sustitución</td>\n",
              "      <td>3</td>\n",
              "      <td>None</td>\n",
              "      <td>None</td>\n",
              "    </tr>\n",
              "    <tr>\n",
              "      <th>7</th>\n",
              "      <td>None</td>\n",
              "      <td>Sustitución</td>\n",
              "      <td>2</td>\n",
              "      <td>None</td>\n",
              "      <td>0.0</td>\n",
              "    </tr>\n",
              "    <tr>\n",
              "      <th>8</th>\n",
              "      <td>None</td>\n",
              "      <td>Sustitución</td>\n",
              "      <td>1</td>\n",
              "      <td>None</td>\n",
              "      <td>-8.5</td>\n",
              "    </tr>\n",
              "    <tr>\n",
              "      <th>9</th>\n",
              "      <td>None</td>\n",
              "      <td>Sustitución</td>\n",
              "      <td>0</td>\n",
              "      <td>None</td>\n",
              "      <td>1.0</td>\n",
              "    </tr>\n",
              "  </tbody>\n",
              "</table>\n",
              "</div>\n",
              "      <button class=\"colab-df-convert\" onclick=\"convertToInteractive('df-4cc9b088-5979-4a38-8612-b22d596386f8')\"\n",
              "              title=\"Convert this dataframe to an interactive table.\"\n",
              "              style=\"display:none;\">\n",
              "        \n",
              "  <svg xmlns=\"http://www.w3.org/2000/svg\" height=\"24px\"viewBox=\"0 0 24 24\"\n",
              "       width=\"24px\">\n",
              "    <path d=\"M0 0h24v24H0V0z\" fill=\"none\"/>\n",
              "    <path d=\"M18.56 5.44l.94 2.06.94-2.06 2.06-.94-2.06-.94-.94-2.06-.94 2.06-2.06.94zm-11 1L8.5 8.5l.94-2.06 2.06-.94-2.06-.94L8.5 2.5l-.94 2.06-2.06.94zm10 10l.94 2.06.94-2.06 2.06-.94-2.06-.94-.94-2.06-.94 2.06-2.06.94z\"/><path d=\"M17.41 7.96l-1.37-1.37c-.4-.4-.92-.59-1.43-.59-.52 0-1.04.2-1.43.59L10.3 9.45l-7.72 7.72c-.78.78-.78 2.05 0 2.83L4 21.41c.39.39.9.59 1.41.59.51 0 1.02-.2 1.41-.59l7.78-7.78 2.81-2.81c.8-.78.8-2.07 0-2.86zM5.41 20L4 18.59l7.72-7.72 1.47 1.35L5.41 20z\"/>\n",
              "  </svg>\n",
              "      </button>\n",
              "      \n",
              "  <style>\n",
              "    .colab-df-container {\n",
              "      display:flex;\n",
              "      flex-wrap:wrap;\n",
              "      gap: 12px;\n",
              "    }\n",
              "\n",
              "    .colab-df-convert {\n",
              "      background-color: #E8F0FE;\n",
              "      border: none;\n",
              "      border-radius: 50%;\n",
              "      cursor: pointer;\n",
              "      display: none;\n",
              "      fill: #1967D2;\n",
              "      height: 32px;\n",
              "      padding: 0 0 0 0;\n",
              "      width: 32px;\n",
              "    }\n",
              "\n",
              "    .colab-df-convert:hover {\n",
              "      background-color: #E2EBFA;\n",
              "      box-shadow: 0px 1px 2px rgba(60, 64, 67, 0.3), 0px 1px 3px 1px rgba(60, 64, 67, 0.15);\n",
              "      fill: #174EA6;\n",
              "    }\n",
              "\n",
              "    [theme=dark] .colab-df-convert {\n",
              "      background-color: #3B4455;\n",
              "      fill: #D2E3FC;\n",
              "    }\n",
              "\n",
              "    [theme=dark] .colab-df-convert:hover {\n",
              "      background-color: #434B5C;\n",
              "      box-shadow: 0px 1px 3px 1px rgba(0, 0, 0, 0.15);\n",
              "      filter: drop-shadow(0px 1px 2px rgba(0, 0, 0, 0.3));\n",
              "      fill: #FFFFFF;\n",
              "    }\n",
              "  </style>\n",
              "\n",
              "      <script>\n",
              "        const buttonEl =\n",
              "          document.querySelector('#df-4cc9b088-5979-4a38-8612-b22d596386f8 button.colab-df-convert');\n",
              "        buttonEl.style.display =\n",
              "          google.colab.kernel.accessAllowed ? 'block' : 'none';\n",
              "\n",
              "        async function convertToInteractive(key) {\n",
              "          const element = document.querySelector('#df-4cc9b088-5979-4a38-8612-b22d596386f8');\n",
              "          const dataTable =\n",
              "            await google.colab.kernel.invokeFunction('convertToInteractive',\n",
              "                                                     [key], {});\n",
              "          if (!dataTable) return;\n",
              "\n",
              "          const docLinkHtml = 'Like what you see? Visit the ' +\n",
              "            '<a target=\"_blank\" href=https://colab.research.google.com/notebooks/data_table.ipynb>data table notebook</a>'\n",
              "            + ' to learn more about interactive tables.';\n",
              "          element.innerHTML = '';\n",
              "          dataTable['output_type'] = 'display_data';\n",
              "          await google.colab.output.renderOutput(dataTable, element);\n",
              "          const docLink = document.createElement('div');\n",
              "          docLink.innerHTML = docLinkHtml;\n",
              "          element.appendChild(docLink);\n",
              "        }\n",
              "      </script>\n",
              "    </div>\n",
              "  </div>\n",
              "  "
            ],
            "text/plain": [
              "  Iteración    Operación Índice    factor sum(Ax)\n",
              "0         0  Eliminación      1       0.5    None\n",
              "1         0  Eliminación      2      -1.0    None\n",
              "2         0  Eliminación      3  0.333333    None\n",
              "3         1  Eliminación      2       0.5    None\n",
              "4         1  Eliminación      3    0.9375    None\n",
              "5         2  Eliminación      3       4.0    None\n",
              "6      None  Sustitución      3      None    None\n",
              "7      None  Sustitución      2      None     0.0\n",
              "8      None  Sustitución      1      None    -8.5\n",
              "9      None  Sustitución      0      None     1.0"
            ]
          },
          "execution_count": 18,
          "metadata": {},
          "output_type": "execute_result"
        }
      ],
      "source": [
        "pd.DataFrame(np.array(table), columns=['Iteración', 'Operación', 'Índice', 'factor', 'sum(Ax)'])"
      ]
    },
    {
      "cell_type": "markdown",
      "metadata": {
        "id": "h_gB7L-8h7X-"
      },
      "source": [
        "<div align=\"center\">\n",
        "    Tabla 3. Gauss - matriz 4x4\n",
        "</div>"
      ]
    },
    {
      "cell_type": "markdown",
      "metadata": {
        "id": "FtFxGyZJgy2m"
      },
      "source": [
        "Ejercicio con la matriz $5x5$."
      ]
    },
    {
      "cell_type": "code",
      "execution_count": null,
      "metadata": {
        "colab": {
          "base_uri": "https://localhost:8080/",
          "height": 35
        },
        "id": "GMKAPhI-gy2m",
        "outputId": "343fe5a3-176d-4643-f71a-8e456b146106"
      },
      "outputs": [
        {
          "data": {
            "application/vnd.google.colaboratory.intrinsic+json": {
              "type": "string"
            },
            "text/plain": [
              "'Time: 0.005944s'"
            ]
          },
          "execution_count": 19,
          "metadata": {},
          "output_type": "execute_result"
        }
      ],
      "source": [
        "table = []\n",
        "\n",
        "x, t = solve(\n",
        "    matrices[5]['A'],\n",
        "    matrices[5]['b'],\n",
        "    gauss,\n",
        "    table\n",
        ")\n",
        "\n",
        "times.append(t)\n",
        "\n",
        "f'Time: {t:.6f}s'"
      ]
    },
    {
      "cell_type": "code",
      "execution_count": null,
      "metadata": {
        "colab": {
          "base_uri": "https://localhost:8080/",
          "height": 53
        },
        "id": "RrZ8wemNgy2n",
        "outputId": "fbb437b4-7018-4e3b-cf93-38767cc4a1c1"
      },
      "outputs": [
        {
          "data": {
            "application/vnd.google.colaboratory.intrinsic+json": {
              "type": "string"
            },
            "text/plain": [
              "'El resultado de la operación es: v: 1.0000000000000004, w: -1.9999999999999993, x: 2.9999999999999996, y: -4.0, z: 4.999999999999999'"
            ]
          },
          "execution_count": 20,
          "metadata": {},
          "output_type": "execute_result"
        }
      ],
      "source": [
        "f'El resultado de la operación es: v: {x[0]}, w: {x[1]}, x: {x[2]}, y: {x[3]}, z: {x[4]}'"
      ]
    },
    {
      "cell_type": "code",
      "execution_count": null,
      "metadata": {
        "colab": {
          "base_uri": "https://localhost:8080/",
          "height": 520
        },
        "id": "pRjGY1X1gy2o",
        "outputId": "72986731-5b90-4fcd-816d-7e2eccbc11d0"
      },
      "outputs": [
        {
          "data": {
            "text/html": [
              "\n",
              "  <div id=\"df-d74d5f9b-d68c-4f9a-a3bb-cc50bd960ed2\">\n",
              "    <div class=\"colab-df-container\">\n",
              "      <div>\n",
              "<style scoped>\n",
              "    .dataframe tbody tr th:only-of-type {\n",
              "        vertical-align: middle;\n",
              "    }\n",
              "\n",
              "    .dataframe tbody tr th {\n",
              "        vertical-align: top;\n",
              "    }\n",
              "\n",
              "    .dataframe thead th {\n",
              "        text-align: right;\n",
              "    }\n",
              "</style>\n",
              "<table border=\"1\" class=\"dataframe\">\n",
              "  <thead>\n",
              "    <tr style=\"text-align: right;\">\n",
              "      <th></th>\n",
              "      <th>Iteración</th>\n",
              "      <th>Operación</th>\n",
              "      <th>Índice</th>\n",
              "      <th>factor</th>\n",
              "      <th>sum(Ax)</th>\n",
              "    </tr>\n",
              "  </thead>\n",
              "  <tbody>\n",
              "    <tr>\n",
              "      <th>0</th>\n",
              "      <td>0</td>\n",
              "      <td>Eliminación</td>\n",
              "      <td>1</td>\n",
              "      <td>-2.0</td>\n",
              "      <td>None</td>\n",
              "    </tr>\n",
              "    <tr>\n",
              "      <th>1</th>\n",
              "      <td>0</td>\n",
              "      <td>Eliminación</td>\n",
              "      <td>2</td>\n",
              "      <td>0.4</td>\n",
              "      <td>None</td>\n",
              "    </tr>\n",
              "    <tr>\n",
              "      <th>2</th>\n",
              "      <td>0</td>\n",
              "      <td>Eliminación</td>\n",
              "      <td>3</td>\n",
              "      <td>0.666667</td>\n",
              "      <td>None</td>\n",
              "    </tr>\n",
              "    <tr>\n",
              "      <th>3</th>\n",
              "      <td>0</td>\n",
              "      <td>Eliminación</td>\n",
              "      <td>4</td>\n",
              "      <td>-0.5</td>\n",
              "      <td>None</td>\n",
              "    </tr>\n",
              "    <tr>\n",
              "      <th>4</th>\n",
              "      <td>1</td>\n",
              "      <td>Eliminación</td>\n",
              "      <td>2</td>\n",
              "      <td>-3.571429</td>\n",
              "      <td>None</td>\n",
              "    </tr>\n",
              "    <tr>\n",
              "      <th>5</th>\n",
              "      <td>1</td>\n",
              "      <td>Eliminación</td>\n",
              "      <td>3</td>\n",
              "      <td>15.0</td>\n",
              "      <td>None</td>\n",
              "    </tr>\n",
              "    <tr>\n",
              "      <th>6</th>\n",
              "      <td>1</td>\n",
              "      <td>Eliminación</td>\n",
              "      <td>4</td>\n",
              "      <td>-3.333333</td>\n",
              "      <td>None</td>\n",
              "    </tr>\n",
              "    <tr>\n",
              "      <th>7</th>\n",
              "      <td>2</td>\n",
              "      <td>Eliminación</td>\n",
              "      <td>3</td>\n",
              "      <td>-0.125</td>\n",
              "      <td>None</td>\n",
              "    </tr>\n",
              "    <tr>\n",
              "      <th>8</th>\n",
              "      <td>2</td>\n",
              "      <td>Eliminación</td>\n",
              "      <td>4</td>\n",
              "      <td>2.0</td>\n",
              "      <td>None</td>\n",
              "    </tr>\n",
              "    <tr>\n",
              "      <th>9</th>\n",
              "      <td>3</td>\n",
              "      <td>Eliminación</td>\n",
              "      <td>4</td>\n",
              "      <td>-0.593284</td>\n",
              "      <td>None</td>\n",
              "    </tr>\n",
              "    <tr>\n",
              "      <th>10</th>\n",
              "      <td>None</td>\n",
              "      <td>Sustitución</td>\n",
              "      <td>4</td>\n",
              "      <td>None</td>\n",
              "      <td>None</td>\n",
              "    </tr>\n",
              "    <tr>\n",
              "      <th>11</th>\n",
              "      <td>None</td>\n",
              "      <td>Sustitución</td>\n",
              "      <td>3</td>\n",
              "      <td>None</td>\n",
              "      <td>20.0</td>\n",
              "    </tr>\n",
              "    <tr>\n",
              "      <th>12</th>\n",
              "      <td>None</td>\n",
              "      <td>Sustitución</td>\n",
              "      <td>2</td>\n",
              "      <td>None</td>\n",
              "      <td>-43.142857</td>\n",
              "    </tr>\n",
              "    <tr>\n",
              "      <th>13</th>\n",
              "      <td>None</td>\n",
              "      <td>Sustitución</td>\n",
              "      <td>1</td>\n",
              "      <td>None</td>\n",
              "      <td>19.0</td>\n",
              "    </tr>\n",
              "    <tr>\n",
              "      <th>14</th>\n",
              "      <td>None</td>\n",
              "      <td>Sustitución</td>\n",
              "      <td>0</td>\n",
              "      <td>None</td>\n",
              "      <td>5.0</td>\n",
              "    </tr>\n",
              "  </tbody>\n",
              "</table>\n",
              "</div>\n",
              "      <button class=\"colab-df-convert\" onclick=\"convertToInteractive('df-d74d5f9b-d68c-4f9a-a3bb-cc50bd960ed2')\"\n",
              "              title=\"Convert this dataframe to an interactive table.\"\n",
              "              style=\"display:none;\">\n",
              "        \n",
              "  <svg xmlns=\"http://www.w3.org/2000/svg\" height=\"24px\"viewBox=\"0 0 24 24\"\n",
              "       width=\"24px\">\n",
              "    <path d=\"M0 0h24v24H0V0z\" fill=\"none\"/>\n",
              "    <path d=\"M18.56 5.44l.94 2.06.94-2.06 2.06-.94-2.06-.94-.94-2.06-.94 2.06-2.06.94zm-11 1L8.5 8.5l.94-2.06 2.06-.94-2.06-.94L8.5 2.5l-.94 2.06-2.06.94zm10 10l.94 2.06.94-2.06 2.06-.94-2.06-.94-.94-2.06-.94 2.06-2.06.94z\"/><path d=\"M17.41 7.96l-1.37-1.37c-.4-.4-.92-.59-1.43-.59-.52 0-1.04.2-1.43.59L10.3 9.45l-7.72 7.72c-.78.78-.78 2.05 0 2.83L4 21.41c.39.39.9.59 1.41.59.51 0 1.02-.2 1.41-.59l7.78-7.78 2.81-2.81c.8-.78.8-2.07 0-2.86zM5.41 20L4 18.59l7.72-7.72 1.47 1.35L5.41 20z\"/>\n",
              "  </svg>\n",
              "      </button>\n",
              "      \n",
              "  <style>\n",
              "    .colab-df-container {\n",
              "      display:flex;\n",
              "      flex-wrap:wrap;\n",
              "      gap: 12px;\n",
              "    }\n",
              "\n",
              "    .colab-df-convert {\n",
              "      background-color: #E8F0FE;\n",
              "      border: none;\n",
              "      border-radius: 50%;\n",
              "      cursor: pointer;\n",
              "      display: none;\n",
              "      fill: #1967D2;\n",
              "      height: 32px;\n",
              "      padding: 0 0 0 0;\n",
              "      width: 32px;\n",
              "    }\n",
              "\n",
              "    .colab-df-convert:hover {\n",
              "      background-color: #E2EBFA;\n",
              "      box-shadow: 0px 1px 2px rgba(60, 64, 67, 0.3), 0px 1px 3px 1px rgba(60, 64, 67, 0.15);\n",
              "      fill: #174EA6;\n",
              "    }\n",
              "\n",
              "    [theme=dark] .colab-df-convert {\n",
              "      background-color: #3B4455;\n",
              "      fill: #D2E3FC;\n",
              "    }\n",
              "\n",
              "    [theme=dark] .colab-df-convert:hover {\n",
              "      background-color: #434B5C;\n",
              "      box-shadow: 0px 1px 3px 1px rgba(0, 0, 0, 0.15);\n",
              "      filter: drop-shadow(0px 1px 2px rgba(0, 0, 0, 0.3));\n",
              "      fill: #FFFFFF;\n",
              "    }\n",
              "  </style>\n",
              "\n",
              "      <script>\n",
              "        const buttonEl =\n",
              "          document.querySelector('#df-d74d5f9b-d68c-4f9a-a3bb-cc50bd960ed2 button.colab-df-convert');\n",
              "        buttonEl.style.display =\n",
              "          google.colab.kernel.accessAllowed ? 'block' : 'none';\n",
              "\n",
              "        async function convertToInteractive(key) {\n",
              "          const element = document.querySelector('#df-d74d5f9b-d68c-4f9a-a3bb-cc50bd960ed2');\n",
              "          const dataTable =\n",
              "            await google.colab.kernel.invokeFunction('convertToInteractive',\n",
              "                                                     [key], {});\n",
              "          if (!dataTable) return;\n",
              "\n",
              "          const docLinkHtml = 'Like what you see? Visit the ' +\n",
              "            '<a target=\"_blank\" href=https://colab.research.google.com/notebooks/data_table.ipynb>data table notebook</a>'\n",
              "            + ' to learn more about interactive tables.';\n",
              "          element.innerHTML = '';\n",
              "          dataTable['output_type'] = 'display_data';\n",
              "          await google.colab.output.renderOutput(dataTable, element);\n",
              "          const docLink = document.createElement('div');\n",
              "          docLink.innerHTML = docLinkHtml;\n",
              "          element.appendChild(docLink);\n",
              "        }\n",
              "      </script>\n",
              "    </div>\n",
              "  </div>\n",
              "  "
            ],
            "text/plain": [
              "   Iteración    Operación Índice    factor    sum(Ax)\n",
              "0          0  Eliminación      1      -2.0       None\n",
              "1          0  Eliminación      2       0.4       None\n",
              "2          0  Eliminación      3  0.666667       None\n",
              "3          0  Eliminación      4      -0.5       None\n",
              "4          1  Eliminación      2 -3.571429       None\n",
              "5          1  Eliminación      3      15.0       None\n",
              "6          1  Eliminación      4 -3.333333       None\n",
              "7          2  Eliminación      3    -0.125       None\n",
              "8          2  Eliminación      4       2.0       None\n",
              "9          3  Eliminación      4 -0.593284       None\n",
              "10      None  Sustitución      4      None       None\n",
              "11      None  Sustitución      3      None       20.0\n",
              "12      None  Sustitución      2      None -43.142857\n",
              "13      None  Sustitución      1      None       19.0\n",
              "14      None  Sustitución      0      None        5.0"
            ]
          },
          "execution_count": 21,
          "metadata": {},
          "output_type": "execute_result"
        }
      ],
      "source": [
        "pd.DataFrame(np.array(table), columns=['Iteración', 'Operación', 'Índice', 'factor', 'sum(Ax)'])"
      ]
    },
    {
      "cell_type": "markdown",
      "metadata": {
        "id": "8BlZ4dADiEX2"
      },
      "source": [
        "<div align=\"center\">\n",
        "    Tabla 4. Gauss - matriz 5x5\n",
        "</div>"
      ]
    },
    {
      "cell_type": "code",
      "execution_count": null,
      "metadata": {
        "colab": {
          "base_uri": "https://localhost:8080/",
          "height": 279
        },
        "id": "7s7jQbrmiQ5O",
        "outputId": "87ef783d-92ce-4f75-a6ae-5fb6e6f1f6f6"
      },
      "outputs": [
        {
          "data": {
            "image/png": "[encoded data removed]",
            "text/plain": [
              "<Figure size 432x288 with 1 Axes>"
            ]
          },
          "metadata": {
            "needs_background": "light"
          },
          "output_type": "display_data"
        }
      ],
      "source": [
        "benchmarking.append([times, 'Gauss'])\n",
        "\n",
        "plt.plot([2, 3, 4, 5], times, linewidth=2.0)\n",
        "plt.plot([2, 3, 4, 5], times, 'o', linewidth=2.0)\n",
        "\n",
        "plt.xlabel('dimensiones (n x n)')\n",
        "plt.ylabel('tiempos (s)')\n",
        "plt.grid()\n",
        "plt.show()"
      ]
    },
    {
      "cell_type": "markdown",
      "metadata": {
        "id": "hdpWnyHVlA9y"
      },
      "source": [
        "<div align=\"center\">\n",
        "    Gráfica 1. Gauss - tiempos\n",
        "</div>"
      ]
    },
    {
      "cell_type": "markdown",
      "metadata": {
        "id": "484qiDTcl7oa"
      },
      "source": [
        "#### 3.1.2. Eliminación Gauss-Jordan"
      ]
    },
    {
      "cell_type": "markdown",
      "metadata": {
        "id": "ujCa4eTkl7oa"
      },
      "source": [
        "Ejercicio con la matriz $2x2$."
      ]
    },
    {
      "cell_type": "code",
      "execution_count": null,
      "metadata": {
        "colab": {
          "base_uri": "https://localhost:8080/",
          "height": 35
        },
        "id": "hpN4E-0ul7oa",
        "outputId": "aea02b01-818d-4379-d8ff-59558fa6302c"
      },
      "outputs": [
        {
          "data": {
            "application/vnd.google.colaboratory.intrinsic+json": {
              "type": "string"
            },
            "text/plain": [
              "'Time: 0.000180s'"
            ]
          },
          "execution_count": 23,
          "metadata": {},
          "output_type": "execute_result"
        }
      ],
      "source": [
        "table = []\n",
        "\n",
        "x, t = solve(\n",
        "    matrices[2]['A'],\n",
        "    matrices[2]['b'],\n",
        "    gauss_jordan,\n",
        "    table\n",
        ")\n",
        "\n",
        "times = [t]\n",
        "f'Time: {t:.6f}s'"
      ]
    },
    {
      "cell_type": "code",
      "execution_count": null,
      "metadata": {
        "colab": {
          "base_uri": "https://localhost:8080/",
          "height": 35
        },
        "id": "AuU0MUZql7ob",
        "outputId": "cb870c08-a22b-44f1-9d3a-6a0e3a6c608d"
      },
      "outputs": [
        {
          "data": {
            "application/vnd.google.colaboratory.intrinsic+json": {
              "type": "string"
            },
            "text/plain": [
              "'El resultado de la operación es: x: 0.2857142857142857, y: 0.42857142857142855'"
            ]
          },
          "execution_count": 24,
          "metadata": {},
          "output_type": "execute_result"
        }
      ],
      "source": [
        "f'El resultado de la operación es: x: {x[0]}, y: {x[1]}'"
      ]
    },
    {
      "cell_type": "code",
      "execution_count": null,
      "metadata": {
        "colab": {
          "base_uri": "https://localhost:8080/",
          "height": 112
        },
        "id": "y7Q_W4l_l7ob",
        "outputId": "11934fa2-3b68-429e-acfa-ec877464db7e"
      },
      "outputs": [
        {
          "data": {
            "text/html": [
              "\n",
              "  <div id=\"df-2275835e-a66f-466c-8631-6a1587d99829\">\n",
              "    <div class=\"colab-df-container\">\n",
              "      <div>\n",
              "<style scoped>\n",
              "    .dataframe tbody tr th:only-of-type {\n",
              "        vertical-align: middle;\n",
              "    }\n",
              "\n",
              "    .dataframe tbody tr th {\n",
              "        vertical-align: top;\n",
              "    }\n",
              "\n",
              "    .dataframe thead th {\n",
              "        text-align: right;\n",
              "    }\n",
              "</style>\n",
              "<table border=\"1\" class=\"dataframe\">\n",
              "  <thead>\n",
              "    <tr style=\"text-align: right;\">\n",
              "      <th></th>\n",
              "      <th>Iteración</th>\n",
              "      <th>Operación</th>\n",
              "      <th>Índice</th>\n",
              "      <th>pivote</th>\n",
              "      <th>factor</th>\n",
              "    </tr>\n",
              "  </thead>\n",
              "  <tbody>\n",
              "    <tr>\n",
              "      <th>0</th>\n",
              "      <td>0</td>\n",
              "      <td>Eliminación</td>\n",
              "      <td>1</td>\n",
              "      <td>3.0</td>\n",
              "      <td>2.0</td>\n",
              "    </tr>\n",
              "    <tr>\n",
              "      <th>1</th>\n",
              "      <td>1</td>\n",
              "      <td>Eliminación</td>\n",
              "      <td>0</td>\n",
              "      <td>-2.3333333333333335</td>\n",
              "      <td>1.6666666666666667</td>\n",
              "    </tr>\n",
              "  </tbody>\n",
              "</table>\n",
              "</div>\n",
              "      <button class=\"colab-df-convert\" onclick=\"convertToInteractive('df-2275835e-a66f-466c-8631-6a1587d99829')\"\n",
              "              title=\"Convert this dataframe to an interactive table.\"\n",
              "              style=\"display:none;\">\n",
              "        \n",
              "  <svg xmlns=\"http://www.w3.org/2000/svg\" height=\"24px\"viewBox=\"0 0 24 24\"\n",
              "       width=\"24px\">\n",
              "    <path d=\"M0 0h24v24H0V0z\" fill=\"none\"/>\n",
              "    <path d=\"M18.56 5.44l.94 2.06.94-2.06 2.06-.94-2.06-.94-.94-2.06-.94 2.06-2.06.94zm-11 1L8.5 8.5l.94-2.06 2.06-.94-2.06-.94L8.5 2.5l-.94 2.06-2.06.94zm10 10l.94 2.06.94-2.06 2.06-.94-2.06-.94-.94-2.06-.94 2.06-2.06.94z\"/><path d=\"M17.41 7.96l-1.37-1.37c-.4-.4-.92-.59-1.43-.59-.52 0-1.04.2-1.43.59L10.3 9.45l-7.72 7.72c-.78.78-.78 2.05 0 2.83L4 21.41c.39.39.9.59 1.41.59.51 0 1.02-.2 1.41-.59l7.78-7.78 2.81-2.81c.8-.78.8-2.07 0-2.86zM5.41 20L4 18.59l7.72-7.72 1.47 1.35L5.41 20z\"/>\n",
              "  </svg>\n",
              "      </button>\n",
              "      \n",
              "  <style>\n",
              "    .colab-df-container {\n",
              "      display:flex;\n",
              "      flex-wrap:wrap;\n",
              "      gap: 12px;\n",
              "    }\n",
              "\n",
              "    .colab-df-convert {\n",
              "      background-color: #E8F0FE;\n",
              "      border: none;\n",
              "      border-radius: 50%;\n",
              "      cursor: pointer;\n",
              "      display: none;\n",
              "      fill: #1967D2;\n",
              "      height: 32px;\n",
              "      padding: 0 0 0 0;\n",
              "      width: 32px;\n",
              "    }\n",
              "\n",
              "    .colab-df-convert:hover {\n",
              "      background-color: #E2EBFA;\n",
              "      box-shadow: 0px 1px 2px rgba(60, 64, 67, 0.3), 0px 1px 3px 1px rgba(60, 64, 67, 0.15);\n",
              "      fill: #174EA6;\n",
              "    }\n",
              "\n",
              "    [theme=dark] .colab-df-convert {\n",
              "      background-color: #3B4455;\n",
              "      fill: #D2E3FC;\n",
              "    }\n",
              "\n",
              "    [theme=dark] .colab-df-convert:hover {\n",
              "      background-color: #434B5C;\n",
              "      box-shadow: 0px 1px 3px 1px rgba(0, 0, 0, 0.15);\n",
              "      filter: drop-shadow(0px 1px 2px rgba(0, 0, 0, 0.3));\n",
              "      fill: #FFFFFF;\n",
              "    }\n",
              "  </style>\n",
              "\n",
              "      <script>\n",
              "        const buttonEl =\n",
              "          document.querySelector('#df-2275835e-a66f-466c-8631-6a1587d99829 button.colab-df-convert');\n",
              "        buttonEl.style.display =\n",
              "          google.colab.kernel.accessAllowed ? 'block' : 'none';\n",
              "\n",
              "        async function convertToInteractive(key) {\n",
              "          const element = document.querySelector('#df-2275835e-a66f-466c-8631-6a1587d99829');\n",
              "          const dataTable =\n",
              "            await google.colab.kernel.invokeFunction('convertToInteractive',\n",
              "                                                     [key], {});\n",
              "          if (!dataTable) return;\n",
              "\n",
              "          const docLinkHtml = 'Like what you see? Visit the ' +\n",
              "            '<a target=\"_blank\" href=https://colab.research.google.com/notebooks/data_table.ipynb>data table notebook</a>'\n",
              "            + ' to learn more about interactive tables.';\n",
              "          element.innerHTML = '';\n",
              "          dataTable['output_type'] = 'display_data';\n",
              "          await google.colab.output.renderOutput(dataTable, element);\n",
              "          const docLink = document.createElement('div');\n",
              "          docLink.innerHTML = docLinkHtml;\n",
              "          element.appendChild(docLink);\n",
              "        }\n",
              "      </script>\n",
              "    </div>\n",
              "  </div>\n",
              "  "
            ],
            "text/plain": [
              "  Iteración    Operación Índice               pivote              factor\n",
              "0         0  Eliminación      1                  3.0                 2.0\n",
              "1         1  Eliminación      0  -2.3333333333333335  1.6666666666666667"
            ]
          },
          "execution_count": 25,
          "metadata": {},
          "output_type": "execute_result"
        }
      ],
      "source": [
        "pd.DataFrame(np.array(table), columns=['Iteración', 'Operación', 'Índice', 'pivote', 'factor'])"
      ]
    },
    {
      "cell_type": "markdown",
      "metadata": {
        "id": "PmsHub9Xl7ob"
      },
      "source": [
        "<div align=\"center\">\n",
        "    Tabla 5. Gauss-Jordan - matriz 2x2\n",
        "</div>"
      ]
    },
    {
      "cell_type": "markdown",
      "metadata": {
        "id": "tlDfKApPl7ob"
      },
      "source": [
        "Ejercicio con la matriz $3x3$."
      ]
    },
    {
      "cell_type": "code",
      "execution_count": null,
      "metadata": {
        "colab": {
          "base_uri": "https://localhost:8080/",
          "height": 35
        },
        "id": "DrHAYJIhl7ob",
        "outputId": "4131266a-717c-4b3d-ed4e-3bea7320af94"
      },
      "outputs": [
        {
          "data": {
            "application/vnd.google.colaboratory.intrinsic+json": {
              "type": "string"
            },
            "text/plain": [
              "'Time: 0.000220s'"
            ]
          },
          "execution_count": 26,
          "metadata": {},
          "output_type": "execute_result"
        }
      ],
      "source": [
        "table = []\n",
        "\n",
        "x, t = solve(\n",
        "    matrices[3]['A'],\n",
        "    matrices[3]['b'],\n",
        "    gauss_jordan,\n",
        "    table\n",
        ")\n",
        "\n",
        "times.append(t)\n",
        "\n",
        "f'Time: {t:.6f}s'"
      ]
    },
    {
      "cell_type": "code",
      "execution_count": null,
      "metadata": {
        "colab": {
          "base_uri": "https://localhost:8080/",
          "height": 35
        },
        "id": "FCJJYBt0l7oc",
        "outputId": "74ab75bd-a73d-4c69-ca61-68552b9a30d7"
      },
      "outputs": [
        {
          "data": {
            "application/vnd.google.colaboratory.intrinsic+json": {
              "type": "string"
            },
            "text/plain": [
              "'El resultado de la operación es: x: 2.999999999999999, y: 1.0000000000000002, z: 2.0000000000000004'"
            ]
          },
          "execution_count": 27,
          "metadata": {},
          "output_type": "execute_result"
        }
      ],
      "source": [
        "f'El resultado de la operación es: x: {x[0]}, y: {x[1]}, z: {x[2]}'"
      ]
    },
    {
      "cell_type": "code",
      "execution_count": null,
      "metadata": {
        "colab": {
          "base_uri": "https://localhost:8080/",
          "height": 238
        },
        "id": "nWNt5OqSl7oc",
        "outputId": "c9b33684-fa85-43af-a8d3-be265c02fc04"
      },
      "outputs": [
        {
          "data": {
            "text/html": [
              "\n",
              "  <div id=\"df-e35d103c-8feb-477c-84db-de18852bba77\">\n",
              "    <div class=\"colab-df-container\">\n",
              "      <div>\n",
              "<style scoped>\n",
              "    .dataframe tbody tr th:only-of-type {\n",
              "        vertical-align: middle;\n",
              "    }\n",
              "\n",
              "    .dataframe tbody tr th {\n",
              "        vertical-align: top;\n",
              "    }\n",
              "\n",
              "    .dataframe thead th {\n",
              "        text-align: right;\n",
              "    }\n",
              "</style>\n",
              "<table border=\"1\" class=\"dataframe\">\n",
              "  <thead>\n",
              "    <tr style=\"text-align: right;\">\n",
              "      <th></th>\n",
              "      <th>Iteración</th>\n",
              "      <th>Operación</th>\n",
              "      <th>Índice</th>\n",
              "      <th>pivote</th>\n",
              "      <th>factor</th>\n",
              "    </tr>\n",
              "  </thead>\n",
              "  <tbody>\n",
              "    <tr>\n",
              "      <th>0</th>\n",
              "      <td>0</td>\n",
              "      <td>Eliminación</td>\n",
              "      <td>1</td>\n",
              "      <td>1.0</td>\n",
              "      <td>2.0</td>\n",
              "    </tr>\n",
              "    <tr>\n",
              "      <th>1</th>\n",
              "      <td>0</td>\n",
              "      <td>Eliminación</td>\n",
              "      <td>2</td>\n",
              "      <td>1.0</td>\n",
              "      <td>3.0</td>\n",
              "    </tr>\n",
              "    <tr>\n",
              "      <th>2</th>\n",
              "      <td>1</td>\n",
              "      <td>Eliminación</td>\n",
              "      <td>0</td>\n",
              "      <td>3.0</td>\n",
              "      <td>-1.0</td>\n",
              "    </tr>\n",
              "    <tr>\n",
              "      <th>3</th>\n",
              "      <td>1</td>\n",
              "      <td>Eliminación</td>\n",
              "      <td>2</td>\n",
              "      <td>3.0</td>\n",
              "      <td>4.0</td>\n",
              "    </tr>\n",
              "    <tr>\n",
              "      <th>4</th>\n",
              "      <td>2</td>\n",
              "      <td>Eliminación</td>\n",
              "      <td>0</td>\n",
              "      <td>3.333333333333333</td>\n",
              "      <td>0.6666666666666667</td>\n",
              "    </tr>\n",
              "    <tr>\n",
              "      <th>5</th>\n",
              "      <td>2</td>\n",
              "      <td>Eliminación</td>\n",
              "      <td>1</td>\n",
              "      <td>3.333333333333333</td>\n",
              "      <td>-1.3333333333333333</td>\n",
              "    </tr>\n",
              "  </tbody>\n",
              "</table>\n",
              "</div>\n",
              "      <button class=\"colab-df-convert\" onclick=\"convertToInteractive('df-e35d103c-8feb-477c-84db-de18852bba77')\"\n",
              "              title=\"Convert this dataframe to an interactive table.\"\n",
              "              style=\"display:none;\">\n",
              "        \n",
              "  <svg xmlns=\"http://www.w3.org/2000/svg\" height=\"24px\"viewBox=\"0 0 24 24\"\n",
              "       width=\"24px\">\n",
              "    <path d=\"M0 0h24v24H0V0z\" fill=\"none\"/>\n",
              "    <path d=\"M18.56 5.44l.94 2.06.94-2.06 2.06-.94-2.06-.94-.94-2.06-.94 2.06-2.06.94zm-11 1L8.5 8.5l.94-2.06 2.06-.94-2.06-.94L8.5 2.5l-.94 2.06-2.06.94zm10 10l.94 2.06.94-2.06 2.06-.94-2.06-.94-.94-2.06-.94 2.06-2.06.94z\"/><path d=\"M17.41 7.96l-1.37-1.37c-.4-.4-.92-.59-1.43-.59-.52 0-1.04.2-1.43.59L10.3 9.45l-7.72 7.72c-.78.78-.78 2.05 0 2.83L4 21.41c.39.39.9.59 1.41.59.51 0 1.02-.2 1.41-.59l7.78-7.78 2.81-2.81c.8-.78.8-2.07 0-2.86zM5.41 20L4 18.59l7.72-7.72 1.47 1.35L5.41 20z\"/>\n",
              "  </svg>\n",
              "      </button>\n",
              "      \n",
              "  <style>\n",
              "    .colab-df-container {\n",
              "      display:flex;\n",
              "      flex-wrap:wrap;\n",
              "      gap: 12px;\n",
              "    }\n",
              "\n",
              "    .colab-df-convert {\n",
              "      background-color: #E8F0FE;\n",
              "      border: none;\n",
              "      border-radius: 50%;\n",
              "      cursor: pointer;\n",
              "      display: none;\n",
              "      fill: #1967D2;\n",
              "      height: 32px;\n",
              "      padding: 0 0 0 0;\n",
              "      width: 32px;\n",
              "    }\n",
              "\n",
              "    .colab-df-convert:hover {\n",
              "      background-color: #E2EBFA;\n",
              "      box-shadow: 0px 1px 2px rgba(60, 64, 67, 0.3), 0px 1px 3px 1px rgba(60, 64, 67, 0.15);\n",
              "      fill: #174EA6;\n",
              "    }\n",
              "\n",
              "    [theme=dark] .colab-df-convert {\n",
              "      background-color: #3B4455;\n",
              "      fill: #D2E3FC;\n",
              "    }\n",
              "\n",
              "    [theme=dark] .colab-df-convert:hover {\n",
              "      background-color: #434B5C;\n",
              "      box-shadow: 0px 1px 3px 1px rgba(0, 0, 0, 0.15);\n",
              "      filter: drop-shadow(0px 1px 2px rgba(0, 0, 0, 0.3));\n",
              "      fill: #FFFFFF;\n",
              "    }\n",
              "  </style>\n",
              "\n",
              "      <script>\n",
              "        const buttonEl =\n",
              "          document.querySelector('#df-e35d103c-8feb-477c-84db-de18852bba77 button.colab-df-convert');\n",
              "        buttonEl.style.display =\n",
              "          google.colab.kernel.accessAllowed ? 'block' : 'none';\n",
              "\n",
              "        async function convertToInteractive(key) {\n",
              "          const element = document.querySelector('#df-e35d103c-8feb-477c-84db-de18852bba77');\n",
              "          const dataTable =\n",
              "            await google.colab.kernel.invokeFunction('convertToInteractive',\n",
              "                                                     [key], {});\n",
              "          if (!dataTable) return;\n",
              "\n",
              "          const docLinkHtml = 'Like what you see? Visit the ' +\n",
              "            '<a target=\"_blank\" href=https://colab.research.google.com/notebooks/data_table.ipynb>data table notebook</a>'\n",
              "            + ' to learn more about interactive tables.';\n",
              "          element.innerHTML = '';\n",
              "          dataTable['output_type'] = 'display_data';\n",
              "          await google.colab.output.renderOutput(dataTable, element);\n",
              "          const docLink = document.createElement('div');\n",
              "          docLink.innerHTML = docLinkHtml;\n",
              "          element.appendChild(docLink);\n",
              "        }\n",
              "      </script>\n",
              "    </div>\n",
              "  </div>\n",
              "  "
            ],
            "text/plain": [
              "  Iteración    Operación Índice             pivote               factor\n",
              "0         0  Eliminación      1                1.0                  2.0\n",
              "1         0  Eliminación      2                1.0                  3.0\n",
              "2         1  Eliminación      0                3.0                 -1.0\n",
              "3         1  Eliminación      2                3.0                  4.0\n",
              "4         2  Eliminación      0  3.333333333333333   0.6666666666666667\n",
              "5         2  Eliminación      1  3.333333333333333  -1.3333333333333333"
            ]
          },
          "execution_count": 28,
          "metadata": {},
          "output_type": "execute_result"
        }
      ],
      "source": [
        "pd.DataFrame(np.array(table), columns=['Iteración', 'Operación', 'Índice', 'pivote', 'factor'])"
      ]
    },
    {
      "cell_type": "markdown",
      "metadata": {
        "id": "z-7nHloEl7oc"
      },
      "source": [
        "<div align=\"center\">\n",
        "    Tabla 6. Gauss-Jordan - matriz 3x3\n",
        "</div>"
      ]
    },
    {
      "cell_type": "markdown",
      "metadata": {
        "id": "ki0IkEb3l7oc"
      },
      "source": [
        "Ejercicio con la matriz $4x4$."
      ]
    },
    {
      "cell_type": "code",
      "execution_count": null,
      "metadata": {
        "colab": {
          "base_uri": "https://localhost:8080/",
          "height": 35
        },
        "id": "YS2maKDZl7oc",
        "outputId": "3ca369db-c85c-471c-b4ca-29ee2eca8cc1"
      },
      "outputs": [
        {
          "data": {
            "application/vnd.google.colaboratory.intrinsic+json": {
              "type": "string"
            },
            "text/plain": [
              "'Time: 0.000288s'"
            ]
          },
          "execution_count": 29,
          "metadata": {},
          "output_type": "execute_result"
        }
      ],
      "source": [
        "table = []\n",
        "\n",
        "x, t = solve(\n",
        "    matrices[4]['A'],\n",
        "    matrices[4]['b'],\n",
        "    gauss_jordan,\n",
        "    table\n",
        ")\n",
        "\n",
        "times.append(t)\n",
        "\n",
        "f'Time: {t:.6f}s'"
      ]
    },
    {
      "cell_type": "code",
      "execution_count": null,
      "metadata": {
        "colab": {
          "base_uri": "https://localhost:8080/",
          "height": 35
        },
        "id": "dWIOfLu2l7oc",
        "outputId": "64ba66e5-f362-4b99-ed8c-c0337a228213"
      },
      "outputs": [
        {
          "data": {
            "application/vnd.google.colaboratory.intrinsic+json": {
              "type": "string"
            },
            "text/plain": [
              "'El resultado de la operación es: w: -0.9999999999999996, x: 2.0, y: 4.0, z: 0.9999999999999993'"
            ]
          },
          "execution_count": 30,
          "metadata": {},
          "output_type": "execute_result"
        }
      ],
      "source": [
        "f'El resultado de la operación es: w: {x[0]}, x: {x[1]}, y: {x[2]}, z: {x[3]}'"
      ]
    },
    {
      "cell_type": "code",
      "execution_count": null,
      "metadata": {
        "colab": {
          "base_uri": "https://localhost:8080/",
          "height": 394
        },
        "id": "iWDmu16ul7oc",
        "outputId": "145e1269-7589-4fe3-defa-d44ef3af22f2"
      },
      "outputs": [
        {
          "data": {
            "text/html": [
              "\n",
              "  <div id=\"df-978f0736-7495-4fad-80e6-947c6f1e234c\">\n",
              "    <div class=\"colab-df-container\">\n",
              "      <div>\n",
              "<style scoped>\n",
              "    .dataframe tbody tr th:only-of-type {\n",
              "        vertical-align: middle;\n",
              "    }\n",
              "\n",
              "    .dataframe tbody tr th {\n",
              "        vertical-align: top;\n",
              "    }\n",
              "\n",
              "    .dataframe thead th {\n",
              "        text-align: right;\n",
              "    }\n",
              "</style>\n",
              "<table border=\"1\" class=\"dataframe\">\n",
              "  <thead>\n",
              "    <tr style=\"text-align: right;\">\n",
              "      <th></th>\n",
              "      <th>Iteración</th>\n",
              "      <th>Operación</th>\n",
              "      <th>Índice</th>\n",
              "      <th>pivote</th>\n",
              "      <th>factor</th>\n",
              "    </tr>\n",
              "  </thead>\n",
              "  <tbody>\n",
              "    <tr>\n",
              "      <th>0</th>\n",
              "      <td>0</td>\n",
              "      <td>Eliminación</td>\n",
              "      <td>1</td>\n",
              "      <td>1.0</td>\n",
              "      <td>2.0</td>\n",
              "    </tr>\n",
              "    <tr>\n",
              "      <th>1</th>\n",
              "      <td>0</td>\n",
              "      <td>Eliminación</td>\n",
              "      <td>2</td>\n",
              "      <td>1.0</td>\n",
              "      <td>-1.0</td>\n",
              "    </tr>\n",
              "    <tr>\n",
              "      <th>2</th>\n",
              "      <td>0</td>\n",
              "      <td>Eliminación</td>\n",
              "      <td>3</td>\n",
              "      <td>1.0</td>\n",
              "      <td>3.0</td>\n",
              "    </tr>\n",
              "    <tr>\n",
              "      <th>3</th>\n",
              "      <td>1</td>\n",
              "      <td>Eliminación</td>\n",
              "      <td>0</td>\n",
              "      <td>-5.0</td>\n",
              "      <td>2.0</td>\n",
              "    </tr>\n",
              "    <tr>\n",
              "      <th>4</th>\n",
              "      <td>1</td>\n",
              "      <td>Eliminación</td>\n",
              "      <td>2</td>\n",
              "      <td>-5.0</td>\n",
              "      <td>5.0</td>\n",
              "    </tr>\n",
              "    <tr>\n",
              "      <th>5</th>\n",
              "      <td>1</td>\n",
              "      <td>Eliminación</td>\n",
              "      <td>3</td>\n",
              "      <td>-5.0</td>\n",
              "      <td>-8.0</td>\n",
              "    </tr>\n",
              "    <tr>\n",
              "      <th>6</th>\n",
              "      <td>2</td>\n",
              "      <td>Eliminación</td>\n",
              "      <td>0</td>\n",
              "      <td>6.0</td>\n",
              "      <td>0.6000000000000001</td>\n",
              "    </tr>\n",
              "    <tr>\n",
              "      <th>7</th>\n",
              "      <td>2</td>\n",
              "      <td>Eliminación</td>\n",
              "      <td>1</td>\n",
              "      <td>6.0</td>\n",
              "      <td>-0.8</td>\n",
              "    </tr>\n",
              "    <tr>\n",
              "      <th>8</th>\n",
              "      <td>2</td>\n",
              "      <td>Eliminación</td>\n",
              "      <td>3</td>\n",
              "      <td>6.0</td>\n",
              "      <td>-2.4000000000000004</td>\n",
              "    </tr>\n",
              "    <tr>\n",
              "      <th>9</th>\n",
              "      <td>3</td>\n",
              "      <td>Eliminación</td>\n",
              "      <td>0</td>\n",
              "      <td>-3.6</td>\n",
              "      <td>1.4</td>\n",
              "    </tr>\n",
              "    <tr>\n",
              "      <th>10</th>\n",
              "      <td>3</td>\n",
              "      <td>Eliminación</td>\n",
              "      <td>1</td>\n",
              "      <td>-3.6</td>\n",
              "      <td>-0.2</td>\n",
              "    </tr>\n",
              "  </tbody>\n",
              "</table>\n",
              "</div>\n",
              "      <button class=\"colab-df-convert\" onclick=\"convertToInteractive('df-978f0736-7495-4fad-80e6-947c6f1e234c')\"\n",
              "              title=\"Convert this dataframe to an interactive table.\"\n",
              "              style=\"display:none;\">\n",
              "        \n",
              "  <svg xmlns=\"http://www.w3.org/2000/svg\" height=\"24px\"viewBox=\"0 0 24 24\"\n",
              "       width=\"24px\">\n",
              "    <path d=\"M0 0h24v24H0V0z\" fill=\"none\"/>\n",
              "    <path d=\"M18.56 5.44l.94 2.06.94-2.06 2.06-.94-2.06-.94-.94-2.06-.94 2.06-2.06.94zm-11 1L8.5 8.5l.94-2.06 2.06-.94-2.06-.94L8.5 2.5l-.94 2.06-2.06.94zm10 10l.94 2.06.94-2.06 2.06-.94-2.06-.94-.94-2.06-.94 2.06-2.06.94z\"/><path d=\"M17.41 7.96l-1.37-1.37c-.4-.4-.92-.59-1.43-.59-.52 0-1.04.2-1.43.59L10.3 9.45l-7.72 7.72c-.78.78-.78 2.05 0 2.83L4 21.41c.39.39.9.59 1.41.59.51 0 1.02-.2 1.41-.59l7.78-7.78 2.81-2.81c.8-.78.8-2.07 0-2.86zM5.41 20L4 18.59l7.72-7.72 1.47 1.35L5.41 20z\"/>\n",
              "  </svg>\n",
              "      </button>\n",
              "      \n",
              "  <style>\n",
              "    .colab-df-container {\n",
              "      display:flex;\n",
              "      flex-wrap:wrap;\n",
              "      gap: 12px;\n",
              "    }\n",
              "\n",
              "    .colab-df-convert {\n",
              "      background-color: #E8F0FE;\n",
              "      border: none;\n",
              "      border-radius: 50%;\n",
              "      cursor: pointer;\n",
              "      display: none;\n",
              "      fill: #1967D2;\n",
              "      height: 32px;\n",
              "      padding: 0 0 0 0;\n",
              "      width: 32px;\n",
              "    }\n",
              "\n",
              "    .colab-df-convert:hover {\n",
              "      background-color: #E2EBFA;\n",
              "      box-shadow: 0px 1px 2px rgba(60, 64, 67, 0.3), 0px 1px 3px 1px rgba(60, 64, 67, 0.15);\n",
              "      fill: #174EA6;\n",
              "    }\n",
              "\n",
              "    [theme=dark] .colab-df-convert {\n",
              "      background-color: #3B4455;\n",
              "      fill: #D2E3FC;\n",
              "    }\n",
              "\n",
              "    [theme=dark] .colab-df-convert:hover {\n",
              "      background-color: #434B5C;\n",
              "      box-shadow: 0px 1px 3px 1px rgba(0, 0, 0, 0.15);\n",
              "      filter: drop-shadow(0px 1px 2px rgba(0, 0, 0, 0.3));\n",
              "      fill: #FFFFFF;\n",
              "    }\n",
              "  </style>\n",
              "\n",
              "      <script>\n",
              "        const buttonEl =\n",
              "          document.querySelector('#df-978f0736-7495-4fad-80e6-947c6f1e234c button.colab-df-convert');\n",
              "        buttonEl.style.display =\n",
              "          google.colab.kernel.accessAllowed ? 'block' : 'none';\n",
              "\n",
              "        async function convertToInteractive(key) {\n",
              "          const element = document.querySelector('#df-978f0736-7495-4fad-80e6-947c6f1e234c');\n",
              "          const dataTable =\n",
              "            await google.colab.kernel.invokeFunction('convertToInteractive',\n",
              "                                                     [key], {});\n",
              "          if (!dataTable) return;\n",
              "\n",
              "          const docLinkHtml = 'Like what you see? Visit the ' +\n",
              "            '<a target=\"_blank\" href=https://colab.research.google.com/notebooks/data_table.ipynb>data table notebook</a>'\n",
              "            + ' to learn more about interactive tables.';\n",
              "          element.innerHTML = '';\n",
              "          dataTable['output_type'] = 'display_data';\n",
              "          await google.colab.output.renderOutput(dataTable, element);\n",
              "          const docLink = document.createElement('div');\n",
              "          docLink.innerHTML = docLinkHtml;\n",
              "          element.appendChild(docLink);\n",
              "        }\n",
              "      </script>\n",
              "    </div>\n",
              "  </div>\n",
              "  "
            ],
            "text/plain": [
              "   Iteración    Operación Índice pivote               factor\n",
              "0          0  Eliminación      1    1.0                  2.0\n",
              "1          0  Eliminación      2    1.0                 -1.0\n",
              "2          0  Eliminación      3    1.0                  3.0\n",
              "3          1  Eliminación      0   -5.0                  2.0\n",
              "4          1  Eliminación      2   -5.0                  5.0\n",
              "5          1  Eliminación      3   -5.0                 -8.0\n",
              "6          2  Eliminación      0    6.0   0.6000000000000001\n",
              "7          2  Eliminación      1    6.0                 -0.8\n",
              "8          2  Eliminación      3    6.0  -2.4000000000000004\n",
              "9          3  Eliminación      0   -3.6                  1.4\n",
              "10         3  Eliminación      1   -3.6                 -0.2"
            ]
          },
          "execution_count": 31,
          "metadata": {},
          "output_type": "execute_result"
        }
      ],
      "source": [
        "pd.DataFrame(np.array(table), columns=['Iteración', 'Operación', 'Índice', 'pivote', 'factor'])"
      ]
    },
    {
      "cell_type": "markdown",
      "metadata": {
        "id": "13akJcmLl7od"
      },
      "source": [
        "<div align=\"center\">\n",
        "    Tabla 7. Gauss-Jordan - matriz 4x4\n",
        "</div>"
      ]
    },
    {
      "cell_type": "markdown",
      "metadata": {
        "id": "44iComFKl7od"
      },
      "source": [
        "Ejercicio con la matriz $5x5$."
      ]
    },
    {
      "cell_type": "code",
      "execution_count": null,
      "metadata": {
        "colab": {
          "base_uri": "https://localhost:8080/",
          "height": 35
        },
        "id": "wdrzAKb7l7od",
        "outputId": "8216e88c-4d35-424b-b9ac-2c6e47421444"
      },
      "outputs": [
        {
          "data": {
            "application/vnd.google.colaboratory.intrinsic+json": {
              "type": "string"
            },
            "text/plain": [
              "'Time: 0.000274s'"
            ]
          },
          "execution_count": 32,
          "metadata": {},
          "output_type": "execute_result"
        }
      ],
      "source": [
        "table = []\n",
        "\n",
        "x, t = solve(\n",
        "    matrices[5]['A'],\n",
        "    matrices[5]['b'],\n",
        "    gauss_jordan,\n",
        "    table\n",
        ")\n",
        "\n",
        "times.append(t)\n",
        "\n",
        "f'Time: {t:.6f}s'"
      ]
    },
    {
      "cell_type": "code",
      "execution_count": null,
      "metadata": {
        "colab": {
          "base_uri": "https://localhost:8080/",
          "height": 35
        },
        "id": "LuAvNZfRl7od",
        "outputId": "b4582979-bdcf-42f7-e18e-b6490811b1a5"
      },
      "outputs": [
        {
          "data": {
            "application/vnd.google.colaboratory.intrinsic+json": {
              "type": "string"
            },
            "text/plain": [
              "'El resultado de la operación es: v: 1.0, w: -1.9999999999999996, x: 3.000000000000001, y: -4.0, z: 5.0'"
            ]
          },
          "execution_count": 33,
          "metadata": {},
          "output_type": "execute_result"
        }
      ],
      "source": [
        "f'El resultado de la operación es: v: {x[0]}, w: {x[1]}, x: {x[2]}, y: {x[3]}, z: {x[4]}'"
      ]
    },
    {
      "cell_type": "code",
      "execution_count": null,
      "metadata": {
        "colab": {
          "base_uri": "https://localhost:8080/",
          "height": 645
        },
        "id": "IXdQKxnfl7od",
        "outputId": "6b5ff3a0-1244-4907-ba26-0aa73cfe0a5c"
      },
      "outputs": [
        {
          "data": {
            "text/html": [
              "\n",
              "  <div id=\"df-6c073474-a4d3-46f6-9738-2ae627730337\">\n",
              "    <div class=\"colab-df-container\">\n",
              "      <div>\n",
              "<style scoped>\n",
              "    .dataframe tbody tr th:only-of-type {\n",
              "        vertical-align: middle;\n",
              "    }\n",
              "\n",
              "    .dataframe tbody tr th {\n",
              "        vertical-align: top;\n",
              "    }\n",
              "\n",
              "    .dataframe thead th {\n",
              "        text-align: right;\n",
              "    }\n",
              "</style>\n",
              "<table border=\"1\" class=\"dataframe\">\n",
              "  <thead>\n",
              "    <tr style=\"text-align: right;\">\n",
              "      <th></th>\n",
              "      <th>Iteración</th>\n",
              "      <th>Operación</th>\n",
              "      <th>Índice</th>\n",
              "      <th>pivote</th>\n",
              "      <th>factor</th>\n",
              "    </tr>\n",
              "  </thead>\n",
              "  <tbody>\n",
              "    <tr>\n",
              "      <th>0</th>\n",
              "      <td>0</td>\n",
              "      <td>Eliminación</td>\n",
              "      <td>1</td>\n",
              "      <td>2.0</td>\n",
              "      <td>-1.0</td>\n",
              "    </tr>\n",
              "    <tr>\n",
              "      <th>1</th>\n",
              "      <td>0</td>\n",
              "      <td>Eliminación</td>\n",
              "      <td>2</td>\n",
              "      <td>2.0</td>\n",
              "      <td>5.0</td>\n",
              "    </tr>\n",
              "    <tr>\n",
              "      <th>2</th>\n",
              "      <td>0</td>\n",
              "      <td>Eliminación</td>\n",
              "      <td>3</td>\n",
              "      <td>2.0</td>\n",
              "      <td>3.0</td>\n",
              "    </tr>\n",
              "    <tr>\n",
              "      <th>3</th>\n",
              "      <td>0</td>\n",
              "      <td>Eliminación</td>\n",
              "      <td>4</td>\n",
              "      <td>2.0</td>\n",
              "      <td>-4.0</td>\n",
              "    </tr>\n",
              "    <tr>\n",
              "      <th>4</th>\n",
              "      <td>1</td>\n",
              "      <td>Eliminación</td>\n",
              "      <td>0</td>\n",
              "      <td>2.5</td>\n",
              "      <td>-0.5</td>\n",
              "    </tr>\n",
              "    <tr>\n",
              "      <th>5</th>\n",
              "      <td>1</td>\n",
              "      <td>Eliminación</td>\n",
              "      <td>2</td>\n",
              "      <td>2.5</td>\n",
              "      <td>3.5</td>\n",
              "    </tr>\n",
              "    <tr>\n",
              "      <th>6</th>\n",
              "      <td>1</td>\n",
              "      <td>Eliminación</td>\n",
              "      <td>3</td>\n",
              "      <td>2.5</td>\n",
              "      <td>-0.5</td>\n",
              "    </tr>\n",
              "    <tr>\n",
              "      <th>7</th>\n",
              "      <td>1</td>\n",
              "      <td>Eliminación</td>\n",
              "      <td>4</td>\n",
              "      <td>2.5</td>\n",
              "      <td>-3.0</td>\n",
              "    </tr>\n",
              "    <tr>\n",
              "      <th>8</th>\n",
              "      <td>2</td>\n",
              "      <td>Eliminación</td>\n",
              "      <td>0</td>\n",
              "      <td>-7.0</td>\n",
              "      <td>2.0</td>\n",
              "    </tr>\n",
              "    <tr>\n",
              "      <th>9</th>\n",
              "      <td>2</td>\n",
              "      <td>Eliminación</td>\n",
              "      <td>3</td>\n",
              "      <td>-7.0</td>\n",
              "      <td>-8.0</td>\n",
              "    </tr>\n",
              "    <tr>\n",
              "      <th>10</th>\n",
              "      <td>2</td>\n",
              "      <td>Eliminación</td>\n",
              "      <td>4</td>\n",
              "      <td>-7.0</td>\n",
              "      <td>3.0</td>\n",
              "    </tr>\n",
              "    <tr>\n",
              "      <th>11</th>\n",
              "      <td>3</td>\n",
              "      <td>Eliminación</td>\n",
              "      <td>0</td>\n",
              "      <td>3.028571428571428</td>\n",
              "      <td>-1.2571428571428571</td>\n",
              "    </tr>\n",
              "    <tr>\n",
              "      <th>12</th>\n",
              "      <td>3</td>\n",
              "      <td>Eliminación</td>\n",
              "      <td>1</td>\n",
              "      <td>3.028571428571428</td>\n",
              "      <td>-0.2</td>\n",
              "    </tr>\n",
              "    <tr>\n",
              "      <th>13</th>\n",
              "      <td>3</td>\n",
              "      <td>Eliminación</td>\n",
              "      <td>2</td>\n",
              "      <td>3.028571428571428</td>\n",
              "      <td>0.8285714285714285</td>\n",
              "    </tr>\n",
              "    <tr>\n",
              "      <th>14</th>\n",
              "      <td>3</td>\n",
              "      <td>Eliminación</td>\n",
              "      <td>4</td>\n",
              "      <td>3.028571428571428</td>\n",
              "      <td>1.9142857142857146</td>\n",
              "    </tr>\n",
              "    <tr>\n",
              "      <th>15</th>\n",
              "      <td>4</td>\n",
              "      <td>Eliminación</td>\n",
              "      <td>0</td>\n",
              "      <td>-5.622641509433963</td>\n",
              "      <td>1.528301886792453</td>\n",
              "    </tr>\n",
              "    <tr>\n",
              "      <th>16</th>\n",
              "      <td>4</td>\n",
              "      <td>Eliminación</td>\n",
              "      <td>1</td>\n",
              "      <td>-5.622641509433963</td>\n",
              "      <td>0.8113207547169812</td>\n",
              "    </tr>\n",
              "    <tr>\n",
              "      <th>17</th>\n",
              "      <td>4</td>\n",
              "      <td>Eliminación</td>\n",
              "      <td>2</td>\n",
              "      <td>-5.622641509433963</td>\n",
              "      <td>-1.0754716981132078</td>\n",
              "    </tr>\n",
              "    <tr>\n",
              "      <th>18</th>\n",
              "      <td>4</td>\n",
              "      <td>Eliminación</td>\n",
              "      <td>3</td>\n",
              "      <td>-5.622641509433963</td>\n",
              "      <td>1.0566037735849059</td>\n",
              "    </tr>\n",
              "  </tbody>\n",
              "</table>\n",
              "</div>\n",
              "      <button class=\"colab-df-convert\" onclick=\"convertToInteractive('df-6c073474-a4d3-46f6-9738-2ae627730337')\"\n",
              "              title=\"Convert this dataframe to an interactive table.\"\n",
              "              style=\"display:none;\">\n",
              "        \n",
              "  <svg xmlns=\"http://www.w3.org/2000/svg\" height=\"24px\"viewBox=\"0 0 24 24\"\n",
              "       width=\"24px\">\n",
              "    <path d=\"M0 0h24v24H0V0z\" fill=\"none\"/>\n",
              "    <path d=\"M18.56 5.44l.94 2.06.94-2.06 2.06-.94-2.06-.94-.94-2.06-.94 2.06-2.06.94zm-11 1L8.5 8.5l.94-2.06 2.06-.94-2.06-.94L8.5 2.5l-.94 2.06-2.06.94zm10 10l.94 2.06.94-2.06 2.06-.94-2.06-.94-.94-2.06-.94 2.06-2.06.94z\"/><path d=\"M17.41 7.96l-1.37-1.37c-.4-.4-.92-.59-1.43-.59-.52 0-1.04.2-1.43.59L10.3 9.45l-7.72 7.72c-.78.78-.78 2.05 0 2.83L4 21.41c.39.39.9.59 1.41.59.51 0 1.02-.2 1.41-.59l7.78-7.78 2.81-2.81c.8-.78.8-2.07 0-2.86zM5.41 20L4 18.59l7.72-7.72 1.47 1.35L5.41 20z\"/>\n",
              "  </svg>\n",
              "      </button>\n",
              "      \n",
              "  <style>\n",
              "    .colab-df-container {\n",
              "      display:flex;\n",
              "      flex-wrap:wrap;\n",
              "      gap: 12px;\n",
              "    }\n",
              "\n",
              "    .colab-df-convert {\n",
              "      background-color: #E8F0FE;\n",
              "      border: none;\n",
              "      border-radius: 50%;\n",
              "      cursor: pointer;\n",
              "      display: none;\n",
              "      fill: #1967D2;\n",
              "      height: 32px;\n",
              "      padding: 0 0 0 0;\n",
              "      width: 32px;\n",
              "    }\n",
              "\n",
              "    .colab-df-convert:hover {\n",
              "      background-color: #E2EBFA;\n",
              "      box-shadow: 0px 1px 2px rgba(60, 64, 67, 0.3), 0px 1px 3px 1px rgba(60, 64, 67, 0.15);\n",
              "      fill: #174EA6;\n",
              "    }\n",
              "\n",
              "    [theme=dark] .colab-df-convert {\n",
              "      background-color: #3B4455;\n",
              "      fill: #D2E3FC;\n",
              "    }\n",
              "\n",
              "    [theme=dark] .colab-df-convert:hover {\n",
              "      background-color: #434B5C;\n",
              "      box-shadow: 0px 1px 3px 1px rgba(0, 0, 0, 0.15);\n",
              "      filter: drop-shadow(0px 1px 2px rgba(0, 0, 0, 0.3));\n",
              "      fill: #FFFFFF;\n",
              "    }\n",
              "  </style>\n",
              "\n",
              "      <script>\n",
              "        const buttonEl =\n",
              "          document.querySelector('#df-6c073474-a4d3-46f6-9738-2ae627730337 button.colab-df-convert');\n",
              "        buttonEl.style.display =\n",
              "          google.colab.kernel.accessAllowed ? 'block' : 'none';\n",
              "\n",
              "        async function convertToInteractive(key) {\n",
              "          const element = document.querySelector('#df-6c073474-a4d3-46f6-9738-2ae627730337');\n",
              "          const dataTable =\n",
              "            await google.colab.kernel.invokeFunction('convertToInteractive',\n",
              "                                                     [key], {});\n",
              "          if (!dataTable) return;\n",
              "\n",
              "          const docLinkHtml = 'Like what you see? Visit the ' +\n",
              "            '<a target=\"_blank\" href=https://colab.research.google.com/notebooks/data_table.ipynb>data table notebook</a>'\n",
              "            + ' to learn more about interactive tables.';\n",
              "          element.innerHTML = '';\n",
              "          dataTable['output_type'] = 'display_data';\n",
              "          await google.colab.output.renderOutput(dataTable, element);\n",
              "          const docLink = document.createElement('div');\n",
              "          docLink.innerHTML = docLinkHtml;\n",
              "          element.appendChild(docLink);\n",
              "        }\n",
              "      </script>\n",
              "    </div>\n",
              "  </div>\n",
              "  "
            ],
            "text/plain": [
              "   Iteración    Operación Índice              pivote               factor\n",
              "0          0  Eliminación      1                 2.0                 -1.0\n",
              "1          0  Eliminación      2                 2.0                  5.0\n",
              "2          0  Eliminación      3                 2.0                  3.0\n",
              "3          0  Eliminación      4                 2.0                 -4.0\n",
              "4          1  Eliminación      0                 2.5                 -0.5\n",
              "5          1  Eliminación      2                 2.5                  3.5\n",
              "6          1  Eliminación      3                 2.5                 -0.5\n",
              "7          1  Eliminación      4                 2.5                 -3.0\n",
              "8          2  Eliminación      0                -7.0                  2.0\n",
              "9          2  Eliminación      3                -7.0                 -8.0\n",
              "10         2  Eliminación      4                -7.0                  3.0\n",
              "11         3  Eliminación      0   3.028571428571428  -1.2571428571428571\n",
              "12         3  Eliminación      1   3.028571428571428                 -0.2\n",
              "13         3  Eliminación      2   3.028571428571428   0.8285714285714285\n",
              "14         3  Eliminación      4   3.028571428571428   1.9142857142857146\n",
              "15         4  Eliminación      0  -5.622641509433963    1.528301886792453\n",
              "16         4  Eliminación      1  -5.622641509433963   0.8113207547169812\n",
              "17         4  Eliminación      2  -5.622641509433963  -1.0754716981132078\n",
              "18         4  Eliminación      3  -5.622641509433963   1.0566037735849059"
            ]
          },
          "execution_count": 34,
          "metadata": {},
          "output_type": "execute_result"
        }
      ],
      "source": [
        "pd.DataFrame(np.array(table), columns=['Iteración', 'Operación', 'Índice', 'pivote', 'factor'])"
      ]
    },
    {
      "cell_type": "markdown",
      "metadata": {
        "id": "K8zH3DE9l7od"
      },
      "source": [
        "<div align=\"center\">\n",
        "    Tabla 8. Gauss-Jordan - matriz 5x5\n",
        "</div>"
      ]
    },
    {
      "cell_type": "code",
      "execution_count": null,
      "metadata": {
        "colab": {
          "base_uri": "https://localhost:8080/",
          "height": 279
        },
        "id": "owKgfxDrl7oe",
        "outputId": "4f0b204c-0a10-4fee-a2a3-3b1db63ef1c6"
      },
      "outputs": [
        {
          "data": {
            "image/png": "[encoded data removed]",
            "text/plain": [
              "<Figure size 432x288 with 1 Axes>"
            ]
          },
          "metadata": {
            "needs_background": "light"
          },
          "output_type": "display_data"
        }
      ],
      "source": [
        "benchmarking.append([times, 'Jordan'])\n",
        "\n",
        "plt.plot([2, 3, 4, 5], times, linewidth=2.0)\n",
        "plt.plot([2, 3, 4, 5], times, 'o', linewidth=2.0)\n",
        "\n",
        "plt.xlabel('dimensiones (n x n)')\n",
        "plt.ylabel('tiempos (s)')\n",
        "plt.grid()\n",
        "plt.show()"
      ]
    },
    {
      "cell_type": "markdown",
      "metadata": {
        "id": "CxTSoQH0l7oe"
      },
      "source": [
        "<div align=\"center\">\n",
        "    Gráfica 2. Gauss-Jordan - tiempos\n",
        "</div>"
      ]
    },
    {
      "cell_type": "markdown",
      "metadata": {
        "id": "2cxU3HBlox2I"
      },
      "source": [
        "#### 3.1.3. Descomposición LU"
      ]
    },
    {
      "cell_type": "markdown",
      "metadata": {
        "id": "0LdGxmeFox2I"
      },
      "source": [
        "Ejercicio con la matriz $2x2$."
      ]
    },
    {
      "cell_type": "code",
      "execution_count": null,
      "metadata": {
        "colab": {
          "base_uri": "https://localhost:8080/",
          "height": 35
        },
        "id": "9SNBlGb_ox2J",
        "outputId": "f0080a22-fbe6-421d-c3d3-ab25db7f3ce9"
      },
      "outputs": [
        {
          "data": {
            "application/vnd.google.colaboratory.intrinsic+json": {
              "type": "string"
            },
            "text/plain": [
              "'Time: 0.000244s'"
            ]
          },
          "execution_count": 36,
          "metadata": {},
          "output_type": "execute_result"
        }
      ],
      "source": [
        "x, t = solve(\n",
        "    matrices[2]['A'],\n",
        "    matrices[2]['b'],\n",
        "    LU_decompose,\n",
        "    []\n",
        ")\n",
        "\n",
        "times = [t]\n",
        "f'Time: {t:.6f}s'"
      ]
    },
    {
      "cell_type": "code",
      "execution_count": null,
      "metadata": {
        "colab": {
          "base_uri": "https://localhost:8080/",
          "height": 35
        },
        "id": "kXXFexSlox2J",
        "outputId": "288042ea-1bd8-4533-9f7f-94f87cd3ae67"
      },
      "outputs": [
        {
          "data": {
            "application/vnd.google.colaboratory.intrinsic+json": {
              "type": "string"
            },
            "text/plain": [
              "'El resultado de la operación es: x: 0.2857142857142856, y: 0.4285714285714286'"
            ]
          },
          "execution_count": 37,
          "metadata": {},
          "output_type": "execute_result"
        }
      ],
      "source": [
        "f'El resultado de la operación es: x: {x[0]}, y: {x[1]}'"
      ]
    },
    {
      "cell_type": "markdown",
      "metadata": {
        "id": "0WrOcRO-ox2K"
      },
      "source": [
        "Ejercicio con la matriz $3x3$."
      ]
    },
    {
      "cell_type": "code",
      "execution_count": null,
      "metadata": {
        "colab": {
          "base_uri": "https://localhost:8080/",
          "height": 35
        },
        "id": "l4QyHzwDox2K",
        "outputId": "3f7e5e23-0b82-4b88-b7e3-f1242b654e03"
      },
      "outputs": [
        {
          "data": {
            "application/vnd.google.colaboratory.intrinsic+json": {
              "type": "string"
            },
            "text/plain": [
              "'Time: 0.000283s'"
            ]
          },
          "execution_count": 38,
          "metadata": {},
          "output_type": "execute_result"
        }
      ],
      "source": [
        "x, t = solve(\n",
        "    matrices[3]['A'],\n",
        "    matrices[3]['b'],\n",
        "    LU_decompose,\n",
        "    []\n",
        ")\n",
        "\n",
        "times.append(t)\n",
        "\n",
        "f'Time: {t:.6f}s'"
      ]
    },
    {
      "cell_type": "code",
      "execution_count": null,
      "metadata": {
        "colab": {
          "base_uri": "https://localhost:8080/",
          "height": 35
        },
        "id": "xEPPBtUOox2K",
        "outputId": "e14ac644-eae8-499f-e784-191b25dbc1cc"
      },
      "outputs": [
        {
          "data": {
            "application/vnd.google.colaboratory.intrinsic+json": {
              "type": "string"
            },
            "text/plain": [
              "'El resultado de la operación es: x: 3.0, y: 1.0000000000000002, z: 2.0'"
            ]
          },
          "execution_count": 39,
          "metadata": {},
          "output_type": "execute_result"
        }
      ],
      "source": [
        "f'El resultado de la operación es: x: {x[0]}, y: {x[1]}, z: {x[2]}'"
      ]
    },
    {
      "cell_type": "markdown",
      "metadata": {
        "id": "AL8q85DDox2L"
      },
      "source": [
        "Ejercicio con la matriz $4x4$."
      ]
    },
    {
      "cell_type": "code",
      "execution_count": null,
      "metadata": {
        "colab": {
          "base_uri": "https://localhost:8080/",
          "height": 35
        },
        "id": "pzrQ5APNox2L",
        "outputId": "3d59e6a0-8fa1-42df-d3d0-db443261a069"
      },
      "outputs": [
        {
          "data": {
            "application/vnd.google.colaboratory.intrinsic+json": {
              "type": "string"
            },
            "text/plain": [
              "'Time: 0.000407s'"
            ]
          },
          "execution_count": 40,
          "metadata": {},
          "output_type": "execute_result"
        }
      ],
      "source": [
        "x, t = solve(\n",
        "    matrices[4]['A'],\n",
        "    matrices[4]['b'],\n",
        "    LU_decompose,\n",
        "    []\n",
        ")\n",
        "\n",
        "times.append(t)\n",
        "\n",
        "f'Time: {t:.6f}s'"
      ]
    },
    {
      "cell_type": "code",
      "execution_count": null,
      "metadata": {
        "colab": {
          "base_uri": "https://localhost:8080/",
          "height": 35
        },
        "id": "ZN-PGLcWox2L",
        "outputId": "597d75af-8fdf-49d0-b301-7587eca7f640"
      },
      "outputs": [
        {
          "data": {
            "application/vnd.google.colaboratory.intrinsic+json": {
              "type": "string"
            },
            "text/plain": [
              "'El resultado de la operación es: w: -1.0, x: 2.0, y: 4.0, z: 1.0000000000000002'"
            ]
          },
          "execution_count": 41,
          "metadata": {},
          "output_type": "execute_result"
        }
      ],
      "source": [
        "f'El resultado de la operación es: w: {x[0]}, x: {x[1]}, y: {x[2]}, z: {x[3]}'"
      ]
    },
    {
      "cell_type": "markdown",
      "metadata": {
        "id": "auM3I68aox2M"
      },
      "source": [
        "Ejercicio con la matriz $5x5$."
      ]
    },
    {
      "cell_type": "code",
      "execution_count": null,
      "metadata": {
        "colab": {
          "base_uri": "https://localhost:8080/",
          "height": 35
        },
        "id": "kVfLeBExox2M",
        "outputId": "fa2ba9f7-3590-461a-978c-68764f05fbf0"
      },
      "outputs": [
        {
          "data": {
            "application/vnd.google.colaboratory.intrinsic+json": {
              "type": "string"
            },
            "text/plain": [
              "'Time: 0.000330s'"
            ]
          },
          "execution_count": 42,
          "metadata": {},
          "output_type": "execute_result"
        }
      ],
      "source": [
        "x, t = solve(\n",
        "    matrices[5]['A'],\n",
        "    matrices[5]['b'],\n",
        "    LU_decompose,\n",
        "    table\n",
        ")\n",
        "\n",
        "times.append(t)\n",
        "\n",
        "f'Time: {t:.6f}s'"
      ]
    },
    {
      "cell_type": "code",
      "execution_count": null,
      "metadata": {
        "colab": {
          "base_uri": "https://localhost:8080/",
          "height": 53
        },
        "id": "vjht--Wcox2M",
        "outputId": "85b09118-8c6c-4583-d7f7-8ecdb0eec036"
      },
      "outputs": [
        {
          "data": {
            "application/vnd.google.colaboratory.intrinsic+json": {
              "type": "string"
            },
            "text/plain": [
              "'El resultado de la operación es: v: 1.0000000000000009, w: -1.9999999999999998, x: 2.999999999999999, y: -4.0, z: 4.999999999999999'"
            ]
          },
          "execution_count": 43,
          "metadata": {},
          "output_type": "execute_result"
        }
      ],
      "source": [
        "f'El resultado de la operación es: v: {x[0]}, w: {x[1]}, x: {x[2]}, y: {x[3]}, z: {x[4]}'"
      ]
    },
    {
      "cell_type": "code",
      "execution_count": null,
      "metadata": {
        "colab": {
          "base_uri": "https://localhost:8080/",
          "height": 279
        },
        "id": "RJlM88NOox2M",
        "outputId": "cc5b25cf-9f63-4e1c-82b2-bbfd1767ed7a"
      },
      "outputs": [
        {
          "data": {
            "image/png": "[encoded data removed]",
            "text/plain": [
              "<Figure size 432x288 with 1 Axes>"
            ]
          },
          "metadata": {
            "needs_background": "light"
          },
          "output_type": "display_data"
        }
      ],
      "source": [
        "benchmarking.append([times, 'LU'])\n",
        "\n",
        "plt.plot([2, 3, 4, 5], times, linewidth=2.0)\n",
        "plt.plot([2, 3, 4, 5], times, 'o', linewidth=2.0)\n",
        "\n",
        "plt.xlabel('dimensiones (n x n)')\n",
        "plt.ylabel('tiempos (s)')\n",
        "plt.grid()\n",
        "plt.show()"
      ]
    },
    {
      "cell_type": "markdown",
      "metadata": {
        "id": "37e1Ylygox2N"
      },
      "source": [
        "<div align=\"center\">\n",
        "    Gráfica 3. Descomposición LU - tiempos\n",
        "</div>"
      ]
    },
    {
      "cell_type": "markdown",
      "metadata": {
        "id": "BI4iJIsjq5yg"
      },
      "source": [
        "#### 3.1.4. Inversión de Matrices"
      ]
    },
    {
      "cell_type": "markdown",
      "metadata": {
        "id": "mwgbzdXpq5yn"
      },
      "source": [
        "Ejercicio con la matriz $2x2$."
      ]
    },
    {
      "cell_type": "code",
      "execution_count": null,
      "metadata": {
        "colab": {
          "base_uri": "https://localhost:8080/",
          "height": 35
        },
        "id": "dXH4JJvcq5yn",
        "outputId": "967006ae-2665-4b35-d173-2a749ccf367d"
      },
      "outputs": [
        {
          "data": {
            "application/vnd.google.colaboratory.intrinsic+json": {
              "type": "string"
            },
            "text/plain": [
              "'Time: 0.002998s'"
            ]
          },
          "execution_count": 45,
          "metadata": {},
          "output_type": "execute_result"
        }
      ],
      "source": [
        "x, t = solve(\n",
        "    matrices[2]['A'],\n",
        "    matrices[2]['b'],\n",
        "    inversion,\n",
        "    []\n",
        ")\n",
        "\n",
        "times = [t]\n",
        "f'Time: {t:.6f}s'"
      ]
    },
    {
      "cell_type": "code",
      "execution_count": null,
      "metadata": {
        "colab": {
          "base_uri": "https://localhost:8080/",
          "height": 35
        },
        "id": "JmPeR3qWq5yo",
        "outputId": "67c82f1d-e87f-40a3-8fd3-da16325322ad"
      },
      "outputs": [
        {
          "data": {
            "application/vnd.google.colaboratory.intrinsic+json": {
              "type": "string"
            },
            "text/plain": [
              "'El resultado de la operación es: x: 0.28571428571428603, y: 0.4285714285714285'"
            ]
          },
          "execution_count": 46,
          "metadata": {},
          "output_type": "execute_result"
        }
      ],
      "source": [
        "f'El resultado de la operación es: x: {x[0]}, y: {x[1]}'"
      ]
    },
    {
      "cell_type": "markdown",
      "metadata": {
        "id": "RBDGBmTLq5yp"
      },
      "source": [
        "Ejercicio con la matriz $3x3$."
      ]
    },
    {
      "cell_type": "code",
      "execution_count": null,
      "metadata": {
        "colab": {
          "base_uri": "https://localhost:8080/",
          "height": 35
        },
        "id": "OGVPQb9Zq5yq",
        "outputId": "a011e944-66e9-46c3-a495-b553de184b8c"
      },
      "outputs": [
        {
          "data": {
            "application/vnd.google.colaboratory.intrinsic+json": {
              "type": "string"
            },
            "text/plain": [
              "'Time: 0.000300s'"
            ]
          },
          "execution_count": 47,
          "metadata": {},
          "output_type": "execute_result"
        }
      ],
      "source": [
        "x, t = solve(\n",
        "    matrices[3]['A'],\n",
        "    matrices[3]['b'],\n",
        "    inversion,\n",
        "    []\n",
        ")\n",
        "\n",
        "times.append(t)\n",
        "\n",
        "f'Time: {t:.6f}s'"
      ]
    },
    {
      "cell_type": "code",
      "execution_count": null,
      "metadata": {
        "colab": {
          "base_uri": "https://localhost:8080/",
          "height": 35
        },
        "id": "EAQo5LkDq5yq",
        "outputId": "f82b5706-5177-4309-e11c-70361cd9eb7a"
      },
      "outputs": [
        {
          "data": {
            "application/vnd.google.colaboratory.intrinsic+json": {
              "type": "string"
            },
            "text/plain": [
              "'El resultado de la operación es: x: 2.999999999999999, y: 0.9999999999999991, z: 2.0'"
            ]
          },
          "execution_count": 48,
          "metadata": {},
          "output_type": "execute_result"
        }
      ],
      "source": [
        "f'El resultado de la operación es: x: {x[0]}, y: {x[1]}, z: {x[2]}'"
      ]
    },
    {
      "cell_type": "markdown",
      "metadata": {
        "id": "SOQ99sRCq5yr"
      },
      "source": [
        "Ejercicio con la matriz $4x4$."
      ]
    },
    {
      "cell_type": "code",
      "execution_count": null,
      "metadata": {
        "colab": {
          "base_uri": "https://localhost:8080/",
          "height": 35
        },
        "id": "wqnAZHFvq5yr",
        "outputId": "a0b6efad-1967-498b-f805-8cb59d443f7c"
      },
      "outputs": [
        {
          "data": {
            "application/vnd.google.colaboratory.intrinsic+json": {
              "type": "string"
            },
            "text/plain": [
              "'Time: 0.000209s'"
            ]
          },
          "execution_count": 49,
          "metadata": {},
          "output_type": "execute_result"
        }
      ],
      "source": [
        "x, t = solve(\n",
        "    matrices[4]['A'],\n",
        "    matrices[4]['b'],\n",
        "    inversion,\n",
        "    []\n",
        ")\n",
        "\n",
        "times.append(t)\n",
        "\n",
        "f'Time: {t:.6f}s'"
      ]
    },
    {
      "cell_type": "code",
      "execution_count": null,
      "metadata": {
        "colab": {
          "base_uri": "https://localhost:8080/",
          "height": 53
        },
        "id": "gjAYSe1Rq5yr",
        "outputId": "1bea83da-b9dd-4a31-ff38-391166ce19ed"
      },
      "outputs": [
        {
          "data": {
            "application/vnd.google.colaboratory.intrinsic+json": {
              "type": "string"
            },
            "text/plain": [
              "'El resultado de la operación es: w: -0.9999999999999998, x: 1.9999999999999998, y: 3.9999999999999996, z: 0.9999999999999996'"
            ]
          },
          "execution_count": 50,
          "metadata": {},
          "output_type": "execute_result"
        }
      ],
      "source": [
        "f'El resultado de la operación es: w: {x[0]}, x: {x[1]}, y: {x[2]}, z: {x[3]}'"
      ]
    },
    {
      "cell_type": "markdown",
      "metadata": {
        "id": "n1JP3eP8q5yr"
      },
      "source": [
        "Ejercicio con la matriz $5x5$."
      ]
    },
    {
      "cell_type": "code",
      "execution_count": null,
      "metadata": {
        "colab": {
          "base_uri": "https://localhost:8080/",
          "height": 35
        },
        "id": "Eq-iJ1V7q5yr",
        "outputId": "acec53be-9e87-4b44-f311-4a1c548f2292"
      },
      "outputs": [
        {
          "data": {
            "application/vnd.google.colaboratory.intrinsic+json": {
              "type": "string"
            },
            "text/plain": [
              "'Time: 0.000998s'"
            ]
          },
          "execution_count": 51,
          "metadata": {},
          "output_type": "execute_result"
        }
      ],
      "source": [
        "x, t = solve(\n",
        "    matrices[5]['A'],\n",
        "    matrices[5]['b'],\n",
        "    inversion,\n",
        "    table\n",
        ")\n",
        "\n",
        "times.append(t)\n",
        "\n",
        "f'Time: {t:.6f}s'"
      ]
    },
    {
      "cell_type": "code",
      "execution_count": null,
      "metadata": {
        "colab": {
          "base_uri": "https://localhost:8080/",
          "height": 53
        },
        "id": "PQ4K3umlq5ys",
        "outputId": "dd616c56-5179-457e-d47f-41fff0d823f5"
      },
      "outputs": [
        {
          "data": {
            "application/vnd.google.colaboratory.intrinsic+json": {
              "type": "string"
            },
            "text/plain": [
              "'El resultado de la operación es: v: 0.9999999999999982, w: -2.000000000000001, x: 3.0, y: -3.9999999999999982, z: 5.0'"
            ]
          },
          "execution_count": 52,
          "metadata": {},
          "output_type": "execute_result"
        }
      ],
      "source": [
        "f'El resultado de la operación es: v: {x[0]}, w: {x[1]}, x: {x[2]}, y: {x[3]}, z: {x[4]}'"
      ]
    },
    {
      "cell_type": "code",
      "execution_count": null,
      "metadata": {
        "colab": {
          "base_uri": "https://localhost:8080/",
          "height": 279
        },
        "id": "hRwVda1kq5ys",
        "outputId": "0f465064-da01-4119-9a57-576aaadd03d9"
      },
      "outputs": [
        {
          "data": {
            "image/png": "[encoded data removed]",
            "text/plain": [
              "<Figure size 432x288 with 1 Axes>"
            ]
          },
          "metadata": {
            "needs_background": "light"
          },
          "output_type": "display_data"
        }
      ],
      "source": [
        "benchmarking.append([times, 'Inversa'])\n",
        "\n",
        "plt.plot([2, 3, 4, 5], times, linewidth=2.0)\n",
        "plt.plot([2, 3, 4, 5], times, 'o', linewidth=2.0)\n",
        "\n",
        "plt.xlabel('dimensiones (n x n)')\n",
        "plt.ylabel('tiempos (s)')\n",
        "plt.grid()\n",
        "plt.show()"
      ]
    },
    {
      "cell_type": "markdown",
      "metadata": {
        "id": "_9vyicK4q5ys"
      },
      "source": [
        "<div align=\"center\">\n",
        "    Gráfica 4. Inversion de Matrices \n",
        "</div>"
      ]
    },
    {
      "cell_type": "markdown",
      "metadata": {
        "id": "MaUkoMKm1tbd"
      },
      "source": []
    },
    {
      "cell_type": "markdown",
      "metadata": {
        "id": "6wQt6Tj61w7H"
      },
      "source": [
        "#### 3.1.5. Método Gauss-Seidel"
      ]
    },
    {
      "cell_type": "markdown",
      "metadata": {
        "id": "KwGWhpjK1w7H"
      },
      "source": [
        "Ejercicio con la matriz $2x2$."
      ]
    },
    {
      "cell_type": "code",
      "execution_count": null,
      "metadata": {
        "colab": {
          "base_uri": "https://localhost:8080/",
          "height": 35
        },
        "id": "Qk5f_n2Y1w7I",
        "outputId": "ad048052-c621-4a7d-8e14-53911e4cf480"
      },
      "outputs": [
        {
          "data": {
            "application/vnd.google.colaboratory.intrinsic+json": {
              "type": "string"
            },
            "text/plain": [
              "'Time: 0.019888s'"
            ]
          },
          "execution_count": 54,
          "metadata": {},
          "output_type": "execute_result"
        }
      ],
      "source": [
        "table = []\n",
        "\n",
        "x, t = solve(\n",
        "    matrices[2]['A'],\n",
        "    matrices[2]['b'],\n",
        "    gauss_seidel,\n",
        "    table,\n",
        "    max=200\n",
        ")\n",
        "\n",
        "times = [t]\n",
        "f'Time: {t:.6f}s'"
      ]
    },
    {
      "cell_type": "code",
      "execution_count": null,
      "metadata": {
        "colab": {
          "base_uri": "https://localhost:8080/",
          "height": 35
        },
        "id": "2PBL7R2Y1w7I",
        "outputId": "901a802c-3763-481b-f8be-216a71d30b6d"
      },
      "outputs": [
        {
          "data": {
            "application/vnd.google.colaboratory.intrinsic+json": {
              "type": "string"
            },
            "text/plain": [
              "'El resultado de la operación es: x: 8.067561320569263e+103, y: -1.6135122641138526e+104'"
            ]
          },
          "execution_count": 55,
          "metadata": {},
          "output_type": "execute_result"
        }
      ],
      "source": [
        "f'El resultado de la operación es: x: {x[0]}, y: {x[1]}'"
      ]
    },
    {
      "cell_type": "code",
      "execution_count": null,
      "metadata": {
        "colab": {
          "base_uri": "https://localhost:8080/",
          "height": 478
        },
        "id": "AWnNh7Gw1w7I",
        "outputId": "82ee1ca6-1ad9-486b-d9d4-2b9b521fdfd5"
      },
      "outputs": [
        {
          "name": "stderr",
          "output_type": "stream",
          "text": [
            "/usr/local/lib/python3.7/dist-packages/ipykernel_launcher.py:1: VisibleDeprecationWarning: Creating an ndarray from ragged nested sequences (which is a list-or-tuple of lists-or-tuples-or ndarrays with different lengths or shapes) is deprecated. If you meant to do this, you must specify 'dtype=object' when creating the ndarray.\n",
            "  \"\"\"Entry point for launching an IPython kernel.\n"
          ]
        },
        {
          "data": {
            "text/html": [
              "\n",
              "  <div id=\"df-7ee795f4-7884-4a4a-9628-41d3144d896e\">\n",
              "    <div class=\"colab-df-container\">\n",
              "      <div>\n",
              "<style scoped>\n",
              "    .dataframe tbody tr th:only-of-type {\n",
              "        vertical-align: middle;\n",
              "    }\n",
              "\n",
              "    .dataframe tbody tr th {\n",
              "        vertical-align: top;\n",
              "    }\n",
              "\n",
              "    .dataframe thead th {\n",
              "        text-align: right;\n",
              "    }\n",
              "</style>\n",
              "<table border=\"1\" class=\"dataframe\">\n",
              "  <thead>\n",
              "    <tr style=\"text-align: right;\">\n",
              "      <th></th>\n",
              "      <th>Iteración</th>\n",
              "      <th>x</th>\n",
              "      <th>error</th>\n",
              "    </tr>\n",
              "  </thead>\n",
              "  <tbody>\n",
              "    <tr>\n",
              "      <th>0</th>\n",
              "      <td>1</td>\n",
              "      <td>[1.0, -1.0]</td>\n",
              "      <td>[1.0, -1.0]</td>\n",
              "    </tr>\n",
              "    <tr>\n",
              "      <th>1</th>\n",
              "      <td>2</td>\n",
              "      <td>[2.6666666666666665, -4.333333333333333]</td>\n",
              "      <td>[1.6666666666666665, -3.333333333333333]</td>\n",
              "    </tr>\n",
              "    <tr>\n",
              "      <th>2</th>\n",
              "      <td>3</td>\n",
              "      <td>[8.222222222222221, -15.444444444444443]</td>\n",
              "      <td>[5.555555555555555, -11.11111111111111]</td>\n",
              "    </tr>\n",
              "    <tr>\n",
              "      <th>3</th>\n",
              "      <td>4</td>\n",
              "      <td>[26.740740740740737, -52.481481481481474]</td>\n",
              "      <td>[18.518518518518515, -37.03703703703703]</td>\n",
              "    </tr>\n",
              "    <tr>\n",
              "      <th>4</th>\n",
              "      <td>5</td>\n",
              "      <td>[88.46913580246913, -175.93827160493825]</td>\n",
              "      <td>[61.72839506172839, -123.45679012345678]</td>\n",
              "    </tr>\n",
              "    <tr>\n",
              "      <th>...</th>\n",
              "      <td>...</td>\n",
              "      <td>...</td>\n",
              "      <td>...</td>\n",
              "    </tr>\n",
              "    <tr>\n",
              "      <th>195</th>\n",
              "      <td>196</td>\n",
              "      <td>[6.534724669661107e+101, -1.3069449339322214e+...</td>\n",
              "      <td>[4.574307268762775e+101, -9.14861453752555e+101]</td>\n",
              "    </tr>\n",
              "    <tr>\n",
              "      <th>196</th>\n",
              "      <td>197</td>\n",
              "      <td>[2.178241556553702e+102, -4.356483113107404e+102]</td>\n",
              "      <td>[1.5247690895875913e+102, -3.0495381791751827e...</td>\n",
              "    </tr>\n",
              "    <tr>\n",
              "      <th>197</th>\n",
              "      <td>198</td>\n",
              "      <td>[7.260805188512339e+102, -1.4521610377024678e+...</td>\n",
              "      <td>[5.082563631958638e+102, -1.0165127263917275e+...</td>\n",
              "    </tr>\n",
              "    <tr>\n",
              "      <th>198</th>\n",
              "      <td>199</td>\n",
              "      <td>[2.4202683961707793e+103, -4.840536792341559e+...</td>\n",
              "      <td>[1.6941878773195454e+103, -3.388375754639091e+...</td>\n",
              "    </tr>\n",
              "    <tr>\n",
              "      <th>199</th>\n",
              "      <td>200</td>\n",
              "      <td>[8.067561320569263e+103, -1.6135122641138526e+...</td>\n",
              "      <td>[5.6472929243984835e+103, -1.1294585848796967e...</td>\n",
              "    </tr>\n",
              "  </tbody>\n",
              "</table>\n",
              "<p>200 rows × 3 columns</p>\n",
              "</div>\n",
              "      <button class=\"colab-df-convert\" onclick=\"convertToInteractive('df-7ee795f4-7884-4a4a-9628-41d3144d896e')\"\n",
              "              title=\"Convert this dataframe to an interactive table.\"\n",
              "              style=\"display:none;\">\n",
              "        \n",
              "  <svg xmlns=\"http://www.w3.org/2000/svg\" height=\"24px\"viewBox=\"0 0 24 24\"\n",
              "       width=\"24px\">\n",
              "    <path d=\"M0 0h24v24H0V0z\" fill=\"none\"/>\n",
              "    <path d=\"M18.56 5.44l.94 2.06.94-2.06 2.06-.94-2.06-.94-.94-2.06-.94 2.06-2.06.94zm-11 1L8.5 8.5l.94-2.06 2.06-.94-2.06-.94L8.5 2.5l-.94 2.06-2.06.94zm10 10l.94 2.06.94-2.06 2.06-.94-2.06-.94-.94-2.06-.94 2.06-2.06.94z\"/><path d=\"M17.41 7.96l-1.37-1.37c-.4-.4-.92-.59-1.43-.59-.52 0-1.04.2-1.43.59L10.3 9.45l-7.72 7.72c-.78.78-.78 2.05 0 2.83L4 21.41c.39.39.9.59 1.41.59.51 0 1.02-.2 1.41-.59l7.78-7.78 2.81-2.81c.8-.78.8-2.07 0-2.86zM5.41 20L4 18.59l7.72-7.72 1.47 1.35L5.41 20z\"/>\n",
              "  </svg>\n",
              "      </button>\n",
              "      \n",
              "  <style>\n",
              "    .colab-df-container {\n",
              "      display:flex;\n",
              "      flex-wrap:wrap;\n",
              "      gap: 12px;\n",
              "    }\n",
              "\n",
              "    .colab-df-convert {\n",
              "      background-color: #E8F0FE;\n",
              "      border: none;\n",
              "      border-radius: 50%;\n",
              "      cursor: pointer;\n",
              "      display: none;\n",
              "      fill: #1967D2;\n",
              "      height: 32px;\n",
              "      padding: 0 0 0 0;\n",
              "      width: 32px;\n",
              "    }\n",
              "\n",
              "    .colab-df-convert:hover {\n",
              "      background-color: #E2EBFA;\n",
              "      box-shadow: 0px 1px 2px rgba(60, 64, 67, 0.3), 0px 1px 3px 1px rgba(60, 64, 67, 0.15);\n",
              "      fill: #174EA6;\n",
              "    }\n",
              "\n",
              "    [theme=dark] .colab-df-convert {\n",
              "      background-color: #3B4455;\n",
              "      fill: #D2E3FC;\n",
              "    }\n",
              "\n",
              "    [theme=dark] .colab-df-convert:hover {\n",
              "      background-color: #434B5C;\n",
              "      box-shadow: 0px 1px 3px 1px rgba(0, 0, 0, 0.15);\n",
              "      filter: drop-shadow(0px 1px 2px rgba(0, 0, 0, 0.3));\n",
              "      fill: #FFFFFF;\n",
              "    }\n",
              "  </style>\n",
              "\n",
              "      <script>\n",
              "        const buttonEl =\n",
              "          document.querySelector('#df-7ee795f4-7884-4a4a-9628-41d3144d896e button.colab-df-convert');\n",
              "        buttonEl.style.display =\n",
              "          google.colab.kernel.accessAllowed ? 'block' : 'none';\n",
              "\n",
              "        async function convertToInteractive(key) {\n",
              "          const element = document.querySelector('#df-7ee795f4-7884-4a4a-9628-41d3144d896e');\n",
              "          const dataTable =\n",
              "            await google.colab.kernel.invokeFunction('convertToInteractive',\n",
              "                                                     [key], {});\n",
              "          if (!dataTable) return;\n",
              "\n",
              "          const docLinkHtml = 'Like what you see? Visit the ' +\n",
              "            '<a target=\"_blank\" href=https://colab.research.google.com/notebooks/data_table.ipynb>data table notebook</a>'\n",
              "            + ' to learn more about interactive tables.';\n",
              "          element.innerHTML = '';\n",
              "          dataTable['output_type'] = 'display_data';\n",
              "          await google.colab.output.renderOutput(dataTable, element);\n",
              "          const docLink = document.createElement('div');\n",
              "          docLink.innerHTML = docLinkHtml;\n",
              "          element.appendChild(docLink);\n",
              "        }\n",
              "      </script>\n",
              "    </div>\n",
              "  </div>\n",
              "  "
            ],
            "text/plain": [
              "    Iteración                                                  x  \\\n",
              "0           1                                        [1.0, -1.0]   \n",
              "1           2           [2.6666666666666665, -4.333333333333333]   \n",
              "2           3           [8.222222222222221, -15.444444444444443]   \n",
              "3           4          [26.740740740740737, -52.481481481481474]   \n",
              "4           5           [88.46913580246913, -175.93827160493825]   \n",
              "..        ...                                                ...   \n",
              "195       196  [6.534724669661107e+101, -1.3069449339322214e+...   \n",
              "196       197  [2.178241556553702e+102, -4.356483113107404e+102]   \n",
              "197       198  [7.260805188512339e+102, -1.4521610377024678e+...   \n",
              "198       199  [2.4202683961707793e+103, -4.840536792341559e+...   \n",
              "199       200  [8.067561320569263e+103, -1.6135122641138526e+...   \n",
              "\n",
              "                                                 error  \n",
              "0                                          [1.0, -1.0]  \n",
              "1             [1.6666666666666665, -3.333333333333333]  \n",
              "2              [5.555555555555555, -11.11111111111111]  \n",
              "3             [18.518518518518515, -37.03703703703703]  \n",
              "4             [61.72839506172839, -123.45679012345678]  \n",
              "..                                                 ...  \n",
              "195   [4.574307268762775e+101, -9.14861453752555e+101]  \n",
              "196  [1.5247690895875913e+102, -3.0495381791751827e...  \n",
              "197  [5.082563631958638e+102, -1.0165127263917275e+...  \n",
              "198  [1.6941878773195454e+103, -3.388375754639091e+...  \n",
              "199  [5.6472929243984835e+103, -1.1294585848796967e...  \n",
              "\n",
              "[200 rows x 3 columns]"
            ]
          },
          "execution_count": 56,
          "metadata": {},
          "output_type": "execute_result"
        }
      ],
      "source": [
        "pd.DataFrame(np.array(table), columns=['Iteración', 'x', 'error'])"
      ]
    },
    {
      "cell_type": "markdown",
      "metadata": {
        "id": "bPkUj_221w7J"
      },
      "source": [
        "<div align=\"center\">\n",
        "    Tabla 9. Gauss-Seidel - matriz 2x2\n",
        "</div>"
      ]
    },
    {
      "cell_type": "markdown",
      "metadata": {
        "id": "o4Is07OU1w7J"
      },
      "source": [
        "Ejercicio con la matriz $3x3$."
      ]
    },
    {
      "cell_type": "code",
      "execution_count": null,
      "metadata": {
        "colab": {
          "base_uri": "https://localhost:8080/",
          "height": 35
        },
        "id": "b7CTpLGj1w7J",
        "outputId": "238d7634-2eaa-4a81-b72a-e08ecb183d7b"
      },
      "outputs": [
        {
          "data": {
            "application/vnd.google.colaboratory.intrinsic+json": {
              "type": "string"
            },
            "text/plain": [
              "'Time: 0.022288s'"
            ]
          },
          "execution_count": 57,
          "metadata": {},
          "output_type": "execute_result"
        }
      ],
      "source": [
        "table = []\n",
        "\n",
        "x, t = solve(\n",
        "    matrices[3]['A'],\n",
        "    matrices[3]['b'],\n",
        "    gauss_seidel,\n",
        "    table\n",
        ")\n",
        "\n",
        "times.append(t)\n",
        "\n",
        "f'Time: {t:.6f}s'"
      ]
    },
    {
      "cell_type": "code",
      "execution_count": null,
      "metadata": {
        "colab": {
          "base_uri": "https://localhost:8080/",
          "height": 35
        },
        "id": "rB9-44Qq1w7J",
        "outputId": "cfc09fa7-f63c-45a1-ff3b-0d596d8e1c6d"
      },
      "outputs": [
        {
          "data": {
            "application/vnd.google.colaboratory.intrinsic+json": {
              "type": "string"
            },
            "text/plain": [
              "'El resultado de la operación es: x: -1275242997.4280949, y: 2550486001.8561897, z: 318810752.1070238'"
            ]
          },
          "execution_count": 58,
          "metadata": {},
          "output_type": "execute_result"
        }
      ],
      "source": [
        "f'El resultado de la operación es: x: {x[0]}, y: {x[1]}, z: {x[2]}'"
      ]
    },
    {
      "cell_type": "code",
      "execution_count": null,
      "metadata": {
        "colab": {
          "base_uri": "https://localhost:8080/",
          "height": 1000
        },
        "id": "wtuhkrOH1w7J",
        "outputId": "081343b9-a6d7-4cd7-d093-f65779c49a1b"
      },
      "outputs": [
        {
          "name": "stderr",
          "output_type": "stream",
          "text": [
            "/usr/local/lib/python3.7/dist-packages/ipykernel_launcher.py:1: VisibleDeprecationWarning: Creating an ndarray from ragged nested sequences (which is a list-or-tuple of lists-or-tuples-or ndarrays with different lengths or shapes) is deprecated. If you meant to do this, you must specify 'dtype=object' when creating the ndarray.\n",
            "  \"\"\"Entry point for launching an IPython kernel.\n"
          ]
        },
        {
          "data": {
            "text/html": [
              "\n",
              "  <div id=\"df-891c07d9-e9ac-4b5c-b135-045103fd73b8\">\n",
              "    <div class=\"colab-df-container\">\n",
              "      <div>\n",
              "<style scoped>\n",
              "    .dataframe tbody tr th:only-of-type {\n",
              "        vertical-align: middle;\n",
              "    }\n",
              "\n",
              "    .dataframe tbody tr th {\n",
              "        vertical-align: top;\n",
              "    }\n",
              "\n",
              "    .dataframe thead th {\n",
              "        text-align: right;\n",
              "    }\n",
              "</style>\n",
              "<table border=\"1\" class=\"dataframe\">\n",
              "  <thead>\n",
              "    <tr style=\"text-align: right;\">\n",
              "      <th></th>\n",
              "      <th>Iteración</th>\n",
              "      <th>x</th>\n",
              "      <th>error</th>\n",
              "    </tr>\n",
              "  </thead>\n",
              "  <tbody>\n",
              "    <tr>\n",
              "      <th>0</th>\n",
              "      <td>1</td>\n",
              "      <td>[6.0, -5.0, 1.2499999999999996]</td>\n",
              "      <td>[6.0, -5.0, 1.2499999999999996]</td>\n",
              "    </tr>\n",
              "    <tr>\n",
              "      <th>1</th>\n",
              "      <td>2</td>\n",
              "      <td>[-1.4999999999999991, 9.999999999999998, 3.125]</td>\n",
              "      <td>[-7.499999999999999, 14.999999999999998, 1.875...</td>\n",
              "    </tr>\n",
              "    <tr>\n",
              "      <th>2</th>\n",
              "      <td>3</td>\n",
              "      <td>[9.749999999999998, -12.499999999999996, 0.3125]</td>\n",
              "      <td>[11.249999999999996, -22.499999999999993, -2.8...</td>\n",
              "    </tr>\n",
              "    <tr>\n",
              "      <th>3</th>\n",
              "      <td>4</td>\n",
              "      <td>[-7.1249999999999964, 21.249999999999993, 4.53...</td>\n",
              "      <td>[-16.874999999999993, 33.749999999999986, 4.21...</td>\n",
              "    </tr>\n",
              "    <tr>\n",
              "      <th>4</th>\n",
              "      <td>5</td>\n",
              "      <td>[18.187499999999993, -29.374999999999986, -1.7...</td>\n",
              "      <td>[25.31249999999999, -50.62499999999998, -6.328...</td>\n",
              "    </tr>\n",
              "    <tr>\n",
              "      <th>5</th>\n",
              "      <td>6</td>\n",
              "      <td>[-19.781249999999986, 46.56249999999997, 7.695...</td>\n",
              "      <td>[-37.96874999999998, 75.93749999999996, 9.4921...</td>\n",
              "    </tr>\n",
              "    <tr>\n",
              "      <th>6</th>\n",
              "      <td>7</td>\n",
              "      <td>[37.17187499999998, -67.34374999999996, -6.542...</td>\n",
              "      <td>[56.953124999999964, -113.90624999999993, -14....</td>\n",
              "    </tr>\n",
              "    <tr>\n",
              "      <th>7</th>\n",
              "      <td>8</td>\n",
              "      <td>[-48.257812499999964, 103.51562499999993, 14.8...</td>\n",
              "      <td>[-85.42968749999994, 170.8593749999999, 21.357...</td>\n",
              "    </tr>\n",
              "    <tr>\n",
              "      <th>8</th>\n",
              "      <td>9</td>\n",
              "      <td>[79.88671874999994, -152.7734374999999, -17.22...</td>\n",
              "      <td>[128.14453124999991, -256.28906249999983, -32....</td>\n",
              "    </tr>\n",
              "    <tr>\n",
              "      <th>9</th>\n",
              "      <td>10</td>\n",
              "      <td>[-112.33007812499991, 231.66015624999983, 30.8...</td>\n",
              "      <td>[-192.21679687499986, 384.4335937499997, 48.05...</td>\n",
              "    </tr>\n",
              "    <tr>\n",
              "      <th>10</th>\n",
              "      <td>11</td>\n",
              "      <td>[175.99511718749986, -344.9902343749997, -41.2...</td>\n",
              "      <td>[288.3251953124998, -576.6503906249995, -72.08...</td>\n",
              "    </tr>\n",
              "    <tr>\n",
              "      <th>11</th>\n",
              "      <td>12</td>\n",
              "      <td>[-256.4926757812498, 519.9853515624995, 66.873...</td>\n",
              "      <td>[-432.48779296874966, 864.9755859374993, 108.1...</td>\n",
              "    </tr>\n",
              "    <tr>\n",
              "      <th>12</th>\n",
              "      <td>13</td>\n",
              "      <td>[392.23901367187466, -777.4780273437493, -95.3...</td>\n",
              "      <td>[648.7316894531244, -1297.4633789062489, -162....</td>\n",
              "    </tr>\n",
              "    <tr>\n",
              "      <th>13</th>\n",
              "      <td>14</td>\n",
              "      <td>[-580.8585205078119, 1168.7170410156239, 147.9...</td>\n",
              "      <td>[-973.0975341796866, 1946.1950683593732, 243.2...</td>\n",
              "    </tr>\n",
              "    <tr>\n",
              "      <th>14</th>\n",
              "      <td>15</td>\n",
              "      <td>[878.7877807617178, -1750.5755615234357, -216....</td>\n",
              "      <td>[1459.6463012695299, -2919.2926025390598, -364...</td>\n",
              "    </tr>\n",
              "    <tr>\n",
              "      <th>15</th>\n",
              "      <td>16</td>\n",
              "      <td>[-1310.6816711425768, 2628.3633422851535, 330....</td>\n",
              "      <td>[-2189.4694519042946, 4378.938903808589, 547.3...</td>\n",
              "    </tr>\n",
              "    <tr>\n",
              "      <th>16</th>\n",
              "      <td>17</td>\n",
              "      <td>[1973.522506713865, -3940.04501342773, -490.63...</td>\n",
              "      <td>[3284.2041778564417, -6568.408355712883, -821....</td>\n",
              "    </tr>\n",
              "    <tr>\n",
              "      <th>17</th>\n",
              "      <td>18</td>\n",
              "      <td>[-2952.783760070797, 5912.567520141594, 740.94...</td>\n",
              "      <td>[-4926.3062667846625, 9852.612533569325, 1231....</td>\n",
              "    </tr>\n",
              "    <tr>\n",
              "      <th>18</th>\n",
              "      <td>19</td>\n",
              "      <td>[4436.675640106196, -8866.351280212391, -1106....</td>\n",
              "      <td>[7389.459400176993, -14778.918800353986, -1847...</td>\n",
              "    </tr>\n",
              "    <tr>\n",
              "      <th>19</th>\n",
              "      <td>20</td>\n",
              "      <td>[-6647.513460159293, 13302.026920318585, 1664....</td>\n",
              "      <td>[-11084.189100265488, 22168.378200530977, 2771...</td>\n",
              "    </tr>\n",
              "    <tr>\n",
              "      <th>20</th>\n",
              "      <td>21</td>\n",
              "      <td>[9978.770190238938, -19950.540380477876, -2491...</td>\n",
              "      <td>[16626.283650398233, -33252.567300796465, -415...</td>\n",
              "    </tr>\n",
              "    <tr>\n",
              "      <th>21</th>\n",
              "      <td>22</td>\n",
              "      <td>[-14960.655285358407, 29928.310570716814, 3742...</td>\n",
              "      <td>[-24939.425475597345, 49878.85095119469, 6234....</td>\n",
              "    </tr>\n",
              "    <tr>\n",
              "      <th>22</th>\n",
              "      <td>23</td>\n",
              "      <td>[22448.482928037607, -44889.965856075214, -560...</td>\n",
              "      <td>[37409.138213396014, -74818.27642679203, -9352...</td>\n",
              "    </tr>\n",
              "    <tr>\n",
              "      <th>23</th>\n",
              "      <td>24</td>\n",
              "      <td>[-33665.22439205641, 67337.44878411281, 8419.0...</td>\n",
              "      <td>[-56113.707320094014, 112227.41464018803, 1402...</td>\n",
              "    </tr>\n",
              "    <tr>\n",
              "      <th>24</th>\n",
              "      <td>25</td>\n",
              "      <td>[50505.33658808461, -101003.67317616922, -1262...</td>\n",
              "      <td>[84170.56098014102, -168341.12196028203, -2104...</td>\n",
              "    </tr>\n",
              "    <tr>\n",
              "      <th>25</th>\n",
              "      <td>26</td>\n",
              "      <td>[-75750.5048821269, 151508.0097642538, 18940.3...</td>\n",
              "      <td>[-126255.84147021151, 252511.68294042302, 3156...</td>\n",
              "    </tr>\n",
              "    <tr>\n",
              "      <th>26</th>\n",
              "      <td>27</td>\n",
              "      <td>[113633.25732319034, -227259.51464638067, -284...</td>\n",
              "      <td>[189383.76220531724, -378767.5244106345, -4734...</td>\n",
              "    </tr>\n",
              "    <tr>\n",
              "      <th>27</th>\n",
              "      <td>28</td>\n",
              "      <td>[-170442.3859847855, 340891.771969571, 42613.3...</td>\n",
              "      <td>[-284075.64330797584, 568151.2866159517, 71018...</td>\n",
              "    </tr>\n",
              "    <tr>\n",
              "      <th>28</th>\n",
              "      <td>29</td>\n",
              "      <td>[255671.07897717826, -511335.1579543565, -6391...</td>\n",
              "      <td>[426113.46496196376, -852226.9299239275, -1065...</td>\n",
              "    </tr>\n",
              "    <tr>\n",
              "      <th>29</th>\n",
              "      <td>30</td>\n",
              "      <td>[-383499.11846576736, 767005.2369315347, 95877...</td>\n",
              "      <td>[-639170.1974429456, 1278340.3948858911, 15979...</td>\n",
              "    </tr>\n",
              "    <tr>\n",
              "      <th>30</th>\n",
              "      <td>31</td>\n",
              "      <td>[575256.177698651, -1150505.355397302, -143811...</td>\n",
              "      <td>[958755.2961644183, -1917510.5923288367, -2396...</td>\n",
              "    </tr>\n",
              "    <tr>\n",
              "      <th>31</th>\n",
              "      <td>32</td>\n",
              "      <td>[-862876.7665479764, 1725760.5330959528, 21572...</td>\n",
              "      <td>[-1438132.9442466274, 2876265.888493255, 35953...</td>\n",
              "    </tr>\n",
              "    <tr>\n",
              "      <th>32</th>\n",
              "      <td>33</td>\n",
              "      <td>[1294322.6498219646, -2588638.299643929, -3235...</td>\n",
              "      <td>[2157199.416369941, -4314398.832739882, -53929...</td>\n",
              "    </tr>\n",
              "    <tr>\n",
              "      <th>33</th>\n",
              "      <td>34</td>\n",
              "      <td>[-1941476.4747329466, 3882959.949465893, 48537...</td>\n",
              "      <td>[-3235799.124554911, 6471598.249109822, 808949...</td>\n",
              "    </tr>\n",
              "    <tr>\n",
              "      <th>34</th>\n",
              "      <td>35</td>\n",
              "      <td>[2912222.21209942, -5824437.42419884, -728052....</td>\n",
              "      <td>[4853698.6868323665, -9707397.373664733, -1213...</td>\n",
              "    </tr>\n",
              "    <tr>\n",
              "      <th>35</th>\n",
              "      <td>36</td>\n",
              "      <td>[-4368325.81814913, 8736658.63629826, 1092084....</td>\n",
              "      <td>[-7280548.03024855, 14561096.0604971, 1820137....</td>\n",
              "    </tr>\n",
              "    <tr>\n",
              "      <th>36</th>\n",
              "      <td>37</td>\n",
              "      <td>[6552496.227223694, -13104985.454447389, -1638...</td>\n",
              "      <td>[10920822.045372825, -21841644.09074565, -2730...</td>\n",
              "    </tr>\n",
              "    <tr>\n",
              "      <th>37</th>\n",
              "      <td>38</td>\n",
              "      <td>[-9828736.840835541, 19657480.681671083, 24571...</td>\n",
              "      <td>[-16381233.068059236, 32762466.13611847, 40953...</td>\n",
              "    </tr>\n",
              "    <tr>\n",
              "      <th>38</th>\n",
              "      <td>39</td>\n",
              "      <td>[14743112.761253312, -29486218.522506624, -368...</td>\n",
              "      <td>[24571849.602088854, -49143699.20417771, -6142...</td>\n",
              "    </tr>\n",
              "    <tr>\n",
              "      <th>39</th>\n",
              "      <td>40</td>\n",
              "      <td>[-22114661.64187997, 44229330.28375994, 552866...</td>\n",
              "      <td>[-36857774.40313328, 73715548.80626656, 921444...</td>\n",
              "    </tr>\n",
              "    <tr>\n",
              "      <th>40</th>\n",
              "      <td>41</td>\n",
              "      <td>[33171999.96281995, -66343992.9256399, -829299...</td>\n",
              "      <td>[55286661.60469992, -110573323.20939983, -1382...</td>\n",
              "    </tr>\n",
              "    <tr>\n",
              "      <th>41</th>\n",
              "      <td>42</td>\n",
              "      <td>[-49757992.444229916, 99515991.88845983, 12439...</td>\n",
              "      <td>[-82929992.40704986, 165859984.81409973, 20732...</td>\n",
              "    </tr>\n",
              "    <tr>\n",
              "      <th>42</th>\n",
              "      <td>43</td>\n",
              "      <td>[74636996.16634487, -149273985.33268973, -1865...</td>\n",
              "      <td>[124394988.61057478, -248789977.22114956, -310...</td>\n",
              "    </tr>\n",
              "    <tr>\n",
              "      <th>43</th>\n",
              "      <td>44</td>\n",
              "      <td>[-111955486.74951729, 223910980.49903458, 2798...</td>\n",
              "      <td>[-186592482.91586214, 373184965.8317243, 46648...</td>\n",
              "    </tr>\n",
              "    <tr>\n",
              "      <th>44</th>\n",
              "      <td>45</td>\n",
              "      <td>[167933237.62427592, -335866468.24855185, -419...</td>\n",
              "      <td>[279888724.37379324, -559777448.7475865, -6997...</td>\n",
              "    </tr>\n",
              "    <tr>\n",
              "      <th>45</th>\n",
              "      <td>46</td>\n",
              "      <td>[-251899848.93641388, 503799704.87282777, 6297...</td>\n",
              "      <td>[-419833086.5606898, 839666173.1213796, 104958...</td>\n",
              "    </tr>\n",
              "    <tr>\n",
              "      <th>46</th>\n",
              "      <td>47</td>\n",
              "      <td>[377849780.90462077, -755699554.8092415, -9446...</td>\n",
              "      <td>[629749629.8410347, -1259499259.6820693, -1574...</td>\n",
              "    </tr>\n",
              "    <tr>\n",
              "      <th>47</th>\n",
              "      <td>48</td>\n",
              "      <td>[-566774663.8569311, 1133549334.7138622, 14169...</td>\n",
              "      <td>[-944624444.7615519, 1889248889.5231037, 23615...</td>\n",
              "    </tr>\n",
              "    <tr>\n",
              "      <th>48</th>\n",
              "      <td>49</td>\n",
              "      <td>[850162003.2853966, -1700323999.5707932, -2125...</td>\n",
              "      <td>[1416936667.1423278, -2833873334.2846556, -354...</td>\n",
              "    </tr>\n",
              "    <tr>\n",
              "      <th>49</th>\n",
              "      <td>50</td>\n",
              "      <td>[-1275242997.4280949, 2550486001.8561897, 3188...</td>\n",
              "      <td>[-2125405000.7134914, 4250810001.426983, 53135...</td>\n",
              "    </tr>\n",
              "  </tbody>\n",
              "</table>\n",
              "</div>\n",
              "      <button class=\"colab-df-convert\" onclick=\"convertToInteractive('df-891c07d9-e9ac-4b5c-b135-045103fd73b8')\"\n",
              "              title=\"Convert this dataframe to an interactive table.\"\n",
              "              style=\"display:none;\">\n",
              "        \n",
              "  <svg xmlns=\"http://www.w3.org/2000/svg\" height=\"24px\"viewBox=\"0 0 24 24\"\n",
              "       width=\"24px\">\n",
              "    <path d=\"M0 0h24v24H0V0z\" fill=\"none\"/>\n",
              "    <path d=\"M18.56 5.44l.94 2.06.94-2.06 2.06-.94-2.06-.94-.94-2.06-.94 2.06-2.06.94zm-11 1L8.5 8.5l.94-2.06 2.06-.94-2.06-.94L8.5 2.5l-.94 2.06-2.06.94zm10 10l.94 2.06.94-2.06 2.06-.94-2.06-.94-.94-2.06-.94 2.06-2.06.94z\"/><path d=\"M17.41 7.96l-1.37-1.37c-.4-.4-.92-.59-1.43-.59-.52 0-1.04.2-1.43.59L10.3 9.45l-7.72 7.72c-.78.78-.78 2.05 0 2.83L4 21.41c.39.39.9.59 1.41.59.51 0 1.02-.2 1.41-.59l7.78-7.78 2.81-2.81c.8-.78.8-2.07 0-2.86zM5.41 20L4 18.59l7.72-7.72 1.47 1.35L5.41 20z\"/>\n",
              "  </svg>\n",
              "      </button>\n",
              "      \n",
              "  <style>\n",
              "    .colab-df-container {\n",
              "      display:flex;\n",
              "      flex-wrap:wrap;\n",
              "      gap: 12px;\n",
              "    }\n",
              "\n",
              "    .colab-df-convert {\n",
              "      background-color: #E8F0FE;\n",
              "      border: none;\n",
              "      border-radius: 50%;\n",
              "      cursor: pointer;\n",
              "      display: none;\n",
              "      fill: #1967D2;\n",
              "      height: 32px;\n",
              "      padding: 0 0 0 0;\n",
              "      width: 32px;\n",
              "    }\n",
              "\n",
              "    .colab-df-convert:hover {\n",
              "      background-color: #E2EBFA;\n",
              "      box-shadow: 0px 1px 2px rgba(60, 64, 67, 0.3), 0px 1px 3px 1px rgba(60, 64, 67, 0.15);\n",
              "      fill: #174EA6;\n",
              "    }\n",
              "\n",
              "    [theme=dark] .colab-df-convert {\n",
              "      background-color: #3B4455;\n",
              "      fill: #D2E3FC;\n",
              "    }\n",
              "\n",
              "    [theme=dark] .colab-df-convert:hover {\n",
              "      background-color: #434B5C;\n",
              "      box-shadow: 0px 1px 3px 1px rgba(0, 0, 0, 0.15);\n",
              "      filter: drop-shadow(0px 1px 2px rgba(0, 0, 0, 0.3));\n",
              "      fill: #FFFFFF;\n",
              "    }\n",
              "  </style>\n",
              "\n",
              "      <script>\n",
              "        const buttonEl =\n",
              "          document.querySelector('#df-891c07d9-e9ac-4b5c-b135-045103fd73b8 button.colab-df-convert');\n",
              "        buttonEl.style.display =\n",
              "          google.colab.kernel.accessAllowed ? 'block' : 'none';\n",
              "\n",
              "        async function convertToInteractive(key) {\n",
              "          const element = document.querySelector('#df-891c07d9-e9ac-4b5c-b135-045103fd73b8');\n",
              "          const dataTable =\n",
              "            await google.colab.kernel.invokeFunction('convertToInteractive',\n",
              "                                                     [key], {});\n",
              "          if (!dataTable) return;\n",
              "\n",
              "          const docLinkHtml = 'Like what you see? Visit the ' +\n",
              "            '<a target=\"_blank\" href=https://colab.research.google.com/notebooks/data_table.ipynb>data table notebook</a>'\n",
              "            + ' to learn more about interactive tables.';\n",
              "          element.innerHTML = '';\n",
              "          dataTable['output_type'] = 'display_data';\n",
              "          await google.colab.output.renderOutput(dataTable, element);\n",
              "          const docLink = document.createElement('div');\n",
              "          docLink.innerHTML = docLinkHtml;\n",
              "          element.appendChild(docLink);\n",
              "        }\n",
              "      </script>\n",
              "    </div>\n",
              "  </div>\n",
              "  "
            ],
            "text/plain": [
              "   Iteración                                                  x  \\\n",
              "0          1                    [6.0, -5.0, 1.2499999999999996]   \n",
              "1          2    [-1.4999999999999991, 9.999999999999998, 3.125]   \n",
              "2          3   [9.749999999999998, -12.499999999999996, 0.3125]   \n",
              "3          4  [-7.1249999999999964, 21.249999999999993, 4.53...   \n",
              "4          5  [18.187499999999993, -29.374999999999986, -1.7...   \n",
              "5          6  [-19.781249999999986, 46.56249999999997, 7.695...   \n",
              "6          7  [37.17187499999998, -67.34374999999996, -6.542...   \n",
              "7          8  [-48.257812499999964, 103.51562499999993, 14.8...   \n",
              "8          9  [79.88671874999994, -152.7734374999999, -17.22...   \n",
              "9         10  [-112.33007812499991, 231.66015624999983, 30.8...   \n",
              "10        11  [175.99511718749986, -344.9902343749997, -41.2...   \n",
              "11        12  [-256.4926757812498, 519.9853515624995, 66.873...   \n",
              "12        13  [392.23901367187466, -777.4780273437493, -95.3...   \n",
              "13        14  [-580.8585205078119, 1168.7170410156239, 147.9...   \n",
              "14        15  [878.7877807617178, -1750.5755615234357, -216....   \n",
              "15        16  [-1310.6816711425768, 2628.3633422851535, 330....   \n",
              "16        17  [1973.522506713865, -3940.04501342773, -490.63...   \n",
              "17        18  [-2952.783760070797, 5912.567520141594, 740.94...   \n",
              "18        19  [4436.675640106196, -8866.351280212391, -1106....   \n",
              "19        20  [-6647.513460159293, 13302.026920318585, 1664....   \n",
              "20        21  [9978.770190238938, -19950.540380477876, -2491...   \n",
              "21        22  [-14960.655285358407, 29928.310570716814, 3742...   \n",
              "22        23  [22448.482928037607, -44889.965856075214, -560...   \n",
              "23        24  [-33665.22439205641, 67337.44878411281, 8419.0...   \n",
              "24        25  [50505.33658808461, -101003.67317616922, -1262...   \n",
              "25        26  [-75750.5048821269, 151508.0097642538, 18940.3...   \n",
              "26        27  [113633.25732319034, -227259.51464638067, -284...   \n",
              "27        28  [-170442.3859847855, 340891.771969571, 42613.3...   \n",
              "28        29  [255671.07897717826, -511335.1579543565, -6391...   \n",
              "29        30  [-383499.11846576736, 767005.2369315347, 95877...   \n",
              "30        31  [575256.177698651, -1150505.355397302, -143811...   \n",
              "31        32  [-862876.7665479764, 1725760.5330959528, 21572...   \n",
              "32        33  [1294322.6498219646, -2588638.299643929, -3235...   \n",
              "33        34  [-1941476.4747329466, 3882959.949465893, 48537...   \n",
              "34        35  [2912222.21209942, -5824437.42419884, -728052....   \n",
              "35        36  [-4368325.81814913, 8736658.63629826, 1092084....   \n",
              "36        37  [6552496.227223694, -13104985.454447389, -1638...   \n",
              "37        38  [-9828736.840835541, 19657480.681671083, 24571...   \n",
              "38        39  [14743112.761253312, -29486218.522506624, -368...   \n",
              "39        40  [-22114661.64187997, 44229330.28375994, 552866...   \n",
              "40        41  [33171999.96281995, -66343992.9256399, -829299...   \n",
              "41        42  [-49757992.444229916, 99515991.88845983, 12439...   \n",
              "42        43  [74636996.16634487, -149273985.33268973, -1865...   \n",
              "43        44  [-111955486.74951729, 223910980.49903458, 2798...   \n",
              "44        45  [167933237.62427592, -335866468.24855185, -419...   \n",
              "45        46  [-251899848.93641388, 503799704.87282777, 6297...   \n",
              "46        47  [377849780.90462077, -755699554.8092415, -9446...   \n",
              "47        48  [-566774663.8569311, 1133549334.7138622, 14169...   \n",
              "48        49  [850162003.2853966, -1700323999.5707932, -2125...   \n",
              "49        50  [-1275242997.4280949, 2550486001.8561897, 3188...   \n",
              "\n",
              "                                                error  \n",
              "0                     [6.0, -5.0, 1.2499999999999996]  \n",
              "1   [-7.499999999999999, 14.999999999999998, 1.875...  \n",
              "2   [11.249999999999996, -22.499999999999993, -2.8...  \n",
              "3   [-16.874999999999993, 33.749999999999986, 4.21...  \n",
              "4   [25.31249999999999, -50.62499999999998, -6.328...  \n",
              "5   [-37.96874999999998, 75.93749999999996, 9.4921...  \n",
              "6   [56.953124999999964, -113.90624999999993, -14....  \n",
              "7   [-85.42968749999994, 170.8593749999999, 21.357...  \n",
              "8   [128.14453124999991, -256.28906249999983, -32....  \n",
              "9   [-192.21679687499986, 384.4335937499997, 48.05...  \n",
              "10  [288.3251953124998, -576.6503906249995, -72.08...  \n",
              "11  [-432.48779296874966, 864.9755859374993, 108.1...  \n",
              "12  [648.7316894531244, -1297.4633789062489, -162....  \n",
              "13  [-973.0975341796866, 1946.1950683593732, 243.2...  \n",
              "14  [1459.6463012695299, -2919.2926025390598, -364...  \n",
              "15  [-2189.4694519042946, 4378.938903808589, 547.3...  \n",
              "16  [3284.2041778564417, -6568.408355712883, -821....  \n",
              "17  [-4926.3062667846625, 9852.612533569325, 1231....  \n",
              "18  [7389.459400176993, -14778.918800353986, -1847...  \n",
              "19  [-11084.189100265488, 22168.378200530977, 2771...  \n",
              "20  [16626.283650398233, -33252.567300796465, -415...  \n",
              "21  [-24939.425475597345, 49878.85095119469, 6234....  \n",
              "22  [37409.138213396014, -74818.27642679203, -9352...  \n",
              "23  [-56113.707320094014, 112227.41464018803, 1402...  \n",
              "24  [84170.56098014102, -168341.12196028203, -2104...  \n",
              "25  [-126255.84147021151, 252511.68294042302, 3156...  \n",
              "26  [189383.76220531724, -378767.5244106345, -4734...  \n",
              "27  [-284075.64330797584, 568151.2866159517, 71018...  \n",
              "28  [426113.46496196376, -852226.9299239275, -1065...  \n",
              "29  [-639170.1974429456, 1278340.3948858911, 15979...  \n",
              "30  [958755.2961644183, -1917510.5923288367, -2396...  \n",
              "31  [-1438132.9442466274, 2876265.888493255, 35953...  \n",
              "32  [2157199.416369941, -4314398.832739882, -53929...  \n",
              "33  [-3235799.124554911, 6471598.249109822, 808949...  \n",
              "34  [4853698.6868323665, -9707397.373664733, -1213...  \n",
              "35  [-7280548.03024855, 14561096.0604971, 1820137....  \n",
              "36  [10920822.045372825, -21841644.09074565, -2730...  \n",
              "37  [-16381233.068059236, 32762466.13611847, 40953...  \n",
              "38  [24571849.602088854, -49143699.20417771, -6142...  \n",
              "39  [-36857774.40313328, 73715548.80626656, 921444...  \n",
              "40  [55286661.60469992, -110573323.20939983, -1382...  \n",
              "41  [-82929992.40704986, 165859984.81409973, 20732...  \n",
              "42  [124394988.61057478, -248789977.22114956, -310...  \n",
              "43  [-186592482.91586214, 373184965.8317243, 46648...  \n",
              "44  [279888724.37379324, -559777448.7475865, -6997...  \n",
              "45  [-419833086.5606898, 839666173.1213796, 104958...  \n",
              "46  [629749629.8410347, -1259499259.6820693, -1574...  \n",
              "47  [-944624444.7615519, 1889248889.5231037, 23615...  \n",
              "48  [1416936667.1423278, -2833873334.2846556, -354...  \n",
              "49  [-2125405000.7134914, 4250810001.426983, 53135...  "
            ]
          },
          "execution_count": 59,
          "metadata": {},
          "output_type": "execute_result"
        }
      ],
      "source": [
        "pd.DataFrame(np.array(table), columns=['Iteración', 'x', 'error'])"
      ]
    },
    {
      "cell_type": "markdown",
      "metadata": {
        "id": "csKDNex61w7J"
      },
      "source": [
        "<div align=\"center\">\n",
        "    Tabla 10. Gauss-Seidel - matriz 3x3\n",
        "</div>"
      ]
    },
    {
      "cell_type": "markdown",
      "metadata": {
        "id": "M9FUz-Aw1w7K"
      },
      "source": [
        "Ejercicio con la matriz $4x4$."
      ]
    },
    {
      "cell_type": "code",
      "execution_count": null,
      "metadata": {
        "colab": {
          "base_uri": "https://localhost:8080/",
          "height": 35
        },
        "id": "EiTFfNx91w7K",
        "outputId": "0a37b38f-1dbe-4a61-faa8-2f24e7c7d4da"
      },
      "outputs": [
        {
          "data": {
            "application/vnd.google.colaboratory.intrinsic+json": {
              "type": "string"
            },
            "text/plain": [
              "'Time: 0.009198s'"
            ]
          },
          "execution_count": 60,
          "metadata": {},
          "output_type": "execute_result"
        }
      ],
      "source": [
        "table = []\n",
        "\n",
        "x, t = solve(\n",
        "    matrices[4]['A'],\n",
        "    matrices[4]['b'],\n",
        "    gauss_seidel,\n",
        "    table\n",
        ")\n",
        "\n",
        "times.append(t)\n",
        "\n",
        "f'Time: {t:.6f}s'"
      ]
    },
    {
      "cell_type": "code",
      "execution_count": null,
      "metadata": {
        "colab": {
          "base_uri": "https://localhost:8080/",
          "height": 53
        },
        "id": "ohmwykfS1w7K",
        "outputId": "c5c34ca5-ff2e-4854-edea-b6e71e801714"
      },
      "outputs": [
        {
          "data": {
            "application/vnd.google.colaboratory.intrinsic+json": {
              "type": "string"
            },
            "text/plain": [
              "'El resultado de la operación es: w: 4.588885377855392e+40, x: 7.535908930869659e+40, y: -6.83508210634873e+40, z: 8.14024383452187e+40'"
            ]
          },
          "execution_count": 61,
          "metadata": {},
          "output_type": "execute_result"
        }
      ],
      "source": [
        "f'El resultado de la operación es: w: {x[0]}, x: {x[1]}, y: {x[2]}, z: {x[3]}'"
      ]
    },
    {
      "cell_type": "code",
      "execution_count": null,
      "metadata": {
        "colab": {
          "base_uri": "https://localhost:8080/",
          "height": 1000
        },
        "id": "WFzAYF0N1w7K",
        "outputId": "eab572c0-3134-4240-bd6c-a01ed83d4992"
      },
      "outputs": [
        {
          "name": "stderr",
          "output_type": "stream",
          "text": [
            "/usr/local/lib/python3.7/dist-packages/ipykernel_launcher.py:1: VisibleDeprecationWarning: Creating an ndarray from ragged nested sequences (which is a list-or-tuple of lists-or-tuples-or ndarrays with different lengths or shapes) is deprecated. If you meant to do this, you must specify 'dtype=object' when creating the ndarray.\n",
            "  \"\"\"Entry point for launching an IPython kernel.\n"
          ]
        },
        {
          "data": {
            "text/html": [
              "\n",
              "  <div id=\"df-fb0f68bf-5285-434c-932c-7213c449fc84\">\n",
              "    <div class=\"colab-df-container\">\n",
              "      <div>\n",
              "<style scoped>\n",
              "    .dataframe tbody tr th:only-of-type {\n",
              "        vertical-align: middle;\n",
              "    }\n",
              "\n",
              "    .dataframe tbody tr th {\n",
              "        vertical-align: top;\n",
              "    }\n",
              "\n",
              "    .dataframe thead th {\n",
              "        text-align: right;\n",
              "    }\n",
              "</style>\n",
              "<table border=\"1\" class=\"dataframe\">\n",
              "  <thead>\n",
              "    <tr style=\"text-align: right;\">\n",
              "      <th></th>\n",
              "      <th>Iteración</th>\n",
              "      <th>x</th>\n",
              "      <th>error</th>\n",
              "    </tr>\n",
              "  </thead>\n",
              "  <tbody>\n",
              "    <tr>\n",
              "      <th>0</th>\n",
              "      <td>1</td>\n",
              "      <td>[-2.8363554891018876e-15, -7.000000000000006, ...</td>\n",
              "      <td>[-2.8363554891018876e-15, -7.000000000000006, ...</td>\n",
              "    </tr>\n",
              "    <tr>\n",
              "      <th>1</th>\n",
              "      <td>2</td>\n",
              "      <td>[55.33333333333334, 43.00000000000003, -38.000...</td>\n",
              "      <td>[55.33333333333334, 50.000000000000036, -50.66...</td>\n",
              "    </tr>\n",
              "    <tr>\n",
              "      <th>2</th>\n",
              "      <td>3</td>\n",
              "      <td>[-80.00000000000021, -375.0000000000004, 324.6...</td>\n",
              "      <td>[-135.33333333333354, -418.00000000000045, 362...</td>\n",
              "    </tr>\n",
              "    <tr>\n",
              "      <th>3</th>\n",
              "      <td>4</td>\n",
              "      <td>[1911.3333333333344, 1955.000000000002, -1870....</td>\n",
              "      <td>[1991.3333333333346, 2330.0000000000023, -2194...</td>\n",
              "    </tr>\n",
              "    <tr>\n",
              "      <th>4</th>\n",
              "      <td>5</td>\n",
              "      <td>[-5824.00000000001, -15263.000000000018, 13356...</td>\n",
              "      <td>[-7735.333333333345, -17218.000000000022, 1522...</td>\n",
              "    </tr>\n",
              "    <tr>\n",
              "      <th>5</th>\n",
              "      <td>6</td>\n",
              "      <td>[70295.3333333334, 88059.00000000012, -82230.0...</td>\n",
              "      <td>[76119.33333333342, 103322.00000000013, -95586...</td>\n",
              "    </tr>\n",
              "    <tr>\n",
              "      <th>6</th>\n",
              "      <td>7</td>\n",
              "      <td>[-305808.00000000047, -633703.0000000008, 5634...</td>\n",
              "      <td>[-376103.33333333384, -721762.0000000009, 6456...</td>\n",
              "    </tr>\n",
              "    <tr>\n",
              "      <th>7</th>\n",
              "      <td>8</td>\n",
              "      <td>[2744215.3333333363, 3875059.0000000047, -3569...</td>\n",
              "      <td>[3050023.3333333367, 4508762.000000006, -41326...</td>\n",
              "    </tr>\n",
              "    <tr>\n",
              "      <th>8</th>\n",
              "      <td>9</td>\n",
              "      <td>[-14406080.00000002, -26690511.00000004, 23946...</td>\n",
              "      <td>[-17150295.33333336, -30565570.000000045, 2751...</td>\n",
              "    </tr>\n",
              "    <tr>\n",
              "      <th>9</th>\n",
              "      <td>10</td>\n",
              "      <td>[111436407.3333335, 168438155.00000033, -15403...</td>\n",
              "      <td>[125842487.33333352, 195128666.00000036, -1779...</td>\n",
              "    </tr>\n",
              "    <tr>\n",
              "      <th>10</th>\n",
              "      <td>11</td>\n",
              "      <td>[-647507536.0000014, -1133281751.0000024, 1021...</td>\n",
              "      <td>[-758943943.3333349, -1301719906.0000026, 1175...</td>\n",
              "    </tr>\n",
              "    <tr>\n",
              "      <th>11</th>\n",
              "      <td>12</td>\n",
              "      <td>[4634295095.333343, 7274622147.000017, -662711...</td>\n",
              "      <td>[5281802631.3333435, 8407903898.000019, -76489...</td>\n",
              "    </tr>\n",
              "    <tr>\n",
              "      <th>12</th>\n",
              "      <td>13</td>\n",
              "      <td>[-28449832512.000072, -48333473407.00012, 4369...</td>\n",
              "      <td>[-33084127607.333416, -55608095554.00014, 5032...</td>\n",
              "    </tr>\n",
              "    <tr>\n",
              "      <th>13</th>\n",
              "      <td>14</td>\n",
              "      <td>[195382752727.33383, 313113979291.0009, -28466...</td>\n",
              "      <td>[223832585239.3339, 361447452698.00104, -32836...</td>\n",
              "    </tr>\n",
              "    <tr>\n",
              "      <th>14</th>\n",
              "      <td>15</td>\n",
              "      <td>[-1235635952528.004, -2066368657095.0063, 1870...</td>\n",
              "      <td>[-1431018705255.3376, -2379482636386.0073, 215...</td>\n",
              "    </tr>\n",
              "    <tr>\n",
              "      <th>15</th>\n",
              "      <td>16</td>\n",
              "      <td>[8300538579543.358, 13452602884883.045, -12216...</td>\n",
              "      <td>[9536174532071.363, 15518971541978.05, -140879...</td>\n",
              "    </tr>\n",
              "    <tr>\n",
              "      <th>16</th>\n",
              "      <td>17</td>\n",
              "      <td>[-53342729665600.18, -88457722305455.31, 80157...</td>\n",
              "      <td>[-61643268245143.54, -101910325190338.36, 9237...</td>\n",
              "    </tr>\n",
              "    <tr>\n",
              "      <th>17</th>\n",
              "      <td>18</td>\n",
              "      <td>[354117067676856.5, 577415184785453.2, -524072...</td>\n",
              "      <td>[407459797342456.7, 665872907090908.5, -604229...</td>\n",
              "    </tr>\n",
              "    <tr>\n",
              "      <th>18</th>\n",
              "      <td>19</td>\n",
              "      <td>[-2295454446350937.5, -3789398937961030.0, 343...</td>\n",
              "      <td>[-2649571514027794.0, -4366814122746483.0, 395...</td>\n",
              "    </tr>\n",
              "    <tr>\n",
              "      <th>19</th>\n",
              "      <td>20</td>\n",
              "      <td>[1.5141796153359666e+16, 2.4771006825827404e+1...</td>\n",
              "      <td>[1.7437250599710604e+16, 2.856040576378843e+16...</td>\n",
              "    </tr>\n",
              "    <tr>\n",
              "      <th>20</th>\n",
              "      <td>21</td>\n",
              "      <td>[-9.860974360218352e+16, -1.623940592501632e+1...</td>\n",
              "      <td>[-1.1375153975554318e+17, -1.871650660759906e+...</td>\n",
              "    </tr>\n",
              "    <tr>\n",
              "      <th>21</th>\n",
              "      <td>22</td>\n",
              "      <td>[6.482515323877093e+17, 1.062374138597288e+18,...</td>\n",
              "      <td>[7.468612759898929e+17, 1.2247681978474511e+18...</td>\n",
              "    </tr>\n",
              "    <tr>\n",
              "      <th>22</th>\n",
              "      <td>23</td>\n",
              "      <td>[-4.232270747216232e+18, -6.960796059343018e+1...</td>\n",
              "      <td>[-4.880522279603941e+18, -8.023170197940306e+1...</td>\n",
              "    </tr>\n",
              "    <tr>\n",
              "      <th>23</th>\n",
              "      <td>24</td>\n",
              "      <td>[2.7771461049633993e+19, 4.555603794120067e+19...</td>\n",
              "      <td>[3.2003731796850225e+19, 5.251683400054369e+19...</td>\n",
              "    </tr>\n",
              "    <tr>\n",
              "      <th>24</th>\n",
              "      <td>25</td>\n",
              "      <td>[-1.815573030038695e+20, -2.9839776061325666e+...</td>\n",
              "      <td>[-2.093287640535035e+20, -3.4395379855445734e+...</td>\n",
              "    </tr>\n",
              "    <tr>\n",
              "      <th>25</th>\n",
              "      <td>26</td>\n",
              "      <td>[1.1901717325686637e+21, 1.9533463289289905e+2...</td>\n",
              "      <td>[1.3717290355725333e+21, 2.2517440895422473e+2...</td>\n",
              "    </tr>\n",
              "    <tr>\n",
              "      <th>26</th>\n",
              "      <td>27</td>\n",
              "      <td>[-7.786448169860213e+21, -1.279257493333934e+2...</td>\n",
              "      <td>[-8.976619902428877e+21, -1.474592126226833e+2...</td>\n",
              "    </tr>\n",
              "    <tr>\n",
              "      <th>27</th>\n",
              "      <td>28</td>\n",
              "      <td>[5.101576162531807e+22, 8.375170397857137e+22,...</td>\n",
              "      <td>[5.880220979517828e+22, 9.654427891191071e+22,...</td>\n",
              "    </tr>\n",
              "    <tr>\n",
              "      <th>28</th>\n",
              "      <td>29</td>\n",
              "      <td>[-3.338900426557535e+23, -5.484464602592305e+2...</td>\n",
              "      <td>[-3.849058042810716e+23, -6.321981642378018e+2...</td>\n",
              "    </tr>\n",
              "    <tr>\n",
              "      <th>29</th>\n",
              "      <td>30</td>\n",
              "      <td>[2.1869771103374858e+24, 3.59085514438746e+24,...</td>\n",
              "      <td>[2.5208671529932393e+24, 4.13930160464669e+24,...</td>\n",
              "    </tr>\n",
              "    <tr>\n",
              "      <th>30</th>\n",
              "      <td>31</td>\n",
              "      <td>[-1.4316419450000791e+25, -2.35135369249825e+2...</td>\n",
              "      <td>[-1.6503396560338277e+25, -2.710439206936996e+...</td>\n",
              "    </tr>\n",
              "    <tr>\n",
              "      <th>31</th>\n",
              "      <td>32</td>\n",
              "      <td>[9.375800897921764e+25, 1.5395601164390244e+26...</td>\n",
              "      <td>[1.0807442842921844e+26, 1.7746954856888495e+2...</td>\n",
              "    </tr>\n",
              "    <tr>\n",
              "      <th>32</th>\n",
              "      <td>33</td>\n",
              "      <td>[-6.138292040257601e+26, -1.0081048268071631e+...</td>\n",
              "      <td>[-7.075872130049778e+26, -1.1620608384510655e+...</td>\n",
              "    </tr>\n",
              "    <tr>\n",
              "      <th>33</th>\n",
              "      <td>34</td>\n",
              "      <td>[4.019625330807263e+27, 6.600737719175445e+27,...</td>\n",
              "      <td>[4.633454534833023e+27, 7.608842545982608e+27,...</td>\n",
              "    </tr>\n",
              "    <tr>\n",
              "      <th>34</th>\n",
              "      <td>35</td>\n",
              "      <td>[-2.6317891914579357e+28, -4.322107697622174e+...</td>\n",
              "      <td>[-3.033751724538662e+28, -4.982181469539719e+2...</td>\n",
              "    </tr>\n",
              "    <tr>\n",
              "      <th>35</th>\n",
              "      <td>36</td>\n",
              "      <td>[1.7233353545197784e+29, 2.8300018463242504e+2...</td>\n",
              "      <td>[1.9865142736655722e+29, 3.2622126160864675e+2...</td>\n",
              "    </tr>\n",
              "    <tr>\n",
              "      <th>36</th>\n",
              "      <td>37</td>\n",
              "      <td>[-1.1283647176094579e+30, -1.8530478537743214e...</td>\n",
              "      <td>[-1.3006982530614357e+30, -2.1360480384067465e...</td>\n",
              "    </tr>\n",
              "    <tr>\n",
              "      <th>37</th>\n",
              "      <td>38</td>\n",
              "      <td>[7.388525898913596e+30, 1.2133332815344048e+31...</td>\n",
              "      <td>[8.516890616523054e+30, 1.398638066911837e+31,...</td>\n",
              "    </tr>\n",
              "    <tr>\n",
              "      <th>38</th>\n",
              "      <td>39</td>\n",
              "      <td>[-4.837768976010457e+31, -7.944714762063266e+3...</td>\n",
              "      <td>[-5.576621565901817e+31, -9.158048043597671e+3...</td>\n",
              "    </tr>\n",
              "    <tr>\n",
              "      <th>39</th>\n",
              "      <td>40</td>\n",
              "      <td>[3.1677276464565505e+32, 5.2020322968673634e+3...</td>\n",
              "      <td>[3.6515045440575965e+32, 5.99650377307369e+32,...</td>\n",
              "    </tr>\n",
              "    <tr>\n",
              "      <th>40</th>\n",
              "      <td>41</td>\n",
              "      <td>[-2.0741457046632437e+33, -3.4062013730903344e...</td>\n",
              "      <td>[-2.390918469308899e+33, -3.926404602777071e+3...</td>\n",
              "    </tr>\n",
              "    <tr>\n",
              "      <th>41</th>\n",
              "      <td>42</td>\n",
              "      <td>[1.3581225595260961e+34, 2.230312568550444e+34...</td>\n",
              "      <td>[1.5655371299924206e+34, 2.5709327058594776e+3...</td>\n",
              "    </tr>\n",
              "    <tr>\n",
              "      <th>42</th>\n",
              "      <td>43</td>\n",
              "      <td>[-8.892678591791726e+34, -1.4603686809931539e+...</td>\n",
              "      <td>[-1.0250801151317823e+35, -1.683399937848198e+...</td>\n",
              "    </tr>\n",
              "    <tr>\n",
              "      <th>43</th>\n",
              "      <td>44</td>\n",
              "      <td>[5.8227839965161846e+35, 9.56221021464546e+35,...</td>\n",
              "      <td>[6.712051855695357e+35, 1.1022578895638614e+36...</td>\n",
              "    </tr>\n",
              "    <tr>\n",
              "      <th>44</th>\n",
              "      <td>45</td>\n",
              "      <td>[-3.812637357996586e+36, -6.261159948523836e+3...</td>\n",
              "      <td>[-4.3949157576482045e+36, -7.217380969988382e+...</td>\n",
              "    </tr>\n",
              "    <tr>\n",
              "      <th>45</th>\n",
              "      <td>46</td>\n",
              "      <td>[2.4964490817850014e+37, 4.099687661765408e+37...</td>\n",
              "      <td>[2.87771281758466e+37, 4.725803656617792e+37, ...</td>\n",
              "    </tr>\n",
              "    <tr>\n",
              "      <th>46</th>\n",
              "      <td>47</td>\n",
              "      <td>[-1.6346251253638126e+38, -2.6843994346783073e...</td>\n",
              "      <td>[-1.884270033542313e+38, -3.094368200854848e+3...</td>\n",
              "    </tr>\n",
              "    <tr>\n",
              "      <th>47</th>\n",
              "      <td>48</td>\n",
              "      <td>[1.0703231415621406e+39, 1.757693782494748e+39...</td>\n",
              "      <td>[1.2337856540985219e+39, 2.0261337259625785e+3...</td>\n",
              "    </tr>\n",
              "    <tr>\n",
              "      <th>48</th>\n",
              "      <td>49</td>\n",
              "      <td>[-7.008268245209301e+39, -1.1509050799551018e+...</td>\n",
              "      <td>[-8.078591386771441e+39, -1.3266744582045766e+...</td>\n",
              "    </tr>\n",
              "    <tr>\n",
              "      <th>49</th>\n",
              "      <td>50</td>\n",
              "      <td>[4.588885377855392e+40, 7.535908930869659e+40,...</td>\n",
              "      <td>[5.289712202376322e+40, 8.686814010824762e+40,...</td>\n",
              "    </tr>\n",
              "  </tbody>\n",
              "</table>\n",
              "</div>\n",
              "      <button class=\"colab-df-convert\" onclick=\"convertToInteractive('df-fb0f68bf-5285-434c-932c-7213c449fc84')\"\n",
              "              title=\"Convert this dataframe to an interactive table.\"\n",
              "              style=\"display:none;\">\n",
              "        \n",
              "  <svg xmlns=\"http://www.w3.org/2000/svg\" height=\"24px\"viewBox=\"0 0 24 24\"\n",
              "       width=\"24px\">\n",
              "    <path d=\"M0 0h24v24H0V0z\" fill=\"none\"/>\n",
              "    <path d=\"M18.56 5.44l.94 2.06.94-2.06 2.06-.94-2.06-.94-.94-2.06-.94 2.06-2.06.94zm-11 1L8.5 8.5l.94-2.06 2.06-.94-2.06-.94L8.5 2.5l-.94 2.06-2.06.94zm10 10l.94 2.06.94-2.06 2.06-.94-2.06-.94-.94-2.06-.94 2.06-2.06.94z\"/><path d=\"M17.41 7.96l-1.37-1.37c-.4-.4-.92-.59-1.43-.59-.52 0-1.04.2-1.43.59L10.3 9.45l-7.72 7.72c-.78.78-.78 2.05 0 2.83L4 21.41c.39.39.9.59 1.41.59.51 0 1.02-.2 1.41-.59l7.78-7.78 2.81-2.81c.8-.78.8-2.07 0-2.86zM5.41 20L4 18.59l7.72-7.72 1.47 1.35L5.41 20z\"/>\n",
              "  </svg>\n",
              "      </button>\n",
              "      \n",
              "  <style>\n",
              "    .colab-df-container {\n",
              "      display:flex;\n",
              "      flex-wrap:wrap;\n",
              "      gap: 12px;\n",
              "    }\n",
              "\n",
              "    .colab-df-convert {\n",
              "      background-color: #E8F0FE;\n",
              "      border: none;\n",
              "      border-radius: 50%;\n",
              "      cursor: pointer;\n",
              "      display: none;\n",
              "      fill: #1967D2;\n",
              "      height: 32px;\n",
              "      padding: 0 0 0 0;\n",
              "      width: 32px;\n",
              "    }\n",
              "\n",
              "    .colab-df-convert:hover {\n",
              "      background-color: #E2EBFA;\n",
              "      box-shadow: 0px 1px 2px rgba(60, 64, 67, 0.3), 0px 1px 3px 1px rgba(60, 64, 67, 0.15);\n",
              "      fill: #174EA6;\n",
              "    }\n",
              "\n",
              "    [theme=dark] .colab-df-convert {\n",
              "      background-color: #3B4455;\n",
              "      fill: #D2E3FC;\n",
              "    }\n",
              "\n",
              "    [theme=dark] .colab-df-convert:hover {\n",
              "      background-color: #434B5C;\n",
              "      box-shadow: 0px 1px 3px 1px rgba(0, 0, 0, 0.15);\n",
              "      filter: drop-shadow(0px 1px 2px rgba(0, 0, 0, 0.3));\n",
              "      fill: #FFFFFF;\n",
              "    }\n",
              "  </style>\n",
              "\n",
              "      <script>\n",
              "        const buttonEl =\n",
              "          document.querySelector('#df-fb0f68bf-5285-434c-932c-7213c449fc84 button.colab-df-convert');\n",
              "        buttonEl.style.display =\n",
              "          google.colab.kernel.accessAllowed ? 'block' : 'none';\n",
              "\n",
              "        async function convertToInteractive(key) {\n",
              "          const element = document.querySelector('#df-fb0f68bf-5285-434c-932c-7213c449fc84');\n",
              "          const dataTable =\n",
              "            await google.colab.kernel.invokeFunction('convertToInteractive',\n",
              "                                                     [key], {});\n",
              "          if (!dataTable) return;\n",
              "\n",
              "          const docLinkHtml = 'Like what you see? Visit the ' +\n",
              "            '<a target=\"_blank\" href=https://colab.research.google.com/notebooks/data_table.ipynb>data table notebook</a>'\n",
              "            + ' to learn more about interactive tables.';\n",
              "          element.innerHTML = '';\n",
              "          dataTable['output_type'] = 'display_data';\n",
              "          await google.colab.output.renderOutput(dataTable, element);\n",
              "          const docLink = document.createElement('div');\n",
              "          docLink.innerHTML = docLinkHtml;\n",
              "          element.appendChild(docLink);\n",
              "        }\n",
              "      </script>\n",
              "    </div>\n",
              "  </div>\n",
              "  "
            ],
            "text/plain": [
              "   Iteración                                                  x  \\\n",
              "0          1  [-2.8363554891018876e-15, -7.000000000000006, ...   \n",
              "1          2  [55.33333333333334, 43.00000000000003, -38.000...   \n",
              "2          3  [-80.00000000000021, -375.0000000000004, 324.6...   \n",
              "3          4  [1911.3333333333344, 1955.000000000002, -1870....   \n",
              "4          5  [-5824.00000000001, -15263.000000000018, 13356...   \n",
              "5          6  [70295.3333333334, 88059.00000000012, -82230.0...   \n",
              "6          7  [-305808.00000000047, -633703.0000000008, 5634...   \n",
              "7          8  [2744215.3333333363, 3875059.0000000047, -3569...   \n",
              "8          9  [-14406080.00000002, -26690511.00000004, 23946...   \n",
              "9         10  [111436407.3333335, 168438155.00000033, -15403...   \n",
              "10        11  [-647507536.0000014, -1133281751.0000024, 1021...   \n",
              "11        12  [4634295095.333343, 7274622147.000017, -662711...   \n",
              "12        13  [-28449832512.000072, -48333473407.00012, 4369...   \n",
              "13        14  [195382752727.33383, 313113979291.0009, -28466...   \n",
              "14        15  [-1235635952528.004, -2066368657095.0063, 1870...   \n",
              "15        16  [8300538579543.358, 13452602884883.045, -12216...   \n",
              "16        17  [-53342729665600.18, -88457722305455.31, 80157...   \n",
              "17        18  [354117067676856.5, 577415184785453.2, -524072...   \n",
              "18        19  [-2295454446350937.5, -3789398937961030.0, 343...   \n",
              "19        20  [1.5141796153359666e+16, 2.4771006825827404e+1...   \n",
              "20        21  [-9.860974360218352e+16, -1.623940592501632e+1...   \n",
              "21        22  [6.482515323877093e+17, 1.062374138597288e+18,...   \n",
              "22        23  [-4.232270747216232e+18, -6.960796059343018e+1...   \n",
              "23        24  [2.7771461049633993e+19, 4.555603794120067e+19...   \n",
              "24        25  [-1.815573030038695e+20, -2.9839776061325666e+...   \n",
              "25        26  [1.1901717325686637e+21, 1.9533463289289905e+2...   \n",
              "26        27  [-7.786448169860213e+21, -1.279257493333934e+2...   \n",
              "27        28  [5.101576162531807e+22, 8.375170397857137e+22,...   \n",
              "28        29  [-3.338900426557535e+23, -5.484464602592305e+2...   \n",
              "29        30  [2.1869771103374858e+24, 3.59085514438746e+24,...   \n",
              "30        31  [-1.4316419450000791e+25, -2.35135369249825e+2...   \n",
              "31        32  [9.375800897921764e+25, 1.5395601164390244e+26...   \n",
              "32        33  [-6.138292040257601e+26, -1.0081048268071631e+...   \n",
              "33        34  [4.019625330807263e+27, 6.600737719175445e+27,...   \n",
              "34        35  [-2.6317891914579357e+28, -4.322107697622174e+...   \n",
              "35        36  [1.7233353545197784e+29, 2.8300018463242504e+2...   \n",
              "36        37  [-1.1283647176094579e+30, -1.8530478537743214e...   \n",
              "37        38  [7.388525898913596e+30, 1.2133332815344048e+31...   \n",
              "38        39  [-4.837768976010457e+31, -7.944714762063266e+3...   \n",
              "39        40  [3.1677276464565505e+32, 5.2020322968673634e+3...   \n",
              "40        41  [-2.0741457046632437e+33, -3.4062013730903344e...   \n",
              "41        42  [1.3581225595260961e+34, 2.230312568550444e+34...   \n",
              "42        43  [-8.892678591791726e+34, -1.4603686809931539e+...   \n",
              "43        44  [5.8227839965161846e+35, 9.56221021464546e+35,...   \n",
              "44        45  [-3.812637357996586e+36, -6.261159948523836e+3...   \n",
              "45        46  [2.4964490817850014e+37, 4.099687661765408e+37...   \n",
              "46        47  [-1.6346251253638126e+38, -2.6843994346783073e...   \n",
              "47        48  [1.0703231415621406e+39, 1.757693782494748e+39...   \n",
              "48        49  [-7.008268245209301e+39, -1.1509050799551018e+...   \n",
              "49        50  [4.588885377855392e+40, 7.535908930869659e+40,...   \n",
              "\n",
              "                                                error  \n",
              "0   [-2.8363554891018876e-15, -7.000000000000006, ...  \n",
              "1   [55.33333333333334, 50.000000000000036, -50.66...  \n",
              "2   [-135.33333333333354, -418.00000000000045, 362...  \n",
              "3   [1991.3333333333346, 2330.0000000000023, -2194...  \n",
              "4   [-7735.333333333345, -17218.000000000022, 1522...  \n",
              "5   [76119.33333333342, 103322.00000000013, -95586...  \n",
              "6   [-376103.33333333384, -721762.0000000009, 6456...  \n",
              "7   [3050023.3333333367, 4508762.000000006, -41326...  \n",
              "8   [-17150295.33333336, -30565570.000000045, 2751...  \n",
              "9   [125842487.33333352, 195128666.00000036, -1779...  \n",
              "10  [-758943943.3333349, -1301719906.0000026, 1175...  \n",
              "11  [5281802631.3333435, 8407903898.000019, -76489...  \n",
              "12  [-33084127607.333416, -55608095554.00014, 5032...  \n",
              "13  [223832585239.3339, 361447452698.00104, -32836...  \n",
              "14  [-1431018705255.3376, -2379482636386.0073, 215...  \n",
              "15  [9536174532071.363, 15518971541978.05, -140879...  \n",
              "16  [-61643268245143.54, -101910325190338.36, 9237...  \n",
              "17  [407459797342456.7, 665872907090908.5, -604229...  \n",
              "18  [-2649571514027794.0, -4366814122746483.0, 395...  \n",
              "19  [1.7437250599710604e+16, 2.856040576378843e+16...  \n",
              "20  [-1.1375153975554318e+17, -1.871650660759906e+...  \n",
              "21  [7.468612759898929e+17, 1.2247681978474511e+18...  \n",
              "22  [-4.880522279603941e+18, -8.023170197940306e+1...  \n",
              "23  [3.2003731796850225e+19, 5.251683400054369e+19...  \n",
              "24  [-2.093287640535035e+20, -3.4395379855445734e+...  \n",
              "25  [1.3717290355725333e+21, 2.2517440895422473e+2...  \n",
              "26  [-8.976619902428877e+21, -1.474592126226833e+2...  \n",
              "27  [5.880220979517828e+22, 9.654427891191071e+22,...  \n",
              "28  [-3.849058042810716e+23, -6.321981642378018e+2...  \n",
              "29  [2.5208671529932393e+24, 4.13930160464669e+24,...  \n",
              "30  [-1.6503396560338277e+25, -2.710439206936996e+...  \n",
              "31  [1.0807442842921844e+26, 1.7746954856888495e+2...  \n",
              "32  [-7.075872130049778e+26, -1.1620608384510655e+...  \n",
              "33  [4.633454534833023e+27, 7.608842545982608e+27,...  \n",
              "34  [-3.033751724538662e+28, -4.982181469539719e+2...  \n",
              "35  [1.9865142736655722e+29, 3.2622126160864675e+2...  \n",
              "36  [-1.3006982530614357e+30, -2.1360480384067465e...  \n",
              "37  [8.516890616523054e+30, 1.398638066911837e+31,...  \n",
              "38  [-5.576621565901817e+31, -9.158048043597671e+3...  \n",
              "39  [3.6515045440575965e+32, 5.99650377307369e+32,...  \n",
              "40  [-2.390918469308899e+33, -3.926404602777071e+3...  \n",
              "41  [1.5655371299924206e+34, 2.5709327058594776e+3...  \n",
              "42  [-1.0250801151317823e+35, -1.683399937848198e+...  \n",
              "43  [6.712051855695357e+35, 1.1022578895638614e+36...  \n",
              "44  [-4.3949157576482045e+36, -7.217380969988382e+...  \n",
              "45  [2.87771281758466e+37, 4.725803656617792e+37, ...  \n",
              "46  [-1.884270033542313e+38, -3.094368200854848e+3...  \n",
              "47  [1.2337856540985219e+39, 2.0261337259625785e+3...  \n",
              "48  [-8.078591386771441e+39, -1.3266744582045766e+...  \n",
              "49  [5.289712202376322e+40, 8.686814010824762e+40,...  "
            ]
          },
          "execution_count": 62,
          "metadata": {},
          "output_type": "execute_result"
        }
      ],
      "source": [
        "pd.DataFrame(np.array(table), columns=['Iteración', 'x', 'error'])"
      ]
    },
    {
      "cell_type": "markdown",
      "metadata": {
        "id": "hVgRKdqD1w7K"
      },
      "source": [
        "<div align=\"center\">\n",
        "    Tabla 11. Gauss-Seidel - matriz 4x4\n",
        "</div>"
      ]
    },
    {
      "cell_type": "markdown",
      "metadata": {
        "id": "Vx-71oi-1w7K"
      },
      "source": [
        "Ejercicio con la matriz $5x5$."
      ]
    },
    {
      "cell_type": "code",
      "execution_count": null,
      "metadata": {
        "colab": {
          "base_uri": "https://localhost:8080/",
          "height": 35
        },
        "id": "s3N95eJT1w7K",
        "outputId": "107e2d45-0a85-423b-fde2-af97fed93113"
      },
      "outputs": [
        {
          "data": {
            "application/vnd.google.colaboratory.intrinsic+json": {
              "type": "string"
            },
            "text/plain": [
              "'Time: 0.010041s'"
            ]
          },
          "execution_count": 63,
          "metadata": {},
          "output_type": "execute_result"
        }
      ],
      "source": [
        "table = []\n",
        "\n",
        "x, t = solve(\n",
        "    matrices[5]['A'],\n",
        "    matrices[5]['b'],\n",
        "    gauss_seidel,\n",
        "    table\n",
        ")\n",
        "\n",
        "times.append(t)\n",
        "\n",
        "f'Time: {t:.6f}s'"
      ]
    },
    {
      "cell_type": "code",
      "execution_count": null,
      "metadata": {
        "colab": {
          "base_uri": "https://localhost:8080/",
          "height": 53
        },
        "id": "cdrtJ1KO1w7L",
        "outputId": "11b3bfae-7cde-4763-d381-43e0ac54a185"
      },
      "outputs": [
        {
          "data": {
            "application/vnd.google.colaboratory.intrinsic+json": {
              "type": "string"
            },
            "text/plain": [
              "'El resultado de la operación es: v: 1.6629981614884656e+27, w: 6.489548691596904e+26, x: -9.284357707879191e+27, y: 6.783388429574996e+27, z: 1.4867751578251848e+28'"
            ]
          },
          "execution_count": 64,
          "metadata": {},
          "output_type": "execute_result"
        }
      ],
      "source": [
        "f'El resultado de la operación es: v: {x[0]}, w: {x[1]}, x: {x[2]}, y: {x[3]}, z: {x[4]}'"
      ]
    },
    {
      "cell_type": "code",
      "execution_count": null,
      "metadata": {
        "colab": {
          "base_uri": "https://localhost:8080/",
          "height": 1000
        },
        "id": "k_33TSYv1w7L",
        "outputId": "b491403f-4f00-4591-f55b-c2717c33c460"
      },
      "outputs": [
        {
          "name": "stderr",
          "output_type": "stream",
          "text": [
            "/usr/local/lib/python3.7/dist-packages/ipykernel_launcher.py:1: VisibleDeprecationWarning: Creating an ndarray from ragged nested sequences (which is a list-or-tuple of lists-or-tuples-or ndarrays with different lengths or shapes) is deprecated. If you meant to do this, you must specify 'dtype=object' when creating the ndarray.\n",
            "  \"\"\"Entry point for launching an IPython kernel.\n"
          ]
        },
        {
          "data": {
            "text/html": [
              "\n",
              "  <div id=\"df-d2a50084-23f6-44b8-ac46-c1c2bef57780\">\n",
              "    <div class=\"colab-df-container\">\n",
              "      <div>\n",
              "<style scoped>\n",
              "    .dataframe tbody tr th:only-of-type {\n",
              "        vertical-align: middle;\n",
              "    }\n",
              "\n",
              "    .dataframe tbody tr th {\n",
              "        vertical-align: top;\n",
              "    }\n",
              "\n",
              "    .dataframe thead th {\n",
              "        text-align: right;\n",
              "    }\n",
              "</style>\n",
              "<table border=\"1\" class=\"dataframe\">\n",
              "  <thead>\n",
              "    <tr style=\"text-align: right;\">\n",
              "      <th></th>\n",
              "      <th>Iteración</th>\n",
              "      <th>x</th>\n",
              "      <th>error</th>\n",
              "    </tr>\n",
              "  </thead>\n",
              "  <tbody>\n",
              "    <tr>\n",
              "      <th>0</th>\n",
              "      <td>1</td>\n",
              "      <td>[3.500000000000001, 1.5, 4.666666666666666, -1...</td>\n",
              "      <td>[3.500000000000001, 1.5, 4.666666666666666, -1...</td>\n",
              "    </tr>\n",
              "    <tr>\n",
              "      <th>1</th>\n",
              "      <td>2</td>\n",
              "      <td>[-2.197916666666665, 3.170138888888887, -1.233...</td>\n",
              "      <td>[-5.697916666666666, 1.670138888888887, -5.900...</td>\n",
              "    </tr>\n",
              "    <tr>\n",
              "      <th>2</th>\n",
              "      <td>3</td>\n",
              "      <td>[18.6454716435185, 0.25286940586419515, -55.50...</td>\n",
              "      <td>[20.843388310185166, -2.917269483024692, -54.2...</td>\n",
              "    </tr>\n",
              "    <tr>\n",
              "      <th>3</th>\n",
              "      <td>4</td>\n",
              "      <td>[138.28198794769148, -42.956597054773205, -158...</td>\n",
              "      <td>[119.63651630417297, -43.2094664606374, -102.8...</td>\n",
              "    </tr>\n",
              "    <tr>\n",
              "      <th>4</th>\n",
              "      <td>5</td>\n",
              "      <td>[269.8268679430017, -163.95412648565377, 196.6...</td>\n",
              "      <td>[131.5448799953102, -120.99752943088058, 355.0...</td>\n",
              "    </tr>\n",
              "    <tr>\n",
              "      <th>5</th>\n",
              "      <td>6</td>\n",
              "      <td>[-842.5354671241574, -27.025704436412013, 2786...</td>\n",
              "      <td>[-1112.3623350671592, 136.92842204924176, 2590...</td>\n",
              "    </tr>\n",
              "    <tr>\n",
              "      <th>6</th>\n",
              "      <td>7</td>\n",
              "      <td>[-6460.8074778108885, 2031.9193450818202, 7211...</td>\n",
              "      <td>[-5618.272010686731, 2058.9450495182323, 4424....</td>\n",
              "    </tr>\n",
              "    <tr>\n",
              "      <th>7</th>\n",
              "      <td>8</td>\n",
              "      <td>[-11580.596792242868, 7446.082149997246, -1117...</td>\n",
              "      <td>[-5119.78931443198, 5414.162804915426, -18386....</td>\n",
              "    </tr>\n",
              "    <tr>\n",
              "      <th>8</th>\n",
              "      <td>9</td>\n",
              "      <td>[43971.91106239002, -531.0728704950106, -13339...</td>\n",
              "      <td>[55552.50785463289, -7977.155020492257, -12222...</td>\n",
              "    </tr>\n",
              "    <tr>\n",
              "      <th>9</th>\n",
              "      <td>10</td>\n",
              "      <td>[305361.22860074457, -99256.09077556073, -3207...</td>\n",
              "      <td>[261389.31753835455, -98725.01790506572, -1873...</td>\n",
              "    </tr>\n",
              "    <tr>\n",
              "      <th>10</th>\n",
              "      <td>11</td>\n",
              "      <td>[493739.26684346446, -340475.329683207, 622000...</td>\n",
              "      <td>[188378.0382427199, -241219.23890764624, 94271...</td>\n",
              "    </tr>\n",
              "    <tr>\n",
              "      <th>11</th>\n",
              "      <td>12</td>\n",
              "      <td>[-2265274.12375732, 106334.38213641057, 637126...</td>\n",
              "      <td>[-2759013.3906007847, 446809.71181961754, 5749...</td>\n",
              "    </tr>\n",
              "    <tr>\n",
              "      <th>12</th>\n",
              "      <td>13</td>\n",
              "      <td>[-14385446.249443762, 4824750.14359469, 141654...</td>\n",
              "      <td>[-12120172.125686442, 4718415.76145828, 779414...</td>\n",
              "    </tr>\n",
              "    <tr>\n",
              "      <th>13</th>\n",
              "      <td>14</td>\n",
              "      <td>[-20725212.624253113, 15496171.383334208, -337...</td>\n",
              "      <td>[-6339766.374809351, 10671421.239739519, -4790...</td>\n",
              "    </tr>\n",
              "    <tr>\n",
              "      <th>14</th>\n",
              "      <td>15</td>\n",
              "      <td>[115588046.44475417, -8859003.294411436, -3033...</td>\n",
              "      <td>[136313259.06900728, -24355174.677745644, -269...</td>\n",
              "    </tr>\n",
              "    <tr>\n",
              "      <th>15</th>\n",
              "      <td>16</td>\n",
              "      <td>[675597976.0535307, -233659431.03549594, -6204...</td>\n",
              "      <td>[560009929.6087766, -224800427.74108452, -3171...</td>\n",
              "    </tr>\n",
              "    <tr>\n",
              "      <th>16</th>\n",
              "      <td>17</td>\n",
              "      <td>[853002737.7622929, -701961574.7118251, 179538...</td>\n",
              "      <td>[177404761.70876217, -468302143.6763292, 24158...</td>\n",
              "    </tr>\n",
              "    <tr>\n",
              "      <th>17</th>\n",
              "      <td>18</td>\n",
              "      <td>[-5849655534.3577, 598813070.259795, 143980672...</td>\n",
              "      <td>[-6702658272.119993, 1300774644.97162, 1260268...</td>\n",
              "    </tr>\n",
              "    <tr>\n",
              "      <th>18</th>\n",
              "      <td>19</td>\n",
              "      <td>[-31629215064.949028, 11275832737.786518, 2691...</td>\n",
              "      <td>[-25779559530.591328, 10677019667.526724, 1251...</td>\n",
              "    </tr>\n",
              "    <tr>\n",
              "      <th>19</th>\n",
              "      <td>20</td>\n",
              "      <td>[-34203927115.623955, 31634766543.051495, -940...</td>\n",
              "      <td>[-2574712050.6749268, 20358933805.264977, -121...</td>\n",
              "    </tr>\n",
              "    <tr>\n",
              "      <th>20</th>\n",
              "      <td>21</td>\n",
              "      <td>[293919036578.6679, -36737970373.20715, -68129...</td>\n",
              "      <td>[328122963694.2919, -68372736916.25865, -58720...</td>\n",
              "    </tr>\n",
              "    <tr>\n",
              "      <th>21</th>\n",
              "      <td>22</td>\n",
              "      <td>[1476031632765.2295, -542290697383.1816, -1154...</td>\n",
              "      <td>[1182112596186.5615, -505552727009.9744, -4727...</td>\n",
              "    </tr>\n",
              "    <tr>\n",
              "      <th>22</th>\n",
              "      <td>23</td>\n",
              "      <td>[1322408019279.2607, -1417591774724.4194, 4870...</td>\n",
              "      <td>[-153623613485.96875, -875301077341.2378, 6024...</td>\n",
              "    </tr>\n",
              "    <tr>\n",
              "      <th>23</th>\n",
              "      <td>24</td>\n",
              "      <td>[-14674465282662.363, 2130236550002.3164, 3213...</td>\n",
              "      <td>[-15996873301941.625, 3547828324726.736, 27268...</td>\n",
              "    </tr>\n",
              "    <tr>\n",
              "      <th>24</th>\n",
              "      <td>25</td>\n",
              "      <td>[-68655040613452.766, 25994586455114.83, 48795...</td>\n",
              "      <td>[-53980575330790.41, 23864349905112.51, 166560...</td>\n",
              "    </tr>\n",
              "    <tr>\n",
              "      <th>25</th>\n",
              "      <td>26</td>\n",
              "      <td>[-48388324113878.69, 63123576198303.17, -24951...</td>\n",
              "      <td>[20266716499574.08, 37128989743188.34, -298312...</td>\n",
              "    </tr>\n",
              "    <tr>\n",
              "      <th>26</th>\n",
              "      <td>27</td>\n",
              "      <td>[728481777716847.6, -119011908271953.94, -1511...</td>\n",
              "      <td>[776870101830726.2, -182135484470257.12, -1261...</td>\n",
              "    </tr>\n",
              "    <tr>\n",
              "      <th>27</th>\n",
              "      <td>28</td>\n",
              "      <td>[3182513795325153.5, -1242050069635028.8, -202...</td>\n",
              "      <td>[2454032017608306.0, -1123038161363074.8, -515...</td>\n",
              "    </tr>\n",
              "    <tr>\n",
              "      <th>28</th>\n",
              "      <td>29</td>\n",
              "      <td>[1612119864289641.0, -2790828509049113.0, 1.26...</td>\n",
              "      <td>[-1570393931035512.5, -1548778439414084.2, 1.4...</td>\n",
              "    </tr>\n",
              "    <tr>\n",
              "      <th>29</th>\n",
              "      <td>30</td>\n",
              "      <td>[-3.597714024332239e+16, 6475028228294264.0, 7...</td>\n",
              "      <td>[-3.758926010761203e+16, 9265856737343376.0, 5...</td>\n",
              "    </tr>\n",
              "    <tr>\n",
              "      <th>30</th>\n",
              "      <td>31</td>\n",
              "      <td>[-1.4700386265454518e+17, 5.916013430042594e+1...</td>\n",
              "      <td>[-1.1102672241122278e+17, 5.268510607213167e+1...</td>\n",
              "    </tr>\n",
              "    <tr>\n",
              "      <th>31</th>\n",
              "      <td>32</td>\n",
              "      <td>[-4.402419656665865e+16, 1.2238471494213659e+1...</td>\n",
              "      <td>[1.0297966608788653e+17, 6.322458064171066e+16...</td>\n",
              "    </tr>\n",
              "    <tr>\n",
              "      <th>32</th>\n",
              "      <td>33</td>\n",
              "      <td>[1.76837024723695e+18, -3.453213817302856e+17,...</td>\n",
              "      <td>[1.8123944438036086e+18, -4.6770609667242214e+...</td>\n",
              "    </tr>\n",
              "    <tr>\n",
              "      <th>33</th>\n",
              "      <td>34</td>\n",
              "      <td>[6.765086629722298e+18, -2.8091338985401866e+1...</td>\n",
              "      <td>[4.996716382485348e+18, -2.463812516809901e+18...</td>\n",
              "    </tr>\n",
              "    <tr>\n",
              "      <th>34</th>\n",
              "      <td>35</td>\n",
              "      <td>[5.52010563640492e+17, -5.316092555453881e+18,...</td>\n",
              "      <td>[-6.213076066081806e+18, -2.5069586569136947e+...</td>\n",
              "    </tr>\n",
              "    <tr>\n",
              "      <th>35</th>\n",
              "      <td>36</td>\n",
              "      <td>[-8.653898231864694e+19, 1.8130199799093846e+1...</td>\n",
              "      <td>[-8.709099288228743e+19, 2.344629235454773e+19...</td>\n",
              "    </tr>\n",
              "    <tr>\n",
              "      <th>36</th>\n",
              "      <td>37</td>\n",
              "      <td>[-3.1010835825756386e+20, 1.329780034703356e+2...</td>\n",
              "      <td>[-2.235693759389169e+20, 1.1484780367124175e+2...</td>\n",
              "    </tr>\n",
              "    <tr>\n",
              "      <th>37</th>\n",
              "      <td>38</td>\n",
              "      <td>[4.633161233551491e+19, 2.2832820430062354e+20...</td>\n",
              "      <td>[3.564399705930788e+20, 9.535020083028794e+19,...</td>\n",
              "    </tr>\n",
              "    <tr>\n",
              "      <th>38</th>\n",
              "      <td>39</td>\n",
              "      <td>[4.217632594454056e+21, -9.398754799160284e+20...</td>\n",
              "      <td>[4.171300982118541e+21, -1.1682036842166519e+2...</td>\n",
              "    </tr>\n",
              "    <tr>\n",
              "      <th>39</th>\n",
              "      <td>40</td>\n",
              "      <td>[1.4155952040889788e+22, -6.275579176460517e+2...</td>\n",
              "      <td>[9.938319446435732e+21, -5.335703696544488e+21...</td>\n",
              "    </tr>\n",
              "    <tr>\n",
              "      <th>40</th>\n",
              "      <td>41</td>\n",
              "      <td>[-5.610160403779325e+21, -9.673433750878344e+2...</td>\n",
              "      <td>[-1.9766112444669114e+22, -3.3978545744178273e...</td>\n",
              "    </tr>\n",
              "    <tr>\n",
              "      <th>41</th>\n",
              "      <td>42</td>\n",
              "      <td>[-2.0476150815123805e+23, 4.821211164131398e+2...</td>\n",
              "      <td>[-1.9915134774745874e+23, 5.788554539219232e+2...</td>\n",
              "    </tr>\n",
              "    <tr>\n",
              "      <th>42</th>\n",
              "      <td>43</td>\n",
              "      <td>[-6.433048774042327e+23, 2.9524924827548365e+2...</td>\n",
              "      <td>[-4.385433692529946e+23, 2.4703713663416965e+2...</td>\n",
              "    </tr>\n",
              "    <tr>\n",
              "      <th>43</th>\n",
              "      <td>44</td>\n",
              "      <td>[4.261983074107584e+23, 4.02884146827779e+23, ...</td>\n",
              "      <td>[1.0695031848149911e+24, 1.0763489855229537e+2...</td>\n",
              "    </tr>\n",
              "    <tr>\n",
              "      <th>44</th>\n",
              "      <td>45</td>\n",
              "      <td>[9.904586886608654e+24, -2.451040748370069e+24...</td>\n",
              "      <td>[9.478388579197895e+24, -2.853924895197848e+24...</td>\n",
              "    </tr>\n",
              "    <tr>\n",
              "      <th>45</th>\n",
              "      <td>46</td>\n",
              "      <td>[2.9092744638461248e+25, -1.3847480434556093e+...</td>\n",
              "      <td>[1.9188157751852594e+25, -1.1396439686186024e+...</td>\n",
              "    </tr>\n",
              "    <tr>\n",
              "      <th>46</th>\n",
              "      <td>47</td>\n",
              "      <td>[-2.7702540892118753e+25, -1.6412944627286512e...</td>\n",
              "      <td>[-5.679528553058e+25, -2.565464192730419e+24, ...</td>\n",
              "    </tr>\n",
              "    <tr>\n",
              "      <th>47</th>\n",
              "      <td>48</td>\n",
              "      <td>[-4.7742286243729275e+26, 1.2364582380031154e+...</td>\n",
              "      <td>[-4.49720321545174e+26, 1.4005876842759805e+26...</td>\n",
              "    </tr>\n",
              "    <tr>\n",
              "      <th>48</th>\n",
              "      <td>49</td>\n",
              "      <td>[-1.30871379400211e+27, 6.474063825254925e+26,...</td>\n",
              "      <td>[-8.312909315648173e+26, 5.23760558725181e+26,...</td>\n",
              "    </tr>\n",
              "    <tr>\n",
              "      <th>49</th>\n",
              "      <td>50</td>\n",
              "      <td>[1.6629981614884656e+27, 6.489548691596904e+26...</td>\n",
              "      <td>[2.9717119554905757e+27, 1.5484866341978346e+2...</td>\n",
              "    </tr>\n",
              "  </tbody>\n",
              "</table>\n",
              "</div>\n",
              "      <button class=\"colab-df-convert\" onclick=\"convertToInteractive('df-d2a50084-23f6-44b8-ac46-c1c2bef57780')\"\n",
              "              title=\"Convert this dataframe to an interactive table.\"\n",
              "              style=\"display:none;\">\n",
              "        \n",
              "  <svg xmlns=\"http://www.w3.org/2000/svg\" height=\"24px\"viewBox=\"0 0 24 24\"\n",
              "       width=\"24px\">\n",
              "    <path d=\"M0 0h24v24H0V0z\" fill=\"none\"/>\n",
              "    <path d=\"M18.56 5.44l.94 2.06.94-2.06 2.06-.94-2.06-.94-.94-2.06-.94 2.06-2.06.94zm-11 1L8.5 8.5l.94-2.06 2.06-.94-2.06-.94L8.5 2.5l-.94 2.06-2.06.94zm10 10l.94 2.06.94-2.06 2.06-.94-2.06-.94-.94-2.06-.94 2.06-2.06.94z\"/><path d=\"M17.41 7.96l-1.37-1.37c-.4-.4-.92-.59-1.43-.59-.52 0-1.04.2-1.43.59L10.3 9.45l-7.72 7.72c-.78.78-.78 2.05 0 2.83L4 21.41c.39.39.9.59 1.41.59.51 0 1.02-.2 1.41-.59l7.78-7.78 2.81-2.81c.8-.78.8-2.07 0-2.86zM5.41 20L4 18.59l7.72-7.72 1.47 1.35L5.41 20z\"/>\n",
              "  </svg>\n",
              "      </button>\n",
              "      \n",
              "  <style>\n",
              "    .colab-df-container {\n",
              "      display:flex;\n",
              "      flex-wrap:wrap;\n",
              "      gap: 12px;\n",
              "    }\n",
              "\n",
              "    .colab-df-convert {\n",
              "      background-color: #E8F0FE;\n",
              "      border: none;\n",
              "      border-radius: 50%;\n",
              "      cursor: pointer;\n",
              "      display: none;\n",
              "      fill: #1967D2;\n",
              "      height: 32px;\n",
              "      padding: 0 0 0 0;\n",
              "      width: 32px;\n",
              "    }\n",
              "\n",
              "    .colab-df-convert:hover {\n",
              "      background-color: #E2EBFA;\n",
              "      box-shadow: 0px 1px 2px rgba(60, 64, 67, 0.3), 0px 1px 3px 1px rgba(60, 64, 67, 0.15);\n",
              "      fill: #174EA6;\n",
              "    }\n",
              "\n",
              "    [theme=dark] .colab-df-convert {\n",
              "      background-color: #3B4455;\n",
              "      fill: #D2E3FC;\n",
              "    }\n",
              "\n",
              "    [theme=dark] .colab-df-convert:hover {\n",
              "      background-color: #434B5C;\n",
              "      box-shadow: 0px 1px 3px 1px rgba(0, 0, 0, 0.15);\n",
              "      filter: drop-shadow(0px 1px 2px rgba(0, 0, 0, 0.3));\n",
              "      fill: #FFFFFF;\n",
              "    }\n",
              "  </style>\n",
              "\n",
              "      <script>\n",
              "        const buttonEl =\n",
              "          document.querySelector('#df-d2a50084-23f6-44b8-ac46-c1c2bef57780 button.colab-df-convert');\n",
              "        buttonEl.style.display =\n",
              "          google.colab.kernel.accessAllowed ? 'block' : 'none';\n",
              "\n",
              "        async function convertToInteractive(key) {\n",
              "          const element = document.querySelector('#df-d2a50084-23f6-44b8-ac46-c1c2bef57780');\n",
              "          const dataTable =\n",
              "            await google.colab.kernel.invokeFunction('convertToInteractive',\n",
              "                                                     [key], {});\n",
              "          if (!dataTable) return;\n",
              "\n",
              "          const docLinkHtml = 'Like what you see? Visit the ' +\n",
              "            '<a target=\"_blank\" href=https://colab.research.google.com/notebooks/data_table.ipynb>data table notebook</a>'\n",
              "            + ' to learn more about interactive tables.';\n",
              "          element.innerHTML = '';\n",
              "          dataTable['output_type'] = 'display_data';\n",
              "          await google.colab.output.renderOutput(dataTable, element);\n",
              "          const docLink = document.createElement('div');\n",
              "          docLink.innerHTML = docLinkHtml;\n",
              "          element.appendChild(docLink);\n",
              "        }\n",
              "      </script>\n",
              "    </div>\n",
              "  </div>\n",
              "  "
            ],
            "text/plain": [
              "   Iteración                                                  x  \\\n",
              "0          1  [3.500000000000001, 1.5, 4.666666666666666, -1...   \n",
              "1          2  [-2.197916666666665, 3.170138888888887, -1.233...   \n",
              "2          3  [18.6454716435185, 0.25286940586419515, -55.50...   \n",
              "3          4  [138.28198794769148, -42.956597054773205, -158...   \n",
              "4          5  [269.8268679430017, -163.95412648565377, 196.6...   \n",
              "5          6  [-842.5354671241574, -27.025704436412013, 2786...   \n",
              "6          7  [-6460.8074778108885, 2031.9193450818202, 7211...   \n",
              "7          8  [-11580.596792242868, 7446.082149997246, -1117...   \n",
              "8          9  [43971.91106239002, -531.0728704950106, -13339...   \n",
              "9         10  [305361.22860074457, -99256.09077556073, -3207...   \n",
              "10        11  [493739.26684346446, -340475.329683207, 622000...   \n",
              "11        12  [-2265274.12375732, 106334.38213641057, 637126...   \n",
              "12        13  [-14385446.249443762, 4824750.14359469, 141654...   \n",
              "13        14  [-20725212.624253113, 15496171.383334208, -337...   \n",
              "14        15  [115588046.44475417, -8859003.294411436, -3033...   \n",
              "15        16  [675597976.0535307, -233659431.03549594, -6204...   \n",
              "16        17  [853002737.7622929, -701961574.7118251, 179538...   \n",
              "17        18  [-5849655534.3577, 598813070.259795, 143980672...   \n",
              "18        19  [-31629215064.949028, 11275832737.786518, 2691...   \n",
              "19        20  [-34203927115.623955, 31634766543.051495, -940...   \n",
              "20        21  [293919036578.6679, -36737970373.20715, -68129...   \n",
              "21        22  [1476031632765.2295, -542290697383.1816, -1154...   \n",
              "22        23  [1322408019279.2607, -1417591774724.4194, 4870...   \n",
              "23        24  [-14674465282662.363, 2130236550002.3164, 3213...   \n",
              "24        25  [-68655040613452.766, 25994586455114.83, 48795...   \n",
              "25        26  [-48388324113878.69, 63123576198303.17, -24951...   \n",
              "26        27  [728481777716847.6, -119011908271953.94, -1511...   \n",
              "27        28  [3182513795325153.5, -1242050069635028.8, -202...   \n",
              "28        29  [1612119864289641.0, -2790828509049113.0, 1.26...   \n",
              "29        30  [-3.597714024332239e+16, 6475028228294264.0, 7...   \n",
              "30        31  [-1.4700386265454518e+17, 5.916013430042594e+1...   \n",
              "31        32  [-4.402419656665865e+16, 1.2238471494213659e+1...   \n",
              "32        33  [1.76837024723695e+18, -3.453213817302856e+17,...   \n",
              "33        34  [6.765086629722298e+18, -2.8091338985401866e+1...   \n",
              "34        35  [5.52010563640492e+17, -5.316092555453881e+18,...   \n",
              "35        36  [-8.653898231864694e+19, 1.8130199799093846e+1...   \n",
              "36        37  [-3.1010835825756386e+20, 1.329780034703356e+2...   \n",
              "37        38  [4.633161233551491e+19, 2.2832820430062354e+20...   \n",
              "38        39  [4.217632594454056e+21, -9.398754799160284e+20...   \n",
              "39        40  [1.4155952040889788e+22, -6.275579176460517e+2...   \n",
              "40        41  [-5.610160403779325e+21, -9.673433750878344e+2...   \n",
              "41        42  [-2.0476150815123805e+23, 4.821211164131398e+2...   \n",
              "42        43  [-6.433048774042327e+23, 2.9524924827548365e+2...   \n",
              "43        44  [4.261983074107584e+23, 4.02884146827779e+23, ...   \n",
              "44        45  [9.904586886608654e+24, -2.451040748370069e+24...   \n",
              "45        46  [2.9092744638461248e+25, -1.3847480434556093e+...   \n",
              "46        47  [-2.7702540892118753e+25, -1.6412944627286512e...   \n",
              "47        48  [-4.7742286243729275e+26, 1.2364582380031154e+...   \n",
              "48        49  [-1.30871379400211e+27, 6.474063825254925e+26,...   \n",
              "49        50  [1.6629981614884656e+27, 6.489548691596904e+26...   \n",
              "\n",
              "                                                error  \n",
              "0   [3.500000000000001, 1.5, 4.666666666666666, -1...  \n",
              "1   [-5.697916666666666, 1.670138888888887, -5.900...  \n",
              "2   [20.843388310185166, -2.917269483024692, -54.2...  \n",
              "3   [119.63651630417297, -43.2094664606374, -102.8...  \n",
              "4   [131.5448799953102, -120.99752943088058, 355.0...  \n",
              "5   [-1112.3623350671592, 136.92842204924176, 2590...  \n",
              "6   [-5618.272010686731, 2058.9450495182323, 4424....  \n",
              "7   [-5119.78931443198, 5414.162804915426, -18386....  \n",
              "8   [55552.50785463289, -7977.155020492257, -12222...  \n",
              "9   [261389.31753835455, -98725.01790506572, -1873...  \n",
              "10  [188378.0382427199, -241219.23890764624, 94271...  \n",
              "11  [-2759013.3906007847, 446809.71181961754, 5749...  \n",
              "12  [-12120172.125686442, 4718415.76145828, 779414...  \n",
              "13  [-6339766.374809351, 10671421.239739519, -4790...  \n",
              "14  [136313259.06900728, -24355174.677745644, -269...  \n",
              "15  [560009929.6087766, -224800427.74108452, -3171...  \n",
              "16  [177404761.70876217, -468302143.6763292, 24158...  \n",
              "17  [-6702658272.119993, 1300774644.97162, 1260268...  \n",
              "18  [-25779559530.591328, 10677019667.526724, 1251...  \n",
              "19  [-2574712050.6749268, 20358933805.264977, -121...  \n",
              "20  [328122963694.2919, -68372736916.25865, -58720...  \n",
              "21  [1182112596186.5615, -505552727009.9744, -4727...  \n",
              "22  [-153623613485.96875, -875301077341.2378, 6024...  \n",
              "23  [-15996873301941.625, 3547828324726.736, 27268...  \n",
              "24  [-53980575330790.41, 23864349905112.51, 166560...  \n",
              "25  [20266716499574.08, 37128989743188.34, -298312...  \n",
              "26  [776870101830726.2, -182135484470257.12, -1261...  \n",
              "27  [2454032017608306.0, -1123038161363074.8, -515...  \n",
              "28  [-1570393931035512.5, -1548778439414084.2, 1.4...  \n",
              "29  [-3.758926010761203e+16, 9265856737343376.0, 5...  \n",
              "30  [-1.1102672241122278e+17, 5.268510607213167e+1...  \n",
              "31  [1.0297966608788653e+17, 6.322458064171066e+16...  \n",
              "32  [1.8123944438036086e+18, -4.6770609667242214e+...  \n",
              "33  [4.996716382485348e+18, -2.463812516809901e+18...  \n",
              "34  [-6.213076066081806e+18, -2.5069586569136947e+...  \n",
              "35  [-8.709099288228743e+19, 2.344629235454773e+19...  \n",
              "36  [-2.235693759389169e+20, 1.1484780367124175e+2...  \n",
              "37  [3.564399705930788e+20, 9.535020083028794e+19,...  \n",
              "38  [4.171300982118541e+21, -1.1682036842166519e+2...  \n",
              "39  [9.938319446435732e+21, -5.335703696544488e+21...  \n",
              "40  [-1.9766112444669114e+22, -3.3978545744178273e...  \n",
              "41  [-1.9915134774745874e+23, 5.788554539219232e+2...  \n",
              "42  [-4.385433692529946e+23, 2.4703713663416965e+2...  \n",
              "43  [1.0695031848149911e+24, 1.0763489855229537e+2...  \n",
              "44  [9.478388579197895e+24, -2.853924895197848e+24...  \n",
              "45  [1.9188157751852594e+25, -1.1396439686186024e+...  \n",
              "46  [-5.679528553058e+25, -2.565464192730419e+24, ...  \n",
              "47  [-4.49720321545174e+26, 1.4005876842759805e+26...  \n",
              "48  [-8.312909315648173e+26, 5.23760558725181e+26,...  \n",
              "49  [2.9717119554905757e+27, 1.5484866341978346e+2...  "
            ]
          },
          "execution_count": 65,
          "metadata": {},
          "output_type": "execute_result"
        }
      ],
      "source": [
        "pd.DataFrame(np.array(table), columns=['Iteración', 'x', 'error'])"
      ]
    },
    {
      "cell_type": "markdown",
      "metadata": {
        "id": "_LZQn5631w7L"
      },
      "source": [
        "<div align=\"center\">\n",
        "    Tabla 12. Gauss-Seidel - matriz 5x5\n",
        "</div>"
      ]
    },
    {
      "cell_type": "code",
      "execution_count": null,
      "metadata": {
        "colab": {
          "base_uri": "https://localhost:8080/",
          "height": 279
        },
        "id": "T_jKgvA11w7L",
        "outputId": "adf2cc04-7e14-433a-ca87-ec6ad420e70f"
      },
      "outputs": [
        {
          "data": {
            "image/png": "[encoded data removed]",
            "text/plain": [
              "<Figure size 432x288 with 1 Axes>"
            ]
          },
          "metadata": {
            "needs_background": "light"
          },
          "output_type": "display_data"
        }
      ],
      "source": [
        "benchmarking.append([times, 'Seidel'])\n",
        "\n",
        "plt.plot([2, 3, 4, 5], times, linewidth=2.0)\n",
        "plt.plot([2, 3, 4, 5], times, 'o', linewidth=2.0)\n",
        "\n",
        "plt.xlabel('dimensiones (n x n)')\n",
        "plt.ylabel('tiempos (s)')\n",
        "plt.grid()\n",
        "plt.show()"
      ]
    },
    {
      "cell_type": "markdown",
      "metadata": {
        "id": "6d8gtqHT1w7L"
      },
      "source": [
        "<div align=\"center\">\n",
        "    Gráfica 5. Gauss-Seidel - tiempos\n",
        "</div>"
      ]
    },
    {
      "cell_type": "markdown",
      "metadata": {
        "id": "7dNags_BFCcY"
      },
      "source": [
        "### 3.2. Benchmarking"
      ]
    },
    {
      "cell_type": "code",
      "execution_count": null,
      "metadata": {
        "colab": {
          "base_uri": "https://localhost:8080/",
          "height": 279
        },
        "id": "pxgFnAxAFOKl",
        "outputId": "876f8896-1000-4d7f-bea0-266c57e7d7f1"
      },
      "outputs": [
        {
          "data": {
            "image/png": "[encoded data removed]",
            "text/plain": [
              "<Figure size 432x288 with 1 Axes>"
            ]
          },
          "metadata": {
            "needs_background": "light"
          },
          "output_type": "display_data"
        }
      ],
      "source": [
        "for bench in benchmarking:\n",
        "    plt.plot([2, 3, 4, 5], bench[0], label=bench[1])\n",
        "    plt.plot([2, 3, 4, 5], bench[0], 'o')\n",
        "\n",
        "plt.xlabel('dimensiones (n x n)')\n",
        "plt.ylabel('tiempos (s)')\n",
        "plt.grid()\n",
        "plt.legend()\n",
        "plt.show()"
      ]
    },
    {
      "cell_type": "markdown",
      "metadata": {
        "id": "vgeI6zIUFCQN"
      },
      "source": [
        "<div align=\"center\">\n",
        "    Gráfica 6. Benchmarking - tiempos\n",
        "</div>"
      ]
    },
    {
      "cell_type": "markdown",
      "metadata": {
        "id": "w5cbzI-FJkt9"
      },
      "source": [
        "## 4. Conclusiones"
      ]
    },
    {
      "cell_type": "markdown",
      "metadata": {
        "id": "OddkHgNZTOhi"
      },
      "source": [
        "Si algo se debe tener en cuenta en este informe es el error, y como este se correlaciona este con el tiempo y el performance.\n",
        "\n",
        "Analizando cada uno de los cinco métodos empleados en este informe, nos damos cuenta de las similitudes y diferencias que existen entres sus respectivos algoritmos, algunos de estos usan técnicas de pivote, de recorridos forward y backward, incluso hasta el uso de ambos o como otros que emplean el uso del error.\n",
        "\n",
        "Así el error no se calcule en la mayoría de este método, no significa que exentos de este, ya que sus resultados por muy aproximados que sean a sus valores esperado poseen un grado mínimo de error.\n",
        "\n",
        "De los cinco métodos empleados, Gauss fue el más aproximado al resultado esperado, pero con performance muy pobre comparado con los otros métodos, ya que en tiempo es uno de los que más tarde y en cantidad de pasos empleado puede llegar a usar el doble de pasos que usa el método Gauss-Jordan en el peor de los casos, aunque esa cantidad se va estandarizando entre estos dos métodos a medida que aumenta la dimensión de la matriz a calcular.\n",
        "\n",
        "El método Gauss-Jordan mostró tener un performance en tiempo relativamente mejor a los otros métodos, pero es el método que en sus resultados da la aproximación más lejana, aunque mínima esta.\n",
        "\n",
        "El método de descomposición LU también demostró ser muy eficiente en términos de tiempo y su resultado tienen la aproximación muy cercana, después de Gauss, también se caracterizó porque su aproximación fue por la derecha del resultado y no por la izquierda como es regular en los otros métodos.\n",
        "\n",
        "Respecto al método de Gauss-Seidel, sus parámetros de tolerancia de error y máximo de iteración se manipularon múltiples veces para buscar la convergencia del sistema de ecuaciones dado, pero no fue posible llegar a ese punto deseado, lo que nos hace pensar que el algoritmo usado no es conveniente y debería no solo modificarse, sino reemplazarse por uno apropiado.\n"
      ]
    },
    {
      "cell_type": "markdown",
      "metadata": {
        "id": "rPyi2FQ4Jo08"
      },
      "source": [
        "## 5. Referencias"
      ]
    },
    {
      "cell_type": "markdown",
      "metadata": {
        "id": "xCrvsgArJsvV"
      },
      "source": [
        "* [Gaussian Elimination Using Pivoting in Python](https://www.delftstack.com/howto/python/gaussian-elimination-using-pivoting/)\n",
        "* [Gauss Jordan Method Python Program (With Output)](https://www.codesansar.com/numerical-methods/gauss-jordan-method-python-program-output.htm)\n",
        "* [Gauss-Jordan Method Tutorial - Step-By-Step Theory & Coding | Numerical Computing with Python](https://youtu.be/xOLJMKGNivU)\n",
        "* [Python Programming - Gauss Seidel Method | Linear Algebra](https://youtu.be/c6Ng-_Kf2KM)\n",
        "* [Python : Décomposition LU](https://youtu.be/lhPh5Gp2RNg)\n",
        "* [How to implement LU decomposition with partial pivoting in Python?](https://stackoverflow.com/questions/28441509/how-to-implement-lu-decomposition-with-partial-pivoting-in-python)\n",
        "* [Resolución de sistemas de tres ecuaciones por matriz inversa](https://youtu.be/DnLfqXGgEtw)"
      ]
    }
  ],
  "metadata": {
    "colab": {
      "collapsed_sections": [],
      "provenance": []
    },
    "kernelspec": {
      "display_name": "Python 3.10.8 ('venv': venv)",
      "language": "python",
      "name": "python3"
    },
    "language_info": {
      "name": "python",
      "version": "3.10.8"
    },
    "vscode": {
      "interpreter": {
        "hash": "1dc376ffec5caecdc0a86d966f5e97e45537af940d2aef553cd87bae54f46a19"
      }
    }
  },
  "nbformat": 4,
  "nbformat_minor": 0
}
