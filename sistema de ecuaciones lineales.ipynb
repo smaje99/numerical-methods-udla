{
 "cells": [
  {
   "cell_type": "markdown",
   "metadata": {},
   "source": [
    "<div align=\"center\">\n",
    "    <h1>Sistema de Ecuaciones Lineales</h1>\n",
    "    <p>\n",
    "        Autores:</br>\n",
    "        Sergio Andrés Majé Franco</br>\n",
    "        Marleny Rojas Gómez</br>\n",
    "    </p>\n",
    "    <p>\n",
    "        Docente:</br>\n",
    "        Dr. Jesús Emilio Pinto Lopera</br>\n",
    "    </p>\n",
    "    <p>\n",
    "        Universidad de la Amazonia</br>\n",
    "        Facultad de Ingeniería</br>\n",
    "        Programa Ingeniería de Sistemas</br>\n",
    "        Florencia - Caquetá</br>\n",
    "        2022</br>\n",
    "    </p>\n",
    "</div>"
   ]
  },
  {
   "cell_type": "markdown",
   "metadata": {},
   "source": [
    "## Tabla de Contenido"
   ]
  },
  {
   "cell_type": "markdown",
   "metadata": {},
   "source": [
    "1. Introducción\n",
    "2. Desarrollo Metodológico\n",
    "    1. Desarrollo Teórico\n",
    "        1. Método de Eliminación Gauss Simple\n",
    "        2. Método de de Gauss-Jordan\n",
    "        3. Descomposición LU\n",
    "        4. Inversión de Matrices\n",
    "        5. Método de Gauss-Seidel\n",
    "        6. Método de Jacobs\n",
    "    2. Desarrollo Computacional\n",
    "        1. Método de Eliminación Gauss Simple\n",
    "        2. Método de de Gauss-Jordan\n",
    "        3. Descomposición LU\n",
    "        4. Inversión de Matrices\n",
    "        5. Método de Gauss-Seidel\n",
    "        6. Método de Jacobs\n",
    "3. Resultados\n",
    "4. Conclusiones"
   ]
  },
  {
   "cell_type": "markdown",
   "metadata": {},
   "source": [
    "## Tabla de Gráficos"
   ]
  },
  {
   "cell_type": "markdown",
   "metadata": {},
   "source": [
    "## Tabla de Formulas"
   ]
  },
  {
   "cell_type": "markdown",
   "metadata": {},
   "source": [
    "## 1. Introducción"
   ]
  },
  {
   "cell_type": "markdown",
   "metadata": {},
   "source": [
    "## 2. Desarrollo Metodológico"
   ]
  },
  {
   "cell_type": "markdown",
   "metadata": {},
   "source": [
    "### 2.1 Desarrollo Teórico"
   ]
  },
  {
   "cell_type": "markdown",
   "metadata": {},
   "source": [
    "#### 2.1.1 Método de Eliminación Gauss Simple"
   ]
  },
  {
   "cell_type": "markdown",
   "metadata": {},
   "source": [
    "#### 2.1.2 Método Gauss-Jordan"
   ]
  },
  {
   "cell_type": "markdown",
   "metadata": {},
   "source": [
    "#### 2.1.3 Descomposición LU"
   ]
  },
  {
   "cell_type": "markdown",
   "metadata": {},
   "source": [
    "#### 2.1.4 Inversión de Matrices"
   ]
  },
  {
   "cell_type": "markdown",
   "metadata": {},
   "source": [
    "#### 2.1.5 Método Gauss-Seidel"
   ]
  },
  {
   "cell_type": "markdown",
   "metadata": {},
   "source": [
    "#### 2.1.6 Método de Jacobs"
   ]
  },
  {
   "cell_type": "markdown",
   "metadata": {},
   "source": [
    "### 2.2 Desarrollo Computacional"
   ]
  },
  {
   "cell_type": "markdown",
   "metadata": {},
   "source": [
    "Para el desarrollo de computacional relacionado a este informe se uso el lenguaje de programación Python 3.10.7 y las siguientes librerías:\n",
    "\n",
    "* time\n",
    "* numpy"
   ]
  },
  {
   "cell_type": "code",
   "execution_count": 3,
   "metadata": {},
   "outputs": [],
   "source": [
    "import time\n",
    "\n",
    "import numpy as np"
   ]
  },
  {
   "cell_type": "markdown",
   "metadata": {},
   "source": [
    "Para medir el tiempo transcurrido de los algoritmos y funciones que se implementan en este informe se empleo la función decorador ```count_elapsed_time()```."
   ]
  },
  {
   "cell_type": "code",
   "execution_count": 2,
   "metadata": {},
   "outputs": [],
   "source": [
    "def count_elapsed_time(func):\n",
    "    '''\n",
    "    Decorador.\n",
    "    Ejecuta la función y calcula el tiempo transcurrido.\n",
    "    Retorna el resultado de la función y el tiempo transcurrido.\n",
    "    '''\n",
    "    def wrapper():\n",
    "        start_time = time()\n",
    "        ret = func()\n",
    "        elapsed_time = time() - start_time\n",
    "        return (ret, elapsed_time)\n",
    "\n",
    "    return wrapper"
   ]
  },
  {
   "cell_type": "markdown",
   "metadata": {},
   "source": [
    "El método ```solve``` dará solución al sistema de ecuaciones $ A \\cdot x = b $ mediante el método de desarrollo especificado."
   ]
  },
  {
   "cell_type": "code",
   "execution_count": 4,
   "metadata": {},
   "outputs": [],
   "source": [
    "def solve(A: np.array, b: np.array, method) -> np.array:\n",
    "    '''Resuelve un sistema de ecuaciones Ax = b, por medio del método dado.\n",
    "\n",
    "    Args:\n",
    "        A (np.array): Matriz A.\n",
    "        b (np.array): Matriz b.\n",
    "        method (function): Método para resolve el sistema de ecuaciones.\n",
    "\n",
    "    Raises:\n",
    "        ValueError: Las filas y columnas de la matriz A deben ser iguales.\n",
    "        ValueError: El tamaño de la matriz b debe coincidir con el de la matriz A.\n",
    "\n",
    "    Returns:\n",
    "        np.array: Matriz x. solución del sistema de ecuaciones.\n",
    "    '''\n",
    "    if any(map(lambda a: len(A) != len(a), A)):\n",
    "        raise ValueError('Las filas y columnas de la matriz A deben ser iguales.')\n",
    "\n",
    "    if len(A) != len(b):\n",
    "        raise ValueError(f'El tamaño matriz b debe ser de {len(A)}')\n",
    "\n",
    "    return method(A, b)"
   ]
  },
  {
   "cell_type": "markdown",
   "metadata": {},
   "source": [
    "#### 2.2.1 Método de Eliminación de Gauss Simple"
   ]
  },
  {
   "cell_type": "markdown",
   "metadata": {},
   "source": [
    "#### 2.2.2 Método de Gauss-Jordan"
   ]
  },
  {
   "cell_type": "markdown",
   "metadata": {},
   "source": [
    "#### 2.2.3 Descomposición LU"
   ]
  },
  {
   "cell_type": "markdown",
   "metadata": {},
   "source": [
    "#### 2.2.4 Inversión de Matrices"
   ]
  },
  {
   "cell_type": "markdown",
   "metadata": {},
   "source": [
    "#### 2.2.5 Método de Gauss-Seidel"
   ]
  },
  {
   "cell_type": "markdown",
   "metadata": {},
   "source": [
    "#### 2.2.6 Método de Jacobs"
   ]
  },
  {
   "cell_type": "markdown",
   "metadata": {},
   "source": [
    "## 3. Resultados"
   ]
  },
  {
   "cell_type": "markdown",
   "metadata": {},
   "source": [
    "## 4. Conclusiones"
   ]
  }
 ],
 "metadata": {
  "kernelspec": {
   "display_name": "Python 3.10.7 ('venv': venv)",
   "language": "python",
   "name": "python3"
  },
  "language_info": {
   "codemirror_mode": {
    "name": "ipython",
    "version": 3
   },
   "file_extension": ".py",
   "mimetype": "text/x-python",
   "name": "python",
   "nbconvert_exporter": "python",
   "pygments_lexer": "ipython3",
   "version": "3.10.8"
  },
  "orig_nbformat": 4,
  "vscode": {
   "interpreter": {
    "hash": "1dc376ffec5caecdc0a86d966f5e97e45537af940d2aef553cd87bae54f46a19"
   }
  }
 },
 "nbformat": 4,
 "nbformat_minor": 2
}
