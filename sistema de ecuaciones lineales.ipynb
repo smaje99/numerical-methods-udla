{
 "cells": [
  {
   "cell_type": "markdown",
   "metadata": {},
   "source": [
    "<div align=\"center\">\n",
    "    <h1>Sistema de Ecuaciones Lineales</h1>\n",
    "    <p>\n",
    "        Autores:</br>\n",
    "        Sergio Andrés Majé Franco</br>\n",
    "        Marleny Rojas Gómez</br>\n",
    "    </p>\n",
    "    <p>\n",
    "        Docente:</br>\n",
    "        Dr. Jesús Emilio Pinto Lopera</br>\n",
    "    </p>\n",
    "    <p>\n",
    "        Universidad de la Amazonia</br>\n",
    "        Facultad de Ingeniería</br>\n",
    "        Programa Ingeniería de Sistemas</br>\n",
    "        Florencia - Caquetá</br>\n",
    "        2022</br>\n",
    "    </p>\n",
    "</div>"
   ]
  },
  {
   "cell_type": "markdown",
   "metadata": {},
   "source": [
    "## Tabla de Contenido"
   ]
  },
  {
   "cell_type": "markdown",
   "metadata": {},
   "source": [
    "1. Introducción\n",
    "2. Desarrollo Metodológico\n",
    "    1. Desarrollo Teórico\n",
    "        1. Método de Eliminación Gauss\n",
    "            1. Eliminación Gaussiana con pivote\n",
    "        2. Método de de Gauss-Jordan\n",
    "        3. Descomposición LU\n",
    "        4. Inversión de Matrices\n",
    "        5. Método de Gauss-Seidel\n",
    "        6. Método de Jacobs\n",
    "    2. Desarrollo Computacional\n",
    "        1. Método de Eliminación Gauss\n",
    "        2. Método de de Gauss-Jordan\n",
    "        3. Descomposición LU\n",
    "        4. Inversión de Matrices\n",
    "        5. Método de Gauss-Seidel\n",
    "        6. Método de Jacobs\n",
    "3. Resultados\n",
    "4. Conclusiones\n",
    "5. Referencias"
   ]
  },
  {
   "cell_type": "markdown",
   "metadata": {},
   "source": [
    "## Tabla de Formulas"
   ]
  },
  {
   "cell_type": "markdown",
   "metadata": {},
   "source": [
    "1. Formula 1. Eliminación Gaussiana con pivote - Eliminación hacia adelante\n",
    "2. Formula 2. Eliminación Gaussiana con pivote - Sustitución hacia atrás"
   ]
  },
  {
   "cell_type": "markdown",
   "metadata": {},
   "source": [
    "## Tabla de Gráficos"
   ]
  },
  {
   "cell_type": "markdown",
   "metadata": {},
   "source": [
    "## Tabla de Tablas"
   ]
  },
  {
   "cell_type": "markdown",
   "metadata": {},
   "source": [
    "## 1. Introducción"
   ]
  },
  {
   "cell_type": "markdown",
   "metadata": {},
   "source": [
    "## 2. Desarrollo Metodológico"
   ]
  },
  {
   "cell_type": "markdown",
   "metadata": {},
   "source": [
    "### 2.1 Desarrollo Teórico"
   ]
  },
  {
   "cell_type": "markdown",
   "metadata": {},
   "source": [
    "#### 2.1.1 Método de Eliminación Gauss"
   ]
  },
  {
   "cell_type": "markdown",
   "metadata": {},
   "source": [
    "La eliminación gaussiana también se conoce como el método de reducción de filas. Es un algoritmo comúnmente utilizado para resolver problemas lineales. El algoritmo implica una serie de operaciones de fila en una matriz de coeficientes extraídos de las ecuaciones lineales hasta que la matriz se reduce a la forma escalonada.\n",
    "\n",
    "Las siguientes tres operaciones se realizan cuando se transforma una matriz en una forma escalonada. Éstos incluyen:\n",
    "\n",
    "* Multiplicar una fila por un escalar y sumarlo o restarlo de otra fila.\n",
    "* Intercambio de filas.\n",
    "* Multiplicar filas con un escalar.\n",
    "\n",
    "Una matriz está en forma escalonada de filas si el primer elemento de cada fila, también conocido como la entrada inicial, es un cero; la entrada inicial de cada fila está una columna a la derecha de la entrada inicial de la fila anterior. Además, las filas con elementos cero deben estar debajo de los elementos que tienen filas distintas de cero.\n",
    "\n",
    "Las operaciones de fila se clasifican en gran medida en dos. La eliminación directa implica reducir una matriz a forma escalonada para determinar si existe una solución viable y si es finita o infinita. Por otro lado, la sustitución hacia atrás reduce aún más la matriz a la forma escalonada reducida por filas."
   ]
  },
  {
   "cell_type": "markdown",
   "metadata": {},
   "source": [
    "##### 2.1.1.1 Eliminación Gaussiana con pivote"
   ]
  },
  {
   "cell_type": "markdown",
   "metadata": {},
   "source": [
    "$$ A_k = A_k - A_i \\cdot \\frac{a_{k, i}}{a_{i, i}} $$\n",
    "\n",
    "<div align=\"center\">\n",
    "    Formula 1. Eliminación Gaussiana con pivote - Eliminación hacia adelante\n",
    "</div>"
   ]
  },
  {
   "cell_type": "markdown",
   "metadata": {},
   "source": [
    "$$ x_i = \\frac{b^{(i - 1)}_{i} - \\sum^{n}_{j = i + 1} A^{(i - 1)}_{i, j} \\cdot x_j}{A^{(i - 1)}_{i, i}} $$\n",
    "\n",
    "<div align=\"center\">\n",
    "    Formula 2. Eliminación Gaussiana con pivote - Sustitución hacia atrás\n",
    "</div>"
   ]
  },
  {
   "cell_type": "markdown",
   "metadata": {},
   "source": [
    "Pivotar es el intercambio de filas y columnas para obtener el elemento de pivote adecuado. Un elemento de pivote adecuado debe ser distinto de cero y significativamente grande pero más pequeño en comparación con las otras entradas de la fila.\n",
    "\n",
    "El pivote se clasifica en pivote parcial y pivote completo. Bajo el algoritmo de pivote parcial, el elemento más grande se considera el elemento pivote para minimizar los errores de redondeo.\n",
    "\n",
    "Por otro lado, el pivoteo completo incluye el intercambio de filas y columnas para obtener el mejor elemento de pivote, aumentando así la precisión.\n",
    "\n",
    "Un conjunto de ecuaciones se considera lineal si ninguna variable tiene un exponente de más de uno. La eliminación gaussiana implica una serie de pasos; el primer paso consiste en crear una matriz de coeficientes.\n",
    "\n",
    "Una matriz de coeficientes es simplemente una matriz de coeficientes extraídos de un conjunto de ecuaciones lineales. El siguiente paso consiste en crear una matriz aumentada que luego se somete a una serie de operaciones que la reducen a una forma escalonada.\n",
    "\n",
    "Sin embargo, en los casos en que el elemento pivote sea cero o de muy pequeña magnitud, tenemos que intercambiar la fila pivote con una fila inferior.\n",
    "\n",
    "Luego podemos leer el contenido de la matriz aumentada, aplicar el método de eliminación, sustitución hacia atrás y finalmente mostrar la respuesta."
   ]
  },
  {
   "cell_type": "markdown",
   "metadata": {},
   "source": [
    "#### 2.1.2 Método Gauss-Jordan"
   ]
  },
  {
   "cell_type": "markdown",
   "metadata": {},
   "source": [
    "#### 2.1.3 Descomposición LU"
   ]
  },
  {
   "cell_type": "markdown",
   "metadata": {},
   "source": [
    "#### 2.1.4 Inversión de Matrices"
   ]
  },
  {
   "cell_type": "markdown",
   "metadata": {},
   "source": [
    "#### 2.1.5 Método Gauss-Seidel"
   ]
  },
  {
   "cell_type": "markdown",
   "metadata": {},
   "source": [
    "#### 2.1.6 Método de Jacobs"
   ]
  },
  {
   "cell_type": "markdown",
   "metadata": {},
   "source": [
    "### 2.2 Desarrollo Computacional"
   ]
  },
  {
   "cell_type": "markdown",
   "metadata": {},
   "source": [
    "Para el desarrollo de computacional relacionado a este informe se uso el lenguaje de programación Python 3.10.7 y las siguientes librerías:\n",
    "\n",
    "* timeit\n",
    "* numpy\n",
    "* pandas"
   ]
  },
  {
   "cell_type": "code",
   "execution_count": 1,
   "metadata": {},
   "outputs": [],
   "source": [
    "from timeit import default_timer as timer\n",
    "\n",
    "import numpy as np\n",
    "import pandas as pd"
   ]
  },
  {
   "cell_type": "markdown",
   "metadata": {},
   "source": [
    "Para medir el tiempo transcurrido de los algoritmos y funciones que se implementan en este informe se empleo la función decorador ```count_elapsed_time()```."
   ]
  },
  {
   "cell_type": "code",
   "execution_count": 2,
   "metadata": {},
   "outputs": [],
   "source": [
    "def count_elapsed_time(func):\n",
    "    '''\n",
    "    Decorador.\n",
    "    Ejecuta la función y calcula el tiempo transcurrido.\n",
    "    Retorna el resultado de la función y el tiempo transcurrido.\n",
    "    '''\n",
    "    def wrapper(*args, **kwargs):\n",
    "        start_time = timer()\n",
    "        ret = func(*args, **kwargs)\n",
    "        elapsed_time = timer() - start_time\n",
    "        return (ret, elapsed_time)\n",
    "\n",
    "    return wrapper"
   ]
  },
  {
   "cell_type": "markdown",
   "metadata": {},
   "source": [
    "El método ```solve``` dará solución al sistema de ecuaciones $ A \\cdot x = b $ mediante el método de desarrollo especificado."
   ]
  },
  {
   "cell_type": "code",
   "execution_count": 3,
   "metadata": {},
   "outputs": [],
   "source": [
    "@count_elapsed_time\n",
    "def solve(A: np.array, b: np.array, method, table: list) -> np.array:\n",
    "    '''Resuelve un sistema de ecuaciones Ax = b, por medio del método dado.\n",
    "\n",
    "    Args:\n",
    "        A (np.array): Matriz A.\n",
    "        b (np.array): Matriz b.\n",
    "        method (function): Método para resolve el sistema de ecuaciones.\n",
    "        table (list): Recolección de datos del procedimiento.\n",
    "\n",
    "    Raises:\n",
    "        ValueError: Las filas y columnas de la matriz A deben ser iguales.\n",
    "        ValueError: El tamaño de la matriz b debe coincidir con el de la matriz A.\n",
    "\n",
    "    Returns:\n",
    "        np.array: Matriz x. Solución del sistema de ecuaciones.\n",
    "    '''\n",
    "    m, n = A.shape[-2:]\n",
    "    if m != n:\n",
    "        raise ValueError('Las filas y columnas de la matriz A deben ser iguales.')\n",
    "\n",
    "    if len(A) != len(b):\n",
    "        raise ValueError(f'El tamaño matriz b debe ser de {len(A)}')\n",
    "\n",
    "    return method(A, b, table)"
   ]
  },
  {
   "cell_type": "markdown",
   "metadata": {},
   "source": [
    "#### 2.2.1 Método de Eliminación de Gauss"
   ]
  },
  {
   "cell_type": "code",
   "execution_count": 4,
   "metadata": {},
   "outputs": [],
   "source": [
    "def gauss(A: np.array, b: np.array, table: list) -> np.array:\n",
    "    '''Implementación del método de eliminación de Gauss con pivote\n",
    "    para la resolución de sistemas de ecuaciones lineales Ax=b.\n",
    "\n",
    "    Args:\n",
    "        A (np.array): Matriz A.\n",
    "        b (np.array): Matriz b.\n",
    "        table (list): Recolección de datos del procedimiento.\n",
    "\n",
    "    Returns:\n",
    "        np.array: Matriz x. Solución del sistema de ecuaciones.\n",
    "    '''\n",
    "    n = len(b)\n",
    "    x = np.zeros(n, np.float64)\n",
    "    A_aux = np.copy(A)\n",
    "    b_aux = np.copy(b)\n",
    "\n",
    "    for k in range(n - 1):\n",
    "        # Intercambio de filas\n",
    "        if np.fabs(A_aux[k, k]) < 1.0e-12:\n",
    "            for i in range(k + 1, n):\n",
    "                if np.fabs(A_aux[i, k]) > np.fabs(A_aux[k, k]):\n",
    "                    A_aux[[k, i]] = A_aux[[i, k]]\n",
    "                    b_aux[[k, i]] = b[[i, k]]\n",
    "\n",
    "                    table.append([k, 'Intercambio', i, None, None])\n",
    "\n",
    "                    break\n",
    "\n",
    "        # Eliminación hacia adelante\n",
    "        for i in range(k + 1, n):\n",
    "            if A_aux[i, k] == 0:\n",
    "                continue\n",
    "\n",
    "            factor = A_aux[k, k] / A_aux[i, k]\n",
    "\n",
    "            for j in range(k, n):\n",
    "                A_aux[i, j] = A_aux[k, j] - A_aux[i, j] * factor\n",
    "\n",
    "            b_aux[i] = b_aux[k] - b_aux[i] * factor\n",
    "\n",
    "            table.append([k, 'Eliminación', i, factor, None])\n",
    "\n",
    "    # Sustitución hacia atrás\n",
    "    x[n - 1] = b_aux[n - 1] / A_aux[n - 1, n - 1]\n",
    "\n",
    "    table.append([None, 'Sustitución', n - 1, None, None])\n",
    "\n",
    "    for i in range(n - 2, -1, -1):\n",
    "        sum_ax = sum(A_aux[i, j] * x[j] for j in range(i + 1, n))\n",
    "        x[i] = (b_aux[i] - sum_ax) / A_aux[i, i]\n",
    "\n",
    "        table.append([None, 'Sustitución', i, None, sum_ax])\n",
    "\n",
    "    return x"
   ]
  },
  {
   "cell_type": "markdown",
   "metadata": {},
   "source": [
    "#### 2.2.2 Método de Gauss-Jordan"
   ]
  },
  {
   "cell_type": "markdown",
   "metadata": {},
   "source": [
    "#### 2.2.3 Descomposición LU"
   ]
  },
  {
   "cell_type": "markdown",
   "metadata": {},
   "source": [
    "#### 2.2.4 Inversión de Matrices"
   ]
  },
  {
   "cell_type": "markdown",
   "metadata": {},
   "source": [
    "#### 2.2.5 Método de Gauss-Seidel"
   ]
  },
  {
   "cell_type": "markdown",
   "metadata": {},
   "source": [
    "#### 2.2.6 Método de Jacobs"
   ]
  },
  {
   "cell_type": "markdown",
   "metadata": {},
   "source": [
    "## 3. Resultados"
   ]
  },
  {
   "cell_type": "markdown",
   "metadata": {},
   "source": [
    "## 4. Conclusiones"
   ]
  },
  {
   "cell_type": "markdown",
   "metadata": {},
   "source": [
    "## 5. Referencias"
   ]
  },
  {
   "cell_type": "markdown",
   "metadata": {},
   "source": [
    "* [Gaussian Elimination Using Pivoting in Python](https://www.delftstack.com/howto/python/gaussian-elimination-using-pivoting/)"
   ]
  }
 ],
 "metadata": {
  "kernelspec": {
   "display_name": "Python 3.10.7 ('venv': venv)",
   "language": "python",
   "name": "python3"
  },
  "language_info": {
   "codemirror_mode": {
    "name": "ipython",
    "version": 3
   },
   "file_extension": ".py",
   "mimetype": "text/x-python",
   "name": "python",
   "nbconvert_exporter": "python",
   "pygments_lexer": "ipython3",
   "version": "3.10.8"
  },
  "orig_nbformat": 4,
  "vscode": {
   "interpreter": {
    "hash": "1dc376ffec5caecdc0a86d966f5e97e45537af940d2aef553cd87bae54f46a19"
   }
  }
 },
 "nbformat": 4,
 "nbformat_minor": 2
}
